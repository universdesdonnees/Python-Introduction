{
 "cells": [
  {
   "cell_type": "markdown",
   "metadata": {},
   "source": [
    "# Exercice 1"
   ]
  },
  {
   "cell_type": "code",
   "execution_count": 5,
   "metadata": {},
   "outputs": [
    {
     "name": "stdout",
     "output_type": "stream",
     "text": [
      "Red\n"
     ]
    }
   ],
   "source": [
    "# Programme 1\n",
    "x, y, z = 3.5, 5, 5\n",
    "z = x / y\n",
    "p = 7\n",
    "\n",
    "if (x > 3) and (z * 10 != p):\n",
    "    print(\"Blue\")\n",
    "elif (p > y) or (x > 4):\n",
    "    print(\"Red\")\n",
    "else:\n",
    "    print(\"Black\")"
   ]
  },
  {
   "cell_type": "code",
   "execution_count": 6,
   "metadata": {},
   "outputs": [
    {
     "name": "stdout",
     "output_type": "stream",
     "text": [
      "2.1 3.2 4.3 1.1 1.2 1.3\n",
      "Blue\n"
     ]
    }
   ],
   "source": [
    "# Programme 2\n",
    "\n",
    "i, j, k = 1, 2, 3\n",
    "x, y, z = 1.1, 1.2, 1.3\n",
    "\n",
    "i += x\n",
    "j += y\n",
    "k += z\n",
    "\n",
    "print(i, j, k, x, y, z)\n",
    "\n",
    "if (i + j) > k and (j - i) == x:\n",
    "    print(\"Blue\")\n",
    "else:\n",
    "    print(\"Red\")\n"
   ]
  },
  {
   "cell_type": "code",
   "execution_count": 13,
   "metadata": {},
   "outputs": [
    {
     "data": {
      "text/plain": [
       "4"
      ]
     },
     "execution_count": 13,
     "metadata": {},
     "output_type": "execute_result"
    }
   ],
   "source": [
    "# Programme 3\n",
    "def f1(x, y):\n",
    "    if x < y:\n",
    "        return 3\n",
    "    else:\n",
    "        return 4\n",
    "\n",
    "def f2(n):\n",
    "    return 2 * (n - 1)\n",
    "\n",
    "x = 3.4\n",
    "y = 5.3\n",
    "result = f2(f1(x, y))\n",
    "result"
   ]
  },
  {
   "cell_type": "markdown",
   "metadata": {},
   "source": [
    "# Exercice 2"
   ]
  },
  {
   "cell_type": "code",
   "execution_count": 1,
   "metadata": {},
   "outputs": [
    {
     "data": {
      "text/plain": [
       "[2, 5, 10]"
      ]
     },
     "execution_count": 1,
     "metadata": {},
     "output_type": "execute_result"
    }
   ],
   "source": [
    "def diviseur():\n",
    "    nombre = int(input(\" Entrez nombre : \"))\n",
    "    diviseurs = [x for x in range(2,101) if nombre % x == 0]\n",
    "    return diviseurs\n",
    "diviseur()"
   ]
  },
  {
   "cell_type": "markdown",
   "metadata": {},
   "source": [
    "# Exercice 3"
   ]
  },
  {
   "cell_type": "code",
   "execution_count": 2,
   "metadata": {},
   "outputs": [
    {
     "data": {
      "text/plain": [
       "(-60999, 33)"
      ]
     },
     "execution_count": 2,
     "metadata": {},
     "output_type": "execute_result"
    }
   ],
   "source": [
    "def polynome(x):\n",
    "    return x**3 - (10*x**2) - (2610*x) + 84\n",
    "\n",
    "def plus_petite_valeur():\n",
    "    res = [polynome(x) for x in range(-50, 51)]\n",
    "    # optionnel\n",
    "    index = res.index(min(res))\n",
    "    x_min = index - 50\n",
    "    return min(res), x_min,\n",
    "\n",
    "plus_petite_valeur()\n"
   ]
  },
  {
   "cell_type": "markdown",
   "metadata": {},
   "source": [
    "# Exercice 4"
   ]
  },
  {
   "cell_type": "code",
   "execution_count": 44,
   "metadata": {},
   "outputs": [
    {
     "data": {
      "text/plain": [
       "3"
      ]
     },
     "execution_count": 44,
     "metadata": {},
     "output_type": "execute_result"
    }
   ],
   "source": [
    "personne_bday = {'marc': 12, 'marie': 1, 'rosie':12}"
   ]
  },
  {
   "cell_type": "code",
   "execution_count": 104,
   "metadata": {},
   "outputs": [
    {
     "data": {
      "text/plain": [
       "[]"
      ]
     },
     "execution_count": 104,
     "metadata": {},
     "output_type": "execute_result"
    }
   ],
   "source": [
    "def anniverssaires(dico, mois):\n",
    "    personnes = []\n",
    "    for nom, valeur in dico.items():\n",
    "        if valeur == mois:\n",
    "            personnes.append(nom)\n",
    "    return(personnes)\n",
    "\n",
    "anniverssaires(personne_bday, 12)"
   ]
  },
  {
   "cell_type": "markdown",
   "metadata": {},
   "source": [
    "# Exercice 5 "
   ]
  },
  {
   "cell_type": "code",
   "execution_count": 97,
   "metadata": {},
   "outputs": [],
   "source": [
    "import random           \n",
    "import numpy as np      \n",
    "\n",
    "taille = 10\n",
    "tableau = np.zeros((taille, taille), dtype=int)\n",
    "\n",
    "nombre_mines = 5\n",
    "for _ in range(nombre_mines):\n",
    "    x, y = np.random.randint(0, taille, size=2)\n",
    "    tableau[x, y] = 1  "
   ]
  },
  {
   "cell_type": "code",
   "execution_count": 98,
   "metadata": {},
   "outputs": [
    {
     "data": {
      "text/plain": [
       "array([[0, 0, 0, 0, 0, 0, 0, 0, 1, 0],\n",
       "       [0, 1, 0, 0, 0, 0, 0, 0, 0, 0],\n",
       "       [0, 0, 0, 0, 0, 0, 0, 0, 0, 0],\n",
       "       [0, 0, 0, 0, 0, 0, 0, 0, 0, 0],\n",
       "       [0, 0, 0, 0, 0, 0, 0, 0, 1, 0],\n",
       "       [0, 0, 0, 0, 0, 0, 0, 0, 0, 1],\n",
       "       [0, 0, 0, 0, 0, 0, 0, 0, 0, 0],\n",
       "       [0, 0, 0, 0, 0, 1, 0, 0, 0, 0],\n",
       "       [0, 0, 0, 0, 0, 0, 0, 0, 0, 0],\n",
       "       [0, 0, 0, 0, 0, 0, 0, 0, 0, 0]])"
      ]
     },
     "execution_count": 98,
     "metadata": {},
     "output_type": "execute_result"
    }
   ],
   "source": [
    "tableau"
   ]
  },
  {
   "cell_type": "code",
   "execution_count": 99,
   "metadata": {},
   "outputs": [
    {
     "name": "stdout",
     "output_type": "stream",
     "text": [
      "[[1 1 1 0 0 0 0 1 1 1]\n",
      " [1 1 1 0 0 0 0 1 1 1]\n",
      " [1 1 1 0 0 0 0 0 0 0]\n",
      " [0 0 0 0 0 0 0 1 1 1]\n",
      " [0 0 0 0 0 0 0 1 2 2]\n",
      " [0 0 0 0 0 0 0 1 2 2]\n",
      " [0 0 0 0 1 1 1 0 1 1]\n",
      " [0 0 0 0 1 1 1 0 0 0]\n",
      " [0 0 0 0 1 1 1 0 0 0]\n",
      " [0 0 0 0 0 0 0 0 0 0]]\n"
     ]
    }
   ],
   "source": [
    "def nombre_mines_adjacentes(taille , tab):\n",
    "    nb_lignes, nb_colonnes = len(tab), len(tab[0])\n",
    "    compte_mines = np.zeros((taille, taille), dtype=int)\n",
    "    # ou \n",
    "    # compte_mines = np.zeros_like(tab)\n",
    "\n",
    "    for i in range(nb_lignes):\n",
    "        for j in range(nb_colonnes):\n",
    "            # case actuelle \n",
    "            \n",
    "            # Parcourir les 8 cases autour de la case actuelle\n",
    "            for x in range(max(0, i-1), min(i+2, nb_lignes)):\n",
    "                for y in range(max(0, j-1), min(j+2, nb_colonnes)):\n",
    "                    if tab[x][y] == 1: # si une mine ajout à la position de la case actuelle\n",
    "                        compte_mines[i][j] += 1 \n",
    "\n",
    "    return compte_mines\n",
    "print(nombre_mines_adjacentes(10, tableau))\n"
   ]
  },
  {
   "cell_type": "markdown",
   "metadata": {},
   "source": [
    "# Exercice 6"
   ]
  },
  {
   "cell_type": "code",
   "execution_count": 79,
   "metadata": {},
   "outputs": [],
   "source": [
    "VALEURS = {\n",
    "'A' : 1, 'B' : 3, 'C' : 3, 'D' : 2, 'E' : 1, 'F' : 4, 'G' : 2, 'H' : 4,\n",
    "'I' : 1, 'J' : 8, 'K' : 10, 'L' : 1, 'M' : 2, 'N' : 1, 'O' : 1, 'P' : 3,\n",
    "'Q' : 8, 'R' : 1, 'S' : 1, 'T' : 1, 'U' : 1, 'V' : 4, 'W' : 10, 'X' : 10,\n",
    "'Y' : 10, 'Z' : 10\n",
    "}"
   ]
  },
  {
   "cell_type": "code",
   "execution_count": 105,
   "metadata": {},
   "outputs": [
    {
     "data": {
      "text/plain": [
       "(32, 23)"
      ]
     },
     "execution_count": 105,
     "metadata": {},
     "output_type": "execute_result"
    }
   ],
   "source": [
    "def score_scrabble(mot, grille):\n",
    "    score = 0\n",
    "    mot = mot.upper()\n",
    "    for lettre in mot:\n",
    "        score += grille[lettre]\n",
    "    return score\n",
    "\n",
    "\n",
    "score_scrabble(\"KAYAK\", VALEURS), score_scrabble(\"INFORMATIQUE\", VALEURS ) "
   ]
  }
 ],
 "metadata": {
  "kernelspec": {
   "display_name": "Python 3",
   "language": "python",
   "name": "python3"
  },
  "language_info": {
   "codemirror_mode": {
    "name": "ipython",
    "version": 3
   },
   "file_extension": ".py",
   "mimetype": "text/x-python",
   "name": "python",
   "nbconvert_exporter": "python",
   "pygments_lexer": "ipython3",
   "version": "3.11.8"
  }
 },
 "nbformat": 4,
 "nbformat_minor": 2
}
