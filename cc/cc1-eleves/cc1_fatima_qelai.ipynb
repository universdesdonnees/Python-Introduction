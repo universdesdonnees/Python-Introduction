{
 "cells": [
  {
   "cell_type": "markdown",
   "metadata": {},
   "source": [
    "CC1 Pythone \n",
    "\n",
    "\n",
    "Exercice 1 : \n",
    "\n",
    "La valeur afficher pour le premier programme c'est : Red \n",
    "\n",
    "la valeur afficher pour le 2 programme c'est : 2.1 3.2 4.3 1.1 1.2 1.3\n",
    "bleu\n",
    "\n",
    "la valeur afficher pour le 3 programme c'est 7 \n",
    "\n",
    "\n"
   ]
  },
  {
   "cell_type": "markdown",
   "metadata": {},
   "source": [
    "Exerciec 2 : "
   ]
  },
  {
   "cell_type": "code",
   "execution_count": null,
   "metadata": {},
   "outputs": [],
   "source": [
    "def diviseurs(n):\n",
    "    diviseurs = []\n",
    "    \n",
    "    for i in range(2, 100):\n",
    "        if n % i == 0:\n",
    "            diviseurs.append(i)\n",
    "    \n",
    "    return diviseurs\n",
    "nombre = int(input(\"Entrez un nombre entier naturel : \" ))\n",
    "resultat = diviseurs(nombre)\n",
    "print(f\"Les diviseurs de {nombre} entre 2 et 100 sont : {resultat}\")\n",
    "\n",
    "    "
   ]
  },
  {
   "cell_type": "markdown",
   "metadata": {},
   "source": [
    "Exercice 3 :"
   ]
  },
  {
   "cell_type": "code",
   "execution_count": null,
   "metadata": {},
   "outputs": [
    {
     "name": "stdout",
     "output_type": "stream",
     "text": [
      "la petit valeur prise par ce polunome pour les entiers appartenant à l'intervalle [-50,50] est: -60999\n"
     ]
    }
   ],
   "source": [
    "def polynome(x):\n",
    "    P= x**3 - 10*x**2 - 2610*x +84\n",
    "    return P \n",
    "petit_valeur = float('inf')\n",
    "for x in range (-50, 51):\n",
    "    valeur_actuelle = polynome(x)\n",
    "    if valeur_actuelle < petit_valeur:\n",
    "        petit_valeur = valeur_actuelle\n",
    "print(\"la petit valeur prise par ce polunome pour les entiers appartenant à l'intervalle [-50,50] est:\", petit_valeur)\n",
    "\n",
    "    "
   ]
  },
  {
   "cell_type": "markdown",
   "metadata": {},
   "source": [
    "Exerciec 4 :"
   ]
  },
  {
   "cell_type": "code",
   "execution_count": null,
   "metadata": {},
   "outputs": [
    {
     "name": "stdout",
     "output_type": "stream",
     "text": [
      "Personnes nées en mai : ['fatima']\n"
     ]
    }
   ],
   "source": [
    "\n",
    "anniversaires = {\n",
    "    'Alice': 2,   \n",
    "    'melissa': 12,      \n",
    "    'mareva': 9,\n",
    "    'fatima': 5,    \n",
    "}\n",
    "def anniversaire(dictionnaire, mois_recherche):\n",
    "    personnes_nées_ce_mois = []\n",
    "    for prenom, mois in dictionnaire.items():\n",
    "        if mois == mois_recherche:\n",
    "            personnes_nées_ce_mois.append(prenom)\n",
    "    return personnes_nées_ce_mois\n",
    "mois_recherche = 5  \n",
    "resultat = anniversaire(anniversaires, mois_recherche)\n",
    "print(f\"Personnes nées en mai : {resultat}\")\n"
   ]
  },
  {
   "cell_type": "markdown",
   "metadata": {},
   "source": [
    "Exercice 5 :\n"
   ]
  },
  {
   "cell_type": "code",
   "execution_count": null,
   "metadata": {},
   "outputs": [
    {
     "name": "stdout",
     "output_type": "stream",
     "text": [
      "Champ de Mines Initial:\n",
      "0 0 0 0 0 0 0 0 0 0\n",
      "0 0 0 0 0 0 0 0 * 0\n",
      "0 0 0 0 * 0 0 0 0 *\n",
      "0 0 0 * 0 0 0 0 0 *\n",
      "0 0 0 0 0 0 0 0 0 0\n",
      "0 0 * 0 0 0 0 0 * 0\n",
      "0 0 0 0 0 0 * 0 0 0\n",
      "0 0 0 0 0 * 0 0 0 0\n",
      "0 0 0 0 0 0 0 * 0 0\n",
      "0 0 0 0 0 0 0 0 0 0\n"
     ]
    }
   ],
   "source": [
    "import random\n",
    "\n",
    "def champ_mines(largeur, hauteur, nombre_mines):\n",
    "    champ_mines = [[0 for _ in range(largeur)] for _ in range(hauteur)]\n",
    "\n",
    "    mines_placees = 0\n",
    "    while mines_placees < nombre_mines:\n",
    "        x, y = random.randint(0, largeur - 1), random.randint(0, hauteur - 1)\n",
    "        if champ_mines[y][x] != '*':\n",
    "            champ_mines[y][x] = '*'\n",
    "            mines_placees += 1\n",
    "\n",
    "    return champ_mines\n",
    "\n",
    "def calculer_mines(champ_mines, x, y):\n",
    "    if champ_mines[y][x] == '*':\n",
    "        return '*'\n",
    "\n",
    "    largeur, hauteur = len(champ_mines[0]), len(champ_mines)\n",
    "    mines_adjacentes = 0\n",
    "\n",
    "    for i in range(max(0, y - 1), min(hauteur, y + 2)):\n",
    "        for j in range(max(0, x - 1), min(largeur, x + 2)):\n",
    "            if champ_mines[i][j] == '*':\n",
    "                mines_adjacentes += 1\n",
    "\n",
    "    return mines_adjacentes\n",
    "\n",
    "def afficher_champ_mines(champ_mines):\n",
    "    for ligne in champ_mines:\n",
    "        print(' '.join(map(str, ligne)))\n",
    "\n",
    "largeur = 10\n",
    "hauteur = 10\n",
    "nombre_mines = 10\n",
    "\n",
    "champ_mines = champ_mines(largeur, hauteur, nombre_mines)\n",
    "\n",
    "print(\"Champ de Mines Initial:\")\n",
    "afficher_champ_mines(champ_mines)\n"
   ]
  },
  {
   "cell_type": "markdown",
   "metadata": {},
   "source": [
    "Exercice 6:\n",
    "\n"
   ]
  },
  {
   "cell_type": "code",
   "execution_count": null,
   "metadata": {},
   "outputs": [],
   "source": []
  }
 ],
 "metadata": {
  "kernelspec": {
   "display_name": "Python 3",
   "language": "python",
   "name": "python3"
  },
  "language_info": {
   "codemirror_mode": {
    "name": "ipython",
    "version": 3
   },
   "file_extension": ".py",
   "mimetype": "text/x-python",
   "name": "python",
   "nbconvert_exporter": "python",
   "pygments_lexer": "ipython3",
   "version": "3.11.7"
  }
 },
 "nbformat": 4,
 "nbformat_minor": 2
}
