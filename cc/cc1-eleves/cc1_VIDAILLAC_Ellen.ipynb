{
 "cells": [
  {
   "cell_type": "markdown",
   "metadata": {},
   "source": [
    "Exercice 1 :\n",
    "\n",
    "Pour chacun des programmes suivants, donnez les valeurs de chaque variable à la fin de l’exécution du programme, et indiquez ce qui s’affiche."
   ]
  },
  {
   "cell_type": "code",
   "execution_count": 1,
   "metadata": {},
   "outputs": [
    {
     "name": "stdout",
     "output_type": "stream",
     "text": [
      "Red\n"
     ]
    }
   ],
   "source": [
    "x, y=3.5, 5\n",
    "z = x/y\n",
    "p=7 \n",
    "\n",
    "if (x>3) and (z*10!=p):\n",
    "    print(\"Blue\")\n",
    "elif (p>y)or(x>4):\n",
    "    print(\"Red\")\n",
    "else:\n",
    "    print(\"Black\")"
   ]
  },
  {
   "cell_type": "markdown",
   "metadata": {},
   "source": [
    "Valeurs de chaque variable :\n",
    "x, y=3.5, 5\n",
    "z= x/y\n",
    "p=7\n",
    "\n",
    "Le premier programme renvoie \"Red\"."
   ]
  },
  {
   "cell_type": "code",
   "execution_count": 3,
   "metadata": {},
   "outputs": [
    {
     "name": "stdout",
     "output_type": "stream",
     "text": [
      "2.1 3.2 4.3 1.1 1.2 1.3\n",
      "Blue\n"
     ]
    }
   ],
   "source": [
    "i, j, k=1, 2, 3\n",
    "x, y, z=1.1, 1.2, 1.3\n",
    "i=i+x\n",
    "j=j+y\n",
    "k=k+z\n",
    "print(i, j, k, x, y, z)\n",
    "if (i+j>k) and (j-i==x):\n",
    "    print(\"Blue\")\n",
    "else:\n",
    "    print(\"Red\")"
   ]
  },
  {
   "cell_type": "markdown",
   "metadata": {},
   "source": [
    "Valeur de chaque variable :\n",
    "i, j, k=1,2,3\n",
    "\n",
    "\n",
    "Le deuxième programme renvoie les valeurs de \"i, j, k, x, y, z\" et \"Blue\"."
   ]
  },
  {
   "cell_type": "code",
   "execution_count": 4,
   "metadata": {},
   "outputs": [
    {
     "name": "stdout",
     "output_type": "stream",
     "text": [
      "7\n"
     ]
    }
   ],
   "source": [
    "def f1(x,y):\n",
    "    if (x<y):\n",
    "        return 3\n",
    "    else:\n",
    "        return 4\n",
    "    \n",
    "def f2(n):\n",
    "    return 2*n-1\n",
    "\n",
    "x=3.4\n",
    "y=5.3\n",
    "print(f2(f1(y,x)))"
   ]
  },
  {
   "cell_type": "markdown",
   "metadata": {},
   "source": [
    "Le troisième programme renvoie le chiffre \"7\""
   ]
  },
  {
   "cell_type": "markdown",
   "metadata": {},
   "source": [
    "Exercice 2 :\n",
    "\n",
    "Écrivez une fonction qui permet de trouver tous les diviseurs d'un nombre \"n\" entre 2 et 100.\n",
    "- Le programme doit demander à l'utilisateur d'entrer un nombre entier naturel \"n\".\n",
    "- Une fois le nombre saisi, le programme renvoie tous les diviseurs de \"n\" dans une liste."
   ]
  },
  {
   "cell_type": "code",
   "execution_count": 39,
   "metadata": {},
   "outputs": [
    {
     "name": "stdout",
     "output_type": "stream",
     "text": [
      "Les diviseurs de 10 entre 2 et 100 sont : [2, 5, 10]\n"
     ]
    }
   ],
   "source": [
    "def trouver_diviseurs(n):\n",
    "    diviseurs = [i for i in range(2, 100) if n % i == 0]\n",
    "    return diviseurs \n",
    "\n",
    "nombre = int(input(\"Entrez un nombre entier naturel : \"))\n",
    "resultat = trouver_diviseurs(nombre)\n",
    "\n",
    "print(f\"Les diviseurs de {nombre} entre 2 et 100 sont : {resultat}\")\n",
    "    "
   ]
  },
  {
   "cell_type": "markdown",
   "metadata": {},
   "source": [
    "Exercice 3 :\n",
    "\n",
    "Soit le polynôme P défini par P = x³– 10x²– 2610x + 84\n",
    "- Ecrivez une fonction qui, étant donné un entier naturel x, retourne la valeur de ce polynôme pour x.\n",
    "- Ecrivez un programme qui affiche la plus petite valeur prise par ce polynôme pour les entiers appartenant à l’intervalle [−50, 50]."
   ]
  },
  {
   "cell_type": "code",
   "execution_count": 50,
   "metadata": {},
   "outputs": [
    {
     "name": "stdout",
     "output_type": "stream",
     "text": [
      "La plus petite valeur du polynome dans l'intervalle [-50, 50] est : -60999\n"
     ]
    }
   ],
   "source": [
    "def trouver_polynome(x):\n",
    "    return x**3 - 10*x**2 - 2610*x + 84\n",
    "\n",
    "valeur_polynome = [trouver_polynome(i) for i in range (-50, 50)]\n",
    "plus_petite_valeur = min(valeur_polynome)\n",
    "\n",
    "print(f\"La plus petite valeur du polynome dans l'intervalle [-50, 50] est : {plus_petite_valeur}\")\n"
   ]
  },
  {
   "cell_type": "markdown",
   "metadata": {},
   "source": [
    "Exercice 4 :\n",
    "\n",
    "Créez une structure de données dans lequel :\n",
    "- les clés sont les prénoms de différentes personnes. (Il n'y a aucun prénom en double)\n",
    "- les valeurs sont les mois de naissance de ces personnes stockées sous forme de nombres entiers (1 pour\n",
    "janvier, ... 12 pour décembre)\n",
    "\n",
    "Vous devez écrire une fonction anniversaire prenant en arguments le dictionnaire créer ci-dessus ainsi qu'un numéro d'un mois et renvoyant une liste contenant les prénoms des personnes nées durant ce mois."
   ]
  },
  {
   "cell_type": "code",
   "execution_count": 8,
   "metadata": {},
   "outputs": [
    {
     "data": {
      "text/html": [
       "<div>\n",
       "<style scoped>\n",
       "    .dataframe tbody tr th:only-of-type {\n",
       "        vertical-align: middle;\n",
       "    }\n",
       "\n",
       "    .dataframe tbody tr th {\n",
       "        vertical-align: top;\n",
       "    }\n",
       "\n",
       "    .dataframe thead th {\n",
       "        text-align: right;\n",
       "    }\n",
       "</style>\n",
       "<table border=\"1\" class=\"dataframe\">\n",
       "  <thead>\n",
       "    <tr style=\"text-align: right;\">\n",
       "      <th></th>\n",
       "      <th>Prénoms</th>\n",
       "      <th>Mois de Naissance</th>\n",
       "    </tr>\n",
       "  </thead>\n",
       "  <tbody>\n",
       "    <tr>\n",
       "      <th>0</th>\n",
       "      <td>Jean</td>\n",
       "      <td>3</td>\n",
       "    </tr>\n",
       "    <tr>\n",
       "      <th>1</th>\n",
       "      <td>Jeanne</td>\n",
       "      <td>2</td>\n",
       "    </tr>\n",
       "    <tr>\n",
       "      <th>2</th>\n",
       "      <td>Fernand</td>\n",
       "      <td>10</td>\n",
       "    </tr>\n",
       "    <tr>\n",
       "      <th>3</th>\n",
       "      <td>Monique</td>\n",
       "      <td>1</td>\n",
       "    </tr>\n",
       "    <tr>\n",
       "      <th>4</th>\n",
       "      <td>Stéphane</td>\n",
       "      <td>2</td>\n",
       "    </tr>\n",
       "    <tr>\n",
       "      <th>5</th>\n",
       "      <td>Jean-Claude</td>\n",
       "      <td>4</td>\n",
       "    </tr>\n",
       "  </tbody>\n",
       "</table>\n",
       "</div>"
      ],
      "text/plain": [
       "       Prénoms  Mois de Naissance\n",
       "0         Jean                  3\n",
       "1       Jeanne                  2\n",
       "2      Fernand                 10\n",
       "3      Monique                  1\n",
       "4     Stéphane                  2\n",
       "5  Jean-Claude                  4"
      ]
     },
     "execution_count": 8,
     "metadata": {},
     "output_type": "execute_result"
    }
   ],
   "source": [
    "import pandas as pd \n",
    "\n",
    "data = {\n",
    "    'Prénoms' : ['Jean', 'Jeanne', 'Fernand', 'Monique', 'Stéphane', 'Jean-Claude'],\n",
    "    'Mois de Naissance' : [3, 2, 10, 1, 2, 4]\n",
    "}\n",
    "\n",
    "personnes = pd.DataFrame(data)\n",
    "personnes"
   ]
  },
  {
   "cell_type": "code",
   "execution_count": 10,
   "metadata": {},
   "outputs": [
    {
     "data": {
      "text/html": [
       "<div>\n",
       "<style scoped>\n",
       "    .dataframe tbody tr th:only-of-type {\n",
       "        vertical-align: middle;\n",
       "    }\n",
       "\n",
       "    .dataframe tbody tr th {\n",
       "        vertical-align: top;\n",
       "    }\n",
       "\n",
       "    .dataframe thead th {\n",
       "        text-align: right;\n",
       "    }\n",
       "</style>\n",
       "<table border=\"1\" class=\"dataframe\">\n",
       "  <thead>\n",
       "    <tr style=\"text-align: right;\">\n",
       "      <th></th>\n",
       "      <th>Prénoms</th>\n",
       "      <th>Mois de Naissance</th>\n",
       "    </tr>\n",
       "  </thead>\n",
       "  <tbody>\n",
       "    <tr>\n",
       "      <th>1</th>\n",
       "      <td>Jeanne</td>\n",
       "      <td>2</td>\n",
       "    </tr>\n",
       "    <tr>\n",
       "      <th>4</th>\n",
       "      <td>Stéphane</td>\n",
       "      <td>2</td>\n",
       "    </tr>\n",
       "  </tbody>\n",
       "</table>\n",
       "</div>"
      ],
      "text/plain": [
       "    Prénoms  Mois de Naissance\n",
       "1    Jeanne                  2\n",
       "4  Stéphane                  2"
      ]
     },
     "execution_count": 10,
     "metadata": {},
     "output_type": "execute_result"
    }
   ],
   "source": [
    "anniversaire_fevrier = personnes[personnes['Mois de Naissance'] == 2]\n",
    "anniversaire_fevrier"
   ]
  },
  {
   "cell_type": "markdown",
   "metadata": {},
   "source": [
    "Exercice 5 :\n",
    "Développer une version simplifiée du jeu de démineur en utilisant Python.\n",
    "\n",
    "Étape 1: Initialisation du Champ de Mines\n",
    "\n",
    "Créer une grille 2D pour représenter le champ de mines. Chaque cellule peut être une mine (*) ou non (0). Utilisez\n",
    "une taille de grille prédéfinie (par exemple, 10x10) et un nombre fixe de mines. Placez les mines de manière\n",
    "aléatoire.\n",
    "\n",
    "Étape 2: Calcul des Mines Adjacentes\n",
    "\n",
    "Écrire une fonction qui, pour chaque cellule, calcule le nombre de mines dans les cellules adjacentes (les cellules\n",
    "autour d’une case) et leur position. Faites attention aux bords de la grille pour éviter les erreurs d'indexation."
   ]
  },
  {
   "cell_type": "code",
   "execution_count": 40,
   "metadata": {},
   "outputs": [
    {
     "name": "stdout",
     "output_type": "stream",
     "text": [
      "[[ 2 16  8 24 10 27 13 17  4 11]\n",
      " [19  0 17 30 15 17 26 13 19 14]\n",
      " [31 30 18  4  6 12 20 28 18 18]\n",
      " [ 6  6 22 14 23 17  2 24 11 25]\n",
      " [ 2  1 10 25 20  4 16 27 10 11]\n",
      " [ 3  1 15 15 25 30  9 27 21  9]\n",
      " [28 24 20 22 15 26 11  7  4  4]\n",
      " [15  6 16 17 14 23 14  9  5 32]\n",
      " [22  1  3 28 32 11  3  4 16 30]\n",
      " [11 15 12 32  6  9 26  3 24  2]]\n"
     ]
    }
   ],
   "source": [
    "import numpy as np\n",
    "import random\n",
    "\n",
    "def generer_champ_de_mines(): \n",
    "    #test\n",
    "    mines = np.random.choice(np.arange(0, 33), size=(10, 10))\n",
    "    #comment mettre un asterix ?\n",
    "    return mines\n",
    "\n",
    "champ_de_mines = generer_champ_de_mines()\n",
    "\n",
    "print(champ_de_mines)"
   ]
  }
 ],
 "metadata": {
  "kernelspec": {
   "display_name": "Python 3",
   "language": "python",
   "name": "python3"
  },
  "language_info": {
   "codemirror_mode": {
    "name": "ipython",
    "version": 3
   },
   "file_extension": ".py",
   "mimetype": "text/x-python",
   "name": "python",
   "nbconvert_exporter": "python",
   "pygments_lexer": "ipython3",
   "version": "3.12.1"
  }
 },
 "nbformat": 4,
 "nbformat_minor": 2
}
