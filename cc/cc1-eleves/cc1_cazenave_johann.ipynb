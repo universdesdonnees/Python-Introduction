{
 "cells": [
  {
   "cell_type": "markdown",
   "metadata": {},
   "source": [
    "Exercice 1 :\n",
    "Pour chacun des programmes suivants, donnez les valeurs de chaque variable `à la fin de l’exécution du programme,\n",
    "et indiquez ce qui s’affiche.\n",
    "\n",
    "Programme 1 :\n",
    "x vaut 3.5 ; y vaut 5 ; z vaut 0.7 ; p vaut 7\n",
    "\n",
    "Si x est inférieur a 3 et et que 10 fois la valeur de z n'est pas égal à p alors le programme affiche \"Blue\"\n",
    "Sinon si p est supérieur à y ou que p est supérieur à 4 alors le programme affiche \"Red\"\n",
    "Sinon il affiche \"Black\"\n",
    "Dans notre cas il affiche Red\n",
    "\n",
    "Programme 2 :\n",
    "I prend la valeur 1; j prend la valeur 2 ; k porend la valeur 3;\n",
    "x prend la valeur 1.1 ; y prend la valeur 1.2 ; z prend la valeur 1.3\n",
    "\n",
    "i vaut maintenant la somme de lui même et x ; j vaut maintenant la somme de lui même et y ; k vaut maintenant la somme de lui même et z\n",
    "\n",
    "Si la somme de i et j est égale à k et que la différence entre j et i est égale a x alors le prog. affiche \"Red\"\n",
    "Sinon il affiche Black\n",
    "Dans notre cas il affiche red\n",
    "\n",
    "Programme 3 :\n",
    "On définit deux fonctions : \n",
    "    - Une première fonction f1 qui prend deux paramètres, elle va vérifier que le premier paramètre est inférieur au deuxième, au quel cas elle renverra 3, sinon elle renvoie 4\n",
    "\n",
    "    - Une deuxième fonction f2 qui prend un seul paramètre et qui renvoie le double moins 1 du paramètre qu'on lui donne quand elle est appelée\n",
    "\n",
    "Dand notre cas x est inférieur à y donc la fonction f1 dans le print renverra 3 dans la fonction f2 et elle renverra 5 soit le résultat de 2*3-1\n",
    "\n",
    "\n"
   ]
  },
  {
   "cell_type": "markdown",
   "metadata": {},
   "source": []
  },
  {
   "cell_type": "code",
   "execution_count": 3,
   "metadata": {},
   "outputs": [
    {
     "name": "stdout",
     "output_type": "stream",
     "text": [
      "Red\n"
     ]
    }
   ],
   "source": [
    "x,y = 3.5,5\n",
    "z = x/y\n",
    "p=7\n",
    "\n",
    "if(x<3)and(z*10!=p):\n",
    "    print(\"Blue\")\n",
    "elif(p>y)or(x>4):\n",
    "    print(\"Red\")\n",
    "else:\n",
    "    print(\"Black\")"
   ]
  },
  {
   "cell_type": "code",
   "execution_count": 5,
   "metadata": {},
   "outputs": [
    {
     "name": "stdout",
     "output_type": "stream",
     "text": [
      "2.1 3.2 4.3 1.1 1.2 1.3\n",
      "Red\n"
     ]
    }
   ],
   "source": [
    "i,j,k = 1,2,3\n",
    "x,y,z=1.1,1.2,1.3\n",
    "i=i+x\n",
    "j=j+y\n",
    "k=k+z\n",
    "print(i,j,k,x,y,z)\n",
    "if(i+j==k)and(j-i==x):\n",
    "    print(\"Blue\")\n",
    "else:\n",
    "    print(\"Red\")\n",
    "\n"
   ]
  },
  {
   "cell_type": "code",
   "execution_count": 1,
   "metadata": {},
   "outputs": [
    {
     "name": "stdout",
     "output_type": "stream",
     "text": [
      "5\n"
     ]
    }
   ],
   "source": [
    "def f1(x,y):\n",
    "    if(x<y):\n",
    "        return(3)\n",
    "    else:\n",
    "        return 4\n",
    "    \n",
    "def f2(n):\n",
    "    return 2*n-1\n",
    "\n",
    "x,y=3.4,5.3\n",
    "print(f2(f1(x,y)))\n"
   ]
  },
  {
   "cell_type": "markdown",
   "metadata": {},
   "source": [
    "Écrivez une fonction qui permet de trouver tous les diviseurs d'un nombre \"n\" entre 2 et 100.\n",
    "- Le programme doit demander à l'utilisateur d'entrer un nombre entier naturel \"n\".\n",
    "- Une fois le nombre saisi, le programme renvoie tous les diviseurs de \"n\" dans une liste.\n",
    "\n"
   ]
  },
  {
   "cell_type": "code",
   "execution_count": 2,
   "metadata": {},
   "outputs": [
    {
     "data": {
      "text/plain": [
       "[1, 2, 4, 5, 10, 20, 25, 50, 100]"
      ]
     },
     "execution_count": 2,
     "metadata": {},
     "output_type": "execute_result"
    }
   ],
   "source": [
    "def diviseurs():\n",
    "    \n",
    "    n=input(\"Entrez un entier naturel : \")\n",
    "    n = int(n)\n",
    "    i = 1\n",
    "    limite = 100\n",
    "    resultat = []\n",
    "    for i in range(1,200):   \n",
    "        if( n % i == 0):\n",
    "            resultat = resultat + [i]\n",
    "    return resultat\n",
    "\n",
    "diviseurs()\n",
    "\n",
    "    \n"
   ]
  },
  {
   "cell_type": "markdown",
   "metadata": {},
   "source": [
    "Exercice 3 :"
   ]
  },
  {
   "cell_type": "code",
   "execution_count": 3,
   "metadata": {},
   "outputs": [
    {
     "name": "stdout",
     "output_type": "stream",
     "text": [
      "-131037\n"
     ]
    }
   ],
   "source": [
    "def polynome(x):\n",
    "    return x^3-10*x^2-2610*x+84\n",
    "\n",
    "bornes = range(-50,50)\n",
    "bornes\n",
    "resultats = [polynome(x) for x in range(-50, 50)]\n",
    "print(min(resultats))"
   ]
  },
  {
   "cell_type": "markdown",
   "metadata": {},
   "source": [
    "Exercice 4 :\n"
   ]
  },
  {
   "cell_type": "code",
   "execution_count": 7,
   "metadata": {},
   "outputs": [
    {
     "ename": "TypeError",
     "evalue": "argument of type 'int' is not iterable",
     "output_type": "error",
     "traceback": [
      "\u001b[1;31m---------------------------------------------------------------------------\u001b[0m",
      "\u001b[1;31mTypeError\u001b[0m                                 Traceback (most recent call last)",
      "Cell \u001b[1;32mIn[7], line 20\u001b[0m\n\u001b[0;32m     17\u001b[0m     resulatanniv \u001b[38;5;241m=\u001b[39m [dictAnniversaire\u001b[38;5;241m.\u001b[39mkeys \u001b[38;5;28;01mfor\u001b[39;00m f \u001b[38;5;129;01min\u001b[39;00m dictAnniversaire\u001b[38;5;241m.\u001b[39mvalues() \u001b[38;5;129;01min\u001b[39;00m n]\n\u001b[0;32m     18\u001b[0m     \u001b[38;5;28;01mreturn\u001b[39;00m resulatanniv\n\u001b[1;32m---> 20\u001b[0m \u001b[43manniversaire\u001b[49m\u001b[43m(\u001b[49m\u001b[38;5;241;43m12\u001b[39;49m\u001b[43m)\u001b[49m\n",
      "Cell \u001b[1;32mIn[7], line 17\u001b[0m, in \u001b[0;36manniversaire\u001b[1;34m(n)\u001b[0m\n\u001b[0;32m      9\u001b[0m \u001b[38;5;28;01mdef\u001b[39;00m \u001b[38;5;21manniversaire\u001b[39m(n):\n\u001b[0;32m     10\u001b[0m     dictAnniversaire \u001b[38;5;241m=\u001b[39m {\n\u001b[0;32m     11\u001b[0m     \u001b[38;5;124m\"\u001b[39m\u001b[38;5;124mEllen\u001b[39m\u001b[38;5;124m\"\u001b[39m: \u001b[38;5;241m3\u001b[39m,\n\u001b[0;32m     12\u001b[0m     \u001b[38;5;124m\"\u001b[39m\u001b[38;5;124mDavid\u001b[39m\u001b[38;5;124m\"\u001b[39m: \u001b[38;5;241m2\u001b[39m,\n\u001b[1;32m   (...)\u001b[0m\n\u001b[0;32m     15\u001b[0m     \u001b[38;5;124m\"\u001b[39m\u001b[38;5;124mNathan\u001b[39m\u001b[38;5;124m\"\u001b[39m:\u001b[38;5;241m12\u001b[39m\n\u001b[0;32m     16\u001b[0m     }\n\u001b[1;32m---> 17\u001b[0m     resulatanniv \u001b[38;5;241m=\u001b[39m [dictAnniversaire\u001b[38;5;241m.\u001b[39mkeys \u001b[38;5;28;01mfor\u001b[39;00m f \u001b[38;5;129;01min\u001b[39;00m \u001b[43mdictAnniversaire\u001b[49m\u001b[38;5;241;43m.\u001b[39;49m\u001b[43mvalues\u001b[49m\u001b[43m(\u001b[49m\u001b[43m)\u001b[49m\u001b[43m \u001b[49m\u001b[38;5;129;43;01min\u001b[39;49;00m\u001b[43m \u001b[49m\u001b[43mn\u001b[49m]\n\u001b[0;32m     18\u001b[0m     \u001b[38;5;28;01mreturn\u001b[39;00m resulatanniv\n",
      "\u001b[1;31mTypeError\u001b[0m: argument of type 'int' is not iterable"
     ]
    }
   ],
   "source": [
    "dictAnniversaire = {\n",
    "    \"Ellen\": 3,\n",
    "    \"David\": 2,\n",
    "    \"Johann\": 12,\n",
    "    \"Jean\": 4,\n",
    "    \"Nathan\":12\n",
    "}\n",
    "\n",
    "def anniversaire(n):\n",
    "    dictAnniversaire = {\n",
    "    \"Ellen\": 3,\n",
    "    \"David\": 2,\n",
    "    \"Johann\": 12,\n",
    "    \"Jean\": 4,\n",
    "    \"Nathan\":12\n",
    "    }\n",
    "    resulatanniv = [dictAnniversaire.keys for f in dictAnniversaire.values() in n]\n",
    "    return resulatanniv\n",
    "\n",
    "anniversaire(12)"
   ]
  },
  {
   "cell_type": "markdown",
   "metadata": {},
   "source": [
    "Exercice 5:\n"
   ]
  },
  {
   "cell_type": "code",
   "execution_count": 61,
   "metadata": {},
   "outputs": [
    {
     "data": {
      "text/plain": [
       "array([[1, 0, 0, 1, 1, 0, 0, 0, 1, 0],\n",
       "       [0, 0, 0, 1, 0, 0, 0, 0, 0, 0],\n",
       "       [0, 0, 0, 0, 0, 0, 0, 0, 0, 0],\n",
       "       [1, 0, 0, 1, 0, 0, 0, 1, 0, 1],\n",
       "       [0, 0, 0, 0, 0, 0, 0, 0, 0, 0],\n",
       "       [1, 0, 1, 0, 0, 0, 0, 0, 0, 0],\n",
       "       [1, 0, 0, 0, 0, 0, 0, 0, 0, 1],\n",
       "       [0, 1, 0, 0, 0, 0, 0, 0, 0, 0],\n",
       "       [0, 0, 0, 1, 1, 0, 0, 0, 0, 0],\n",
       "       [1, 0, 0, 0, 1, 0, 0, 0, 1, 0]])"
      ]
     },
     "execution_count": 61,
     "metadata": {},
     "output_type": "execute_result"
    }
   ],
   "source": [
    "import numpy as np\n",
    "import random\n",
    "demineur = np.random.randint(low=0, high=1, size=[10,10])\n",
    "nbMines = 20\n",
    "for i in range(nbMines):\n",
    "    j = random.randint(0,9)\n",
    "    k = random.randint(0,9)\n",
    "    demineur[j,k] = 1\n",
    "\n",
    "demineur\n",
    "\n",
    "def compterMines(a,b):\n",
    "    if (a==0)and(b==0):\n",
    "        mineAdj = demineur[a+1,b]+demineur[a+1,b+1]+demineur[a,b+1]\n",
    "        return mineAdj\n",
    "    elif (a==0):\n",
    "        mineAdj = demineur[a,b-1]+demineur[a+1,b-1]+demineur[a+1,b]+demineur[a+1,b+1]+demineur[a,b+1]\n",
    "        \n",
    "\n"
   ]
  },
  {
   "cell_type": "markdown",
   "metadata": {},
   "source": [
    "Exercice 6 :\n"
   ]
  },
  {
   "cell_type": "code",
   "execution_count": 6,
   "metadata": {},
   "outputs": [
    {
     "name": "stdout",
     "output_type": "stream",
     "text": [
      "10\n"
     ]
    }
   ],
   "source": [
    "\n",
    "def score_scrabble(mot):\n",
    "    mot=mot.upper()\n",
    "    VALEURS = {\n",
    "    'A' : 1, 'B' : 3, 'C' : 3, 'D' : 2, 'E' : 1, 'F' : 4, 'G' : 2, 'H' : 4,\n",
    "    'I' : 1, 'J' : 8, 'K' : 10, 'L' : 1, 'M' : 2, 'N' : 1, 'O' : 1, 'P' : 3,\n",
    "    'Q' : 8, 'R' : 1, 'S' : 1, 'T' : 1, 'U' : 1, 'V' : 4, 'W' : 10, 'X' : 10,\n",
    "    'Y' : 10, 'Z' : 10\n",
    "    }\n",
    "    if len(mot)==0:\n",
    "        return 0\n",
    "    \n",
    "    resultatScrabble = 0\n",
    "    for i in range(len(mot)):\n",
    "        resultatScrabble = resultatScrabble + VALEURS[mot[i]]\n",
    "    return resultatScrabble\n",
    "\n",
    "print(score_scrabble(\"GIRAFE\"))\n"
   ]
  }
 ],
 "metadata": {
  "kernelspec": {
   "display_name": "Python 3",
   "language": "python",
   "name": "python3"
  },
  "language_info": {
   "codemirror_mode": {
    "name": "ipython",
    "version": 3
   },
   "file_extension": ".py",
   "mimetype": "text/x-python",
   "name": "python",
   "nbconvert_exporter": "python",
   "pygments_lexer": "ipython3",
   "version": "3.11.7"
  }
 },
 "nbformat": 4,
 "nbformat_minor": 2
}
