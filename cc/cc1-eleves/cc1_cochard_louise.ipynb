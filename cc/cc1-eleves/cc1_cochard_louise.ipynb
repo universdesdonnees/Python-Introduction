{
 "cells": [
  {
   "cell_type": "code",
   "execution_count": 4,
   "metadata": {},
   "outputs": [
    {
     "name": "stdout",
     "output_type": "stream",
     "text": [
      "Red\n"
     ]
    }
   ],
   "source": [
    "##Exercice 1:\n",
    "#Programme 1:\n",
    "\n",
    "x,y=3.5,5\n",
    "z=x/y\n",
    "p=7\n",
    "\n",
    "if (x>3)and(z*10!=p):\n",
    "    print(\"Blue\")\n",
    "elif (p>y)or(x>4):\n",
    "    print(\"Red\")\n",
    "else:\n",
    "    print(\"Black\")"
   ]
  },
  {
   "cell_type": "code",
   "execution_count": null,
   "metadata": {},
   "outputs": [],
   "source": [
    "##Pour ce premier programme, on remarque que cela nous affiche \"Red\", la variable ici \n",
    "##est une condition car si x>3 et que (z*10=p) alors ça doit nous afficher \"Blue\" sinon (p>y) or (x>4) \"or\" si une des conditions est vraie alors afficher \"Red\" sinon afficher \"Black\"."
   ]
  },
  {
   "cell_type": "code",
   "execution_count": 5,
   "metadata": {},
   "outputs": [
    {
     "name": "stdout",
     "output_type": "stream",
     "text": [
      "2.1 3.2 4.3 1.1 1.2 1.3\n",
      "Blue\n"
     ]
    }
   ],
   "source": [
    "#Programme 2:\n",
    "\n",
    "i,j,k=1,2,3\n",
    "x,y,z=1.1,1.2,1.3\n",
    "i=i+x\n",
    "j=j+y\n",
    "k=k+z\n",
    "\n",
    "print(i,j,k,x,y,z)\n",
    "if (i+j>k)and(j-i==x):\n",
    "    print(\"Blue\")\n",
    "else:\n",
    "    print(\"Red\")"
   ]
  },
  {
   "cell_type": "code",
   "execution_count": null,
   "metadata": {},
   "outputs": [],
   "source": [
    "## C'est une condition aussi et ce programme nous affiche les variables ainsi que \"Blue\" donc en premier lieu on a définie i,j,k,x,y,z puis nous avons fait afficher le contenue de chaque variable ensuite nous avons lancer \n",
    "#la condition donc si (i+j>k) et que (j-i==x) alors afficher \"Blue\" sinon si une des condition est vraie alors afficher \"Red\""
   ]
  },
  {
   "cell_type": "code",
   "execution_count": 6,
   "metadata": {},
   "outputs": [
    {
     "name": "stdout",
     "output_type": "stream",
     "text": [
      "7\n"
     ]
    }
   ],
   "source": [
    "#Programme 3:\n",
    "\n",
    "def f1(x,y):\n",
    "    if(x<y):\n",
    "        return 3\n",
    "    else:\n",
    "        return 4\n",
    "\n",
    "def f2(n):\n",
    "    return 2*n-1\n",
    "\n",
    "x=3.4\n",
    "y=5.3\n",
    "print(f2(f1(y,x)))\n"
   ]
  },
  {
   "cell_type": "code",
   "execution_count": null,
   "metadata": {},
   "outputs": [],
   "source": [
    "#Nous sommes sur une fonction, le programme nous affiche \"7\", on va définir deux fonction. La fonction \"f1\" et la fonction \"f2\", \n",
    "#pour la première fonction on voit que si (x<y) alors tu renvoie 3 sinon si une des condition n'est vraie alors renvoie . Pour la deuxième fonction f2(n) tu renvoie 2*n-1. En fin de programme x et y on été défini."
   ]
  },
  {
   "cell_type": "code",
   "execution_count": 15,
   "metadata": {},
   "outputs": [
    {
     "name": "stdout",
     "output_type": "stream",
     "text": [
      "Les diviseurs de 8 entre 2 et 100 sont : [2, 4, 8]\n"
     ]
    }
   ],
   "source": [
    "#Exercice 2:\n",
    "def les_diviseurs(n):\n",
    "    diviseurs = []\n",
    "\n",
    "    for i in range(2, 101):\n",
    "        if n % i == 0:\n",
    "            diviseurs.append(i)\n",
    "\n",
    "    return diviseurs\n",
    "\n",
    "nombre = int(input(\"Entre un nombre entier : \"))\n",
    "\n",
    "liste = les_diviseurs(nombre)\n",
    "if liste:\n",
    "    print(f\"Les diviseurs de {nombre} entre 2 et 100 sont : {liste}\")\n",
    "else:\n",
    "    print(f\"{nombre} il n'y a pas de diviseurs entre 2 et 100.\")\n"
   ]
  },
  {
   "cell_type": "code",
   "execution_count": 16,
   "metadata": {},
   "outputs": [
    {
     "name": "stdout",
     "output_type": "stream",
     "text": [
      "La valeur la plus mince dans l'intervalle [-50, 50] est : -60999\n"
     ]
    }
   ],
   "source": [
    "#Exercice 3\n",
    "def polynome(x):\n",
    "    return x**3 - 10*x**2 - 2610*x + 84\n",
    "\n",
    "valeur_min = float('inf')\n",
    "\n",
    "for x in range(-50, 51):\n",
    "    resultat = polynome(x)\n",
    "    valeur_min = min(valeur_min, resultat)\n",
    "\n",
    "print(f\"La valeur la plus mince dans l'intervalle [-50, 50] est : {valeur_min}\")\n"
   ]
  },
  {
   "cell_type": "code",
   "execution_count": 22,
   "metadata": {},
   "outputs": [
    {
     "name": "stdout",
     "output_type": "stream",
     "text": [
      "Les personnes nées en 10 sont : ['Julien']\n"
     ]
    }
   ],
   "source": [
    "#Exercice 4:\n",
    "anniversaires = {\n",
    "    'Mael': 3,\n",
    "    'Adrien': 6,\n",
    "    'Jessy': 8,\n",
    "    'Théo': 1,\n",
    "    'Ange': 12,\n",
    "    'Antonin': 9,\n",
    "    'Julien': 10,\n",
    "    'Dylan': 4,\n",
    "    'Olivier': 2,\n",
    "    'Nathan': 1,\n",
    "    'Quentin': 3,\n",
    "    'Loïc': 5,\n",
    "}\n",
    "\n",
    "def anniversaire(dictionnaire, mois_recherche):\n",
    "    personnes_ce_mois = []\n",
    "    \n",
    "    for prenom, mois in dictionnaire.items():\n",
    "        if mois == mois_recherche:\n",
    "            personnes_ce_mois.append(prenom)\n",
    "    \n",
    "    return personnes_ce_mois\n",
    "\n",
    "mois_recherche = 10\n",
    "resultat = anniversaire(anniversaires, mois_recherche)\n",
    "\n",
    "print(f\"Les personnes nées en {mois_recherche} sont : {resultat}\")\n"
   ]
  },
  {
   "cell_type": "code",
   "execution_count": null,
   "metadata": {},
   "outputs": [],
   "source": [
    "#Exercice 5:\n",
    "#je n'y arrive pas, j'arrive pas à le visualiser "
   ]
  },
  {
   "cell_type": "code",
   "execution_count": 19,
   "metadata": {},
   "outputs": [
    {
     "name": "stdout",
     "output_type": "stream",
     "text": [
      "Le score au Scrabble du mot 'INFORMATIQUE' est : 23\n"
     ]
    }
   ],
   "source": [
    "#Exercice 6:\n",
    "def score_scrabble(mot):\n",
    "    VALEURS = {\n",
    "        'A': 1, 'B': 3, 'C': 3, 'D': 2, 'E': 1, 'F': 4, 'G': 2, 'H': 4,\n",
    "        'I': 1, 'J': 8, 'K': 10, 'L': 1, 'M': 2, 'N': 1, 'O': 1, 'P': 3,\n",
    "        'Q': 8, 'R': 1, 'S': 1, 'T': 1, 'U': 1, 'V': 4, 'W': 10, 'X': 10,\n",
    "        'Y': 10, 'Z': 10\n",
    "    }\n",
    "\n",
    "    mot = mot.upper()\n",
    "    score = sum(VALEURS[lettre] for lettre in mot if lettre in VALEURS)\n",
    "\n",
    "    return score\n",
    "\n",
    "mot = \"INFORMATIQUE\"\n",
    "resultat = score_scrabble(mot)\n",
    "print(f\"Le score au Scrabble du mot '{mot}' est : {resultat}\")\n"
   ]
  }
 ],
 "metadata": {
  "kernelspec": {
   "display_name": "Python 3",
   "language": "python",
   "name": "python3"
  },
  "language_info": {
   "codemirror_mode": {
    "name": "ipython",
    "version": 3
   },
   "file_extension": ".py",
   "mimetype": "text/x-python",
   "name": "python",
   "nbconvert_exporter": "python",
   "pygments_lexer": "ipython3",
   "version": "3.12.1"
  }
 },
 "nbformat": 4,
 "nbformat_minor": 2
}
