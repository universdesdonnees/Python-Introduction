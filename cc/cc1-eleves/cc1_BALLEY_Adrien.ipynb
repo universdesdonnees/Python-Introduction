{
 "cells": [
  {
   "cell_type": "markdown",
   "metadata": {},
   "source": [
    "EX1"
   ]
  },
  {
   "cell_type": "code",
   "execution_count": 1,
   "metadata": {},
   "outputs": [
    {
     "name": "stdout",
     "output_type": "stream",
     "text": [
      "Red\n"
     ]
    }
   ],
   "source": [
    "x,y = 3.5,5 \n",
    "z = x/y \n",
    "p = 7\n",
    "\n",
    "if (x>3) and (z*10!=p):\n",
    "    print(\"Blue\")\n",
    "elif (p>y) or (x>4):\n",
    "    print(\"Red\")\n",
    "else:\n",
    "    print(\"Black\")"
   ]
  },
  {
   "cell_type": "code",
   "execution_count": 2,
   "metadata": {},
   "outputs": [
    {
     "name": "stdout",
     "output_type": "stream",
     "text": [
      "2.1 3.1 4.3 1.1 1.2 1.3\n",
      "Red\n"
     ]
    }
   ],
   "source": [
    "i,j,k = 1,2,3\n",
    "x,y,z = 1.1,1.2,1.3\n",
    "i = i + x\n",
    "j = j + x\n",
    "k = k + z\n",
    "\n",
    "print (i,j,k,x,y,z)\n",
    "if (i + j>k) and (j-i == x):\n",
    "    print(\"Blue\")\n",
    "else:\n",
    "    print(\"Red\")\n",
    "          "
   ]
  },
  {
   "cell_type": "code",
   "execution_count": 4,
   "metadata": {},
   "outputs": [
    {
     "name": "stdout",
     "output_type": "stream",
     "text": [
      "7\n"
     ]
    }
   ],
   "source": [
    "def f1(x,y):\n",
    "    if(x<y):\n",
    "        return 3\n",
    "    else:\n",
    "        return 4\n",
    "def f2(n):\n",
    "        return 2*n-1\n",
    "x=3.4\n",
    "y=5.3\n",
    "print(f2(f1(y,x)))"
   ]
  },
  {
   "cell_type": "markdown",
   "metadata": {},
   "source": [
    "EX2"
   ]
  },
  {
   "cell_type": "code",
   "execution_count": 5,
   "metadata": {},
   "outputs": [
    {
     "ename": "NameError",
     "evalue": "name 'numpy' is not defined",
     "output_type": "error",
     "traceback": [
      "\u001b[1;31m---------------------------------------------------------------------------\u001b[0m",
      "\u001b[1;31mNameError\u001b[0m                                 Traceback (most recent call last)",
      "Cell \u001b[1;32mIn[5], line 5\u001b[0m\n\u001b[0;32m      2\u001b[0m     n \u001b[38;5;241m=\u001b[39m \u001b[38;5;28mint\u001b[39m(\u001b[38;5;28minput\u001b[39m(\u001b[38;5;124m\"\u001b[39m\u001b[38;5;124mveuillez choisir un nombre : \u001b[39m\u001b[38;5;124m\"\u001b[39m))\n\u001b[0;32m      3\u001b[0m     b \u001b[38;5;241m=\u001b[39m np\u001b[38;5;241m.\u001b[39marange(\u001b[38;5;241m2\u001b[39m, \u001b[38;5;241m100\u001b[39m)\n\u001b[1;32m----> 5\u001b[0m resultat \u001b[38;5;241m=\u001b[39m \u001b[43mnumpy\u001b[49m\u001b[38;5;241m.\u001b[39mdivide(n,b)\n\u001b[0;32m      7\u001b[0m \u001b[38;5;28mprint\u001b[39m(resultat)\n",
      "\u001b[1;31mNameError\u001b[0m: name 'numpy' is not defined"
     ]
    }
   ],
   "source": [
    "def choisir_nombre():\n",
    "    n = int(input(\"veuillez choisir un nombre : \"))\n",
    "    b = np.arange(2, 100)\n",
    "\n",
    "resultat = numpy.divide(n,b)\n",
    "\n",
    "print(resultat)"
   ]
  },
  {
   "cell_type": "markdown",
   "metadata": {},
   "source": [
    "EX4"
   ]
  },
  {
   "cell_type": "code",
   "execution_count": 39,
   "metadata": {},
   "outputs": [],
   "source": [
    "nombre_personnes = int(input(\"Entrez le nombre d'étudiants : \"))\n",
    "\n",
    "with open(\"CC1_BALLEY_Adrien_EX4.txt\", \"w\") as fichier_cc1:\n",
    "    fichier_cc1.write(\"PRENOM;mois\\n\") \n",
    "\n",
    "    for _ in range(nombre_personnes):\n",
    "        prenom = input(\"Entrez le PRENOM de l'étudiant : \")\n",
    "        mois = input(\"Entrez le mois de naissance de l'étudiant : \")\n",
    "\n",
    "        fichier_cc1.write(f\"{prenom};{mois}\\n\")"
   ]
  }
 ],
 "metadata": {
  "kernelspec": {
   "display_name": "Python 3",
   "language": "python",
   "name": "python3"
  },
  "language_info": {
   "codemirror_mode": {
    "name": "ipython",
    "version": 3
   },
   "file_extension": ".py",
   "mimetype": "text/x-python",
   "name": "python",
   "nbconvert_exporter": "python",
   "pygments_lexer": "ipython3",
   "version": "3.11.7"
  }
 },
 "nbformat": 4,
 "nbformat_minor": 2
}
