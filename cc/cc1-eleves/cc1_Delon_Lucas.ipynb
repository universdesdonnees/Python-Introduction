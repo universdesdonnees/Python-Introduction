{
 "cells": [
  {
   "cell_type": "markdown",
   "metadata": {},
   "source": [
    "Exercice 1 : "
   ]
  },
  {
   "cell_type": "code",
   "execution_count": 2,
   "metadata": {},
   "outputs": [
    {
     "name": "stdout",
     "output_type": "stream",
     "text": [
      "Red\n",
      "3.5 5 0.7 7\n"
     ]
    }
   ],
   "source": [
    "x , y = 3.5 , 5\n",
    "z= x/y\n",
    "p=7\n",
    "\n",
    "if (x>3) and (z*10!=p):\n",
    "    print(\"blue\")\n",
    "elif (p>y)or(x>4):\n",
    "    print(\"Red\")\n",
    "else : \n",
    "    print(\"black\")\n",
    "\n",
    "print(x , y , z , p)"
   ]
  },
  {
   "cell_type": "markdown",
   "metadata": {},
   "source": [
    "Programme 1 : \n",
    "le programme retourne rouge et les valeurs des variables sont : \n",
    "x = 3.5\n",
    "y = 5\n",
    "z = 0.7\n",
    "p = 7"
   ]
  },
  {
   "cell_type": "code",
   "execution_count": 3,
   "metadata": {},
   "outputs": [
    {
     "name": "stdout",
     "output_type": "stream",
     "text": [
      "2.1 3.2 4.3 1.1 1.2 1.3\n",
      "blue\n"
     ]
    }
   ],
   "source": [
    "i , j , k = 1 , 2 , 3\n",
    "x , y , z = 1.1 , 1.2 , 1.3\n",
    "i = i+x\n",
    "j = j+y\n",
    "k = k+z\n",
    "print(i,j,k,x,y,z)\n",
    "if (i + j > k ) and (j-i == x):\n",
    "    print(\"blue\")\n",
    "else:\n",
    "    print(\"red\")"
   ]
  },
  {
   "cell_type": "markdown",
   "metadata": {},
   "source": [
    "Programme 2 : \n",
    "le programme retourne blue et les valeurs des variables sont : \n",
    "i = 2.1\n",
    "j= 3.2\n",
    "k = 4.3\n",
    "x = 1.1\n",
    "y = 1.2\n",
    "z = 1.3\n"
   ]
  },
  {
   "cell_type": "code",
   "execution_count": 4,
   "metadata": {},
   "outputs": [
    {
     "name": "stdout",
     "output_type": "stream",
     "text": [
      "5\n"
     ]
    }
   ],
   "source": [
    "def f1(x,y):\n",
    "    if (x<y):\n",
    "        return 3\n",
    "    else :\n",
    "        return 4\n",
    "def f2(n):\n",
    "    return 2*n-1\n",
    "x= 3.4\n",
    "y=5.3\n",
    "print(f2(f1(x,y)))"
   ]
  },
  {
   "cell_type": "markdown",
   "metadata": {},
   "source": [
    "Programme 3 : \n",
    "le programme retourne 5 et les valeurs des variables sont : \n",
    "x = 3.4\n",
    "y = 5.3\n",
    "f1 retourne 3\n",
    "\n"
   ]
  },
  {
   "cell_type": "markdown",
   "metadata": {},
   "source": [
    "Exercice 2"
   ]
  },
  {
   "cell_type": "code",
   "execution_count": 19,
   "metadata": {},
   "outputs": [
    {
     "name": "stdout",
     "output_type": "stream",
     "text": [
      "[2, 5, 10, 25, 50]\n"
     ]
    }
   ],
   "source": [
    "liste = []\n",
    "def fonction_division(nombre):\n",
    "    n= 2\n",
    "    while n < 100 :\n",
    "        \n",
    "        if nombre % n == 0 : \n",
    "            liste.append(n)\n",
    "        n = n + 1\n",
    "        \n",
    "        \n",
    "nombre_a_divise = int(input(\"Saisisez un nombre : \"))\n",
    "\n",
    "fonction_division(nombre_a_divise)\n",
    "print(liste)\n",
    "\n",
    "        "
   ]
  },
  {
   "cell_type": "markdown",
   "metadata": {},
   "source": [
    "Exercice 3 :"
   ]
  },
  {
   "cell_type": "code",
   "execution_count": 26,
   "metadata": {},
   "outputs": [
    {
     "name": "stdout",
     "output_type": "stream",
     "text": [
      "-50\n",
      "-49\n",
      "-48\n",
      "-47\n",
      "-25\n",
      "-24\n",
      "-23\n",
      "-22\n",
      "-21\n",
      "-20\n",
      "-19\n",
      "-18\n",
      "-17\n",
      "-16\n",
      "-15\n",
      "-14\n",
      "-13\n",
      "-12\n",
      "-11\n",
      "-10\n",
      "-9\n",
      "-8\n",
      "-7\n",
      "-6\n",
      "-5\n",
      "-4\n",
      "-3\n",
      "-2\n",
      "-1\n",
      "0\n",
      "1\n",
      "2\n",
      "3\n",
      "4\n",
      "5\n",
      "6\n",
      "7\n",
      "8\n",
      "9\n",
      "10\n",
      "11\n",
      "12\n",
      "13\n",
      "14\n",
      "15\n",
      "16\n",
      "17\n",
      "18\n",
      "19\n",
      "20\n",
      "21\n",
      "22\n",
      "23\n",
      "24\n",
      "25\n",
      "26\n",
      "27\n",
      "28\n",
      "29\n",
      "30\n",
      "31\n",
      "32\n",
      "33\n",
      "34\n",
      "35\n",
      "36\n",
      "37\n",
      "38\n",
      "39\n",
      "40\n",
      "41\n",
      "42\n",
      "43\n",
      "44\n",
      "45\n",
      "46\n",
      "47\n",
      "48\n",
      "49\n",
      "43608 -26\n"
     ]
    }
   ],
   "source": [
    "def polynome(x):\n",
    "    return (x**3-10*x**2-2610*x + 84)\n",
    "\n",
    "n= -50\n",
    "valMax = 0\n",
    "Nombre_Max = 0\n",
    "while n < 50 : \n",
    "    if polynome(n) > valMax :\n",
    "        valMax = polynome(n)\n",
    "        Nombre_Max = n\n",
    "    n = n+1\n",
    "\n",
    "print(valMax , Nombre_Max)"
   ]
  },
  {
   "cell_type": "markdown",
   "metadata": {},
   "source": [
    "Exercice 4 : "
   ]
  },
  {
   "cell_type": "code",
   "execution_count": 109,
   "metadata": {},
   "outputs": [
    {
     "data": {
      "text/plain": [
       "['gerome', 'dominique']"
      ]
     },
     "execution_count": 109,
     "metadata": {},
     "output_type": "execute_result"
    }
   ],
   "source": [
    "\n",
    "def recherche_de_mois(mois , dictionnaire):\n",
    "    moisliste = []\n",
    "    for cle, valeur in dictionnaire.items():\n",
    "        if valeur == mois:\n",
    "            moisliste.append(cle)\n",
    "    return moisliste\n",
    "\n",
    "personne = {\"alice\":11 , \"gerome\":5, 'dominique': 5}\n",
    "\n",
    "personne2 = {\"alice\":1 , \"gerome\":4, 'dominique': 7}\n",
    "\n",
    "\n",
    "recherche_de_mois(5 ,personne)\n",
    "\n",
    "\n",
    "\n"
   ]
  },
  {
   "cell_type": "markdown",
   "metadata": {},
   "source": [
    "Exercice 5 :"
   ]
  },
  {
   "cell_type": "code",
   "execution_count": 131,
   "metadata": {},
   "outputs": [
    {
     "ename": "IndexError",
     "evalue": "list index out of range",
     "output_type": "error",
     "traceback": [
      "\u001b[1;31m---------------------------------------------------------------------------\u001b[0m",
      "\u001b[1;31mIndexError\u001b[0m                                Traceback (most recent call last)",
      "Cell \u001b[1;32mIn[131], line 55\u001b[0m\n\u001b[0;32m     49\u001b[0m         \u001b[38;5;28;01mif\u001b[39;00m position_mine2[n] \u001b[38;5;241m-\u001b[39m \u001b[38;5;241m1\u001b[39m \u001b[38;5;241m==\u001b[39m position_mine2[n\u001b[38;5;241m+\u001b[39m\u001b[38;5;241m1\u001b[39m] \u001b[38;5;129;01mor\u001b[39;00m position_mine2[n] \u001b[38;5;241m+\u001b[39m \u001b[38;5;241m1\u001b[39m \u001b[38;5;241m==\u001b[39m position_mine2[n\u001b[38;5;241m+\u001b[39m\u001b[38;5;241m1\u001b[39m]:\n\u001b[0;32m     50\u001b[0m             \u001b[38;5;28mprint\u001b[39m(\u001b[38;5;124m\"\u001b[39m\u001b[38;5;124mmine adjacente \u001b[39m\u001b[38;5;124m\"\u001b[39m)\n\u001b[1;32m---> 55\u001b[0m \u001b[43mcreation_plateau\u001b[49m\u001b[43m(\u001b[49m\u001b[43mnombre_mine\u001b[49m\u001b[43m,\u001b[49m\u001b[43m \u001b[49m\u001b[43mdimension\u001b[49m\u001b[43m)\u001b[49m\n\u001b[0;32m     56\u001b[0m mine_ad()\n\u001b[0;32m     57\u001b[0m \u001b[38;5;28;01mwith\u001b[39;00m \u001b[38;5;28mopen\u001b[39m(chemin_fichier, \u001b[38;5;124m'\u001b[39m\u001b[38;5;124mr\u001b[39m\u001b[38;5;124m'\u001b[39m, encoding\u001b[38;5;241m=\u001b[39m\u001b[38;5;124m'\u001b[39m\u001b[38;5;124mutf-8\u001b[39m\u001b[38;5;124m'\u001b[39m) \u001b[38;5;28;01mas\u001b[39;00m fichier:\n",
      "Cell \u001b[1;32mIn[131], line 27\u001b[0m, in \u001b[0;36mcreation_plateau\u001b[1;34m(mine, dimension)\u001b[0m\n\u001b[0;32m     25\u001b[0m \u001b[38;5;28;01mwhile\u001b[39;00m rangetotale \u001b[38;5;241m>\u001b[39m \u001b[38;5;241m0\u001b[39m : \n\u001b[0;32m     26\u001b[0m     \u001b[38;5;28;01mwhile\u001b[39;00m dimension2 \u001b[38;5;241m>\u001b[39m \u001b[38;5;241m0\u001b[39m :\n\u001b[1;32m---> 27\u001b[0m         \u001b[38;5;28;01mif\u001b[39;00m \u001b[43mposition_mine\u001b[49m\u001b[43m[\u001b[49m\u001b[43mn2\u001b[49m\u001b[43m]\u001b[49m \u001b[38;5;241m==\u001b[39m rangetotale :\n\u001b[0;32m     28\u001b[0m             fichier\u001b[38;5;241m.\u001b[39mwrite(\u001b[38;5;124m\"\u001b[39m\u001b[38;5;124m0\u001b[39m\u001b[38;5;124m\"\u001b[39m)\n\u001b[0;32m     30\u001b[0m             n2 \u001b[38;5;241m=\u001b[39m n2 \u001b[38;5;241m+\u001b[39m\u001b[38;5;241m1\u001b[39m\n",
      "\u001b[1;31mIndexError\u001b[0m: list index out of range"
     ]
    }
   ],
   "source": [
    "import random \n",
    "\n",
    "nombre_mine = 10\n",
    "dimension = 10 # plateau de 10 * 10 soit 100 cases \n",
    "chemin_fichier = \"../data/rapport.txt\"\n",
    "position_mine2 = []\n",
    "def creation_plateau(mine, dimension):\n",
    "    position_mine = []\n",
    "    rangetotale = dimension **2 \n",
    "    while mine > 0:\n",
    "        position_mine.append(random.randint(0, rangetotale))\n",
    "        mine = mine -1 \n",
    "    \n",
    "    position_mine.sort()\n",
    "    position_mine.reverse()\n",
    "    position_mine2 = position_mine\n",
    "    n2 = 0\n",
    "    dimension2 = dimension\n",
    "    \n",
    "    with open('../data/rapport.txt', 'w',  encoding='utf-8') as fichier:\n",
    "        fichier.write(\"Jeu du démineur : \\n\")\n",
    "# Lire un fichier\n",
    "    with open(chemin_fichier, 'a', encoding='utf-8') as fichier:\n",
    "\n",
    "        while rangetotale > 0 : \n",
    "            while dimension2 > 0 :\n",
    "                if position_mine[n2] == rangetotale :\n",
    "                    fichier.write(\"0\")\n",
    "\n",
    "                    n2 = n2 +1\n",
    "                    if dimension2 == 1 :\n",
    "                        fichier.write(\"\\n\")\n",
    "    \n",
    "                else :\n",
    "                    fichier.write(\"*\")\n",
    "                    if dimension2 == 1 :\n",
    "                        fichier.write(\"\\n\")\n",
    "\n",
    "                \n",
    "                rangetotale = rangetotale - 1\n",
    "                dimension2 = dimension2 - 1\n",
    "\n",
    "            dimension2 = dimension\n",
    "            \n",
    "             \n",
    "def mine_ad ():\n",
    "    n = nombre_mine\n",
    "    while n > 0 :\n",
    "        if position_mine2[n] - 1 == position_mine2[n+1] or position_mine2[n] + 1 == position_mine2[n+1]:\n",
    "            print(\"mine adjacente \")\n",
    "\n",
    "\n",
    "            \n",
    "\n",
    "creation_plateau(nombre_mine, dimension)\n",
    "mine_ad()\n",
    "with open(chemin_fichier, 'r', encoding='utf-8') as fichier:\n",
    "    contenu = fichier.read()\n",
    "    print(contenu)\n"
   ]
  },
  {
   "cell_type": "markdown",
   "metadata": {},
   "source": [
    "Exercice 6 : "
   ]
  },
  {
   "cell_type": "code",
   "execution_count": 121,
   "metadata": {},
   "outputs": [
    {
     "data": {
      "text/plain": [
       "32"
      ]
     },
     "execution_count": 121,
     "metadata": {},
     "output_type": "execute_result"
    }
   ],
   "source": [
    "VALEURS = {\n",
    "'A' : 1, 'B' : 3, 'C' : 3, 'D' : 2, 'E' : 1, 'F' : 4, 'G' : 2, 'H' : 4,\n",
    "'I' : 1, 'J' : 8, 'K' : 10, 'L' : 1, 'M' : 2, 'N' : 1, 'O' : 1, 'P' : 3,\n",
    "'Q' : 8, 'R' : 1, 'S' : 1, 'T' : 1, 'U' : 1, 'V' : 4, 'W' : 10, 'X' : 10,\n",
    "'Y' : 10, 'Z' : 10\n",
    "}\n",
    "\n",
    "def score_scrable(mots): \n",
    "    score = len(mots)\n",
    "    x= 0\n",
    "    mots = mots.upper()\n",
    "    score_totale = 0\n",
    "    while score > 0 : \n",
    "        for cle, valeur in VALEURS.items():\n",
    "            if cle == mots[x]:\n",
    "                score_totale = score_totale + valeur\n",
    "        score = score - 1 \n",
    "        x = x + 1 \n",
    "            \n",
    "    return score_totale\n",
    "\n",
    "score_scrable(\"kayak\")\n"
   ]
  }
 ],
 "metadata": {
  "kernelspec": {
   "display_name": "Python 3",
   "language": "python",
   "name": "python3"
  },
  "language_info": {
   "codemirror_mode": {
    "name": "ipython",
    "version": 3
   },
   "file_extension": ".py",
   "mimetype": "text/x-python",
   "name": "python",
   "nbconvert_exporter": "python",
   "pygments_lexer": "ipython3",
   "version": "3.11.5"
  }
 },
 "nbformat": 4,
 "nbformat_minor": 2
}
