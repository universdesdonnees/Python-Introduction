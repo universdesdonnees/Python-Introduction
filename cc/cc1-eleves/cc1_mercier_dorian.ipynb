{
 "cells": [
  {
   "cell_type": "code",
   "execution_count": 14,
   "metadata": {},
   "outputs": [
    {
     "name": "stdout",
     "output_type": "stream",
     "text": [
      "Red\n",
      "3.5\n",
      "5\n",
      "0.7\n"
     ]
    }
   ],
   "source": [
    "# Exercice 1 \n",
    "\n",
    "\n",
    "x, y = 3.5, 5\n",
    "z = x / y \n",
    "p = 7 \n",
    "\n",
    "if (x > 3) and (z*10!=p):\n",
    "    print(\"Blue\")\n",
    "elif (p>y) or (x > 4):\n",
    "    print(\"Red\")\n",
    "else: \n",
    "    print(\"Black\")\n",
    "\n",
    "print(x)\n",
    "print(y)\n",
    "print(z)\n",
    "\n"
   ]
  },
  {
   "cell_type": "markdown",
   "metadata": {},
   "source": [
    "Variables\n",
    "x = 3.5\n",
    "y = 5\n",
    "z = 0.7\n",
    "\n",
    "\"Red\" s'affiche"
   ]
  },
  {
   "cell_type": "code",
   "execution_count": 15,
   "metadata": {},
   "outputs": [
    {
     "name": "stdout",
     "output_type": "stream",
     "text": [
      "2.1 3.2 4.3 1.1 1.2 1.3\n",
      "Blue\n"
     ]
    }
   ],
   "source": [
    "i, j, k = 1, 2, 3 \n",
    "x, y, z = 1.1, 1.2, 1.3 \n",
    "i = i + x\n",
    "j = j + y\n",
    "k = k + z\n",
    "print(i, j, k, x, y, z)\n",
    "if (i + j > k) and (j - i == x):\n",
    "    print(\"Blue\")\n",
    "else:\n",
    "    print(\"Red\")\n",
    "\n",
    "\n"
   ]
  },
  {
   "cell_type": "markdown",
   "metadata": {},
   "source": [
    "Valeurs variables\n",
    "i = 2.1\n",
    "j = 3.2\n",
    "k = 4.3\n",
    "x = 1.1\n",
    "y = 1.2\n",
    "z = 1.3\n",
    "\n",
    "\"Blue\" s'affiche"
   ]
  },
  {
   "cell_type": "code",
   "execution_count": 16,
   "metadata": {},
   "outputs": [
    {
     "name": "stdout",
     "output_type": "stream",
     "text": [
      "5\n",
      "3.4\n",
      "5.3\n"
     ]
    }
   ],
   "source": [
    "def f1(x,y):\n",
    "    if (x > y):\n",
    "        return 3\n",
    "    else:\n",
    "        return 4\n",
    "    \n",
    "def f2(n):\n",
    "    return 2*n-1\n",
    "x = 3.4 \n",
    "y = 5.3\n",
    "print(f2(f1(y,x)))\n",
    "\n",
    "print(x)\n",
    "print(y)\n",
    "    \n",
    "    "
   ]
  },
  {
   "cell_type": "markdown",
   "metadata": {},
   "source": [
    "Valeur des variables\n",
    "x = 3.4\n",
    "y = 5.3\n",
    "\n",
    "5 s'affiche"
   ]
  },
  {
   "cell_type": "markdown",
   "metadata": {},
   "source": [
    " Exercice 2 \n",
    " Écrivez une fonction qui permet de trouver tous les diviseurs d'un nombre \"n\" entre 2 et 100. \n",
    "Le programme doit demander à l'utilisateur d'entrer un nombre entier naturel \"n\". \n",
    " Une fois le nombre saisi, le programme renvoie tous les diviseurs de \"n\" dans une liste. "
   ]
  },
  {
   "cell_type": "code",
   "execution_count": 88,
   "metadata": {},
   "outputs": [
    {
     "name": "stdout",
     "output_type": "stream",
     "text": [
      "[  2   4   6   8  10  12  14  16  18  20  22  24  26  28  30  32  34  36\n",
      "  38  40  42  44  46  48  50  52  54  56  58  60  62  64  66  68  70  72\n",
      "  74  76  78  80  82  84  86  88  90  92  94  96  98 100 102 104 106 108\n",
      " 110 112 114 116 118 120 122 124 126 128 130 132 134 136 138 140 142 144\n",
      " 146 148 150 152 154 156 158 160 162 164 166 168 170 172 174 176 178 180\n",
      " 182 184 186 188 190 192 194 196 198]\n"
     ]
    },
    {
     "ename": "TypeError",
     "evalue": "unsupported operand type(s) for /: 'str' and 'int'",
     "output_type": "error",
     "traceback": [
      "\u001b[0;31m---------------------------------------------------------------------------\u001b[0m",
      "\u001b[0;31mTypeError\u001b[0m                                 Traceback (most recent call last)",
      "\u001b[1;32m/Users/dorianmercier/Downloads/cc1_mercier_dorian.ipynb Cellule 8\u001b[0m line \u001b[0;36m1\n\u001b[1;32m      <a href='vscode-notebook-cell:/Users/dorianmercier/Downloads/cc1_mercier_dorian.ipynb#X10sZmlsZQ%3D%3D?line=7'>8</a>\u001b[0m entree \u001b[39m=\u001b[39m \u001b[39minput\u001b[39m(\u001b[39m\"\u001b[39m\u001b[39mNombre entier naturel n\u001b[39m\u001b[39m\"\u001b[39m)\n\u001b[1;32m     <a href='vscode-notebook-cell:/Users/dorianmercier/Downloads/cc1_mercier_dorian.ipynb#X10sZmlsZQ%3D%3D?line=9'>10</a>\u001b[0m \u001b[39m# renvoie x si tous les nombres divisible entre 2 et x donne un modulo != de 0\u001b[39;00m\n\u001b[0;32m---> <a href='vscode-notebook-cell:/Users/dorianmercier/Downloads/cc1_mercier_dorian.ipynb#X10sZmlsZQ%3D%3D?line=10'>11</a>\u001b[0m lst_premier \u001b[39m=\u001b[39m [x \u001b[39mfor\u001b[39;00m x \u001b[39min\u001b[39;00m entree \u001b[39mif\u001b[39;00m \u001b[39mall\u001b[39m(x \u001b[39m%\u001b[39m i \u001b[39m!=\u001b[39m \u001b[39m0\u001b[39m \u001b[39mfor\u001b[39;00m i \u001b[39min\u001b[39;00m \u001b[39mrange\u001b[39m(\u001b[39m2\u001b[39m, \u001b[39mint\u001b[39m(x\u001b[39m/\u001b[39;49m\u001b[39m2\u001b[39;49m) \u001b[39m+\u001b[39m \u001b[39m1\u001b[39m))]\n\u001b[1;32m     <a href='vscode-notebook-cell:/Users/dorianmercier/Downloads/cc1_mercier_dorian.ipynb#X10sZmlsZQ%3D%3D?line=11'>12</a>\u001b[0m lst_premier \n",
      "\u001b[0;31mTypeError\u001b[0m: unsupported operand type(s) for /: 'str' and 'int'"
     ]
    }
   ],
   "source": [
    "# Exercice 2 \n",
    "\n",
    "import numpy as np\n",
    "import random\n",
    "n = np.arange(2, 200, 2)\n",
    "print(n)\n",
    "\n",
    "entree = input(\"Nombre entier naturel n\")\n",
    "\n",
    "\n"
   ]
  },
  {
   "cell_type": "code",
   "execution_count": 18,
   "metadata": {},
   "outputs": [
    {
     "ename": "SyntaxError",
     "evalue": "invalid character '–' (U+2013) (3381492258.py, line 8)",
     "output_type": "error",
     "traceback": [
      "\u001b[0;36m  Cell \u001b[0;32mIn[18], line 8\u001b[0;36m\u001b[0m\n\u001b[0;31m    P = x^3 – 10x^2 – 2610x + 84\u001b[0m\n\u001b[0m            ^\u001b[0m\n\u001b[0;31mSyntaxError\u001b[0m\u001b[0;31m:\u001b[0m invalid character '–' (U+2013)\n"
     ]
    }
   ],
   "source": [
    "# Exercice 3 \n",
    "\n",
    "#Soit le polynôme P défini par P = x3 – 10x2 – 2610x + 84 \n",
    "#crivez une fonction qui, étant donné un entier naturel x, retourne la valeur de ce polynôme pour x. \n",
    "#Ecrivez un programme qui affiche la plus petite valeur prise par ce polynôme pour les entiers appartenant à  l’intervalle [−50, 50]. \n",
    "\n",
    "\n",
    "P = x^3 – 10x^2 – 2610x + 84 \n",
    "\n"
   ]
  },
  {
   "cell_type": "code",
   "execution_count": 59,
   "metadata": {},
   "outputs": [
    {
     "name": "stdout",
     "output_type": "stream",
     "text": [
      "{1: 'Janvier', 2: 'Fevrier', 3: 'Mars', 4: 'Avril', 5: 'Mai', 6: 'Juin', 7: 'Juillet', 8: 'Aout', 9: 'Septembre', 10: 'Octobre', 11: 'Novembre', 12: 'Decembre'}\n",
      "{'prenom': ('Remi', 'Louise', 'Johann', 'Ellen', 'Lucas'), 'mois': (1, 5, 12, 10, 8)}\n"
     ]
    },
    {
     "data": {
      "text/plain": [
       "Johan       1\n",
       "Louise      5\n",
       "Lucas       8\n",
       "Fatima     12\n",
       "Ményssa    10\n",
       "dtype: int64"
      ]
     },
     "execution_count": 59,
     "metadata": {},
     "output_type": "execute_result"
    }
   ],
   "source": [
    "# Exercice 4 \n",
    "\n",
    "#Créez une structure de données dans lequel : \n",
    "#- les clés sont les prénoms de différentes personnes. (Il n'y a aucun prénom en double) - les valeurs sont les mois de naissance de ces personnes stockées sous forme de nombres entiers (1 pour  janvier, ... 12 pour décembre) \n",
    "#Vous devez écrire une fonction anniversaire prenant en arguments le dictionnaire créer ci-dessus ainsi qu'un  numéro d'un mois et renvoyant une liste contenant les prénoms des personnes nées durant ce mois. \n",
    "\n",
    "\n",
    "mois = { \n",
    " 1:\"Janvier\", 2:\"Fevrier\", 3:\"Mars\", 4:'Avril', 5:'Mai', 6:'Juin', 7:'Juillet', 8:'Aout',  \n",
    " 9:'Septembre', 10:'Octobre', 11:'Novembre', 12:'Decembre' \n",
    "} \n",
    "print(mois)\n",
    "personnes = dict(prenom=(\"Remi\",\"Louise\", \"Johann\", \"Ellen\", \"Lucas\"), mois=(1, 5, 12, 10, 8))\n",
    "print(personnes)\n",
    "\n",
    "\n",
    "import pandas as pd\n",
    "\n",
    "\n",
    "mois_naissance={\"Johan\":1, \n",
    "       \"Louise\":5,\n",
    "       \"Lucas\":8,\n",
    "       \"Fatima\":12,\n",
    "       \"Ményssa\":10}\n",
    "\n",
    "names=pd.Series(mois_naissance) \n",
    "names\n",
    "\n"
   ]
  },
  {
   "cell_type": "code",
   "execution_count": 84,
   "metadata": {},
   "outputs": [
    {
     "data": {
      "text/plain": [
       "'Voici votre Louise, montant : 1'"
      ]
     },
     "execution_count": 84,
     "metadata": {},
     "output_type": "execute_result"
    }
   ],
   "source": [
    "\n",
    "# Exercice 4 \n",
    "\n",
    "def mois_naissance():\n",
    "\n",
    "    prenoms = {\n",
    "        'Remi': 5,\n",
    "        'Louise': 1,\n",
    "        'Johan': 2,\n",
    "        'Ellen': 11\n",
    "    }\n",
    "    \n",
    "   # month = {\n",
    "  #      1: 'Janvier',\n",
    "  #      2: 'Fevrier'\n",
    "  #      3: 'Mars',\n",
    "   #     4: 'Avril',\n",
    "  #      5:'Mai',\n",
    "  #      6:'Juin',\n",
    "  #      7:'Juillet',\n",
    "  #      8:'Aout',\n",
    "  #      9:'Septembre',\n",
    "  #      10:'Octobre',\n",
    "  #      11:'Novembre',\n",
    "  #      12:'Decembre',\n",
    "   # }\n",
    "\n",
    "    mois = input(\"Entrez un numéro de mois: \") # Je n'arrive à le faire qu'avec le prénom et non le numéro de mois car la clé est prénom.......\n",
    "\n",
    "    try:\n",
    "        return f\"Voici votre {mois}, montant : {prenoms[mois]}\"\n",
    "    except KeyError:\n",
    "        return f\"{mois} est non disponible\"\n",
    "\n",
    "mois_naissance()\n",
    "\n",
    "\n",
    "\n"
   ]
  },
  {
   "cell_type": "markdown",
   "metadata": {},
   "source": [
    "Exercice 5 \n",
    "Développer une version simplifiée du jeu de démineur en utilisant Python. \n",
    "Étape 1: Initialisation du Champ de Mines\n",
    "Créer une grille 2D pour représenter le champ de mines. Chaque cellule peut être une mine (*) ou non (0). Utilisez  une taille de grille prédéfinie (par exemple, 10x10) et un nombre fixe de mines. Placez les mines de manière  aléatoire. \n",
    "\n",
    "Étape 2: Calcul des Mines Adjacentes \n",
    "Écrire une fonction qui, pour chaque cellule, calcule le nombre de mines dans les cellules adjacentes (les cellules  autour d’une case) et leur position. Faites attention aux bords de la grille pour éviter les erreurs d'indexation. \n"
   ]
  },
  {
   "cell_type": "code",
   "execution_count": 52,
   "metadata": {},
   "outputs": [
    {
     "ename": "IndexError",
     "evalue": "tuple index out of range",
     "output_type": "error",
     "traceback": [
      "\u001b[0;31m---------------------------------------------------------------------------\u001b[0m",
      "\u001b[0;31mIndexError\u001b[0m                                Traceback (most recent call last)",
      "\u001b[1;32m/Users/dorianmercier/Downloads/cc1_mercier_dorian.ipynb Cellule 12\u001b[0m line \u001b[0;36m1\n\u001b[1;32m     <a href='vscode-notebook-cell:/Users/dorianmercier/Downloads/cc1_mercier_dorian.ipynb#X16sZmlsZQ%3D%3D?line=9'>10</a>\u001b[0m \u001b[39m# Créer un motif en damier\u001b[39;00m\n\u001b[1;32m     <a href='vscode-notebook-cell:/Users/dorianmercier/Downloads/cc1_mercier_dorian.ipynb#X16sZmlsZQ%3D%3D?line=10'>11</a>\u001b[0m \u001b[39mfor\u001b[39;00m i \u001b[39min\u001b[39;00m \u001b[39mrange\u001b[39m(tableau\u001b[39m.\u001b[39mshape[\u001b[39m0\u001b[39m]):        \u001b[39m# Boucle sur les lignes du tableau\u001b[39;00m\n\u001b[0;32m---> <a href='vscode-notebook-cell:/Users/dorianmercier/Downloads/cc1_mercier_dorian.ipynb#X16sZmlsZQ%3D%3D?line=11'>12</a>\u001b[0m     \u001b[39mfor\u001b[39;00m j \u001b[39min\u001b[39;00m \u001b[39mrange\u001b[39m(tableau\u001b[39m.\u001b[39;49mshape[\u001b[39m1\u001b[39;49m]):    \u001b[39m# Boucle sur les colonnes du tableau\u001b[39;00m\n\u001b[1;32m     <a href='vscode-notebook-cell:/Users/dorianmercier/Downloads/cc1_mercier_dorian.ipynb#X16sZmlsZQ%3D%3D?line=12'>13</a>\u001b[0m         \u001b[39mif\u001b[39;00m (i \u001b[39m+\u001b[39m j) \u001b[39m%\u001b[39m \u001b[39m2\u001b[39m \u001b[39m==\u001b[39m \u001b[39m0\u001b[39m:            \u001b[39m# Vérifie si la somme des indices de ligne et de colonne est divisible par 10\u001b[39;00m\n\u001b[1;32m     <a href='vscode-notebook-cell:/Users/dorianmercier/Downloads/cc1_mercier_dorian.ipynb#X16sZmlsZQ%3D%3D?line=13'>14</a>\u001b[0m             tableau[i, j] \u001b[39m=\u001b[39m \u001b[39m1\u001b[39m          \u001b[39m# Si vrai, change la valeur du pixel en 1 pour créer un motif\u001b[39;00m\n",
      "\u001b[0;31mIndexError\u001b[0m: tuple index out of range"
     ]
    }
   ],
   "source": [
    "import random           \n",
    "import numpy as np     \n",
    "\n",
    "\n",
    "\n",
    "\n",
    "# Créer un tableau NumPy 10x10 rempli de zéros\n",
    "tableau = np.array((10, 10), dtype=int)  # Initialise un tableau 10x10 avec des zéros, en spécifiant un type de données entier\n",
    "\n",
    "# Créer un motif en damier\n",
    "for i in range(tableau.shape[0]):        # Boucle sur les lignes du tableau\n",
    "    for j in range(tableau.shape[1]):    # Boucle sur les colonnes du tableau\n",
    "        if (i + j) % 2 == 0:            # Vérifie si la somme des indices de ligne et de colonne est divisible par 10\n",
    "            tableau[i, j] = 1          # Si vrai, change la valeur du pixel en 1 pour créer un motif\n",
    "\n",
    "# Afficher le tableau avec le motif en damier\n",
    "tableau_damier = tableau                 # Assignation du tableau modifié à une nouvelle variable (optionnel)\n",
    "tableau_damier                           # Affiche le tableau en sortie (utile dans un environnement de notebook)\n",
    "\n",
    "\n",
    "\n",
    "\n",
    "                       "
   ]
  },
  {
   "cell_type": "code",
   "execution_count": 90,
   "metadata": {},
   "outputs": [
    {
     "name": "stdout",
     "output_type": "stream",
     "text": [
      "Le mot est', GIRAFE!\n"
     ]
    }
   ],
   "source": [
    "#Exercice 6 \n",
    "#Au Scrabble, chaque lettre possède une valeur et le score d'un mot est la somme des valeurs des lettres qui le  compose. \n",
    "\n",
    "\n",
    "\n",
    "def compter(mot):\n",
    "    print(f\"Le mot est', {mot}!\")\n",
    "\n",
    "compter(\"GIRAFE\")\n"
   ]
  }
 ],
 "metadata": {
  "kernelspec": {
   "display_name": "Python 3",
   "language": "python",
   "name": "python3"
  },
  "language_info": {
   "codemirror_mode": {
    "name": "ipython",
    "version": 3
   },
   "file_extension": ".py",
   "mimetype": "text/x-python",
   "name": "python",
   "nbconvert_exporter": "python",
   "pygments_lexer": "ipython3",
   "version": "3.12.0"
  }
 },
 "nbformat": 4,
 "nbformat_minor": 2
}
