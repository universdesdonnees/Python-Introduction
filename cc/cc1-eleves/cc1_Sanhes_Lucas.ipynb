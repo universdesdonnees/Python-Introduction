{
 "cells": [
  {
   "cell_type": "markdown",
   "metadata": {},
   "source": [
    "SANHES LUCAS CC1 - 23/01/2024"
   ]
  },
  {
   "cell_type": "markdown",
   "metadata": {},
   "source": [
    "Exercice 1:"
   ]
  },
  {
   "cell_type": "code",
   "execution_count": 5,
   "metadata": {},
   "outputs": [
    {
     "name": "stdout",
     "output_type": "stream",
     "text": [
      "3.5 5 0.7 7\n",
      "Red\n"
     ]
    }
   ],
   "source": [
    "x,y=3.5,5\n",
    "z=x/y\n",
    "p=7\n",
    "if x>3 and z*10!=p:\n",
    "    print(\"Blue\")\n",
    "elif p>y or x>4:\n",
    "    print(x,y,z,p)\n",
    "    print(\"Red\")\n",
    "else :\n",
    "    print(\"Black\")"
   ]
  },
  {
   "cell_type": "code",
   "execution_count": 6,
   "metadata": {},
   "outputs": [
    {
     "name": "stdout",
     "output_type": "stream",
     "text": [
      "2.1 3.2 4.3 1.1 1.2 1.3\n",
      "Blue\n"
     ]
    }
   ],
   "source": [
    "i,j,k=1,2,3\n",
    "x,y,z=1.1,1.2,1.3\n",
    "i=i+x\n",
    "j=j+y\n",
    "k=k+z\n",
    "print(i,j,k,x,y,z)\n",
    "if i+j>k and j-i==x:\n",
    "    print(\"Blue\")\n",
    "else:\n",
    "    print(\"Red\")"
   ]
  },
  {
   "cell_type": "code",
   "execution_count": 8,
   "metadata": {},
   "outputs": [
    {
     "name": "stdout",
     "output_type": "stream",
     "text": [
      "7\n",
      "3.4 5.3 4\n"
     ]
    }
   ],
   "source": [
    "def f1(x,y):\n",
    "    if x<y:\n",
    "        return 3\n",
    "    else:\n",
    "        return 4\n",
    "def f2(n):\n",
    "    return 2*n-1\n",
    "\n",
    "x=3.4\n",
    "y=5.3\n",
    "print(f2(f1(y,x)))\n",
    "print(x,y,f1(y,x))"
   ]
  },
  {
   "cell_type": "markdown",
   "metadata": {},
   "source": [
    "Exercice 2:"
   ]
  },
  {
   "cell_type": "code",
   "execution_count": 23,
   "metadata": {},
   "outputs": [
    {
     "name": "stdout",
     "output_type": "stream",
     "text": [
      "Saisir un nombre entier:200\n",
      "[2, 4, 5, 8, 10, 20, 25, 40, 50, 100]\n"
     ]
    }
   ],
   "source": [
    "def diviseur():\n",
    "    n=int(input(\"Saisir un nombre entier:\"))\n",
    "    D=[]\n",
    "    for i in range(2,100+1):\n",
    "        if n%i==0:\n",
    "            D.append(i)\n",
    "    print(D)\n",
    "diviseur()"
   ]
  },
  {
   "cell_type": "markdown",
   "metadata": {},
   "source": [
    "Exercice 3:"
   ]
  },
  {
   "cell_type": "markdown",
   "metadata": {},
   "source": [
    "[-50,50] 50 inclus"
   ]
  },
  {
   "cell_type": "code",
   "execution_count": 34,
   "metadata": {},
   "outputs": [
    {
     "name": "stdout",
     "output_type": "stream",
     "text": [
      "P(0)= 84\n",
      "Valeur min [-50,50]= -158883\n"
     ]
    }
   ],
   "source": [
    "def polynome(x):\n",
    "    return x*3-10*x**2-2610*x + 84\n",
    "print(\"P(0)=\",polynome(0))\n",
    "\n",
    "minimum=-50*3-10*-50**2-2610*x+84\n",
    "for i in [-50,50+1]:\n",
    "    if polynome(i)<minimum:\n",
    "        minimum=polynome(i)\n",
    "print(\"Valeur min [-50,50]=\",minimum)\n"
   ]
  },
  {
   "cell_type": "markdown",
   "metadata": {},
   "source": [
    "Exercice 4:"
   ]
  },
  {
   "cell_type": "code",
   "execution_count": 46,
   "metadata": {},
   "outputs": [
    {
     "name": "stdout",
     "output_type": "stream",
     "text": [
      "EMMA\n"
     ]
    }
   ],
   "source": [
    "personnes={\"TOM\":1,\n",
    "         \"EMMA\":2,\n",
    "         \"BOB\":1,\n",
    "         \"PHIL\":4,\n",
    "         \"ERIC\":4,\n",
    "         \"JHON\":3,\n",
    "         \"LAURA\":3,\n",
    "         \"LOLA\":3}\n",
    "def anniversaire(dictionnaire,mois):\n",
    "    for i in dictionnaire:\n",
    "        if dictionnaire.get(i)==mois:\n",
    "            print(i)\n",
    "anniversaire(personnes,2)"
   ]
  },
  {
   "cell_type": "markdown",
   "metadata": {},
   "source": [
    "Exercice 5:"
   ]
  },
  {
   "cell_type": "markdown",
   "metadata": {},
   "source": [
    "Je n'ai pas eu le eu le temps de prendre en compte les bords"
   ]
  },
  {
   "cell_type": "code",
   "execution_count": 145,
   "metadata": {},
   "outputs": [],
   "source": [
    "from random import randrange\n",
    "def champsMines(n):\n",
    "    return [0 for x in range(n)]*n\n",
    "def placerMines(liste,nbmines):\n",
    "    for i in range(nbmines):\n",
    "        random=randrange(80)\n",
    "        liste[random]=1\n",
    "\n",
    "def afficher(liste,n):\n",
    "    defilement=0\n",
    "    for i in range(n):\n",
    "        for j in range(n):\n",
    "            print(liste[defilement],end=\" \")\n",
    "            defilement+=1\n",
    "        print()\n",
    "n=9\n",
    "nbmines=20\n",
    "Grille=champsMines(n)\n",
    "placerMines(Grille,nbmines)"
   ]
  },
  {
   "cell_type": "code",
   "execution_count": 146,
   "metadata": {},
   "outputs": [
    {
     "name": "stdout",
     "output_type": "stream",
     "text": [
      "0 0 0 0 0 1 0 0 0 \n",
      "0 0 0 0 0 0 0 0 0 \n",
      "0 1 1 0 0 0 0 0 0 \n",
      "0 0 1 0 1 0 0 0 0 \n",
      "0 0 0 0 0 1 0 0 0 \n",
      "1 0 0 0 0 1 0 0 0 \n",
      "0 0 0 0 1 0 0 0 1 \n",
      "0 1 1 0 1 0 0 0 0 \n",
      "1 0 0 1 0 1 1 0 0 \n"
     ]
    }
   ],
   "source": [
    "afficher(Grille,n)"
   ]
  },
  {
   "cell_type": "code",
   "execution_count": 147,
   "metadata": {},
   "outputs": [
    {
     "name": "stdout",
     "output_type": "stream",
     "text": [
      "Saisir un numero entier de case entre 0 et 80:67\n",
      "Mine en haut\n",
      "Mine en bas à gauche\n",
      "Mine en bas à droite\n"
     ]
    }
   ],
   "source": [
    "def testMines(liste):\n",
    "    saisie = int(input(\"Saisir un numero entier de case entre 0 et 80:\"))\n",
    "    if liste[saisie-10]==1:\n",
    "        print(\"Mine en haut à gauche\")\n",
    "    if liste[saisie-9]==1:\n",
    "        print(\"Mine en haut\")\n",
    "    if liste[saisie-8]==1:\n",
    "        print(\"Mine en haut à droite\")\n",
    "    if liste[saisie-1]==1:\n",
    "        print(\"Mine à gauche\")\n",
    "    if liste[saisie+1]==1:\n",
    "        print(\"Mine à droite\")\n",
    "    if liste[saisie+8]==1:\n",
    "        print(\"Mine en bas à gauche\")\n",
    "    if liste[saisie+9]==1:\n",
    "        print(\"Mine en bas\")\n",
    "    if liste[saisie+10]==1:\n",
    "        print(\"Mine en bas à droite\")\n",
    "testMines(Grille)"
   ]
  },
  {
   "cell_type": "markdown",
   "metadata": {},
   "source": [
    "Exercice 6"
   ]
  },
  {
   "cell_type": "code",
   "execution_count": 82,
   "metadata": {},
   "outputs": [
    {
     "name": "stdout",
     "output_type": "stream",
     "text": [
      "KAYAK == 32\n",
      "INFORMATIQUE == 23\n"
     ]
    }
   ],
   "source": [
    "def score_scrabble(mot):\n",
    "    score=0\n",
    "    VALEURS = {'A' : 1, 'B' : 3, 'C' : 3, 'D' : 2, 'E' : 1, 'F' : 4, 'G' : 2, 'H' : 4,\n",
    "               'I' : 1, 'J' : 8, 'K' : 10, 'L' : 1, 'M' : 2, 'N' : 1, 'O' : 1, 'P' : 3,\n",
    "               'Q' : 8, 'R' : 1, 'S' : 1, 'T' : 1, 'U' : 1, 'V' : 4, 'W' : 10, 'X' : 10,\n",
    "               'Y' : 10, 'Z' : 10}\n",
    "    if mot==\"\":\n",
    "        return print(mot,\"==\",score)\n",
    "    else:\n",
    "        for i in mot:\n",
    "            score+=VALEURS.get(i)\n",
    "        return print(mot,\"==\",score)\n",
    "score_scrabble(\"KAYAK\")\n",
    "score_scrabble(\"INFORMATIQUE\")"
   ]
  },
  {
   "cell_type": "code",
   "execution_count": null,
   "metadata": {},
   "outputs": [],
   "source": []
  }
 ],
 "metadata": {
  "kernelspec": {
   "display_name": "Python 3",
   "language": "python",
   "name": "python3"
  },
  "language_info": {
   "codemirror_mode": {
    "name": "ipython",
    "version": 3
   },
   "file_extension": ".py",
   "mimetype": "text/x-python",
   "name": "python",
   "nbconvert_exporter": "python",
   "pygments_lexer": "ipython3",
   "version": "3.7.4"
  }
 },
 "nbformat": 4,
 "nbformat_minor": 2
}
