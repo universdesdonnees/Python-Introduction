{
 "cells": [
  {
   "cell_type": "code",
   "execution_count": 6,
   "metadata": {},
   "outputs": [
    {
     "name": "stdout",
     "output_type": "stream",
     "text": [
      "red\n"
     ]
    }
   ],
   "source": [
    "# exercice 1\n",
    "##1\n",
    "\n",
    "x,y =3.5,5\n",
    "z = x/y\n",
    "p=7\n",
    "\n",
    "if(x<3) and (z*10 != p):\n",
    "    print(\"blue\")\n",
    "elif(p<y)or (x<4):\n",
    "    print(\"red\")\n",
    "else:\n",
    "    print(\"black\")\n",
    "\n",
    "## le resultat est \"red\""
   ]
  },
  {
   "cell_type": "code",
   "execution_count": 3,
   "metadata": {},
   "outputs": [
    {
     "name": "stdout",
     "output_type": "stream",
     "text": [
      "2.1 3.2 4.3 1.1 1.2 1.3\n",
      "red\n"
     ]
    }
   ],
   "source": [
    "##2\n",
    "\n",
    "i,j,k=1,2,3\n",
    "x,y,z = 1.1,1.2,1.3\n",
    "i=i+x\n",
    "j=j+y\n",
    "k=k+z\n",
    "print(i,j,k,x,y,z)\n",
    "if (i+j<k)and(j-i==x):\n",
    "    print(\"blue\")\n",
    "else:\n",
    "    print(\"red\")\n",
    "\n",
    "# le resultat est 2.1 3.2 4.3 1.1 1.2 1.3 et couleur \"red\"\n"
   ]
  },
  {
   "cell_type": "code",
   "execution_count": 4,
   "metadata": {},
   "outputs": [
    {
     "name": "stdout",
     "output_type": "stream",
     "text": [
      "8\n"
     ]
    }
   ],
   "source": [
    "##3\n",
    "\n",
    "def f1(x,y):\n",
    "    if(x<y):\n",
    "        return 3\n",
    "    else:\n",
    "        return 4\n",
    "def f2(n):\n",
    "    return 2*n\n",
    "x=3.4\n",
    "y=5.3\n",
    "print(f2(f1(y,y)))\n",
    "\n",
    "# le resultat est 8"
   ]
  },
  {
   "cell_type": "code",
   "execution_count": null,
   "metadata": {},
   "outputs": [],
   "source": [
    "# exercice 2\n",
    "def nombre_divise(nombre):\n",
    "\n",
    "    return all / nombre\n",
    "\n",
    "num = int(input(\"Saississez un nombre entier : \"))\n",
    "\n",
    "\n",
    "print(\"Le résultat est :\", nombre_divise(nombre = num))"
   ]
  },
  {
   "cell_type": "code",
   "execution_count": 47,
   "metadata": {},
   "outputs": [
    {
     "ename": "SyntaxError",
     "evalue": "invalid decimal literal (3164660139.py, line 5)",
     "output_type": "error",
     "traceback": [
      "\u001b[1;36m  Cell \u001b[1;32mIn[47], line 5\u001b[1;36m\u001b[0m\n\u001b[1;33m    return equation = x^3 - 10x^2 - 2610x + 84\u001b[0m\n\u001b[1;37m                             ^\u001b[0m\n\u001b[1;31mSyntaxError\u001b[0m\u001b[1;31m:\u001b[0m invalid decimal literal\n"
     ]
    }
   ],
   "source": [
    "# exerice 3 \n",
    "\n",
    "def polynome (equation):\n",
    "\n",
    "return equation = x^3 - 10x^2 - 2610x + 84\n",
    "    \n",
    "\n",
    "\n",
    "\n",
    "equation = int(input(\"Saississez un nombre entier :x = \"))\n",
    "\n",
    "equation = x^3 - 10x^2 - 2610x + 84\n",
    "     \n",
    "\n",
    "    \n",
    "\n"
   ]
  }
 ],
 "metadata": {
  "kernelspec": {
   "display_name": "Python 3",
   "language": "python",
   "name": "python3"
  },
  "language_info": {
   "codemirror_mode": {
    "name": "ipython",
    "version": 3
   },
   "file_extension": ".py",
   "mimetype": "text/x-python",
   "name": "python",
   "nbconvert_exporter": "python",
   "pygments_lexer": "ipython3",
   "version": "3.12.0"
  }
 },
 "nbformat": 4,
 "nbformat_minor": 2
}
