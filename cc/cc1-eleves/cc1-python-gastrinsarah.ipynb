{
 "cells": [
  {
   "cell_type": "markdown",
   "metadata": {},
   "source": [
    "CC1 Python "
   ]
  },
  {
   "cell_type": "markdown",
   "metadata": {},
   "source": [
    "Exercice 1"
   ]
  },
  {
   "cell_type": "markdown",
   "metadata": {},
   "source": [
    "A la fin du code 1 on a:\n",
    "x=3.5\n",
    "y=5\n",
    "p=7\n",
    "z=0.7\n",
    "\n",
    "Il s'affiche \"Red\""
   ]
  },
  {
   "cell_type": "markdown",
   "metadata": {},
   "source": [
    "A la fin du code 2 on a:\n",
    "x=1.1\n",
    "y=1.2\n",
    "z=1.3\n",
    "j=3.2\n",
    "k=4.3\n",
    "i=2.1\n",
    "\n",
    "Il s'affiche Blue ainsi que les valeurs d'avant"
   ]
  },
  {
   "cell_type": "markdown",
   "metadata": {},
   "source": [
    "A la fin du code 3 on a:\n",
    "x=1.1\n",
    "y=1.2\n",
    "z=1.3\n",
    "j=3.2\n",
    "k=4.3\n",
    "i=2.1\n",
    "\n",
    "Il s'affiche Blue ainsi que les valeurs d'avant"
   ]
  },
  {
   "cell_type": "markdown",
   "metadata": {},
   "source": [
    "Exercice 2"
   ]
  },
  {
   "cell_type": "code",
   "execution_count": 3,
   "metadata": {},
   "outputs": [
    {
     "data": {
      "text/plain": [
       "[]"
      ]
     },
     "execution_count": 3,
     "metadata": {},
     "output_type": "execute_result"
    }
   ],
   "source": [
    "def diviseur(n) : \n",
    "\n",
    "    for i in range(100):\n",
    "        if i!=0 and i!=1:\n",
    "            if i%n==0:\n",
    "                    liste1.append(i)\n",
    "\n",
    "    print(liste1)\n",
    "\n",
    "val=input(\"Saisissez votre valeur:\")\n",
    "liste1=[]\n",
    "diviseur(int(val))\n",
    "    \n"
   ]
  },
  {
   "cell_type": "markdown",
   "metadata": {},
   "source": [
    "Exercice 3"
   ]
  },
  {
   "cell_type": "code",
   "execution_count": 4,
   "metadata": {},
   "outputs": [
    {
     "ename": "NameError",
     "evalue": "name 'petite_val' is not defined",
     "output_type": "error",
     "traceback": [
      "\u001b[1;31m---------------------------------------------------------------------------\u001b[0m",
      "\u001b[1;31mNameError\u001b[0m                                 Traceback (most recent call last)",
      "Cell \u001b[1;32mIn[4], line 7\u001b[0m\n\u001b[0;32m      4\u001b[0m     y\u001b[38;5;241m=\u001b[39mx\u001b[38;5;241m*\u001b[39m\u001b[38;5;241m*\u001b[39m\u001b[38;5;241m3\u001b[39m \u001b[38;5;241m-\u001b[39m \u001b[38;5;241m10\u001b[39m\u001b[38;5;241m*\u001b[39mx\u001b[38;5;241m*\u001b[39m\u001b[38;5;241m*\u001b[39m\u001b[38;5;241m2\u001b[39m \u001b[38;5;241m-\u001b[39m \u001b[38;5;241m2610\u001b[39m\u001b[38;5;241m*\u001b[39mx \u001b[38;5;241m+\u001b[39m \u001b[38;5;241m84\u001b[39m\n\u001b[0;32m      6\u001b[0m \u001b[38;5;28;01mfor\u001b[39;00m i \u001b[38;5;129;01min\u001b[39;00m [\u001b[38;5;241m-\u001b[39m\u001b[38;5;241m50\u001b[39m,\u001b[38;5;241m50\u001b[39m]:\n\u001b[1;32m----> 7\u001b[0m     \u001b[38;5;28;01mif\u001b[39;00m Pol(i) \u001b[38;5;241m<\u001b[39m \u001b[43mpetite_val\u001b[49m:\n\u001b[0;32m      8\u001b[0m        petite_val\u001b[38;5;241m=\u001b[39mPol(i)\n\u001b[0;32m      9\u001b[0m \u001b[38;5;28mprint\u001b[39m(petite_val)\n",
      "\u001b[1;31mNameError\u001b[0m: name 'petite_val' is not defined"
     ]
    }
   ],
   "source": [
    "y=0\n",
    "def Pol(x):\n",
    "    y:int\n",
    "    y=x**3 - 10*x**2 - 2610*x + 84\n",
    "\n",
    "for i in [-50,50]:\n",
    "    if Pol(i) < petite_val:\n",
    "       petite_val=Pol(i)\n",
    "print(petite_val)\n",
    "\n",
    "\n",
    "\n"
   ]
  },
  {
   "cell_type": "code",
   "execution_count": 68,
   "metadata": {},
   "outputs": [
    {
     "ename": "TypeError",
     "evalue": "'<' not supported between instances of 'NoneType' and 'int'",
     "output_type": "error",
     "traceback": [
      "\u001b[1;31m---------------------------------------------------------------------------\u001b[0m",
      "\u001b[1;31mTypeError\u001b[0m                                 Traceback (most recent call last)",
      "Cell \u001b[1;32mIn[68], line 2\u001b[0m\n\u001b[0;32m      1\u001b[0m \u001b[38;5;28;01mfor\u001b[39;00m i \u001b[38;5;129;01min\u001b[39;00m [\u001b[38;5;241m-\u001b[39m\u001b[38;5;241m50\u001b[39m,\u001b[38;5;241m50\u001b[39m]:\n\u001b[1;32m----> 2\u001b[0m     \u001b[38;5;28;01mif\u001b[39;00m \u001b[43mPol\u001b[49m\u001b[43m(\u001b[49m\u001b[43mi\u001b[49m\u001b[43m)\u001b[49m\u001b[43m \u001b[49m\u001b[38;5;241;43m<\u001b[39;49m\u001b[43m \u001b[49m\u001b[43mpetite_val\u001b[49m:\n\u001b[0;32m      3\u001b[0m        petite_val\u001b[38;5;241m=\u001b[39mPol(i)\n\u001b[0;32m      4\u001b[0m \u001b[38;5;28mprint\u001b[39m(petite_val)\n",
      "\u001b[1;31mTypeError\u001b[0m: '<' not supported between instances of 'NoneType' and 'int'"
     ]
    }
   ],
   "source": []
  },
  {
   "cell_type": "markdown",
   "metadata": {},
   "source": [
    "Exercice 4"
   ]
  },
  {
   "cell_type": "code",
   "execution_count": 6,
   "metadata": {},
   "outputs": [
    {
     "name": "stdout",
     "output_type": "stream",
     "text": [
      "['Rosy']\n"
     ]
    }
   ],
   "source": [
    "# Définition d'un dictionnaire\n",
    "personne = {\"Sarah\": 12, \"Rosy\":8, \"Naomi\":5, \"Myria\":12}\n",
    "\n",
    "\"cles = personne.keys()\"\n",
    "\n",
    "\n",
    "x:int\n",
    "\n",
    "liste_prenom=[]\n",
    "def anniversaire(personne,x):\n",
    "    # Parcours des valeurs\n",
    "    for cles in personne:\n",
    "        if personne.get(cles)==x:\n",
    "            liste_prenom.append(cles)\n",
    "\n",
    "\n",
    "anniversaire(personne,8)\n",
    "\n",
    "print(liste_prenom)        \n",
    "\n"
   ]
  },
  {
   "cell_type": "markdown",
   "metadata": {},
   "source": [
    "Exercice 5"
   ]
  },
  {
   "cell_type": "code",
   "execution_count": null,
   "metadata": {},
   "outputs": [
    {
     "ename": "SyntaxError",
     "evalue": "invalid syntax (1981471593.py, line 3)",
     "output_type": "error",
     "traceback": [
      "\u001b[1;36m  Cell \u001b[1;32mIn[43], line 3\u001b[1;36m\u001b[0m\n\u001b[1;33m    mine = np.random.randint(*,0, size=[5,5])\u001b[0m\n\u001b[1;37m                              ^\u001b[0m\n\u001b[1;31mSyntaxError\u001b[0m\u001b[1;31m:\u001b[0m invalid syntax\n"
     ]
    }
   ],
   "source": [
    "import numpy as np \n",
    "#inititialisation du champs de mine \n",
    "\n",
    "\n",
    "mine = np.random.randint(*,0, size=[5,5])\n",
    " print(mine)\n"
   ]
  },
  {
   "cell_type": "markdown",
   "metadata": {},
   "source": [
    "Exercice 6"
   ]
  },
  {
   "cell_type": "code",
   "execution_count": 8,
   "metadata": {},
   "outputs": [
    {
     "name": "stdout",
     "output_type": "stream",
     "text": [
      "Veuillez entrer un mot en majuscule\n",
      "Le score scrabble de votre mot est 10\n"
     ]
    }
   ],
   "source": [
    "valeurs={'A' : 1, 'B' : 3, 'C' : 3, 'D' : 2, 'E' : 1, 'F' : 4, 'G' : 2, 'H' : 4,\n",
    "'I' : 1, 'J' : 8, 'K' : 10, 'L' : 1, 'M' : 2, 'N' : 1, 'O' : 1, 'P' : 3,\n",
    "'Q' : 8, 'R' : 1, 'S' : 1, 'T' : 1, 'U' : 1, 'V' : 4, 'W' : 10, 'X' : 10,\n",
    "'Y' : 10, 'Z' : 10}\n",
    "\n",
    "\n",
    "def score_scrabble(mot):\n",
    "\n",
    "    score=0\n",
    "    if len(mot)>0:\n",
    "        for i in mot: \n",
    "            score= score + int(valeurs.get(i))\n",
    "        \n",
    "    print(f\"Le score scrabble de votre mot est {score}\") \n",
    "\n",
    "score=0\n",
    "print(\"Veuillez entrer un mot en majuscule\")\n",
    "mot1=input()\n",
    "score_scrabble(mot1)\n",
    "\n",
    "    \n",
    "        \n"
   ]
  },
  {
   "cell_type": "code",
   "execution_count": null,
   "metadata": {},
   "outputs": [],
   "source": []
  }
 ],
 "metadata": {
  "kernelspec": {
   "display_name": "Python 3",
   "language": "python",
   "name": "python3"
  },
  "language_info": {
   "codemirror_mode": {
    "name": "ipython",
    "version": 3
   },
   "file_extension": ".py",
   "mimetype": "text/x-python",
   "name": "python",
   "nbconvert_exporter": "python",
   "pygments_lexer": "ipython3",
   "version": "3.11.7"
  }
 },
 "nbformat": 4,
 "nbformat_minor": 2
}
