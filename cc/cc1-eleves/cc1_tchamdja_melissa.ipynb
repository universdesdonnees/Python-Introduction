{
 "cells": [
  {
   "cell_type": "markdown",
   "metadata": {},
   "source": [
    "Exercice 1\n",
    "\n",
    "Je donne les valeurs des variables et indiquer ce qui s'affiche : \n",
    "\n",
    "1...\n",
    "x, y= 3.5 , 5\n",
    "z = x/y \n",
    "p= 1\n",
    "\n",
    "if (x>3) and (z*10 != p):\n",
    "    print(\"Blue\")\n",
    "elif(p>x) and (x>4):\n",
    "    print(\"Red\")\n",
    "else:\n",
    "    print(\"Black\")\n",
    "\n",
    "Si p!= 7, le résultat est \"Blue\"; et si p= 7 , le resultat est \"Black\"\n",
    "\n",
    "2...\n",
    "i, j, k= 1, 2, 3\n",
    "x, y, z=1.1; 1.2, 1.3\n",
    "i=i+x \n",
    "j=j+y\n",
    "k=k+z\n",
    "\n",
    "print(i,j,k,x,y,z)\n",
    "\n",
    "if (i+j>k) and (j-i== x):\n",
    "    print(\"Blue\")\n",
    "else:\n",
    "    print(\"Red\")\n",
    "\n",
    "le résultat indique une erreur\n",
    "\n",
    "\n",
    "3...\n",
    "\n"
   ]
  },
  {
   "cell_type": "code",
   "execution_count": null,
   "metadata": {},
   "outputs": [],
   "source": []
  },
  {
   "cell_type": "code",
   "execution_count": 29,
   "metadata": {},
   "outputs": [
    {
     "name": "stdout",
     "output_type": "stream",
     "text": [
      "[2, 4, 7, 8, 14, 28, 56]\n"
     ]
    }
   ],
   "source": [
    "#Exercice2\n",
    "list=[]\n",
    "n=int(input(\"Entrez un nombre entier naturel :  \"))\n",
    "for i in range(2,100):\n",
    "    if n % i == 0 :\n",
    "        list.append(i)\n",
    "\n",
    "print(list)\n"
   ]
  },
  {
   "cell_type": "code",
   "execution_count": 59,
   "metadata": {},
   "outputs": [
    {
     "name": "stdout",
     "output_type": "stream",
     "text": [
      "-46491\n"
     ]
    }
   ],
   "source": [
    "##Exercice 3\n",
    "\n",
    "x=int(input(\"Entrez un nombre entier naturel: \"))\n",
    "P = (x**3) - 10*(x**2)-2610*x + 84\n",
    "def equation(x):\n",
    "    try:\n",
    "        (x**3) - 10*(x**2)-2610*x + 84\n",
    "    except ValueError as e:\n",
    "        return f\"Erreur de valeur : {e}\"\n",
    "print(P)\n",
    "\n",
    " "
   ]
  },
  {
   "cell_type": "code",
   "execution_count": 57,
   "metadata": {},
   "outputs": [
    {
     "name": "stdout",
     "output_type": "stream",
     "text": [
      "[]\n"
     ]
    }
   ],
   "source": [
    "#Exercice 4\n",
    "list=[]  \n",
    "date={\n",
    "    \"Mélissa\":11,\"Anita\":8,\"Donga\":6, \"Nèmè\":6,\"Lisa\":3,\"Rosé\":2,\"Jisoo\":1,\"Jennie\":1,\"Mark\":9\n",
    "}\n",
    "cles= date.keys\n",
    "\n",
    "def anniversaire(date,mois):\n",
    "    for mois in date.values():\n",
    "        list.append(cles)\n",
    "\n",
    "print(list)"
   ]
  },
  {
   "cell_type": "code",
   "execution_count": null,
   "metadata": {},
   "outputs": [],
   "source": [
    "#Exercice 5\n",
    "\n"
   ]
  },
  {
   "cell_type": "code",
   "execution_count": null,
   "metadata": {},
   "outputs": [],
   "source": [
    "#Exercice 6\n",
    "\n",
    "VALEURS = {\n",
    "'A' : 1, 'B' : 3, 'C' : 3, 'D' : 2, 'E' : 1, 'F' : 4, 'G' : 2, 'H' : 4,\n",
    "'I' : 1, 'J' : 8, 'K' : 10, 'L' : 1, 'M' : 2, 'N' : 1, 'O' : 1, 'P' : 3,\n",
    "'Q' : 8, 'R' : 1, 'S' : 1, 'T' : 1, 'U' : 1, 'V' : 4, 'W' : 10, 'X' : 10,\n",
    "'Y' : 10, 'Z' : 10\n",
    "}\n",
    "\n",
    "def score_scrable(mot):\n",
    "    for keys in VALEURS:\n",
    "        print\n",
    "\n",
    "score_scrable(\"KAYAK\")"
   ]
  }
 ],
 "metadata": {
  "kernelspec": {
   "display_name": "Python 3",
   "language": "python",
   "name": "python3"
  },
  "language_info": {
   "codemirror_mode": {
    "name": "ipython",
    "version": 3
   },
   "file_extension": ".py",
   "mimetype": "text/x-python",
   "name": "python",
   "nbconvert_exporter": "python",
   "pygments_lexer": "ipython3",
   "version": "3.11.0"
  }
 },
 "nbformat": 4,
 "nbformat_minor": 2
}
