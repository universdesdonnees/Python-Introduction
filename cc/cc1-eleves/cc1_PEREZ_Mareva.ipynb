{
 "cells": [
  {
   "cell_type": "markdown",
   "metadata": {},
   "source": [
    "## CC1 - Python\n",
    "###### PEREZ Mareva"
   ]
  },
  {
   "cell_type": "markdown",
   "metadata": {},
   "source": [
    "#### Exercice 1\n",
    "Pour chacun des programmes suivants, donnez les valeurs de chaque variable `à la fin de l’exécution du programme, et indiquez ce qui s’affiche."
   ]
  },
  {
   "cell_type": "code",
   "execution_count": 3,
   "metadata": {},
   "outputs": [
    {
     "name": "stdout",
     "output_type": "stream",
     "text": [
      "Red\n"
     ]
    }
   ],
   "source": [
    "x, y = 3.5,5\n",
    "z = x / y\n",
    "p = 7\n",
    "\n",
    "if (x > 3)and(z*10!=p):\n",
    "    print(\"Blue\")\n",
    "elif (p > y) or (x > 4):\n",
    "    print(\"Red\")\n",
    "else:\n",
    "    print(\"Black\")\n"
   ]
  },
  {
   "cell_type": "code",
   "execution_count": 4,
   "metadata": {},
   "outputs": [
    {
     "name": "stdout",
     "output_type": "stream",
     "text": [
      "2.1 3.2 4.3 1.1 1.2 1.3\n",
      "Blue\n"
     ]
    }
   ],
   "source": [
    "i, j, k = 1, 2, 3\n",
    "x, y, z = 1.1, 1.2, 1.3\n",
    "i = i + x\n",
    "j = j + y\n",
    "k = k + z\n",
    "\n",
    "print(i, j, k, x, y, z)\n",
    "if (i + j>k)and(j-i == x):\n",
    "    print(\"Blue\")\n",
    "else:\n",
    "    print(\"Red\")"
   ]
  },
  {
   "cell_type": "code",
   "execution_count": 5,
   "metadata": {},
   "outputs": [
    {
     "name": "stdout",
     "output_type": "stream",
     "text": [
      "7\n"
     ]
    }
   ],
   "source": [
    "def f1 (x,y):\n",
    "    if (x<y):\n",
    "        return 3\n",
    "    else:\n",
    "        return 4\n",
    "    \n",
    "def f2(n):\n",
    "    return 2 * n-1\n",
    "\n",
    "x = 3.4\n",
    "y = 5.3\n",
    "print (f2(f1(y , x)))"
   ]
  },
  {
   "cell_type": "markdown",
   "metadata": {},
   "source": [
    "#### Exercice 2\n",
    "Écrivez une fonction qui permet de trouver tous les diviseurs d'un nombre \"n\" entre 2 et 100.\n",
    "- Le programme doit demander à l'utilisateur d'entrer un nombre entier naturel \"n\".\n",
    "- Une fois le nombre saisi, le programme renvoie tous les diviseurs de \"n\" dans une liste."
   ]
  },
  {
   "cell_type": "code",
   "execution_count": 52,
   "metadata": {},
   "outputs": [
    {
     "data": {
      "text/plain": [
       "[2,\n",
       " 3,\n",
       " 5,\n",
       " 7,\n",
       " 11,\n",
       " 13,\n",
       " 17,\n",
       " 19,\n",
       " 23,\n",
       " 29,\n",
       " 31,\n",
       " 37,\n",
       " 41,\n",
       " 43,\n",
       " 47,\n",
       " 53,\n",
       " 59,\n",
       " 61,\n",
       " 67,\n",
       " 71,\n",
       " 73,\n",
       " 79,\n",
       " 83,\n",
       " 89,\n",
       " 97]"
      ]
     },
     "execution_count": 52,
     "metadata": {},
     "output_type": "execute_result"
    }
   ],
   "source": [
    "n = int(input(\"Entrez un entier naturel \"))\n",
    "\n",
    "\n",
    "resultat = [x for x in nombres if all(x % i != 0 for i in range(2, int(x/2) + 1))]\n",
    "resultat\n",
    "\n"
   ]
  },
  {
   "cell_type": "markdown",
   "metadata": {},
   "source": [
    "#### Exercice 3\n",
    "Soit le polynôme P défini par P = x3 – 10x2 – 2610x + 84\n",
    "- Ecrivez une fonction qui, étant donné un entier naturel x, retourne la valeur de ce polynôme pour x.\n",
    "- Ecrivez un programme qui affiche la plus petite valeur prise par ce polynôme pour les entiers appartenant à l’intervalle [−50, 50]."
   ]
  },
  {
   "cell_type": "code",
   "execution_count": 30,
   "metadata": {},
   "outputs": [
    {
     "name": "stdout",
     "output_type": "stream",
     "text": [
      "-10364\n"
     ]
    }
   ],
   "source": [
    "p = x * 3 - 10 * 2 - 2610 * x + 84\n",
    "x = int(input(\"Donnez une valeur a x \"))\n",
    "\n",
    "def f3(x):\n",
    "    return p(x)\n",
    "print(p)\n",
    "\n"
   ]
  },
  {
   "cell_type": "markdown",
   "metadata": {},
   "source": [
    "#### Exercice 4\n",
    "Créez une structure de données dans lequel :\n",
    "- les clés sont les prénoms de différentes personnes. (Il n'y a aucun prénom en double)\n",
    "- les valeurs sont les mois de naissance de ces personnes stockées sous forme de nombres entiers (1 pour\n",
    "janvier, ... 12 pour décembre)\n",
    "Vous devez écrire une fonction anniversaire prenant en arguments le dictionnaire créer ci-dessus ainsi qu'un numéro d'un mois et renvoyant une liste contenant les prénoms des personnes nées durant ce mois.\n"
   ]
  },
  {
   "cell_type": "code",
   "execution_count": 33,
   "metadata": {},
   "outputs": [
    {
     "name": "stdout",
     "output_type": "stream",
     "text": [
      "Valeurs: dict_values(['Alice'])\n",
      "Clés: dict_keys(['Prenoms'])\n"
     ]
    }
   ],
   "source": [
    "personne = {\"Prenoms\": \"Alice\"}\n",
    "valeurs = {'janvier' : 1, 'fevrier' : 2, 'mars' : 3, 'avril' : 4, 'mai' : 5, 'juin' : 6, 'juillet' : 7, 'aout' : 8, 'septembre' : 9, 'octobre' : 10, 'novembre' : 11, 'decembre' : 12}\n",
    "\n",
    "\n",
    "\n",
    "valeurs = personne.values()\n",
    "print(\"Valeurs:\", valeurs)\n",
    "\n",
    "cles = personne.keys()\n",
    "print(\"Clés:\", cles)"
   ]
  },
  {
   "cell_type": "markdown",
   "metadata": {},
   "source": [
    "#### Exercice 5\n",
    "Développer une version simplifiée du jeu de démineur en utilisant Python. \n",
    "- Étape 1: Initialisation du Champ de Mines\n",
    "Créer une grille 2D pour représenter le champ de mines. Chaque cellule peut être une mine (*) ou non (0). Utilisez une taille de grille prédéfinie (par exemple, 10x10) et un nombre fixe de mines. Placez les mines de manière aléatoire.\n",
    "- Étape 2: Calcul des Mines Adjacentes\n",
    "Écrire une fonction qui, pour chaque cellule, calcule le nombre de mines dans les cellules adjacentes (les cellules autour d’une case) et leur position. Faites attention aux bords de la grille pour éviter les erreurs d'indexation."
   ]
  },
  {
   "cell_type": "code",
   "execution_count": 68,
   "metadata": {},
   "outputs": [
    {
     "ename": "NameError",
     "evalue": "name 'Ò' is not defined",
     "output_type": "error",
     "traceback": [
      "\u001b[0;31m---------------------------------------------------------------------------\u001b[0m",
      "\u001b[0;31mNameError\u001b[0m                                 Traceback (most recent call last)",
      "\u001b[1;32m/Users/marevaperez/Desktop/cc1_PEREZ_Mareva.ipynb Cellule 13\u001b[0m line \u001b[0;36m4\n\u001b[1;32m      <a href='vscode-notebook-cell:/Users/marevaperez/Desktop/cc1_PEREZ_Mareva.ipynb#X32sZmlsZQ%3D%3D?line=0'>1</a>\u001b[0m \u001b[39mimport\u001b[39;00m \u001b[39mnumpy\u001b[39;00m \u001b[39mas\u001b[39;00m \u001b[39mnp\u001b[39;00m\n\u001b[1;32m      <a href='vscode-notebook-cell:/Users/marevaperez/Desktop/cc1_PEREZ_Mareva.ipynb#X32sZmlsZQ%3D%3D?line=1'>2</a>\u001b[0m \u001b[39mimport\u001b[39;00m \u001b[39mrandom\u001b[39;00m\n\u001b[0;32m----> <a href='vscode-notebook-cell:/Users/marevaperez/Desktop/cc1_PEREZ_Mareva.ipynb#X32sZmlsZQ%3D%3D?line=3'>4</a>\u001b[0m Ò\n",
      "\u001b[0;31mNameError\u001b[0m: name 'Ò' is not defined"
     ]
    }
   ],
   "source": [
    "import numpy as np\n",
    "import random\n",
    "\n",
    "Ò"
   ]
  },
  {
   "cell_type": "markdown",
   "metadata": {},
   "source": [
    "\n",
    "#### Exercice 6\n",
    "Au Scrabble, chaque lettre possède une valeur et le score d'un mot est la somme des valeurs des lettres qui le compose.\n",
    "VALEURS = {\n",
    "'A' : 1, 'B' : 3, 'C' : 3, 'D' : 2, 'E' : 1, 'F' : 4, 'G' : 2, 'H' : 4,\n",
    "'I' : 1, 'J' : 8, 'K' : 10, 'L' : 1, 'M' : 2, 'N' : 1, 'O' : 1, 'P' : 3, 'Q' : 8, 'R' : 1, 'S' : 1, 'T' : 1, 'U' : 1, 'V' : 4, 'W' : 10, 'X' : 10, 'Y' : 10, 'Z' : 10\n",
    "}\n",
    "\n",
    "Par exemple, la valeur du mot : GIRAFE est : 2+1+1+1+4+1=10.\n",
    "- Écrire une fonction score_scrabble qui prend en paramètre une chaine de caractères mot et renvoie sa valeur au Scrabble. Le mot ne doit comporter que les lettres de l'alphabet en majuscules et il peut être vide. La valeur des lettres de l'alphabet est donnée sous la forme d'un dictionnaire.\n",
    "Voici des exemples à tester :\n",
    "assert score_scrabble(\"KAYAK\") == 32\n",
    "assert score_scrabble(\"INFORMATIQUE\") == 23"
   ]
  },
  {
   "cell_type": "code",
   "execution_count": 47,
   "metadata": {},
   "outputs": [],
   "source": [
    "VALEURS = {\n",
    "'A' : 1, 'B' : 3, 'C' : 3, 'D' : 2, 'E' : 1, 'F' : 4, 'G' : 2, 'H' : 4,\n",
    "'I' : 1, 'J' : 8, 'K' : 10, 'L' : 1, 'M' : 2, 'N' : 1, 'O' : 1, 'P' : 3, 'Q' : 8, 'R' : 1, 'S' : 1, 'T' : 1, 'U' : 1, 'V' : 4, 'W' : 10, 'X' : 10, 'Y' : 10, 'Z' : 10\n",
    "}\n",
    "\n"
   ]
  },
  {
   "cell_type": "code",
   "execution_count": null,
   "metadata": {},
   "outputs": [],
   "source": [
    "score_scrabble = \n",
    "mot = \n",
    "is_upper = mot.isupper()\n",
    "print(is_upper)\n",
    "\n"
   ]
  }
 ],
 "metadata": {
  "kernelspec": {
   "display_name": "Python 3",
   "language": "python",
   "name": "python3"
  },
  "language_info": {
   "codemirror_mode": {
    "name": "ipython",
    "version": 3
   },
   "file_extension": ".py",
   "mimetype": "text/x-python",
   "name": "python",
   "nbconvert_exporter": "python",
   "pygments_lexer": "ipython3",
   "version": "3.12.0"
  }
 },
 "nbformat": 4,
 "nbformat_minor": 2
}
