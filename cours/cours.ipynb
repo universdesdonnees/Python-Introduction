{
 "cells": [
  {
   "cell_type": "markdown",
   "metadata": {},
   "source": [
    "<style>\n",
    "#introduction {\n",
    "  background-color: #f5f5f5;\n",
    "  padding: 20px;\n",
    "  border-radius: 10px;\n",
    "}\n",
    "\n",
    "#introduction h1 {\n",
    "  font-size: 24px;\n",
    "  margin-top: 0;\n",
    "}\n",
    "\n",
    "#introduction p {\n",
    "  font-size: 16px;\n",
    "  margin-bottom: 10px;\n",
    "}\n",
    "\n",
    "#introduction img {\n",
    "  float: left;\n",
    "  margin-right: 20px;\n",
    "  border-radius: 50%;\n",
    "}\n",
    "\n",
    "#contact {\n",
    "  margin-top: 20px;\n",
    "  padding: 10px;\n",
    "  border-radius: 10px;\n",
    "  background-color: #fafafa;\n",
    "}\n",
    "\n",
    "#contact h2 {\n",
    "  font-size: 18px;\n",
    "  margin-top: 0;\n",
    "}\n",
    "\n",
    "#contact ul {\n",
    "  list-style: none;\n",
    "  padding: 0;\n",
    "}\n",
    "\n",
    "#contact li {\n",
    "  margin-bottom: 10px;\n",
    "}\n",
    "\n",
    "#contact a {\n",
    "  text-decoration: none;\n",
    "  color: #333;\n",
    "}\n",
    "\n",
    "#contact i {\n",
    "  margin-right: 10px;\n",
    "}\n",
    "</style>\n"
   ]
  },
  {
   "cell_type": "markdown",
   "metadata": {},
   "source": [
    "<head>\n",
    "  <!-- our project just needs Font Awesome Solid + Brands -->\n",
    "  <link href=\"C:/Users/Menyssa/Documents/Cours/Python-Introduction/fontawesome/css/fontawesome.css\" rel=\"stylesheet\">\n",
    "  <link href=\"C:/Users/Menyssa/Documents/Cours/Python-Introduction/fontawesome/css/brands.css\" rel=\"stylesheet\">\n",
    "  <link href=\"C:/Users/Menyssa/Documents/Cours/Python-Introduction/fontawesome/css/solid.css\" rel=\"stylesheet\">\n",
    "</head>"
   ]
  },
  {
   "cell_type": "markdown",
   "metadata": {},
   "source": [
    "<div id=\"introduction\">\n",
    "  <h1>Introduction à Python</h1>\n",
    "  <p>Par Ményssa Cherifa-Luron, PhD</p>\n",
    "  <div id=\"contact\">\n",
    "    <h2>Me Contacter</h2>\n",
    "    <ul>\n",
    "      <li><a href=\"mailto:menyssa.cherifa-luron.int@groupe-gema.com\"><i class=\"fa-solid fa-envelope\"></i> Mail</a></li>\n",
    "      <li><a href=\"https://www.linkedin.com/in/menyssacherifa/\"><i class=\"fa-solid fa-linkedin\"></i> LinkedIn</a></li>\n",
    "      <li><a href=\"https://github.com/universdesdonnees\"><i class=\"fa fa-github\"></i> GitHub</a></li>\n",
    "      <li><a href=\"https://www.amazon.fr/s?i=digital-text&rh=p_27%3AMenyssa+Cherifa-Luron&s=relevancerank&text=Menyssa+Cherifa-Luron&ref=dp_byline_sr_ebooks_1\"><i class=\"fa fa-book\"></i> Livres</a></li>\n",
    "    </ul>\n",
    "  </div>\n",
    "</div>\n"
   ]
  },
  {
   "cell_type": "markdown",
   "metadata": {},
   "source": [
    "<a id=\"0\"></a>\n",
    "# Introduction à Python\n",
    "Par Ményssa Cherifa-Luron, PhD\n",
    "\n",
    "## Me Contacter \n",
    "- Mail : menyssa.cherifa-luron.int@groupe-gema.com\n",
    "- LinkedIn : https://www.linkedin.com/in/menyssacherifa/\n",
    "- GitHub : https://github.com/universdesdonnees\n",
    "- Livres : https://www.amazon.fr/s?i=digital-text&rh=p_27%3AMenyssa+Cherifa-Luron&s=relevancerank&text=Menyssa+Cherifa-Luron&ref=dp_byline_sr_ebooks_1"
   ]
  },
  {
   "cell_type": "markdown",
   "metadata": {},
   "source": [
    "<a id=\"top\"></a>\n",
    "<div class=\"list-group\" id=\"list-tab\" role=\"tablist\">\n",
    "    <h3 style=\"text-align: left; background-color: #128EB3; font-family:Times New Roman; color: white; padding: 14px; line-height: 1; border-radius:10px\"><b>Table des matières📝</b></h3>\n",
    "\n",
    "- 1. [C’est quoi Python ?](#1-cest-quoi-python)\n",
    "- 2. [Les Fondamentaux de Python](#2-les-fondamentaux-de-python)\n",
    "    - 2.1. [Variables (types natifs) et opérations](#21-variables-types-natifs)\n",
    "    - 2.2. [Commentaires et affichage](#22-commentaires-et-affichage)\n",
    "    - 2.3. [Structures de contrôle : opérateurs, conditions, boucles](#23-structures-de-controle)\n",
    "        - Projet 1 : Juste prix\n",
    "        - Projet 2 : Casino        \n",
    "    - 2.4. [Types de Données (structures séquentielles : chaines de caractères, listes, ensembles, tuples, dictionnaires)](#24-types-de-donnees) \n",
    "        - Exercices 1\n",
    "        - Projet 3 : Pendu\n",
    "    - 2.5. [Fonctions : définition et appel](#25-fonctions-definition-et-appel)\n",
    "         - Exercices 2    \n",
    "- 3. [Gestion des exceptions](#3-gestion-des-exceptions)\n",
    "    - 3.1 [Définition](#31-definition)\n",
    "    - 3.2 [Traitement des exceptions](#32-traitement-des-exceptions)\n",
    "      - 3.2.1 Try/ Except\n",
    "      - 3.2.2 Finally\n",
    "      - 3.2.3 Else\n",
    "    - 3.3 [Assertions](#33-assertions)\n",
    "    - 3.4 [Raise](#34-raise)\n",
    "    - Exercices 3\n",
    "- 4. [Lecture et écriture de fichiers](#4-lecture-et-ecriture-de-fichiers)\n",
    "    - 4.1 Gestion simple des fichiers \n",
    "    - 4.2 Travailler avec différents formats de fichier\n",
    "    - Exercices 4\n",
    "        - Projet 4 : Trieur de fichier (https://www.youtube.com/watch?v=EEHZQ9tiWX4&ab_channel=Labinc)\n",
    "- 5. [Modules et Bibliothèques](#5-modules-et-bibliotheques)\n",
    "    - 5.1 Numpy : Exercices 5\n",
    "    - 5.2 Introduction à Pandas : Exercices 6\n",
    "- 6. [Bonnes Pratiques en Programmation](#6-bonnes-pratiques-en-programmation)"
   ]
  },
  {
   "cell_type": "markdown",
   "metadata": {},
   "source": [
    "<a id=\"1-cest-quoi-python\"></a> \n",
    "## 1. C’est quoi Python ?\n",
    "\n",
    "<div> <img src=\"../images/logo_python.png\" alt=\"Drawing\" style=\"width: 400px;\"/></div> \n",
    "\n",
    "\n",
    "Le langage de programmation Python a été créé en 1989 par Guido van Rossum, aux Pays-Bas. \n",
    "\n",
    "Le nom Python vient d’un hommage à la série télévisée **Monty Python’s Flying Circus** dont G. van Rossum est fan. La première version publique de ce\n",
    "langage a été publiée en 1991.\n",
    "\n",
    "Ce langage de programmation présente de nombreuses caractéristiques intéressantes :\n",
    "\n",
    "— Il est multiplateforme. C’est-à-dire qu’il fonctionne sur de nombreux systèmes d’exploitation : Windows, Mac OS X,\n",
    "Linux, Android, iOS, depuis les mini-ordinateurs Raspberry Pi jusqu’aux supercalculateurs.\n",
    "\n",
    "— Il est gratuit. Vous pouvez l’installer sur autant d’ordinateurs que vous voulez (même sur votre téléphone !).\n",
    "\n",
    "— C’est un langage de haut niveau. Il demande relativement peu de connaissance sur le fonctionnement d’un ordinateur\n",
    "pour être utilisé.\n",
    "\n",
    "— C’est un langage interprété. Un script Python n’a pas besoin d’être compilé pour être exécuté, contrairement à des\n",
    "langages comme le C ou le C++.\n",
    "\n",
    "— Il est orienté objet. C’est-à-dire qu’il est possible de concevoir des entités qui miment celles du monde réel\n",
    "(une cellule, une protéine, un atome, etc.) avec un certain nombre de règles de fonctionnement et d’interactions.\n",
    "\n",
    "— Il est relativement simple à prendre en main "
   ]
  },
  {
   "cell_type": "markdown",
   "metadata": {},
   "source": [
    "<a id=\"2-les-fondamentaux-de-python\"></a>\n",
    "## 2. Les Fondamentaux de Python\n",
    "- Variables (types natifs) et opérations.\n",
    "- Commentaires et affichage\n",
    "- Structures de contrôle : opérateurs, conditions, boucles\n",
    "- Types de Données (structures séquentielles)\n",
    "- Fonctions : définition et appel."
   ]
  },
  {
   "cell_type": "markdown",
   "metadata": {},
   "source": [
    "<a id=\"21-variables-types-natifs\"></a>\n",
    "### 2.1. Variables (types natifs)\n",
    "\n",
    "**Variables** : Les variables sont des conteneurs permettant de stocker des valeurs de données, telles que des nombres ou des chaînes de caractères.\n",
    "\n",
    "Par exemple, `x = 10` crée une variable nommée x avec la valeur 10. Python est un langage à typage dynamique, ce qui signifie que le type de la variable est déterminé au moment de l'exécution.\n",
    "\n",
    "- Affectation **(=)**.\n",
    "- Python détermine automatiquement le type de données en fonction de la valeur attribuée.\n",
    "- Ecraser les valeurs des variables en les réaffectant.\n",
    "- Sensible à la casse : \"X\" et \"x\" sont deux variables différentes\n",
    "- Imprimer plusieurs variables dans une seule instruction print avec **(,)**\n",
    "- Plusieurs valeurs à plusieurs variables ou plusieurs variables à une seule valeur sur une seule ligne.\n",
    "- Dénomination des variables incluent :\n",
    "    - la casse camel : *testVariableCase*\n",
    "    - la casse Pascal : *TestVariableCase*\n",
    "    - la casse serpent : *test_variable_case*\n",
    "\n",
    "- Evitez de:\n",
    "    - commencer les noms de variables par des chiffres\n",
    "    - utiliser des symboles tels que des tirets ou des espaces\n",
    "    - mélanger des chaînes de caractères et des nombres entiers directement dans la concaténation.\n",
    "\n",
    "**Types natifs** : Les types de données courants en Python incluent :\n",
    "- **Entiers** (`int`) : Nombres sans partie décimale. Exemple : `5`, `-3`.\n",
    "- **Nombres Complexes** (`complex`) : Nombres avec une partie réelle et une partie imaginaire. Exemple : `3 + 4j`.\n",
    "- **Flottants** (`float`) : Nombres avec une partie décimale. Exemple : `3.14`, `-0.001`.\n",
    "- **Chaîne de caractères** (`str`) : Une séquence de caractères, entourée de guillemets simples ou doubles.\n",
    "- **Booléens** (bool) : Représentent deux valeurs : `True` (Vrai) et `False` (Faux).. Le type booléen a seulement deux valeurs : True et False. Ils sont souvent le résultat d'expressions de comparaison ou de conditions logiques.\n"
   ]
  },
  {
   "cell_type": "code",
   "execution_count": null,
   "metadata": {},
   "outputs": [],
   "source": [
    "nom = \"Alice\"  \n",
    "age = 25       \n",
    "taille = 1.70  \n",
    "estVrai = True \n",
    "estFaux = False \n",
    "\n",
    "print(\"la variable nom est de type :\", type(nom))\n",
    "print(\"la variable age est de type :\",type(age))\n",
    "print(\"la variable taille est de type :\",type(taille))\n",
    "print(\"la variable estVrai est de type :\",type(estVrai))\n",
    "print(\"la variable estFaux est de type :\",type(estFaux))"
   ]
  },
  {
   "cell_type": "markdown",
   "metadata": {},
   "source": [
    "Conversion de types\n",
    "\n",
    "La conversion de types, souvent appelée **\"casting\"** en programmation, est un moyen de convertir une valeur d'un type donné en un autre type.\n",
    "\n",
    "En Python, il existe plusieurs fonctions intégrées pour réaliser ces conversions entre les types de base comme les entiers (int), les chaînes de caractères (str), les booléens (bool), et les nombres à virgule flottante (float). \n",
    "\n",
    "Voici des exemples de conversion entre ces types :\n",
    "\n",
    "- Conversion en Entier (`int`) "
   ]
  },
  {
   "cell_type": "code",
   "execution_count": null,
   "metadata": {},
   "outputs": [],
   "source": [
    "# Depuis une chaîne de caractères :\n",
    "chaine = \"123\"\n",
    "nombre = int(chaine)  # Convertit la chaîne \"123\" en entier 123\n",
    "\n",
    "## Depuis un booléen :\n",
    "vrai = True\n",
    "entier = int(vrai)  # Convertit True en 1\n",
    "\n",
    "## Depuis un float :\n",
    "flottant = 9.99\n",
    "entier = int(flottant)  # Convertit 9.99 en 9 (troncature, pas d'arrondi)"
   ]
  },
  {
   "cell_type": "markdown",
   "metadata": {},
   "source": [
    "- Conversion en Chaîne de Caractères (`str`)"
   ]
  },
  {
   "cell_type": "code",
   "execution_count": null,
   "metadata": {},
   "outputs": [],
   "source": [
    "## Depuis un entier ou un float :\n",
    "nombre = 123\n",
    "chaine = str(nombre)  # Convertit l'entier 123 en chaîne \"123\"\n",
    "\n",
    "## Depuis un booléen :\n",
    "faux = False\n",
    "chaine = str(faux)  # Convertit False en \"False\""
   ]
  },
  {
   "cell_type": "markdown",
   "metadata": {},
   "source": [
    "- Conversion en Booléen (`bool`)"
   ]
  },
  {
   "cell_type": "code",
   "execution_count": null,
   "metadata": {},
   "outputs": [],
   "source": [
    "## Depuis une chaîne de caractères** :\n",
    "chaine = \"\"\n",
    "booleen = bool(chaine)  # Convertit une chaîne vide en False\n",
    "chaine2 = \"Python\"\n",
    "booleen2 = bool(chaine2)  # Convertit \"Python\" en True\n",
    "\n",
    "## Depuis un nombre** : \n",
    "nombre = 0\n",
    "booleen = bool(nombre)  # Convertit 0 en False\n",
    "nombre2 = 123\n",
    "booleen2 = bool(nombre2)  # Convertit 123 en True"
   ]
  },
  {
   "cell_type": "markdown",
   "metadata": {},
   "source": [
    "- Conversion en Float (`float`)"
   ]
  },
  {
   "cell_type": "code",
   "execution_count": null,
   "metadata": {},
   "outputs": [],
   "source": [
    "## Depuis une chaîne de caractères** :\n",
    "chaine = \"123.45\"\n",
    "flottant = float(chaine)  # Convertit la chaîne \"123.45\" en float 123.45\n",
    "\n",
    "## Depuis un entier** :\n",
    "entier = 100\n",
    "flottant = float(entier)  # Convertit l'entier 100 en float 100.0\n",
    "\n",
    "## Depuis un booléen** :\n",
    "vrai = True\n",
    "flottant = float(vrai)  # Convertit True en 1.0"
   ]
  },
  {
   "cell_type": "markdown",
   "metadata": {},
   "source": [
    "Affectation de valeurs différentes"
   ]
  },
  {
   "cell_type": "code",
   "execution_count": null,
   "metadata": {},
   "outputs": [],
   "source": [
    "x, y, z = \"Chocolat\", \"Vanille\", \"Fraise\"\n",
    "print(x)\n",
    "print(y)\n",
    "print(z)"
   ]
  },
  {
   "cell_type": "markdown",
   "metadata": {},
   "source": [
    "Affectation de la même valeur"
   ]
  },
  {
   "cell_type": "code",
   "execution_count": null,
   "metadata": {},
   "outputs": [],
   "source": [
    "x = y = z = \"Chocolat\"\n",
    "print(x)\n",
    "print(y)\n",
    "print(z)"
   ]
  },
  {
   "cell_type": "markdown",
   "metadata": {},
   "source": [
    "### Opérations arithmétiques\n",
    "\n",
    "Arithmétique : Addition (+), soustraction (-), multiplication (*), et division (/)."
   ]
  },
  {
   "cell_type": "code",
   "execution_count": null,
   "metadata": {},
   "outputs": [],
   "source": [
    "somme = 10 + 5       # Résultat: 15\n",
    "difference = 10 - 5  # Résultat: 5\n",
    "produit = 10 * 5     # Résultat: 50\n",
    "quotient = 10 / 5    # Résultat: 2.0"
   ]
  },
  {
   "cell_type": "markdown",
   "metadata": {},
   "source": [
    "Modulo (%) retourne le reste de la division \n",
    "Puissance (**) élève un nombre à une certaine puissance.\n"
   ]
  },
  {
   "cell_type": "code",
   "execution_count": null,
   "metadata": {},
   "outputs": [],
   "source": [
    "reste = 10 % 3       # Résultat: 1\n",
    "puissance = 2 ** 3   # Résultat: 8\n",
    "puissance_bis = 2 ^ 3"
   ]
  },
  {
   "cell_type": "markdown",
   "metadata": {},
   "source": [
    "### Opérations sur les chaînes \n",
    "\n",
    "La concaténation (+) combine des chaînes\n",
    "\n",
    "La répétition (*) répète une chaîne un certain nombre de fois.\n",
    "\n"
   ]
  },
  {
   "cell_type": "code",
   "execution_count": null,
   "metadata": {},
   "outputs": [],
   "source": [
    "message = \"Bonjour\" + \" le monde\"  # Résultat: \"Bonjour le monde\"\n",
    "echo = \"Ha\" * 3                    # Résultat: \"HaHaHa\""
   ]
  },
  {
   "cell_type": "markdown",
   "metadata": {},
   "source": [
    "### Opérateurs d'affectation composés\n",
    "\n",
    "Les opérateurs d'affectation composés sont des raccourcis qui **combinent une opération arithmétique ou binaire avec une affectation.**\n",
    "\n",
    "En gros, ils vous permettent d'effectuer une opération sur une variable et de lui réaffecter le résultat en une seule étape.\n",
    "\n",
    "\n"
   ]
  },
  {
   "cell_type": "code",
   "execution_count": null,
   "metadata": {},
   "outputs": [],
   "source": [
    "# Initialisation de x\n",
    "x = 5\n",
    "print(x)"
   ]
  },
  {
   "cell_type": "code",
   "execution_count": null,
   "metadata": {},
   "outputs": [],
   "source": [
    "# Initialisation de x\n",
    "x = 5\n",
    "print(x)\n",
    "\n",
    "# Ajouter et assigner\n",
    "x += 2  # x est maintenant 7\n",
    "print(x)\n",
    "\n",
    "# Soustraire et assigner\n",
    "x -= 3  # x est maintenant 4\n",
    "print(x)\n",
    "\n",
    "# Multiplier et assigner\n",
    "x *= 4  # x est maintenant 16\n",
    "print(x)\n",
    "\n",
    "# Diviser et assigner\n",
    "x /= 2  # x est maintenant 8\n",
    "print(x)\n",
    "\n",
    "# Division entière et assigner\n",
    "x //= 3  # x est maintenant 2\n",
    "print(x)\n",
    "\n",
    "# Modulo et assigner\n",
    "x %= 3  # x est maintenant 2\n",
    "print(x)\n",
    "\n",
    "# Exponentielle et assigner\n",
    "x **= 2  # x est maintenant 4\n",
    "print(x)\n"
   ]
  },
  {
   "cell_type": "markdown",
   "metadata": {},
   "source": [
    "<a id=\"22-commentaires-et-affichage\"></a>\n",
    "### 2.2 Commentaires et affichage\n",
    "\n",
    "Les **commentaires** sont utilisés pour expliquer le code.\n",
    "\n",
    "Ils sont très utiles pour vous-même et pour les autres personnes qui lisent votre code. Les commentaires commencent par un **#** et s'étendent jusqu'à la fin de la ligne.\n",
    "\n",
    "**Les commentaires sont ignorés lors de l'exécution du code.**"
   ]
  },
  {
   "cell_type": "code",
   "execution_count": null,
   "metadata": {},
   "outputs": [],
   "source": [
    "# Ceci est un commentaire simple \n",
    "\n",
    "x = 5  # Ceci est un commentaire suivant une instruction\n",
    "\n",
    "# Vous pouvez utiliser les commentaires pour expliquer\n",
    "# ce que votre code est censé faire :\n",
    "y = x + 2  # Ajout de 2 à x et stockage du résultat dans y\n"
   ]
  },
  {
   "cell_type": "markdown",
   "metadata": {},
   "source": [
    "Pour **l'affichage**, la fonction **print()** est utilisée.\n",
    "\n",
    "Elle permet d'afficher le texte, les nombres, et d'autres objets sur la console."
   ]
  },
  {
   "cell_type": "code",
   "execution_count": null,
   "metadata": {},
   "outputs": [],
   "source": [
    "print(\"Bonjour, monde !\")  # Affiche un message simple\n",
    "\n",
    "nombre = 10\n",
    "print(nombre)  # Affiche la valeur de la variable 'nombre'\n",
    "\n",
    "# Vous pouvez aussi combiner du texte et des variables :\n",
    "print(\"Le nombre est\", nombre)  # Affiche \"Le nombre est 10\""
   ]
  },
  {
   "cell_type": "markdown",
   "metadata": {},
   "source": [
    "Utilisation de f-string"
   ]
  },
  {
   "cell_type": "code",
   "execution_count": null,
   "metadata": {},
   "outputs": [],
   "source": [
    "prenom = 'Marie'\n",
    "age = 15\n",
    "taille = 207\n",
    "\n",
    "# Formatage de chaînes avec f-string pour une lisibilité améliorée :\n",
    "print(f\"Marie a {age}\") \n",
    "print(f\"{prenom}, est partie\")\n"
   ]
  },
  {
   "cell_type": "markdown",
   "metadata": {},
   "source": [
    "\n",
    "f-string avec Plusieurs Variables\n"
   ]
  },
  {
   "cell_type": "code",
   "execution_count": null,
   "metadata": {},
   "outputs": [],
   "source": [
    "print(f\"{prenom} mesure {taille} metres et a {age} ans\")"
   ]
  },
  {
   "cell_type": "markdown",
   "metadata": {},
   "source": [
    "Utilisation de format"
   ]
  },
  {
   "cell_type": "code",
   "execution_count": null,
   "metadata": {},
   "outputs": [],
   "source": [
    "print(\"{} a {} ans \".format(prenom, age))"
   ]
  },
  {
   "cell_type": "markdown",
   "metadata": {},
   "source": [
    "- L'instruction précédente utilise la méthode `.format()` pour insérer les variables dans la chaîne de caractères.\n",
    "- `{}` sont des placeholders (espaces réservés) qui seront remplacés par les arguments de `.format()` dans l'ordre.\n",
    "- `ma_chaine` et `age` seront insérés respectivement dans le premier et le second `{}`.\n",
    "\n",
    " Calcul et arrondi\n",
    "\n",
    "- Le premier `print(prop)` affiche la valeur de `prop` avec tous ses chiffres après la virgule.\n",
    "- Le second `print()` utilise une f-string avec un formatage spécifique `{prop:.2f}`. \n",
    "\n",
    "Cela signifie que la valeur de `prop` sera formatée pour afficher seulement deux chiffres après la virgule.\n"
   ]
  },
  {
   "cell_type": "code",
   "execution_count": null,
   "metadata": {},
   "outputs": [],
   "source": [
    "prop = 2543276 / 678\n",
    "print(prop)"
   ]
  },
  {
   "cell_type": "code",
   "execution_count": null,
   "metadata": {},
   "outputs": [],
   "source": [
    "print(f\"le resultat est {prop:.3f}\")"
   ]
  },
  {
   "cell_type": "markdown",
   "metadata": {},
   "source": [
    "<a id=\"23-structures-de-controle\"></a>\n",
    "### 2.3. Structures de contrôle \n",
    "\n",
    "#### Les opérateurs\n",
    "\n",
    "Les opérateurs Python sont utilisés pour effectuer des opérations sur les variables et les valeurs.\n",
    "\n",
    "**Les opérateurs de comparaison** incluent égal à, différent de, supérieur à, inférieur à, supérieur ou égal à, et inférieur ou égal à.\n",
    "\n",
    "| Opérateur comparaison | Description |\n",
    "| ----------- | ----------- |\n",
    "| Egalité | == |\n",
    "| Différent de |!= |\n",
    "| Supérieur | > |\n",
    "| Inférieur | < |\n",
    "| Supérieur ou égale | >= |\n",
    "| Inférieur ou égale | <= |\n",
    "\n",
    "\n",
    " - Renvoient soit Vrai, soit Faux, en fonction du résultat de la comparaison.\n",
    "\n",
    "**Les opérateurs logiques** et, ou et non sont souvent combinés avec les opérateurs de comparaison.\n",
    "\n",
    "| Opérateur logique| Description | Résultat |\n",
    "| ----------- | ----------- |----------- |\n",
    "| And | and | True si les deux propositions sont vraies|\n",
    "| Or |  or | True si au moins une des propositions est Vraie |\n",
    "| Not | not | inverse de l'instruction |\n",
    "\n",
    "\n",
    "**Les opérateurs d'appartenance** in et not in sont utilisés pour vérifier si une valeur ou une chaîne de caractères se trouve à l'intérieur d'une autre valeur, chaîne de caractères ou séquence.\n",
    "\n",
    "| Opérateur logique| Description | Résultat |\n",
    "| ----------- | ----------- |----------- |\n",
    "| In | in | True si la valeur spécifiée est présente dans l'objet.|\n",
    "| Not in | not in | True si la valeur spécifiée n'est pas présente dans l'objet.|\n",
    "\n"
   ]
  },
  {
   "cell_type": "code",
   "execution_count": null,
   "metadata": {},
   "outputs": [],
   "source": [
    "# Exemples d'opérateurs de comparaison\n",
    "print(\"Opérateurs de comparaison:\")\n",
    "print(5 == 5)  # Égalité, renvoie True\n",
    "print(5 != 2)  # Différent de, renvoie True\n",
    "print(5 > 3)   # Supérieur à, renvoie True\n",
    "print(5 < 8)   # Inférieur à, renvoie True\n",
    "print(5 >= 3)  # Supérieur ou égal à, renvoie True\n",
    "print(5 <= 8)  # Inférieur ou égal à, renvoie True\n"
   ]
  },
  {
   "cell_type": "code",
   "execution_count": null,
   "metadata": {},
   "outputs": [],
   "source": [
    "# opérateurs logiques \n",
    "## and \n",
    "(5 > 3) and (10 < 100)\n"
   ]
  },
  {
   "cell_type": "code",
   "execution_count": null,
   "metadata": {},
   "outputs": [],
   "source": [
    "not ((5 > 3) and (10 > 100))"
   ]
  },
  {
   "cell_type": "code",
   "execution_count": null,
   "metadata": {},
   "outputs": [],
   "source": [
    "## or \n",
    "(5 > 3) or (10 < 100)\n",
    "(5 > 3) or (10 > 100)"
   ]
  },
  {
   "cell_type": "code",
   "execution_count": null,
   "metadata": {},
   "outputs": [],
   "source": [
    "# operateurs d'appartenance\n",
    "# in et not in \n",
    "x = [5, 10, 24] \n",
    "10 in x \n",
    "10 not in x "
   ]
  },
  {
   "cell_type": "markdown",
   "metadata": {},
   "source": [
    "#### Chainer les comparateurs\n",
    "Il est également possible de chainer les comparateurs:"
   ]
  },
  {
   "cell_type": "code",
   "execution_count": null,
   "metadata": {},
   "outputs": [],
   "source": [
    "a, b, c = 1, 10, 100\n",
    "a < b < c"
   ]
  },
  {
   "cell_type": "code",
   "execution_count": null,
   "metadata": {},
   "outputs": [],
   "source": [
    "a > b < c"
   ]
  },
  {
   "cell_type": "markdown",
   "metadata": {},
   "source": [
    "#### Conditions"
   ]
  },
  {
   "cell_type": "code",
   "execution_count": null,
   "metadata": {},
   "outputs": [],
   "source": [
    "# condition\n",
    "x = 40 \n",
    "\n",
    "# Première condition : vérifie si x est inférieur à 10\n",
    "if x < 10:\n",
    "    print(\"x est inférieur à 10\")\n",
    "# Deuxième condition : vérifie si x est supérieur ou égal à 100 \n",
    "elif x >= 100:\n",
    "    print(\"x est supérieur ou égal à 100\")\n",
    "# Dernière condition : si toutes les conditions précédentes sont fausses\n",
    "else:\n",
    "    print(\"x est supérieur à 10 mais inférieur à 100\")"
   ]
  },
  {
   "cell_type": "code",
   "execution_count": null,
   "metadata": {},
   "outputs": [],
   "source": [
    "# Initialisation des variables\n",
    "x = 100 \n",
    "y = 30 \n",
    "\n",
    "# Première condition : vérifie si x est inférieur à 10 ET y est supérieur à 20\n",
    "if (x < 10) and (y > 20):\n",
    "    print(\"x est inférieur à 10 et y est supérieur à 20\")\n",
    "# Deuxième condition : vérifie si x est supérieur ou égal à 100 OU y est supérieur ou égal à 30\n",
    "elif (x >= 100) or (y >= 30):\n",
    "    print(\"x est supérieur ou égal à 100 ou y est supérieur ou égal à 30\")\n",
    "# Dernière condition : si toutes les conditions précédentes sont fausses\n",
    "else:\n",
    "    print(\"x est supérieur à 10\")\n"
   ]
  },
  {
   "cell_type": "markdown",
   "metadata": {},
   "source": [
    "####  Les boucles\n",
    "\n",
    "**La boucle for** est utilisée pour parcourir des structures de données : liste, tuple, tableau, chaîne de caractères ou un dictionnaire.\n",
    "\n",
    "> La boucle commence par examiner le premier élément de la séquence, effectue des actions dans son corps, puis passe à l'élément suivant jusqu'à ce que la séquence soit terminée.\n",
    "\n",
    " - Boucle avec mot-clé **\"for\"**, une **variable temporaire** pour contenir chaque élément, le mot-clé **\"in\"** et la séquence à parcourir, suivis  de **deux points**. Jusqu'au bout de l'élément\n",
    "- Appliquer des **opérations sur la variable temporaire** dans le corps de la boucle pour effectuer diverses opérations.\n",
    "- **Imbriquer des for\"**\n",
    "- Sur les *dictionnaires*, on peut **boucler sur les clés et les valeurs à l'aide de la méthode \"items()\"**."
   ]
  },
  {
   "cell_type": "code",
   "execution_count": null,
   "metadata": {},
   "outputs": [],
   "source": [
    "liste = list(range(5))\n",
    "liste"
   ]
  },
  {
   "cell_type": "code",
   "execution_count": null,
   "metadata": {},
   "outputs": [],
   "source": [
    "# Exemple de boucle for\n",
    "for i in liste:\n",
    "    print(i)"
   ]
  },
  {
   "cell_type": "code",
   "execution_count": null,
   "metadata": {},
   "outputs": [],
   "source": [
    "fruits = [\"pomme\", \"banane\", \"mangue\", \"cerise\"]\n",
    "for fruit in fruits:\n",
    "    print(fruit)"
   ]
  },
  {
   "cell_type": "code",
   "execution_count": null,
   "metadata": {},
   "outputs": [],
   "source": [
    "# print(\"Boucle for sur une liste:\")\n",
    "# ma_liste = [1, 2, 3, 4, 5]\n",
    "# for element in ma_liste:\n",
    "#     print(element)\n",
    "\n",
    "nombres = [1, 2, 3, 4, 5]\n",
    "for nombre in nombres:\n",
    "    if nombre % 2 == 0:\n",
    "        print(f\"{nombre} est pair\")\n",
    "    else:\n",
    "        print(f\"{nombre} est impair\")\n"
   ]
  },
  {
   "cell_type": "markdown",
   "metadata": {},
   "source": [
    "**La boucle while** itère sur un bloc de code tant qu'une condition spécifiée est vraie.\n",
    "Contrairement aux boucles \"for\", les boucles \"while\" continuent l'itération tant que la condition reste vraie.\n",
    "\n",
    "- **\"break\"** pour quitter prématurément une boucle \"while\", même si la condition est toujours vraie.\n",
    "- **\"else\"** peut être utilisée avec une boucle \"while\" pour spécifier un bloc de code qui s'exécutera lorsque la condition de la boucle ne sera plus vraie.\n",
    "- **\"continue\"** permet d'ignorer le code restant dans l'itération actuelle de la boucle et de passer à l'itération suivante.\n",
    "- !! **Soyez prudent lorsque vous utilisez \"continue\" afin d'éviter de créer des boucles infinies.**"
   ]
  },
  {
   "cell_type": "code",
   "execution_count": null,
   "metadata": {},
   "outputs": [],
   "source": [
    "# Boucle while avec break\n",
    "print(\"\\nBoucle while avec break:\")\n",
    "i = 1\n",
    "while i <= 5:\n",
    "    print(i)\n",
    "    if i == 3:\n",
    "        print(\"Break à 3\")\n",
    "        break\n",
    "    i += 1"
   ]
  },
  {
   "cell_type": "code",
   "execution_count": null,
   "metadata": {},
   "outputs": [],
   "source": [
    "# Boucle while avec continue\n",
    "print(\"\\nBoucle while avec continue:\")\n",
    "i = 0\n",
    "while i < 5:\n",
    "    i += 1\n",
    "    if i == 3:\n",
    "         continue\n",
    "     print(i)\n"
   ]
  },
  {
   "cell_type": "code",
   "execution_count": null,
   "metadata": {},
   "outputs": [],
   "source": [
    "# Boucle while avec else\n",
    "print(\"\\nBoucle while avec else:\")\n",
    "i = 1\n",
    "while i <= 5:\n",
    "    print(i)\n",
    "    i += 1\n",
    "else:\n",
    "    print(\"La condition n'est plus vraie (i > 5)\")"
   ]
  },
  {
   "cell_type": "code",
   "execution_count": null,
   "metadata": {},
   "outputs": [],
   "source": [
    "# Exemple de boucle while True\n",
    "print(\"Boucle while True avec un mécanisme de sortie :\")\n",
    "\n",
    "compteur = 0\n",
    "while True:\n",
    "    compteur += 1\n",
    "    print(compteur)\n",
    "\n",
    "    # Interrompre la boucle si compteur atteint 5\n",
    "    if compteur == 5:\n",
    "        print(\"Compteur a atteint 5, sortir de la boucle.\")\n",
    "        break"
   ]
  },
  {
   "cell_type": "code",
   "execution_count": null,
   "metadata": {},
   "outputs": [],
   "source": [
    "saisi = int(input(\"Saisissez un chiffre: \"))\n",
    "while True:  \n",
    "    if saisi == 5:\n",
    "        print(\"Vous avez saisi la valeur 5\")\n",
    "        break\n",
    "    else: \n",
    "        saisi = int(input(\"Saisissez un chiffre: \"))"
   ]
  },
  {
   "cell_type": "code",
   "execution_count": null,
   "metadata": {},
   "outputs": [],
   "source": [
    "saisi_mot_de_passe = input(\"Saisissez votre mdp: \")\n",
    "\n",
    "while True:  \n",
    "    if saisi_mot_de_passe == \"azerty\":\n",
    "        print(\"Login success\")\n",
    "        break\n",
    "    else: \n",
    "        print(\"Login fail\")\n",
    "        saisi_mot_de_passe = input(\"Re-Saisissez votre mdp: \")"
   ]
  },
  {
   "cell_type": "code",
   "execution_count": null,
   "metadata": {},
   "outputs": [],
   "source": [
    "import random \n",
    "\n",
    "nombre_aleatoire = random.randint(1, 10)\n",
    "nombre_aleatoire"
   ]
  },
  {
   "cell_type": "markdown",
   "metadata": {},
   "source": [
    "<a id=\"24-types-de-donnees\"></a>\n",
    "### 2.4. Types de Données (Structures Séquentielles)\n",
    "\n",
    "Chaque type de données séquentielles a ses propres caractéristiques et utilisations spécifiques, offrant une grande flexibilité pour le traitement des données. Les listes et les dictionnaires sont particulièrement populaires pour leur flexibilité et leurs capacités de stockage dynamique.\n",
    "\n",
    "- **Chaînes de Caractères** (`str`) :\n",
    "  Les chaînes de caractères (strings) sont utilisées pour stocker et manipuler du texte. Elles sont définies en plaçant le texte entre guillemets simples (`'...'`), doubles (`\"...\"`) ou triples (`'''...'''` ou `\"\"\"...\"\"\"` pour les chaînes sur plusieurs lignes).\n",
    "\n",
    "  - Séquences de caractères, indexées à partir de 0.\n",
    "  - Peuvent être délimitées par des guillemets simples, doubles ou triples.\n",
    "  - Exemple : `\"Python\"`, `'Data'`.\n",
    "  - Caractères d'Échappement : pour inclure des caractères spéciaux comme des guillemets ou des retours à la ligne dans une chaîne, utilisez des caractères d'échappement (`\\`).\n",
    "\n",
    "  ```python\n",
    "  citation = \"Elle a dit \\\"Bonjour!\\\"\"\n",
    "  retour_ligne = \"Ligne 1\\nLigne 2\"\n",
    "  ```\n",
    "Les chaînes de caractères sont extrêmement polyvalentes et fournissent une gamme complète de méthodes pour le traitement de texte. Que ce soit pour la manipulation de base ou des opérations complexes, les chaînes sont un outil indispensable.\n"
   ]
  },
  {
   "cell_type": "code",
   "execution_count": null,
   "metadata": {},
   "outputs": [],
   "source": [
    "# Définition chaines de caractères\n",
    "chaine_simple = 'Bonjour'\n",
    "longueur = len(chaine_simple) # 7\n",
    "print(f\"{chaine_simple}, 'la longueur est {longueur}\")"
   ]
  },
  {
   "cell_type": "code",
   "execution_count": null,
   "metadata": {},
   "outputs": [],
   "source": [
    "chaine_simple[3]"
   ]
  },
  {
   "cell_type": "code",
   "execution_count": null,
   "metadata": {},
   "outputs": [],
   "source": [
    "chaine_double = \"Python\"\n",
    "chaine_multiligne = \"\"\"Ceci est une\n",
    "chaîne sur plusieurs\n",
    "lignes.\"\"\"\n",
    "print(chaine_double,\"\\n\", chaine_multiligne)\n",
    "\n",
    "# Acces aux éléments\n",
    "premier_char = chaine_simple[0]  # 'B'\n",
    "sous_chaine = chaine_double[1:4] # 'yth'\n",
    "print(premier_char, \"et\",  sous_chaine)\n",
    "\n",
    "# Concaténation \n",
    "salutation = chaine_simple + \", \" + chaine_double # 'Bonjour, Python'\n",
    "print(salutation)\n",
    "\n",
    "# Répétition\n",
    "echo = \"echo \" * 3  # 'echo echo echo '\n",
    "print(echo)"
   ]
  },
  {
   "cell_type": "markdown",
   "metadata": {},
   "source": [
    "- **Méthodes pour les Chaînes de Caractères** : Les méthodes sont des fonctions qui sont associées à des objets spécifiques. Elles permettent d'exécuter des actions sur ces objets ou de manipuler leurs données internes. Voici quelques caractéristiques clés des méthodes :\n",
    "\n",
    "    - **Association avec des Objets** : Contrairement aux fonctions indépendantes, les méthodes sont liées à des objets. Par exemple, les méthodes de chaînes de caractères (`str`)  sont conçues pour effectuer des opérations sur des chaînes de caractères spécifiques.\n",
    "    - **Syntaxe** : Une méthode est appelée en utilisant la notation pointée. Par exemple, `objet.methode()`.\n",
    "    - **Méthodes de Chaînes de Caractères** : les chaînes de caractères disposent de méthodes telles que `upper()`, `lower()`, `replace()` pour convertir en majuscules, en minuscules ou remplacer une partie de la chaîne.\n",
    "    - **Appel** : Pour appeler une méthode, utilisez généralement la syntaxe `objet.methode(arguments)`.\n"
   ]
  },
  {
   "cell_type": "code",
   "execution_count": null,
   "metadata": {},
   "outputs": [],
   "source": [
    "# Méthodes str.isupper() et str.islower()\n",
    "majuscules = \"PYTHON\"\n",
    "minuscules = \"python\"\n",
    "\n",
    "is_upper = majuscules.isupper()\n",
    "is_lower = minuscules.islower()\n",
    "print(is_upper)  # Résultat : True\n",
    "print(is_lower)  # Résultat : True\n",
    "\n",
    "# Méthode str.upper()\n",
    "texte_upper = \"python est génial\".upper()\n",
    "print(texte_upper)  # Résultat : \"PYTHON EST GÉNIAL\"\n",
    "\n",
    "# Méthode str.lower()\n",
    "texte_lower = \"Python est GÉNIAL\".lower()\n",
    "print(texte_lower)  # Résultat : \"python est génial\"\n",
    "\n",
    "# Méthode str.capitalize()\n",
    "texte_capitalize = \"python est génial\".capitalize()\n",
    "print(texte_capitalize)  # Résultat : \"Python est génial\"\n",
    "\n",
    "# Méthode str.title()\n",
    "texte_title = \"python est génial\".title()\n",
    "print(texte_title)  # Résultat : \"Python Est Génial\"\n",
    "\n",
    "# Méthode str.find(substring)\n",
    "texte = \"Python est génial\"\n",
    "position = texte.find(\"est\")\n",
    "print(position)  # Résultat : 7\n",
    "\n",
    "# Méthode str.replace(old, new)\n",
    "texte_replace = \"Les pommes sont rouges.\".replace(\"pommes\", \"bananes\")\n",
    "print(texte_replace)  # Résultat : \"Les bananes sont rouges.\"\n",
    "\n",
    "# Méthode str.split(separator)\n",
    "texte_split = \"apple orange banana\".split(\" \")\n",
    "print(texte_split)  # Résultat : [\"apple\", \"orange\", \"banana\"]\n",
    "\n",
    "# Méthode str.join(iterable)\n",
    "elements = [\"apple\", \"orange\", \"banana\"]\n",
    "texte_join = \", \".join(elements)\n",
    "print(texte_join)  # Résultat : \"apple, orange, banana\"\n",
    "\n",
    "# Méthode str.strip()\n",
    "texte_strip = \"   Bonjour   \".strip()\n",
    "print(texte_strip)  # Résultat : \"Bonjour\"\n",
    "\n",
    "# Méthode str.startswith(prefix)\n",
    "texte_startswith = \"Bonjour, comment ça va ?\".startswith(\"Bonjour\")\n",
    "print(texte_startswith)  # Résultat : True\n",
    "\n",
    "# Méthode str.endswith(suffix)\n",
    "texte_endswith = \"Leçon terminée.\".endswith(\"terminée.\")\n",
    "print(texte_endswith)  # Résultat : True"
   ]
  },
  {
   "cell_type": "markdown",
   "metadata": {},
   "source": [
    "#### Les listes\n",
    "\n",
    "Les listes sont des structures de données qui permettent de stocker une série d'éléments. Elles sont flexibles, peuvent contenir des éléments de différents types et sont **mutables** (modifiables).\n",
    "\n",
    "- **Listes** (`list`) :\n",
    "  - Collections ordonnées de valeurs, pouvant contenir divers types de données.\n",
    "  - Les éléments sont séparés par des virgules et entourés de crochets.\n",
    "  - Mutables (modifiables).\n",
    "  - Pour créer une liste, placez une série d'éléments séparés par des virgules entre crochets `[]`. Exemple : `[1, \"a\", 3.14]`.\n",
    "  - L'accès aux éléments se fait par leur index, en commençant par `0`.\n",
    "  - Les listes étant mutables, vous pouvez modifier leurs éléments."
   ]
  },
  {
   "cell_type": "code",
   "execution_count": null,
   "metadata": {},
   "outputs": [],
   "source": [
    "# Définition de liste\n",
    "ma_liste = [1, 2, 3, \"Python\", 3.14, True]\n",
    "print(ma_liste)\n",
    "\n",
    "premier_element = ma_liste[0]  # Accède au premier élément (1)\n",
    "dernier_element = ma_liste[-1] # Accède au dernier élément (True)\n",
    "print(premier_element,\"\\n\", dernier_element)\n",
    "\n",
    " # Modifie le deuxième élément\n",
    "ma_liste[1] = \"deux\" \n",
    "print(ma_liste)\n",
    "\n",
    "# Concaténation et Répétition\n",
    "combinee = ma_liste + [\"autre\", \"liste\"]\n",
    "print(combinee)\n",
    "repetee = [1, 2, 3] * 3\n",
    "print(repetee)"
   ]
  },
  {
   "cell_type": "markdown",
   "metadata": {},
   "source": [
    "  - Les méthodes des listes : Chaque méthode offre une fonctionnalité unique pour manipuler des listes, rendant ces structures de données extrêmement flexibles et puissantes pour une variété de tâches en programmation Python.\n",
    "\n",
    "| Méthode        | Description                                              | Exemple d'Utilisation                   |\n",
    "|----------------|----------------------------------------------------------|----------------------------------------|\n",
    "| `append()`     | Ajoute un élément à la fin de la liste.                  | `liste.append(5)`                      |\n",
    "| `extend()`     | Étend la liste en ajoutant tous les éléments d'une autre liste. | `liste.extend([6, 7])`                |\n",
    "| `insert()`     | Insère un élément à une position donnée.                 | `liste.insert(1, 'a')`                 |\n",
    "| `remove()`     | Supprime la première occurrence d'un élément.            | `liste.remove('a')`                    |\n",
    "| `pop()`        | Supprime et renvoie un élément à une position donnée (par défaut, le dernier). | `liste.pop()`                          |\n",
    "| `clear()`      | Supprime tous les éléments de la liste.                  | `liste.clear()`                        |\n",
    "| `index()`      | Retourne l'indice du premier élément correspondant.      | `liste.index('a')`                     |\n",
    "| `count()`      | Compte le nombre d'occurrences d'un élément spécifique.  | `liste.count(5)`                       |\n",
    "| `sort()`       | Trie les éléments de la liste (dans un ordre spécifique). | `liste.sort()`                         |\n",
    "| `reverse()`    | Inverse l'ordre des éléments de la liste.                | `liste.reverse()`                      |\n",
    "\n"
   ]
  },
  {
   "cell_type": "code",
   "execution_count": null,
   "metadata": {},
   "outputs": [],
   "source": [
    "# Création d'une liste de base\n",
    "ma_liste = [1, 2, 3]\n",
    "print(ma_liste)\n",
    "\n",
    "# Utilisation de append()\n",
    "ma_liste.append(\"quatre\")\n",
    "print(\"Après append(quatre):\", ma_liste)"
   ]
  },
  {
   "cell_type": "code",
   "execution_count": null,
   "metadata": {},
   "outputs": [],
   "source": [
    "# Utilisation de extend()\n",
    "ma_liste.extend([5, 6])\n",
    "print(\"Après extend([5, 6]):\", ma_liste)"
   ]
  },
  {
   "cell_type": "code",
   "execution_count": null,
   "metadata": {},
   "outputs": [],
   "source": [
    "# Utilisation de insert()\n",
    "ma_liste.insert(1, 'elephant')\n",
    "print(\"Après insert(1, 'elephant'):\", ma_liste)"
   ]
  },
  {
   "cell_type": "code",
   "execution_count": null,
   "metadata": {},
   "outputs": [],
   "source": [
    "# Utilisation de remove()\n",
    "ma_liste.remove('elephant')\n",
    "print(\"Après remove('elephant'):\", ma_liste)"
   ]
  },
  {
   "cell_type": "code",
   "execution_count": null,
   "metadata": {},
   "outputs": [],
   "source": [
    "# Utilisation de pop()\n",
    "element_supprime = ma_liste.pop()\n",
    "print(\"Après pop():\", ma_liste, \", Élément supprimé:\", element_supprime)"
   ]
  },
  {
   "cell_type": "code",
   "execution_count": null,
   "metadata": {},
   "outputs": [],
   "source": [
    "# Utilisation de clear()\n",
    "ma_liste.clear()\n",
    "print(\"Après clear():\", ma_liste)"
   ]
  },
  {
   "cell_type": "code",
   "execution_count": null,
   "metadata": {},
   "outputs": [],
   "source": [
    "# Recréation de la liste pour les autres méthodes\n",
    "ma_liste = [3, 1, 4, 2, 2]\n",
    "\n",
    "# Utilisation de index()\n",
    "index_de_4 = ma_liste.index(4)\n",
    "print(\"Index de 4:\", index_de_4)\n",
    "\n",
    "# Utilisation de count()\n",
    "compte_de_2 = ma_liste.count(2)\n",
    "print(\"Nombre d'occurrences de 2:\", compte_de_2)\n",
    "\n",
    "# Utilisation de sort()\n",
    "ma_liste.sort()\n",
    "print(\"Après sort():\", ma_liste)\n",
    "\n",
    "# Utilisation de reverse()\n",
    "ma_liste.reverse()\n",
    "print(\"Après reverse():\", ma_liste)\n"
   ]
  },
  {
   "cell_type": "markdown",
   "metadata": {},
   "source": [
    "  - **Parcours de Liste**\n",
    "Le parcours de liste consiste à accéder séquentiellement à chaque élément d'une liste. Cela peut être fait de différentes manières, mais les plus courantes sont les boucles `for` et `while`.\n",
    "\n",
    "    - 1. *Boucle `for`* : La boucle `for` est la méthode la plus couramment utilisée pour parcourir une liste. Elle permet de traiter chaque élément individuellement.\n",
    "    - 2. *`List Comprehension`* : La compréhension de liste est une méthode concise pour créer des listes. Elle permet de transformer une liste en une autre liste, en filtrant les éléments pour former une liste des résultats d'une expression donnée.\n",
    "\n",
    "La syntaxe de base d'une compréhension de liste est :\n",
    "\n",
    "```python\n",
    "[nouvelle_expression for item in iterable if condition]\n",
    "```\n",
    "\n",
    "- `nouvelle_expression` est l'expression qui définit comment mapper les éléments de l'`iterable` (par exemple, une liste).\n",
    "- `item` est la variable qui prend la valeur de chaque élément de l'`iterable` pendant chaque itération.\n",
    "- `condition` est une condition optionnelle pour filtrer les éléments de l'`iterable`."
   ]
  },
  {
   "cell_type": "code",
   "execution_count": null,
   "metadata": {},
   "outputs": [],
   "source": [
    "# récupérer tous les fruits avec un \"a\"\n",
    "fruits = [\"apple\", \"banana\", \"cherry\", \"kiwi\", \"mango\"]\n",
    "newlist = []\n",
    "\n",
    "for f in fruits:\n",
    "    if \"a\" in f:\n",
    "        newlist.append(f)\n",
    "\n",
    "print(newlist)"
   ]
  },
  {
   "cell_type": "code",
   "execution_count": null,
   "metadata": {},
   "outputs": [],
   "source": [
    "newlist = [f for f in fruits if \"a\" in f ]\n",
    "print(newlist)"
   ]
  },
  {
   "cell_type": "code",
   "execution_count": null,
   "metadata": {},
   "outputs": [],
   "source": [
    "nombre = [1, 10, 100]\n",
    "nombre_carres = [x**2 for x in nombre]\n",
    "nombre_carres"
   ]
  },
  {
   "cell_type": "code",
   "execution_count": null,
   "metadata": {},
   "outputs": [],
   "source": [
    "# Créer une liste des carrés des nombres de 0 à 9 :\n",
    "carres = [x**2 for x in range(10)]"
   ]
  },
  {
   "cell_type": "code",
   "execution_count": null,
   "metadata": {},
   "outputs": [],
   "source": [
    "# Filtrer les nombres pairs dans une liste :\n",
    "nombres_pairs = [x for x in range(10) if x % 2 == 0]"
   ]
  },
  {
   "cell_type": "code",
   "execution_count": null,
   "metadata": {},
   "outputs": [],
   "source": [
    "# Appliquer une fonction à tous les éléments :\n",
    "noms_majuscules = [nom.upper() for nom in [\"alice\", \"bob\", \"charlie\"]]\n",
    "noms_majuscules"
   ]
  },
  {
   "cell_type": "markdown",
   "metadata": {},
   "source": [
    "- **Tuples** (`tuple`) :\n",
    "  - Similaires aux listes, mais **immuables** (non modifiables après création).\n",
    "  - Les éléments sont séparés par des virgules et entourés de parenthèses.\n",
    "  - Exemple : `(1, \"a\", 3.14)`.\n",
    "\n",
    "| Avantage                            | Description                                                  |\n",
    "|-------------------------------------|--------------------------------------------------------------|\n",
    "| **Sécurité des Données**            | Parfait pour protéger les données contre les modifications.   |\n",
    "| **Performance**                     | Plus rapides à parcourir que les listes.                     |\n",
    "| **Utilisation en tant que Clés de Dictionnaire** | Peuvent être utilisés comme clés dans les dictionnaires, contrairement aux listes. |\n",
    "| **Retour de Plusieurs Valeurs de Fonction** | Utilisés pour retourner plusieurs valeurs depuis une fonction. |\n",
    "| **Stockage de Données Constantes**  | Idéaux pour stocker des données qui ne doivent pas être modifiées. |\n"
   ]
  },
  {
   "cell_type": "code",
   "execution_count": null,
   "metadata": {},
   "outputs": [],
   "source": [
    "# Définition d'un tuple\n",
    "mon_tuple = (1, \"a\", 3.14)\n",
    "mon_tuple"
   ]
  },
  {
   "cell_type": "code",
   "execution_count": null,
   "metadata": {},
   "outputs": [],
   "source": [
    "un_autre_tuple = 2, \"b\", 4.28\n",
    "un_autre_tuple"
   ]
  },
  {
   "cell_type": "code",
   "execution_count": null,
   "metadata": {},
   "outputs": [],
   "source": [
    "mon_tuple[1] "
   ]
  },
  {
   "cell_type": "code",
   "execution_count": null,
   "metadata": {},
   "outputs": [],
   "source": [
    "# Tuple à Un Élément\n",
    "tuple_singleton = 5,\n",
    "tuple_singleton"
   ]
  },
  {
   "cell_type": "code",
   "execution_count": null,
   "metadata": {},
   "outputs": [],
   "source": [
    "# Tuple à Un Élément\n",
    "tuple_singleton = (5,)\n",
    "\n",
    "# Imbrication\n",
    "tuple_imbrique = (1, (2, 3), (4, 5))\n",
    "\n",
    "# Méthodes Utiles"
   ]
  },
  {
   "cell_type": "code",
   "execution_count": null,
   "metadata": {},
   "outputs": [],
   "source": [
    "longueur = len(mon_tuple)  # Retourne la longueur de mon_tuple, ici 3\n",
    "longueur"
   ]
  },
  {
   "cell_type": "code",
   "execution_count": null,
   "metadata": {},
   "outputs": [],
   "source": [
    "compteur = mon_tuple.count(\"a\")  # Compte le nombre de fois que 1 apparaît dans mon_tuple, ici 1\n",
    "compteur"
   ]
  },
  {
   "cell_type": "code",
   "execution_count": null,
   "metadata": {},
   "outputs": [],
   "source": [
    "indice = mon_tuple.index(\"a\")  # Trouve l'indice de \"a\" dans mon_tuple, ici 1\n",
    "indice"
   ]
  },
  {
   "cell_type": "code",
   "execution_count": null,
   "metadata": {},
   "outputs": [],
   "source": [
    "# L'affectation n'est pas possible\n",
    "# mon_tuple[1] = \"b\""
   ]
  },
  {
   "cell_type": "markdown",
   "metadata": {},
   "source": [
    "- **Ensembles** (`set`) :\n",
    "  - Collections non ordonnées de valeurs uniques.\n",
    "  - Utiles pour les opérations d'ensemble et la recherche de valeurs uniques.\n",
    "  - Mutables, mais chaque élément doit être unique.\n",
    "  - Non-Ordonnés : Les ensembles ne maintiennent pas l'ordre des éléments. Vous ne pouvez donc pas accéder aux éléments par un index.\n",
    "  - Exemple : `{1, 2, 3}`.\n",
    "\n",
    "Opérations d'Ensemble\n",
    "\n",
    "| Opération             | Syntaxe    | Description                                    |\n",
    "|-----------------------|------------|------------------------------------------------|\n",
    "| Union                 | `a \\| b`    | Retourne un nouvel ensemble contenant tous les éléments uniques des ensembles `a` et `b`. |\n",
    "| Intersection          | `a & b`    | Retourne un nouvel ensemble contenant uniquement les éléments communs aux ensembles `a` et `b`. |\n",
    "| Différence            | `a - b`    | Retourne un nouvel ensemble contenant les éléments de `a` qui ne sont pas dans `b`. |\n",
    "| Différence Symétrique | `a ^ b`    | Retourne un nouvel ensemble contenant tous les éléments qui sont dans `a` ou `b`, mais pas dans les deux. |\n",
    "| Ajout                 | `a.add(x)` | Ajoute l'élément `x` à l'ensemble `a`. |\n",
    "| Suppression           | `a.remove(x)` | Supprime l'élément `x` de l'ensemble `a` ; lève une erreur si `x` n'est pas présent. |\n",
    "| Suppression (sans erreur) | `a.discard(x)` | Supprime l'élément `x` de l'ensemble `a` si `x` est présent ; ne fait rien sinon. |"
   ]
  },
  {
   "cell_type": "code",
   "execution_count": 70,
   "metadata": {},
   "outputs": [
    {
     "name": "stdout",
     "output_type": "stream",
     "text": [
      "{1, 2, 3, 4} {3, 4, 5, 6}\n",
      "{1}\n"
     ]
    }
   ],
   "source": [
    "# Définition des ensembles\n",
    "ensemble_a = {1, 2, 3, 4}\n",
    "ensemble_b = {3, 4, 5, 6}\n",
    "print(ensemble_a, ensemble_b)\n",
    "\n",
    "# Seule une valeur est représentée\n",
    "ensemble_c = {1, 1, 1}\n",
    "print(ensemble_c)"
   ]
  },
  {
   "cell_type": "code",
   "execution_count": 71,
   "metadata": {},
   "outputs": [
    {
     "name": "stdout",
     "output_type": "stream",
     "text": [
      "Union : {1, 2, 3, 4, 5, 6}\n",
      "Intersection : {3, 4}\n",
      "Différence a : {1, 2}\n",
      "Différence b : {5, 6}\n",
      "Différence Symétrique : {1, 2, 5, 6}\n"
     ]
    }
   ],
   "source": [
    "# Opérations d'ensemble\n",
    "union = ensemble_a | ensemble_b\n",
    "intersection = ensemble_a & ensemble_b\n",
    "difference_a = ensemble_a - ensemble_b\n",
    "difference_b = ensemble_b - ensemble_a\n",
    "difference_symetrique = ensemble_a ^ ensemble_b\n",
    "\n",
    "# Affichage des résultats\n",
    "print(\"Union :\", union)\n",
    "print(\"Intersection :\", intersection)\n",
    "print(\"Différence a :\", difference_a)\n",
    "print(\"Différence b :\", difference_b)\n",
    "print(\"Différence Symétrique :\", difference_symetrique)"
   ]
  },
  {
   "cell_type": "code",
   "execution_count": null,
   "metadata": {},
   "outputs": [],
   "source": [
    "print(ensemble_a)\n",
    "\n",
    "# Ajout et suppression\n",
    "ensemble_a.add(7)\n",
    "print(\"Après ajout :\", ensemble_a)"
   ]
  },
  {
   "cell_type": "code",
   "execution_count": null,
   "metadata": {},
   "outputs": [],
   "source": [
    "ensemble_a.remove(1)\n",
    "print(\"Après suppression :\", ensemble_a)"
   ]
  },
  {
   "cell_type": "code",
   "execution_count": null,
   "metadata": {},
   "outputs": [],
   "source": [
    "ensemble_a.discard(2)  \n",
    "ensemble_a"
   ]
  },
  {
   "cell_type": "code",
   "execution_count": 81,
   "metadata": {},
   "outputs": [
    {
     "ename": "TypeError",
     "evalue": "can only join an iterable",
     "output_type": "error",
     "traceback": [
      "\u001b[1;31m---------------------------------------------------------------------------\u001b[0m",
      "\u001b[1;31mTypeError\u001b[0m                                 Traceback (most recent call last)",
      "Cell \u001b[1;32mIn[81], line 3\u001b[0m\n\u001b[0;32m      1\u001b[0m \u001b[38;5;28;01mfor\u001b[39;00m i \u001b[38;5;129;01min\u001b[39;00m \u001b[38;5;28mrange\u001b[39m(\u001b[38;5;241m1\u001b[39m,\u001b[38;5;241m5\u001b[39m):\n\u001b[0;32m      2\u001b[0m     \u001b[38;5;28;01mfor\u001b[39;00m j \u001b[38;5;129;01min\u001b[39;00m \u001b[38;5;28mrange\u001b[39m(\u001b[38;5;241m1\u001b[39m,\u001b[38;5;241m5\u001b[39m):\n\u001b[1;32m----> 3\u001b[0m         \u001b[38;5;124;43m\"\u001b[39;49m\u001b[38;5;124;43m*\u001b[39;49m\u001b[38;5;124;43m\"\u001b[39;49m\u001b[38;5;241;43m.\u001b[39;49m\u001b[43mjoin\u001b[49m\u001b[43m(\u001b[49m\u001b[43mj\u001b[49m\u001b[43m)\u001b[49m\n\u001b[0;32m      4\u001b[0m         \u001b[38;5;28mprint\u001b[39m(\u001b[38;5;124m\"\u001b[39m\u001b[38;5;124m*\u001b[39m\u001b[38;5;124m\"\u001b[39m \u001b[38;5;241m*\u001b[39m i \u001b[38;5;241m*\u001b[39m j)\n",
      "\u001b[1;31mTypeError\u001b[0m: can only join an iterable"
     ]
    }
   ],
   "source": [
    "for i in range(1,5):\n",
    "    for j in range(1,5):\n",
    "        \"*\".join(j)\n",
    "        print(\"*\" * i * j)"
   ]
  },
  {
   "cell_type": "markdown",
   "metadata": {},
   "source": [
    "- **Dictionnaires** (`dict`) :\n",
    "  - Basés sur des paires clé-valeur.\n",
    "  - Les valeurs sont accessibles via les clés.\n",
    "  - Mutables, permettant les mises à jour et les suppressions.\n",
    "  - Exemple : `{\"nom\": \"Alice\", \"âge\": 30}`.\n",
    "  - Utilisation :\n",
    "    - **Stockage d'Informations Structurées** : Parfait pour stocker des informations complexes comme des données utilisateur.\n",
    "    - **Recherche Rapide** : Utilisez des dictionnaires pour des recherches rapides basées sur des clés uniques."
   ]
  },
  {
   "cell_type": "code",
   "execution_count": 63,
   "metadata": {},
   "outputs": [],
   "source": [
    "# Définition d'un dictionnaire\n",
    "personne = {\"nom\": \"Alice\", \"age\": 30}\n",
    "autre_dict = dict(nom=\"Bob\", age=25)"
   ]
  },
  {
   "cell_type": "code",
   "execution_count": null,
   "metadata": {},
   "outputs": [],
   "source": [
    "personne"
   ]
  },
  {
   "cell_type": "code",
   "execution_count": 64,
   "metadata": {},
   "outputs": [
    {
     "data": {
      "text/plain": [
       "{'nom': 'Alice', 'age': 30, 'profession': 'Développeur'}"
      ]
     },
     "execution_count": 64,
     "metadata": {},
     "output_type": "execute_result"
    }
   ],
   "source": [
    "# Ajout et Mise à Jour\n",
    "personne[\"profession\"] = \"Développeur\"\n",
    "personne"
   ]
  },
  {
   "cell_type": "code",
   "execution_count": 68,
   "metadata": {},
   "outputs": [
    {
     "data": {
      "text/plain": [
       "{'nom': 'Romain', 'age': 30, 'profession': 'Data Scientist'}"
      ]
     },
     "execution_count": 68,
     "metadata": {},
     "output_type": "execute_result"
    }
   ],
   "source": [
    "# Mise à Jour de plusieurs clés\n",
    "personne.update([('nom', \"Romain\"), ('profession', \"Data Scientist\")])\n",
    "personne"
   ]
  },
  {
   "cell_type": "code",
   "execution_count": 69,
   "metadata": {},
   "outputs": [
    {
     "name": "stdout",
     "output_type": "stream",
     "text": [
      "Clés: dict_keys(['nom', 'age', 'profession'])\n",
      "Valeurs: dict_values(['Romain', 30, 'Data Scientist'])\n",
      "Paires clé-valeur: dict_items([('nom', 'Romain'), ('age', 30), ('profession', 'Data Scientist')])\n"
     ]
    }
   ],
   "source": [
    "# Utilisation de keys()\n",
    "cles = personne.keys()\n",
    "print(\"Clés:\", cles)\n",
    "\n",
    "# Utilisation de values()\n",
    "valeurs = personne.values()\n",
    "print(\"Valeurs:\", valeurs)\n",
    "\n",
    "# Utilisation de items()\n",
    "paires = personne.items()\n",
    "print(\"Paires clé-valeur:\", paires)"
   ]
  },
  {
   "cell_type": "code",
   "execution_count": null,
   "metadata": {},
   "outputs": [],
   "source": [
    "# Utilisation de get()\n",
    "nom_personne = personne.get(\"nom\") \n",
    "age_personne = personne.get(\"age\")\n",
    "\n",
    "nom_personne, age_personne"
   ]
  },
  {
   "cell_type": "code",
   "execution_count": null,
   "metadata": {},
   "outputs": [],
   "source": [
    "ville = personne.get(\"ville\")\n",
    "ville"
   ]
  },
  {
   "cell_type": "code",
   "execution_count": null,
   "metadata": {},
   "outputs": [],
   "source": [
    "ville = personne.get(\"ville\", \"Non spécifiée\")  # Retourne 'Non spécifiée' car 'ville' n'existe pas\n",
    "print(\"Ville:\", ville)"
   ]
  },
  {
   "cell_type": "code",
   "execution_count": null,
   "metadata": {},
   "outputs": [],
   "source": [
    "# Parcours des clés\n",
    "print(\"\\nParcours des clés:\")\n",
    "for cle in personne.keys():\n",
    "    print(cle)\n",
    "\n",
    "# Parcours des valeurs\n",
    "print(\"\\nParcours des valeurs:\")\n",
    "for valeur in personne.values():\n",
    "    print(valeur)\n",
    "\n",
    "# Parcours des paires clé-valeur\n",
    "print(\"\\nParcours des paires clé-valeur:\")\n",
    "for cle, valeur in personne.items():\n",
    "    print(cle, \":\", valeur)"
   ]
  },
  {
   "cell_type": "code",
   "execution_count": null,
   "metadata": {},
   "outputs": [],
   "source": [
    "print(\"\\nParcours des paires clé-valeur avec enumerate:\")\n",
    "for index, (cle, valeur) in enumerate(personne.items()):\n",
    "    print(f\"Index {index}: Clé = {cle}, Valeur = {valeur}\")"
   ]
  },
  {
   "cell_type": "code",
   "execution_count": null,
   "metadata": {},
   "outputs": [],
   "source": [
    "personne"
   ]
  },
  {
   "cell_type": "code",
   "execution_count": null,
   "metadata": {},
   "outputs": [],
   "source": [
    "# Suppression\n",
    "del personne[\"age\"]"
   ]
  },
  {
   "cell_type": "code",
   "execution_count": null,
   "metadata": {},
   "outputs": [],
   "source": [
    "personne"
   ]
  },
  {
   "cell_type": "code",
   "execution_count": null,
   "metadata": {},
   "outputs": [],
   "source": [
    "profession = personne.pop(\"profession\")"
   ]
  },
  {
   "cell_type": "code",
   "execution_count": null,
   "metadata": {},
   "outputs": [],
   "source": [
    "profession"
   ]
  },
  {
   "cell_type": "code",
   "execution_count": null,
   "metadata": {},
   "outputs": [],
   "source": [
    "personne"
   ]
  },
  {
   "cell_type": "markdown",
   "metadata": {},
   "source": [
    "<a id=\"25-fonctions-definition-et-appel\"></a>\n",
    "### 2.5. Fonctions : définition et appel\n",
    "\n",
    "#### Qu'est-ce qu'une Fonction ?\n",
    "\n",
    "Une fonction est une suite d'instructions que l'on peut appeler avec un nom. En programmation, une fonction est comme une petite \"machine\" qui prend des entrées (arguments), effectue certaines opérations, et parfois retourne une sortie (valeur de retour).\n",
    "\n",
    "- **Explication de ce qu'est une fonction en programmation**\n",
    "\n",
    ", une fonction est définie en utilisant le mot-clé `def`, suivi du nom de la fonction, des parenthèses `()` contenant des paramètres (si nécessaires), et un bloc d'instructions indenté.\n",
    "\n",
    "```python\n",
    "def ma_fonction():\n",
    "    # Ici, nous mettons le code que la fonction exécutera.\n",
    "```\n",
    "\n",
    "- **L'importance des fonctions pour réduire la répétition de code**\n",
    "\n",
    "Les fonctions sont essentielles pour éviter la répétition de code. Au lieu d'écrire le même code plusieurs fois, une fonction nous permet de regrouper ce code et de l'appeler quand nécessaire. Cela rend le code plus court, plus lisible et plus facile à maintenir.\n",
    "\n",
    "#### Pourquoi Utiliser des Fonctions ?\n",
    "\n",
    "Les fonctions sont un outil fondamental  pour plusieurs raisons :\n",
    "\n",
    "- **Simplification du code**\n",
    "\n",
    "En regroupant des opérations complexes en fonctions, on simplifie notre code principal. Cela le rend plus lisible et plus facile à comprendre.\n",
    "\n",
    "- **Réutilisabilité**\n",
    "\n",
    "Une fois que vous avez écrit une fonction, vous pouvez l'utiliser autant de fois que nécessaire. Cela élimine le besoin de réécrire le même code, économisant du temps et réduisant les erreurs.\n",
    "\n",
    "- **Meilleure organisation du code**\n",
    "\n",
    "Les fonctions aident à structurer le code en unités logiques. Chaque fonction a un objectif spécifique, ce qui facilite la compréhension du programme dans son ensemble. De plus, cela facilite le débogage et le test de parties spécifiques du code.\n",
    "\n",
    "\n",
    "Voici le développement de la section \"Syntaxe de Base des Fonctions\"  avec des explications et des exemples, rédigé en Markdown :\n",
    "\n",
    "\n",
    "#### Définition d'une Fonction\n",
    "\n",
    ", la définition d'une fonction commence par le mot-clé `def`, suivi du nom de la fonction, des parenthèses `()`, et d'un bloc d'instructions indenté.\n",
    "\n",
    "```python\n",
    "def ma_fonction():\n",
    "    print(\"Ceci est une fonction.\")\n",
    "```\n",
    "\n",
    "Dans cet exemple, `ma_fonction` est le nom de notre fonction. Le bloc d'instructions qui suit définit ce que la fonction fait lorsqu'elle est appelée. Ici, la fonction affiche simplement un message.\n",
    "\n",
    "La définition d'une fonction permet de regrouper un ensemble d'instructions que vous souhaitez exécuter à plusieurs reprises. Elle n'est exécutée que lorsque la fonction est appelée.\n",
    "\n",
    "- **Structure de base**\n",
    "\n",
    "La structure de base d'une fonction comprend :\n",
    "- Le mot-clé `def`.\n",
    "- Le nom de la fonction.\n",
    "- Les parenthèses `()` (avec des paramètres si nécessaire).\n",
    "- Un bloc d'instructions indenté.\n",
    "\n",
    "- **Appel d'une Fonction**\n",
    "\n",
    "Une fois qu'une fonction est définie, elle peut être appelée en utilisant son nom suivi de parenthèses.\n",
    "\n",
    "```python\n",
    "ma_fonction()\n",
    "```\n",
    "\n",
    "Cet appel exécute les instructions définies dans `ma_fonction`.\n",
    "\n",
    "- **Paramètres et Arguments**\n",
    "\n",
    "Les fonctions peuvent être plus flexibles lorsqu'elles prennent des paramètres. Les paramètres agissent comme des variables dans la définition de la fonction.\n",
    "\n",
    "```python\n",
    "def ma_fonction(param1, param2):\n",
    "    print(f\"Paramètre 1 : {param1}, Paramètre 2 : {param2}\")\n",
    "```\n",
    "\n",
    "```python\n",
    "def saluer(nom):\n",
    "    print(f\"Bonjour, {nom}!\")\n",
    "```\n",
    "Ici, `nom` est un paramètre de la fonction `saluer`. Lorsque la fonction est appelée, elle s'attend à recevoir une valeur pour ce paramètre.\n",
    "\n",
    "- **Appel d'une Fonction avec Arguments**\n",
    "\n",
    "Lorsque vous appelez une fonction qui a des paramètres, vous devez fournir des arguments correspondants.\n",
    "\n",
    "```python\n",
    "saluer(\"Alice\")\n",
    "```\n",
    "Dans cet appel, `\"Alice\"` est un argument qui est passé à la fonction `saluer`. La fonction utilisera la valeur de cet argument lors de son exécution.\n",
    "\n",
    "Exemples : "
   ]
  },
  {
   "cell_type": "code",
   "execution_count": null,
   "metadata": {},
   "outputs": [],
   "source": [
    "def saluer(nom):\n",
    "    print(f\"Bonjour, {nom}!\")"
   ]
  },
  {
   "cell_type": "code",
   "execution_count": null,
   "metadata": {},
   "outputs": [],
   "source": [
    "saluer(nom = \"Paul\")\n",
    "saluer(nom = \"Ményssa\")\n",
    "saluer(nom = \"Kévin\")\n",
    "saluer(nom = \"Axel\")"
   ]
  },
  {
   "cell_type": "code",
   "execution_count": null,
   "metadata": {},
   "outputs": [],
   "source": [
    "def affiche_message(message):\n",
    "    print(f\"Message reçu : {message}\")\n",
    "\n",
    "affiche_message(\"Bonjour, ca  va ?\")\n",
    "affiche_message(\"Python c'est cool!\")"
   ]
  },
  {
   "cell_type": "code",
   "execution_count": 6,
   "metadata": {},
   "outputs": [],
   "source": [
    "def additionner(a, b):\n",
    "    somme = a + b\n",
    "    print(f\"La somme de {a} et {b} est {somme}\")\n"
   ]
  },
  {
   "cell_type": "code",
   "execution_count": 8,
   "metadata": {},
   "outputs": [
    {
     "name": "stdout",
     "output_type": "stream",
     "text": [
      "La somme de 5 et 3 est 8\n",
      "La somme de 5 et 3 est 8\n"
     ]
    }
   ],
   "source": [
    "additionner(a = 5, b = 3)\n",
    "additionner(5, 3)"
   ]
  },
  {
   "cell_type": "code",
   "execution_count": 9,
   "metadata": {},
   "outputs": [
    {
     "name": "stdout",
     "output_type": "stream",
     "text": [
      "La somme de 67 et 10 est 77\n"
     ]
    }
   ],
   "source": [
    "additionner(b = 10, a = 67)"
   ]
  },
  {
   "cell_type": "code",
   "execution_count": null,
   "metadata": {},
   "outputs": [],
   "source": [
    "def division(a, b):\n",
    "    quotient = a / b\n",
    "    print(f\"Le quotient de {a} et {b} est {quotient}\")\n",
    "\n",
    "division(a = 5, b = 3)\n",
    "division(b = 3, a = 5)\n",
    "\n",
    "division(3, 5)\n",
    "division(5, 3)"
   ]
  },
  {
   "cell_type": "code",
   "execution_count": null,
   "metadata": {},
   "outputs": [],
   "source": [
    "def puissance(base, exposant):\n",
    "    resultat = base ** exposant\n",
    "    print(f\"{base} élevé à la puissance {exposant} est égal {resultat}\")\n",
    "    \n",
    "puissance(exposant = 2, base =  3)"
   ]
  },
  {
   "cell_type": "code",
   "execution_count": 11,
   "metadata": {},
   "outputs": [
    {
     "name": "stdout",
     "output_type": "stream",
     "text": [
      "Le périmètre d'un cercle de rayon 5 est 31.42\n"
     ]
    }
   ],
   "source": [
    "import math\n",
    "\n",
    "def perimetre_cercle(rayon):\n",
    "    perimetre = 2 * math.pi * rayon\n",
    "    print(f\"Le périmètre d'un cercle de rayon {rayon} est {perimetre:.2f}\")\n",
    "\n",
    "perimetre_cercle(5)"
   ]
  },
  {
   "cell_type": "markdown",
   "metadata": {},
   "source": [
    "Les paramètres de fonction sont des variables spécifiées dans la définition d'une fonction. Ils agissent comme des placeholders pour les valeurs (arguments) que la fonction recevra lorsqu'elle est appelée.\n",
    "\n",
    "- **Différence entre Paramètres et Arguments**\n",
    "\n",
    "    - **Paramètres** sont les noms donnés aux variables dans la définition de la fonction.\n",
    "    Ils sont utilisés dans la fonction pour se référer aux valeurs qui seront passées lors de l'appel de la fonction.\n",
    "\n",
    "    - **Arguments** sont les valeurs réelles passées à la fonction lorsqu'elle est appelée. \n",
    "    Ces valeurs sont affectées aux paramètres correspondants de la fonction.\n",
    "\n",
    "- **Valeurs par Défaut des Paramètres**\n",
    "Les fonctions peuvent avoir des paramètres avec des valeurs par défaut. Ces valeurs sont utilisées si aucun argument correspondant n'est fourni lors de l'appel de la fonction.\n",
    "\n",
    "```python\n",
    "def ma_fonction(param1, param2=42):\n",
    "    print(f\"Paramètre 1 : {param1}, Paramètre 2 : {param2}\")\n",
    "```\n",
    "\n",
    "Dans cet exemple, `param2` a une valeur par défaut de `42`. Si `ma_fonction` est appelée sans un second argument, `param2` utilisera cette valeur par défaut.\n",
    "\n",
    "Les valeurs par défaut rendent les fonctions plus flexibles et permettent d'éviter des erreurs si certains arguments ne sont pas essentiels. Voici un exemple d'appel de la fonction avec et sans le second argument :\n",
    "\n",
    "```python\n",
    "ma_fonction(\"test\")         # Utilise la valeur par défaut pour param2\n",
    "ma_fonction(\"test\", 24)     # Remplace la valeur par défaut de param2\n",
    "```\n",
    "\n",
    "- **Types de Fonctions**\n",
    "Il existe deux types principaux de fonctions : celles qui retournent une valeur et celles qui ne retournent rien.\n",
    "\n",
    "    - **Fonctions avec Retour** : Une fonction avec retour renvoie une valeur à l'endroit où elle est appelée. \n",
    "    Ce retour est effectué en utilisant le mot-clé `return`.\n",
    "    - **Fonctions sans Retour**: Les fonctions sans retour effectuent des actions mais ne renvoient aucune valeur.\n",
    "     Elles sont souvent utilisées pour effectuer une tâche, comme afficher un message ou modifier des données.\n",
    "\n",
    "```python\n",
    "def ma_fonction():\n",
    "    return \"valeur retournée\"\n",
    "```\n",
    "Cette fonction retourne la chaîne de caractères `\"valeur retournée\"`. \n",
    "Lorsqu'elle est appelée, on peut récupérer cette valeur :\n",
    "\n",
    "```python\n",
    "resultat = ma_fonction()\n",
    "print(resultat)  # Affiche \"valeur retournée\"\n",
    "```\n",
    "\n",
    "```python\n",
    "def ma_fonction():\n",
    "    print(\"Fonction exécutée\")\n",
    "```\n",
    "Cette fonction affiche un message mais ne retourne rien. \n",
    "L'appel de cette fonction se concentre sur l'effet produit (ici, l'affichage) plutôt que sur une valeur retournée.\n"
   ]
  },
  {
   "cell_type": "code",
   "execution_count": 12,
   "metadata": {},
   "outputs": [],
   "source": [
    "def ma_fonction(param1, param2=42):\n",
    "    print(f\"Paramètre 1 : {param1}, Paramètre 2 : {param2}\")"
   ]
  },
  {
   "cell_type": "code",
   "execution_count": 13,
   "metadata": {},
   "outputs": [
    {
     "name": "stdout",
     "output_type": "stream",
     "text": [
      "Paramètre 1 : 2, Paramètre 2 : 42\n"
     ]
    }
   ],
   "source": [
    "ma_fonction(2)"
   ]
  },
  {
   "cell_type": "code",
   "execution_count": 14,
   "metadata": {},
   "outputs": [
    {
     "name": "stdout",
     "output_type": "stream",
     "text": [
      "Paramètre 1 : 2, Paramètre 2 : 30\n"
     ]
    }
   ],
   "source": [
    "ma_fonction(2, 30)"
   ]
  },
  {
   "cell_type": "code",
   "execution_count": 15,
   "metadata": {},
   "outputs": [
    {
     "name": "stdout",
     "output_type": "stream",
     "text": [
      "2.5\n",
      "None\n"
     ]
    }
   ],
   "source": [
    "def divison_par_deux(a, b = 2):\n",
    "    print( a / b )\n",
    "\n",
    "resultat = divison_par_deux(5)\n",
    "print(resultat)"
   ]
  },
  {
   "cell_type": "code",
   "execution_count": 16,
   "metadata": {},
   "outputs": [
    {
     "name": "stdout",
     "output_type": "stream",
     "text": [
      "2.5\n"
     ]
    }
   ],
   "source": [
    "def divison_par_deux(a, b = 2):\n",
    "    return a / b\n",
    "\n",
    "resultat = divison_par_deux(5)\n",
    "print(resultat)"
   ]
  },
  {
   "cell_type": "code",
   "execution_count": 17,
   "metadata": {},
   "outputs": [
    {
     "name": "stdout",
     "output_type": "stream",
     "text": [
      "16\n",
      "32.0\n",
      "True\n"
     ]
    }
   ],
   "source": [
    "def carre(nombre):\n",
    "    return nombre * nombre\n",
    "\n",
    "resultat = carre(4)\n",
    "print(resultat)  # Affichera 16\n",
    "\n",
    "def celsius_en_fahrenheit(celsius):\n",
    "    return (celsius * 9/5) + 32\n",
    "\n",
    "temperature_fahrenheit = celsius_en_fahrenheit(0)\n",
    "print(temperature_fahrenheit)  # Affichera 32\n",
    "\n",
    "def est_pair(nombre):\n",
    "    return nombre % 2 == 0\n",
    "\n",
    "resultat = est_pair(10)\n",
    "print(resultat)  # Affichera True\n",
    "\n",
    "def maximum(a, b):\n",
    "    if a > b:\n",
    "        return a\n",
    "    else:\n",
    "        return b\n"
   ]
  },
  {
   "cell_type": "code",
   "execution_count": null,
   "metadata": {},
   "outputs": [],
   "source": [
    "max_nombre = maximum(10, 20)\n",
    "print(max_nombre)  # Affichera 20"
   ]
  },
  {
   "cell_type": "markdown",
   "metadata": {},
   "source": [
    "- **Portée des Variables**\n",
    "\n",
    "La portée d'une variable détermine où dans le code elle est accessible. En Python, les variables peuvent avoir une portée locale ou globale."
   ]
  },
  {
   "cell_type": "code",
   "execution_count": 21,
   "metadata": {},
   "outputs": [
    {
     "data": {
      "text/plain": [
       "'global'"
      ]
     },
     "execution_count": 21,
     "metadata": {},
     "output_type": "execute_result"
    }
   ],
   "source": [
    "x = \"global\"  # Variable globale\n",
    "x"
   ]
  },
  {
   "cell_type": "code",
   "execution_count": 22,
   "metadata": {},
   "outputs": [
    {
     "name": "stdout",
     "output_type": "stream",
     "text": [
      "local\n"
     ]
    },
    {
     "data": {
      "text/plain": [
       "'global'"
      ]
     },
     "execution_count": 22,
     "metadata": {},
     "output_type": "execute_result"
    }
   ],
   "source": [
    "def ma_fonction():\n",
    "    x = \"local\"  # Variable locale\n",
    "    print(x)\n",
    "\n",
    "ma_fonction()\n",
    "x"
   ]
  },
  {
   "cell_type": "markdown",
   "metadata": {},
   "source": [
    "Les variables globales sont utiles pour partager des données entre différentes parties d'un programme.\n",
    "\n",
    "Cependant, il faut les utiliser avec prudence pour éviter des problèmes de conception.\n"
   ]
  },
  {
   "cell_type": "code",
   "execution_count": 23,
   "metadata": {},
   "outputs": [
    {
     "name": "stdout",
     "output_type": "stream",
     "text": [
      "10\n",
      "20\n"
     ]
    }
   ],
   "source": [
    "# le mot-clé `global` est utilisé pour modifier la variable globale\n",
    "#  `z` à l'intérieur de la fonction `modifier_globale`.\n",
    "\n",
    "z = 10\n",
    "\n",
    "def modifier_globale():\n",
    "    global z\n",
    "    z = 20\n",
    "\n",
    "print(z)  # Affiche 10\n",
    "modifier_globale()\n",
    "print(z)  # Affiche 20"
   ]
  },
  {
   "cell_type": "code",
   "execution_count": null,
   "metadata": {},
   "outputs": [],
   "source": [
    "# Les arguments mot-clé permettent de passer des arguments\n",
    "#  à une fonction en spécifiant le nom du paramètre.\n",
    "def ma_fonction(nom, age):\n",
    "    print(f\"Nom : {nom}, Âge : {age}\")\n",
    "\n",
    "ma_fonction(age=25, nom=\"Alice\")"
   ]
  },
  {
   "cell_type": "markdown",
   "metadata": {},
   "source": [
    "- **Nombre Variable d'Arguments**\n",
    "\n",
    "Vous pouvez créer des fonctions qui acceptent un nombre variable d'arguments grâce\n",
    " à `*args` pour les listes et `**kwargs` pour les dictionnaires de mots-clés.\n"
   ]
  },
  {
   "cell_type": "code",
   "execution_count": 24,
   "metadata": {},
   "outputs": [
    {
     "ename": "TypeError",
     "evalue": "multiplication() missing 4 required positional arguments: 'c', 'd', 'e', and 'f'",
     "output_type": "error",
     "traceback": [
      "\u001b[1;31m---------------------------------------------------------------------------\u001b[0m",
      "\u001b[1;31mTypeError\u001b[0m                                 Traceback (most recent call last)",
      "Cell \u001b[1;32mIn[24], line 4\u001b[0m\n\u001b[0;32m      1\u001b[0m \u001b[38;5;28;01mdef\u001b[39;00m \u001b[38;5;21mmultiplication\u001b[39m(a, b, c, d, e, f):\n\u001b[0;32m      2\u001b[0m     \u001b[38;5;28;01mreturn\u001b[39;00m a \u001b[38;5;241m*\u001b[39m b\n\u001b[1;32m----> 4\u001b[0m \u001b[43mmultiplication\u001b[49m\u001b[43m(\u001b[49m\u001b[38;5;241;43m2\u001b[39;49m\u001b[43m,\u001b[49m\u001b[43m \u001b[49m\u001b[38;5;241;43m3\u001b[39;49m\u001b[43m)\u001b[49m\n",
      "\u001b[1;31mTypeError\u001b[0m: multiplication() missing 4 required positional arguments: 'c', 'd', 'e', and 'f'"
     ]
    }
   ],
   "source": [
    "def multiplication(a, b, c, d, e, f):\n",
    "    return a * b\n",
    "\n",
    "multiplication(2, 3)"
   ]
  },
  {
   "cell_type": "code",
   "execution_count": 57,
   "metadata": {},
   "outputs": [],
   "source": [
    "import numpy as np\n",
    "# arguments arbitraire on ne connait pas le nombre de parametre à l'avance\n",
    "def multiplication(*nombre):\n",
    "    res = np.prod(nombre)\n",
    "    return res"
   ]
  },
  {
   "cell_type": "code",
   "execution_count": 58,
   "metadata": {},
   "outputs": [
    {
     "data": {
      "text/plain": [
       "4320"
      ]
     },
     "execution_count": 58,
     "metadata": {},
     "output_type": "execute_result"
    }
   ],
   "source": [
    "multiplication(4, 3, 4, 90)"
   ]
  },
  {
   "cell_type": "code",
   "execution_count": null,
   "metadata": {},
   "outputs": [],
   "source": [
    "def multiplication(*nombre):\n",
    "    print(nombre[0]*nombre[1]*nombre[2]*nombre[3])"
   ]
  },
  {
   "cell_type": "code",
   "execution_count": 59,
   "metadata": {},
   "outputs": [
    {
     "data": {
      "text/plain": [
       "4320"
      ]
     },
     "execution_count": 59,
     "metadata": {},
     "output_type": "execute_result"
    }
   ],
   "source": [
    "multiplication(4, 3, 4, 90)"
   ]
  },
  {
   "cell_type": "code",
   "execution_count": null,
   "metadata": {},
   "outputs": [],
   "source": [
    "def param_args(*parametres):\n",
    "    print(parametres[0]*parametres[1])\n",
    "    print(f\"Message : {parametres[2]}\")\n",
    "    \n",
    "param_args(2, 3, \"Salut!\")"
   ]
  },
  {
   "cell_type": "code",
   "execution_count": null,
   "metadata": {},
   "outputs": [],
   "source": [
    "args_tuple = (5, 6, 8, 9)\n",
    "nombre_args(*args_tuple) # mettre etoile pour le tuple"
   ]
  },
  {
   "cell_type": "code",
   "execution_count": null,
   "metadata": {},
   "outputs": [],
   "source": [
    "# pratique pour définir des clé d'arguments\n",
    "def nombre_kwarg(**nombre):\n",
    "    print('Mon age est : ' + nombre['age'] + ' ans' + ' et ma taille est : ' + nombre[\"taille\"] + ' metres')\n",
    "\n",
    "nombre_kwarg(age  = '15', taille = '1.65', profession = \" Dev\")"
   ]
  },
  {
   "cell_type": "code",
   "execution_count": 60,
   "metadata": {},
   "outputs": [
    {
     "name": "stdout",
     "output_type": "stream",
     "text": [
      "args: (1, 2, 3)\n",
      "kwargs: {'nom': 'Alice', 'age': 25}\n"
     ]
    }
   ],
   "source": [
    "# `args` est un tuple contenant tous les arguments positionnels\n",
    "# `kwargs` est un dictionnaire contenant tous les arguments nommés.\n",
    "\n",
    "def ma_fonction(*args, **kwargs):\n",
    "    print(\"args:\", args)\n",
    "    print(\"kwargs:\", kwargs)\n",
    "\n",
    "ma_fonction(1, 2, 3, nom=\"Alice\", age=25)\n"
   ]
  },
  {
   "cell_type": "markdown",
   "metadata": {},
   "source": [
    "- **Bonnes Pratiques**\n",
    "Nommer clairement vos fonctions est crucial pour la lisibilité et la maintenabilité de votre code. Les noms de fonctions doivent être descriptifs et refléter ce qu'ils font.  \n",
    "    - Utilisez des noms descriptifs.\n",
    "    - Privilégiez les verbes pour les fonctions effectuant des actions.\n",
    "    - Évitez les abréviations non évidentes.\n",
    "Documenter vos fonctions avec des **docstrings**, aide d'autres programmeurs (et vous-même dans le futur) à comprendre rapidement ce que fait votre fonction.\n",
    "\n",
    "```python\n",
    "def ma_fonction():\n",
    "    \"\"\"\n",
    "    Description de ce que fait la fonction.\n",
    "    Peut inclure des détails sur les paramètres et la valeur de retour.\n",
    "    \"\"\"\n",
    "    # corps de la fonction\n",
    "```\n",
    "Les docstrings sont placées juste sous la définition de la fonction et sont entourées de triples guillemets."
   ]
  },
  {
   "cell_type": "code",
   "execution_count": null,
   "metadata": {},
   "outputs": [],
   "source": [
    "# fonction qui renvoie un nombre à la puissance\n",
    "def nombre_puissance(nombre, puissance): \n",
    "    # documenter le code\n",
    "    \"\"\"\n",
    "    cette fonction calcule un nombre à la puissance et retourne le résultat.    \n",
    "    Parameters:    \n",
    "    nombre    (int): le premier nombre \n",
    "    puissance (int): le deuxième nombre    \n",
    "    Returns   (int): le resultat nombre a la puissance     \n",
    "    \n",
    "    \"\"\"\n",
    "    return nombre ** puissance\n",
    "\n",
    "# interaction  avec un utilisateur \n",
    "num = int(input(\"Saississez un nombre entier : \"))\n",
    "power = int(input(\"Saississez une puissance : \"))\n",
    "\n",
    "print(\"Le résultat est :\", nombre_puissance(nombre = num, puissance = power))\n"
   ]
  },
  {
   "cell_type": "markdown",
   "metadata": {},
   "source": [
    "- **Les fonctions anonymes : `lambda`**\n",
    "\n",
    "En Python, le mot-clé **lambda** est utilisé pour définir des fonctions anonymes, également appelées fonctions lambda.\n",
    "\n",
    "Les fonctions lambda sont des fonctions qui ne sont pas définies avec un nom, \n",
    "mais qui peuvent être utilisées dans des expressions ou des fonctions.\n",
    "\n",
    "Elles sont souvent utilisées dans des situations où une fonction simple est nécessaire pour une tâche spécifique, comme trier une liste ou filtrer des éléments.\n"
   ]
  },
  {
   "cell_type": "code",
   "execution_count": null,
   "metadata": {},
   "outputs": [],
   "source": [
    "# Avec une lambda function :\n",
    "c_to_f = lambda x: (x * 9/5) + 32 \n",
    "c_to_f(0)"
   ]
  },
  {
   "cell_type": "code",
   "execution_count": null,
   "metadata": {},
   "outputs": [],
   "source": [
    "people = [{'name': 'Alice', 'age': 25}, \n",
    "          {'name': 'Bob', 'age': 30}, \n",
    "          {'name': 'Charlie', 'age': 20}]\n",
    "sorted(people, key=lambda x: x['age'])"
   ]
  },
  {
   "cell_type": "code",
   "execution_count": null,
   "metadata": {},
   "outputs": [],
   "source": [
    "ma_liste = ['abcd', 'abc', 'a', 'ab', 'abcde']\n",
    "sorted(ma_liste, key=lambda x: len(x))"
   ]
  },
  {
   "cell_type": "code",
   "execution_count": null,
   "metadata": {},
   "outputs": [],
   "source": [
    "carre  = lambda x: x**2\n",
    "liste_carre = [carre(nombre) for nombre in [5, 9, 10]]\n",
    "liste_carre\n",
    "\n",
    "liste_carre = [(lambda x: x**2)(nombre) for nombre in [5, 9, 10]]\n",
    "liste_carre"
   ]
  },
  {
   "cell_type": "markdown",
   "metadata": {},
   "source": [
    "<a id=\"3-gestion-des-exceptions\"></a>\n",
    "## 3. Gestion des exceptions"
   ]
  },
  {
   "cell_type": "markdown",
   "metadata": {},
   "source": [
    "<a id=\"31-definition\"></a>\n",
    "### 3.1 Définition\n",
    "**Une exception est une erreur** qui se produit pendant l'exécution du programme, contrairement aux erreurs de syntaxe qui sont détectées avant l'exécution. Les exceptions peuvent être dues à diverses raisons, telles que des entrées invalides, des opérations mathématiques impossibles, des manipulations de fichiers incorrectes, etc.\n",
    "\n",
    "Voici quelques **exemples d'exceptions** fréquemment rencontrées :\n",
    "\n",
    "- `IndexError` : Se produit lorsqu'on tente d'accéder à un index qui n'existe pas dans une séquence (comme une liste ou un tuple)."
   ]
  },
  {
   "cell_type": "code",
   "execution_count": 3,
   "metadata": {},
   "outputs": [
    {
     "ename": "IndexError",
     "evalue": "list index out of range",
     "output_type": "error",
     "traceback": [
      "\u001b[1;31m---------------------------------------------------------------------------\u001b[0m",
      "\u001b[1;31mIndexError\u001b[0m                                Traceback (most recent call last)",
      "Cell \u001b[1;32mIn[3], line 2\u001b[0m\n\u001b[0;32m      1\u001b[0m ma_liste \u001b[38;5;241m=\u001b[39m [\u001b[38;5;124m\"\u001b[39m\u001b[38;5;124mA\u001b[39m\u001b[38;5;124m\"\u001b[39m, \u001b[38;5;241m3\u001b[39m, \u001b[38;5;124m\"\u001b[39m\u001b[38;5;124mserpent\u001b[39m\u001b[38;5;124m\"\u001b[39m]\n\u001b[1;32m----> 2\u001b[0m element \u001b[38;5;241m=\u001b[39m ma_liste[\u001b[38;5;241m5\u001b[39m]\n",
      "\u001b[1;31mIndexError\u001b[0m: list index out of range"
     ]
    }
   ],
   "source": [
    "ma_liste = [\"A\", 3, \"serpent\"]\n",
    "element = ma_liste[5]  # IndexError car l'index 5 n'existe pas dans une liste de taille 3"
   ]
  },
  {
   "cell_type": "markdown",
   "metadata": {},
   "source": [
    "- `ValueError` : Apparaît lorsqu'une fonction reçoit un argument de type correct mais d'une valeur inappropriée."
   ]
  },
  {
   "cell_type": "code",
   "execution_count": 5,
   "metadata": {},
   "outputs": [
    {
     "data": {
      "text/plain": [
       "123373829173487472474"
      ]
     },
     "execution_count": 5,
     "metadata": {},
     "output_type": "execute_result"
    }
   ],
   "source": [
    "nombre = int(\"123373829173487472474\")\n",
    "nombre"
   ]
  },
  {
   "cell_type": "code",
   "execution_count": 6,
   "metadata": {},
   "outputs": [
    {
     "ename": "ValueError",
     "evalue": "invalid literal for int() with base 10: 'abc'",
     "output_type": "error",
     "traceback": [
      "\u001b[1;31m---------------------------------------------------------------------------\u001b[0m",
      "\u001b[1;31mValueError\u001b[0m                                Traceback (most recent call last)",
      "Cell \u001b[1;32mIn[6], line 1\u001b[0m\n\u001b[1;32m----> 1\u001b[0m nombre \u001b[38;5;241m=\u001b[39m \u001b[38;5;28mint\u001b[39m(\u001b[38;5;124m\"\u001b[39m\u001b[38;5;124mabc\u001b[39m\u001b[38;5;124m\"\u001b[39m)\n",
      "\u001b[1;31mValueError\u001b[0m: invalid literal for int() with base 10: 'abc'"
     ]
    }
   ],
   "source": [
    "nombre = int(\"abc\")  # ValueError car \"abc\" ne peut pas être converti en entier"
   ]
  },
  {
   "cell_type": "markdown",
   "metadata": {},
   "source": [
    "- `TypeError` : Se produit lorsqu'une opération ou fonction est appliquée à un objet d'un type inapproprié."
   ]
  },
  {
   "cell_type": "code",
   "execution_count": 8,
   "metadata": {},
   "outputs": [
    {
     "data": {
      "text/plain": [
       "15"
      ]
     },
     "execution_count": 8,
     "metadata": {},
     "output_type": "execute_result"
    }
   ],
   "source": [
    "somme = 10 + 5 \n",
    "somme"
   ]
  },
  {
   "cell_type": "code",
   "execution_count": 10,
   "metadata": {},
   "outputs": [
    {
     "data": {
      "text/plain": [
       "'message : voici mon texte'"
      ]
     },
     "execution_count": 10,
     "metadata": {},
     "output_type": "execute_result"
    }
   ],
   "source": [
    "\"message\" + \" : voici mon texte\" "
   ]
  },
  {
   "cell_type": "code",
   "execution_count": 11,
   "metadata": {},
   "outputs": [
    {
     "ename": "TypeError",
     "evalue": "can only concatenate str (not \"int\") to str",
     "output_type": "error",
     "traceback": [
      "\u001b[1;31m---------------------------------------------------------------------------\u001b[0m",
      "\u001b[1;31mTypeError\u001b[0m                                 Traceback (most recent call last)",
      "Cell \u001b[1;32mIn[11], line 1\u001b[0m\n\u001b[1;32m----> 1\u001b[0m somme \u001b[38;5;241m=\u001b[39m \u001b[38;5;124m\"\u001b[39m\u001b[38;5;124mtexte\u001b[39m\u001b[38;5;124m\"\u001b[39m \u001b[38;5;241m+\u001b[39m \u001b[38;5;241m5\u001b[39m\n",
      "\u001b[1;31mTypeError\u001b[0m: can only concatenate str (not \"int\") to str"
     ]
    }
   ],
   "source": [
    "somme = \"texte\" + 5  # TypeError car on ne peut pas ajouter une chaîne de caractères et un entier"
   ]
  },
  {
   "cell_type": "markdown",
   "metadata": {},
   "source": [
    "- `FileNotFoundError` : Levée lorsqu'une tentative de lecture d'un fichier échoue parce que le fichier n'existe pas."
   ]
  },
  {
   "cell_type": "code",
   "execution_count": 17,
   "metadata": {},
   "outputs": [],
   "source": [
    "# with open(\"../data/Orgueil_et_Prejuges.txt\", \"r\", encoding = 'utf-8') as fichier:\n",
    "#     contenu = fichier.read()  \n",
    "\n",
    "# print(contenu)"
   ]
  },
  {
   "cell_type": "code",
   "execution_count": 12,
   "metadata": {},
   "outputs": [
    {
     "ename": "FileNotFoundError",
     "evalue": "[Errno 2] No such file or directory: 'fichier_inexistant.txt'",
     "output_type": "error",
     "traceback": [
      "\u001b[1;31m---------------------------------------------------------------------------\u001b[0m",
      "\u001b[1;31mFileNotFoundError\u001b[0m                         Traceback (most recent call last)",
      "Cell \u001b[1;32mIn[12], line 1\u001b[0m\n\u001b[1;32m----> 1\u001b[0m \u001b[38;5;28;01mwith\u001b[39;00m \u001b[38;5;28mopen\u001b[39m(\u001b[38;5;124m\"\u001b[39m\u001b[38;5;124mfichier_inexistant.txt\u001b[39m\u001b[38;5;124m\"\u001b[39m, \u001b[38;5;124m\"\u001b[39m\u001b[38;5;124mr\u001b[39m\u001b[38;5;124m\"\u001b[39m) \u001b[38;5;28;01mas\u001b[39;00m fichier:\n\u001b[0;32m      2\u001b[0m     contenu \u001b[38;5;241m=\u001b[39m fichier\u001b[38;5;241m.\u001b[39mread()\n",
      "File \u001b[1;32m~\\anaconda3\\Lib\\site-packages\\IPython\\core\\interactiveshell.py:284\u001b[0m, in \u001b[0;36m_modified_open\u001b[1;34m(file, *args, **kwargs)\u001b[0m\n\u001b[0;32m    277\u001b[0m \u001b[38;5;28;01mif\u001b[39;00m file \u001b[38;5;129;01min\u001b[39;00m {\u001b[38;5;241m0\u001b[39m, \u001b[38;5;241m1\u001b[39m, \u001b[38;5;241m2\u001b[39m}:\n\u001b[0;32m    278\u001b[0m     \u001b[38;5;28;01mraise\u001b[39;00m \u001b[38;5;167;01mValueError\u001b[39;00m(\n\u001b[0;32m    279\u001b[0m         \u001b[38;5;124mf\u001b[39m\u001b[38;5;124m\"\u001b[39m\u001b[38;5;124mIPython won\u001b[39m\u001b[38;5;124m'\u001b[39m\u001b[38;5;124mt let you open fd=\u001b[39m\u001b[38;5;132;01m{\u001b[39;00mfile\u001b[38;5;132;01m}\u001b[39;00m\u001b[38;5;124m by default \u001b[39m\u001b[38;5;124m\"\u001b[39m\n\u001b[0;32m    280\u001b[0m         \u001b[38;5;124m\"\u001b[39m\u001b[38;5;124mas it is likely to crash IPython. If you know what you are doing, \u001b[39m\u001b[38;5;124m\"\u001b[39m\n\u001b[0;32m    281\u001b[0m         \u001b[38;5;124m\"\u001b[39m\u001b[38;5;124myou can use builtins\u001b[39m\u001b[38;5;124m'\u001b[39m\u001b[38;5;124m open.\u001b[39m\u001b[38;5;124m\"\u001b[39m\n\u001b[0;32m    282\u001b[0m     )\n\u001b[1;32m--> 284\u001b[0m \u001b[38;5;28;01mreturn\u001b[39;00m io_open(file, \u001b[38;5;241m*\u001b[39margs, \u001b[38;5;241m*\u001b[39m\u001b[38;5;241m*\u001b[39mkwargs)\n",
      "\u001b[1;31mFileNotFoundError\u001b[0m: [Errno 2] No such file or directory: 'fichier_inexistant.txt'"
     ]
    }
   ],
   "source": [
    "with open(\"fichier_inexistant.txt\", \"r\") as fichier:\n",
    "    contenu = fichier.read()  # FileNotFoundError si \"fichier_inexistant.txt\" n'existe pas"
   ]
  },
  {
   "cell_type": "markdown",
   "metadata": {},
   "source": [
    "- `ZeroDivisionError` : Se produit lorsqu'une division par zéro est tentée."
   ]
  },
  {
   "cell_type": "code",
   "execution_count": 18,
   "metadata": {},
   "outputs": [
    {
     "ename": "ZeroDivisionError",
     "evalue": "division by zero",
     "output_type": "error",
     "traceback": [
      "\u001b[1;31m---------------------------------------------------------------------------\u001b[0m",
      "\u001b[1;31mZeroDivisionError\u001b[0m                         Traceback (most recent call last)",
      "Cell \u001b[1;32mIn[18], line 1\u001b[0m\n\u001b[1;32m----> 1\u001b[0m resultat \u001b[38;5;241m=\u001b[39m \u001b[38;5;241m10\u001b[39m \u001b[38;5;241m/\u001b[39m \u001b[38;5;241m0\u001b[39m\n",
      "\u001b[1;31mZeroDivisionError\u001b[0m: division by zero"
     ]
    }
   ],
   "source": [
    "resultat = 10 / 0  # ZeroDivisionError car on ne peut pas diviser par zéro"
   ]
  },
  {
   "cell_type": "markdown",
   "metadata": {},
   "source": [
    "- `NameError` : Se produit lorsqu'une variable n'est pas définie dans le contexte actuel."
   ]
  },
  {
   "cell_type": "code",
   "execution_count": 20,
   "metadata": {},
   "outputs": [
    {
     "name": "stdout",
     "output_type": "stream",
     "text": [
      "Bonjour\n",
      "Bonjour\n",
      "Bonjour\n"
     ]
    }
   ],
   "source": [
    "def ma_fonction():\n",
    "    variable_a_afficher = \"Bonjour\"\n",
    "    print(variable_a_afficher)\n",
    "\n",
    "ma_fonction()\n",
    "ma_fonction()\n",
    "ma_fonction()"
   ]
  },
  {
   "cell_type": "code",
   "execution_count": 21,
   "metadata": {},
   "outputs": [
    {
     "ename": "NameError",
     "evalue": "name 'variable_a_afficher' is not defined",
     "output_type": "error",
     "traceback": [
      "\u001b[1;31m---------------------------------------------------------------------------\u001b[0m",
      "\u001b[1;31mNameError\u001b[0m                                 Traceback (most recent call last)",
      "Cell \u001b[1;32mIn[21], line 1\u001b[0m\n\u001b[1;32m----> 1\u001b[0m \u001b[38;5;28mprint\u001b[39m(variable_a_afficher)\n",
      "\u001b[1;31mNameError\u001b[0m: name 'variable_a_afficher' is not defined"
     ]
    }
   ],
   "source": [
    "print(variable_a_afficher)  # NameError car 'variable_a_afficher' n'est pas définie en dehors de la fonction"
   ]
  },
  {
   "cell_type": "code",
   "execution_count": null,
   "metadata": {},
   "outputs": [],
   "source": []
  },
  {
   "cell_type": "code",
   "execution_count": null,
   "metadata": {},
   "outputs": [],
   "source": []
  },
  {
   "cell_type": "markdown",
   "metadata": {},
   "source": [
    "<a id=\"32-traitement\"></a>\n",
    "### 3.2 **Traitement des exceptions**\n",
    "La **gestion des exceptions** est un aspect crucial de la programmation pour plusieurs raisons :\n",
    "\n",
    "- **Robustesse** : Elle permet à un programme de gérer des situations d'erreur de manière gracieuse sans s'arrêter brusquement.\n",
    "- **Contrôle du Flux** : Elle offre un moyen de diriger le flux d'un programme lorsque des situations exceptionnelles se produisent.\n",
    "- **Débogage Facilité** : Elle aide à identifier les causes des erreurs et à les gérer efficacement.\n",
    "- **Sécurité** : Elle permet de gérer des situations potentiellement dangereuses, comme la lecture de fichiers corrompus ou la gestion de données utilisateur erronées.\n",
    "\n",
    "\n",
    "#### 3.2.1 **Try-except**\n",
    "\n",
    "La syntaxe de base pour la gestion des exceptions en Python utilise les instructions `try` et `except`. \n",
    "\n",
    "Voici un exemple simple :\n",
    "\n",
    "```python\n",
    "try:\n",
    "    # Bloc de code à essayer\n",
    "    result = 10 / 0\n",
    "except ZeroDivisionError:\n",
    "    # Ce bloc est exécuté en cas d'erreur ZeroDivisionError\n",
    "    print(\"Division par zéro !\")\n",
    "```\n",
    "\n",
    "Dans cet exemple, si le code dans le bloc `try` cause une `ZeroDivisionError`, le programme ne s'arrêtera pas. Au lieu de cela, il exécutera le code dans le bloc `except`."
   ]
  },
  {
   "cell_type": "code",
   "execution_count": 30,
   "metadata": {},
   "outputs": [
    {
     "name": "stdout",
     "output_type": "stream",
     "text": [
      "Division par zéro !\n"
     ]
    },
    {
     "data": {
      "text/plain": [
       "13"
      ]
     },
     "execution_count": 30,
     "metadata": {},
     "output_type": "execute_result"
    }
   ],
   "source": [
    "try:\n",
    "    # Bloc de code à essayer\n",
    "    result = 10 / 0\n",
    "except ZeroDivisionError:\n",
    "    # Ce bloc est exécuté en cas d'erreur ZeroDivisionError\n",
    "    print(\"Division par zéro !\")\n",
    "\n",
    "z = 10 + 3 \n",
    "z"
   ]
  },
  {
   "cell_type": "code",
   "execution_count": 32,
   "metadata": {},
   "outputs": [
    {
     "name": "stdout",
     "output_type": "stream",
     "text": [
      "3\n",
      "Ce n'est pas possible, Erreur d'index  : list index out of range\n"
     ]
    }
   ],
   "source": [
    "def gestion_index_error(liste, index):\n",
    "    try:\n",
    "        return liste[index]\n",
    "    except IndexError as e:\n",
    "        return f\"Ce n'est pas possible, Erreur d'index  : {e}\"\n",
    "\n",
    "# Test\n",
    "ma_liste = [\"A\", 3, \"serpent\"]\n",
    "print(gestion_index_error(ma_liste, 1))\n",
    "print(gestion_index_error(ma_liste, 5))\n"
   ]
  },
  {
   "cell_type": "code",
   "execution_count": 33,
   "metadata": {},
   "outputs": [
    {
     "name": "stdout",
     "output_type": "stream",
     "text": [
      "190\n",
      "La conversion n'est pas possible, Erreur de valeur : invalid literal for int() with base 10: 'Robert'\n"
     ]
    }
   ],
   "source": [
    "def conversion_en_entier(entree):\n",
    "    try:\n",
    "        return int(entree)\n",
    "    except ValueError as e:\n",
    "        return f\"La conversion n'est pas possible, Erreur de valeur : {e}\"\n",
    "\n",
    "# Test\n",
    "val_entree = \"190\"\n",
    "print(conversion_en_entier(val_entree))\n",
    "val_entree = \"Robert\"\n",
    "print(conversion_en_entier(val_entree))"
   ]
  },
  {
   "cell_type": "code",
   "execution_count": 34,
   "metadata": {},
   "outputs": [
    {
     "name": "stdout",
     "output_type": "stream",
     "text": [
      "7\n",
      "Erreur de type : can only concatenate str (not \"int\") to str\n"
     ]
    }
   ],
   "source": [
    "def additionner(a, b):\n",
    "    try:\n",
    "        return a + b\n",
    "    except TypeError as e:\n",
    "        return f\"Erreur de type : {e}\"\n",
    "\n",
    "# Test\n",
    "print(additionner(2, 5))\n",
    "print(additionner(\"texte\", 5))"
   ]
  },
  {
   "cell_type": "code",
   "execution_count": 37,
   "metadata": {},
   "outputs": [
    {
     "name": "stdout",
     "output_type": "stream",
     "text": [
      "Erreur de fichier non trouvé : [Errno 2] No such file or directory: '../data/fichier_inexistant.txt'\n"
     ]
    }
   ],
   "source": [
    "def lire_fichier(nom_fichier):\n",
    "    try:\n",
    "        with open(nom_fichier, \"r\", encoding = 'utf-8') as fichier:\n",
    "            return fichier.read()\n",
    "    except FileNotFoundError as e:\n",
    "        return f\"Erreur de fichier non trouvé : {e}\"\n",
    "\n",
    "# Test\n",
    "# data = lire_fichier(\"../data/Orgueil_et_Prejuges.txt\")\n",
    "# print(data)\n",
    "\n",
    "data = lire_fichier(\"../data/fichier_inexistant.txt\")\n",
    "print(data)"
   ]
  },
  {
   "cell_type": "code",
   "execution_count": null,
   "metadata": {},
   "outputs": [],
   "source": [
    "def diviser(a, b):\n",
    "    try:\n",
    "        return a / b\n",
    "    except ZeroDivisionError as e:\n",
    "        return f\"Erreur de division par zéro : {e}\"\n",
    "\n",
    "# Test\n",
    "print(diviser(10, 0))"
   ]
  },
  {
   "cell_type": "code",
   "execution_count": null,
   "metadata": {},
   "outputs": [],
   "source": [
    "def acceder_variable(nom_variable):\n",
    "    try:\n",
    "        return eval(nom_variable) # renvoie contenu de la variable\n",
    "    except NameError as e:\n",
    "        return f\"Erreur de nom : {e}\"\n",
    "\n",
    "# Test   \n",
    "print(acceder_variable(\"val_entree\")) \n",
    "print(acceder_variable(\"variable_inexistante\"))"
   ]
  },
  {
   "cell_type": "code",
   "execution_count": 39,
   "metadata": {},
   "outputs": [
    {
     "name": "stdout",
     "output_type": "stream",
     "text": [
      "Erreur de valeur : invalid literal for int() with base 10: 'a'\n"
     ]
    }
   ],
   "source": [
    "def conversion_en_entier(chaine):\n",
    "    try:\n",
    "        return int(chaine)\n",
    "    except ValueError as e:\n",
    "        return f\"Erreur de valeur : {e}\"\n",
    "\n",
    "def additionner(a, b):\n",
    "    try:\n",
    "        return a + b\n",
    "    except TypeError as e:\n",
    "        return f\"Erreur de type : {e}\"\n",
    "\n",
    "def convertir_et_additionner(chaine1, chaine2):\n",
    "    valeur1 = conversion_en_entier(chaine1)\n",
    "    valeur2 = conversion_en_entier(chaine2)\n",
    "\n",
    "    # Vérification si les conversions se sont bien passées\n",
    "    if isinstance(valeur1, int) and isinstance(valeur2, int):\n",
    "        return additionner(valeur1, valeur2)\n",
    "    else:\n",
    "        # Retourne les messages d'erreur si la conversion a échoué\n",
    "        return valeur1 if isinstance(valeur1, str) else valeur2\n",
    "\n",
    "# Test\n",
    "# print(convertir_et_additionner(\"3\", \"4\"))  \n",
    "print(convertir_et_additionner(\"a\", \"4\"))  "
   ]
  },
  {
   "cell_type": "markdown",
   "metadata": {},
   "source": [
    "Vous pouvez avoir plusieurs blocs `except` pour gérer différents types d'exceptions. Cela permet de réagir de manière appropriée à différentes erreurs qui peuvent survenir.\n",
    "\n",
    "```python\n",
    "try:\n",
    "    # Tentative d'exécution de code\n",
    "    ...\n",
    "except TypeError:\n",
    "    # Gestion de TypeError\n",
    "    ...\n",
    "except ValueError:\n",
    "    # Gestion de ValueError\n",
    "    ...\n",
    "```"
   ]
  },
  {
   "cell_type": "code",
   "execution_count": 50,
   "metadata": {},
   "outputs": [
    {
     "name": "stdout",
     "output_type": "stream",
     "text": [
      "2.0\n",
      "Erreur de division par zéro: division by zero\n",
      "Erreur de type : unsupported operand type(s) for +: 'int' and 'str'\n"
     ]
    }
   ],
   "source": [
    "def operation_complexe(a, b, c):\n",
    "    try:\n",
    "        resultat = (a + b) / c\n",
    "        return resultat\n",
    "    except TypeError as e:\n",
    "        return f\"Erreur de type : {e}\"\n",
    "    except ZeroDivisionError as e:\n",
    "        return f\"Erreur de division par zéro: {e}\"\n",
    "    except Exception as e:\n",
    "        return f\"Autre erreur : {e}\"\n",
    "\n",
    "# Exemple d'utilisation\n",
    "\n",
    "print(operation_complexe(1, 3, 2))  \n",
    "print(operation_complexe(1, 2, 0))  \n",
    "print(operation_complexe(1, \"deux\", 3))  "
   ]
  },
  {
   "cell_type": "markdown",
   "metadata": {},
   "source": [
    "Dans cet exemple, la fonction `operation_complexe` essaie d'effectuer une opération qui peut lever plusieurs types d'exceptions :\n",
    "\n",
    "- `TypeError` si `a`, `b`, ou `c` n'est pas un nombre.\n",
    "- `ZeroDivisionError` si `c` est zéro.\n",
    "- `Exception` comme un filet de sécurité pour attraper d'autres types d'exceptions inattendues.\n",
    "\n",
    "L'utilisation de plusieurs blocs `except` permet de donner des réponses spécifiques à chaque type d'erreur, améliorant ainsi la lisibilité et la maintenance du code.\n",
    "\n",
    "#### 3.2.2 **Le bloc Finally**\n",
    "Le bloc `finally` en Python est utilisé pour définir des actions qui doivent être exécutées après les blocs `try` et `except`, peu importe si une exception a été levée ou non. \n",
    "\n",
    "Ce bloc est souvent utilisé pour des opérations de nettoyage qui doivent s'exécuter dans tous les cas, comme la fermeture de fichiers ou la libération de ressources externes.\n"
   ]
  },
  {
   "cell_type": "code",
   "execution_count": 54,
   "metadata": {},
   "outputs": [
    {
     "name": "stdout",
     "output_type": "stream",
     "text": [
      "Opération terminée (réussie ou non).\n",
      "12\n",
      "Opération terminée (réussie ou non).\n",
      "10\n"
     ]
    }
   ],
   "source": [
    "def calculer_division(a, b):\n",
    "    try:\n",
    "        resultat = a / b\n",
    "        return resultat\n",
    "    except ZeroDivisionError:\n",
    "        return \"Une division par zéro a été tentée.\"\n",
    "    finally:\n",
    "        print(\"Opération terminée (réussie ou non).\")\n",
    "        return a + b\n",
    "\n",
    "# Exemple d'utilisation\n",
    "print(calculer_division(10, 2))  # Pas d'erreur, affiche le résultat et le message de finally\n",
    "print(calculer_division(10, 0))  # Attrape ZeroDivisionError, affiche le message d'erreur et le message de finally\n"
   ]
  },
  {
   "cell_type": "code",
   "execution_count": null,
   "metadata": {},
   "outputs": [],
   "source": [
    "def exemple_finally():\n",
    "    try:\n",
    "        fichier = open(\"../data/Orgueil_et_Prejuges.txt\", \"r\")\n",
    "        contenu = fichier.read()\n",
    "        return contenu\n",
    "    except FileNotFoundError as e:\n",
    "        return f\"Erreur : {e}\"\n",
    "    finally:\n",
    "        fichier.close()\n",
    "        print(\"Fichier fermé.\")\n",
    "\n",
    "# Exemple d'utilisation\n",
    "print(exemple_finally())"
   ]
  },
  {
   "cell_type": "markdown",
   "metadata": {},
   "source": [
    "#### 3.2.2 **Le bloc Else**\n",
    "\n",
    "Utilisez `else` lorsque vous avez besoin d'exécuter du code qui ne doit s'exécuter que si le bloc `try` s'est exécuté sans erreur, mais avant d'exécuter le code dans le bloc `finally`.\n"
   ]
  },
  {
   "cell_type": "code",
   "execution_count": 55,
   "metadata": {},
   "outputs": [
    {
     "name": "stdout",
     "output_type": "stream",
     "text": [
      "Conversion réussie : 1233717237\n",
      "Ce n'est pas un nombre valide.\n"
     ]
    }
   ],
   "source": [
    "def exemple_else(chaine):\n",
    "    try:\n",
    "        num = int(chaine)\n",
    "    except ValueError:\n",
    "        return \"Ce n'est pas un nombre valide.\"\n",
    "    else:\n",
    "        return f\"Conversion réussie : {num}\"\n",
    "\n",
    "# Exemple d'utilisation\n",
    "print(exemple_else(\"1233717237\"))\n",
    "print(exemple_else(\"abc\"))"
   ]
  },
  {
   "cell_type": "code",
   "execution_count": 57,
   "metadata": {},
   "outputs": [],
   "source": [
    "def division_avec_verification(a, b):\n",
    "    try:\n",
    "        resultat = a / b\n",
    "    except ZeroDivisionError:\n",
    "        return \"Une division par zéro a été tentée.\"\n",
    "    else:\n",
    "        if resultat > 50:\n",
    "            return \"Le résultat est étonnamment grand.\"\n",
    "    finally:\n",
    "        print(\"Opération de division terminée (réussie ou non).\")\n"
   ]
  },
  {
   "cell_type": "code",
   "execution_count": 58,
   "metadata": {},
   "outputs": [
    {
     "name": "stdout",
     "output_type": "stream",
     "text": [
      "Opération de division terminée (réussie ou non).\n",
      "Le résultat est étonnamment grand.\n"
     ]
    }
   ],
   "source": [
    "# Exemple d'utilisation\n",
    "print(division_avec_verification(1000, 10))  # Division réussie, vérification dans 'else', puis 'finally'"
   ]
  },
  {
   "cell_type": "code",
   "execution_count": 59,
   "metadata": {},
   "outputs": [
    {
     "name": "stdout",
     "output_type": "stream",
     "text": [
      "Opération de division terminée (réussie ou non).\n",
      "Une division par zéro a été tentée.\n"
     ]
    }
   ],
   "source": [
    "print(division_avec_verification(10, 0))    # Attrape ZeroDivisionError, puis exécute 'finally'"
   ]
  },
  {
   "cell_type": "markdown",
   "metadata": {},
   "source": [
    "<a id=\"33-assertions\"></a>\n",
    "### 3.3 **Assertions**\n",
    "\n",
    "L'instruction `assert` est utilisée pour tester si une condition est vraie. Si la condition est fausse, `AssertionError` est levée.\n",
    "\n",
    "Les assertions sont principalement utilisées comme un moyen de débogage, pour vérifier des conditions internes, tandis que les exceptions sont utilisées pour gérer des erreurs et des conditions exceptionnelles dans le flux normal du programme."
   ]
  },
  {
   "cell_type": "code",
   "execution_count": 62,
   "metadata": {},
   "outputs": [
    {
     "name": "stdout",
     "output_type": "stream",
     "text": [
      "5.0\n"
     ]
    }
   ],
   "source": [
    "def diviser_par_deux(n):\n",
    "    assert n % 2 == 0, \"Le nombre doit être pair.\"\n",
    "    return n / 2\n",
    "\n",
    "# Exemple d'utilisation\n",
    "print(diviser_par_deux(10))  # Fonctionne bien"
   ]
  },
  {
   "cell_type": "code",
   "execution_count": 63,
   "metadata": {},
   "outputs": [
    {
     "ename": "AssertionError",
     "evalue": "Le nombre doit être pair.",
     "output_type": "error",
     "traceback": [
      "\u001b[1;31m---------------------------------------------------------------------------\u001b[0m",
      "\u001b[1;31mAssertionError\u001b[0m                            Traceback (most recent call last)",
      "Cell \u001b[1;32mIn[63], line 1\u001b[0m\n\u001b[1;32m----> 1\u001b[0m \u001b[38;5;28mprint\u001b[39m(diviser_par_deux(\u001b[38;5;241m3\u001b[39m))\n",
      "Cell \u001b[1;32mIn[62], line 2\u001b[0m, in \u001b[0;36mdiviser_par_deux\u001b[1;34m(n)\u001b[0m\n\u001b[0;32m      1\u001b[0m \u001b[38;5;28;01mdef\u001b[39;00m \u001b[38;5;21mdiviser_par_deux\u001b[39m(n):\n\u001b[1;32m----> 2\u001b[0m     \u001b[38;5;28;01massert\u001b[39;00m n \u001b[38;5;241m%\u001b[39m \u001b[38;5;241m2\u001b[39m \u001b[38;5;241m==\u001b[39m \u001b[38;5;241m0\u001b[39m, \u001b[38;5;124m\"\u001b[39m\u001b[38;5;124mLe nombre doit être pair.\u001b[39m\u001b[38;5;124m\"\u001b[39m\n\u001b[0;32m      3\u001b[0m     \u001b[38;5;28;01mreturn\u001b[39;00m n \u001b[38;5;241m/\u001b[39m \u001b[38;5;241m2\u001b[39m\n",
      "\u001b[1;31mAssertionError\u001b[0m: Le nombre doit être pair."
     ]
    }
   ],
   "source": [
    "print(diviser_par_deux(3))  # Déclenche AssertionError"
   ]
  },
  {
   "cell_type": "markdown",
   "metadata": {},
   "source": [
    "<a id=\"34-raise\"></a>\n",
    "### 3.4 **Raise**\n",
    "\n",
    "L'instruction `raise` en Python est un outil crucial pour la gestion des exceptions, permettant aux développeurs de déclencher explicitement des exceptions lorsqu'une condition spécifique se produit dans le programme. \n",
    "\n",
    "Les exceptions levées avec `raise` peuvent être capturées et gérées en amont, permettant aux développeurs de réagir de manière appropriée aux différents types de problèmes qui peuvent survenir, améliorant ainsi la robustesse et la fiabilité du code.\n",
    "\n",
    "Dans l'exemple suivant, si `set_age` est appelée avec un âge négatif, une `ValueError` est levée, indiquant que l'âge ne peut pas être négatif.\n"
   ]
  },
  {
   "cell_type": "code",
   "execution_count": 65,
   "metadata": {},
   "outputs": [
    {
     "name": "stdout",
     "output_type": "stream",
     "text": [
      "L'âge ne peut pas être négatif.\n"
     ]
    }
   ],
   "source": [
    "def set_age(age):\n",
    "    if age < 0:\n",
    "        raise ValueError(\"L'âge ne peut pas être négatif.\")\n",
    "    print(f\"Âge défini à {age} ans.\")\n",
    "\n",
    "try:\n",
    "    set_age(-10)\n",
    "except ValueError as e:\n",
    "    print(e)"
   ]
  },
  {
   "cell_type": "markdown",
   "metadata": {},
   "source": [
    "Ici, `diviser` lève une `ZeroDivisionError` si le diviseur (`b`) est zéro. Cela empêche l'exécution d'une division par zéro, ce qui entraînerait une erreur en Python.\n"
   ]
  },
  {
   "cell_type": "code",
   "execution_count": 66,
   "metadata": {},
   "outputs": [
    {
     "name": "stdout",
     "output_type": "stream",
     "text": [
      "Le diviseur ne peut pas être zéro.\n"
     ]
    }
   ],
   "source": [
    "def diviser(a, b):\n",
    "    if b == 0:\n",
    "        raise ZeroDivisionError(\"Le diviseur ne peut pas être zéro.\")\n",
    "    return a / b\n",
    "\n",
    "try:\n",
    "    resultat = diviser(10, 0)\n",
    "except ZeroDivisionError as e:\n",
    "    print(e)"
   ]
  },
  {
   "cell_type": "markdown",
   "metadata": {},
   "source": [
    "<a id=\"4-lecture-et-ecriture-de-fichiers\"></a>\n",
    "## 4. Lecture et écriture de fichiers"
   ]
  },
  {
   "cell_type": "markdown",
   "metadata": {},
   "source": [
    "### Gestion simple des fichiers \n",
    "\n",
    "**1. Fonction `open()`**\n",
    "   - La fonction `open()` est utilisée pour ouvrir un fichier en Python. \n",
    "   - Syntaxe : `open(nom_de_fichier, mode)`. \n",
    "   - Le `nom_de_fichier` spécifie le chemin d'accès, tandis que le `mode` détermine le type d'opération (lecture, écriture, etc.).\n",
    "\n",
    "**2. Modes d'Ouverture de Fichier**\n",
    "- r, pour une ouverture en lecture (READ).\n",
    "- w, pour une ouverture en écriture (WRITE), à chaque ouverture le contenu du fichier est écrasé. Si le fichier n'existe pas python le crée.\n",
    "- a, pour une ouverture en mode ajout à la fin du fichier (APPEND). Si le fichier n'existe pas python le crée.\n",
    "- b, pour une ouverture en mode binaire.\n",
    "- t, pour une ouverture en mode texte.\n",
    "- x, crée un nouveau fichier et l'ouvre pour écriture\n",
    "\n",
    "**3. Bonnes Pratiques**\n",
    "   - Utiliser le gestionnaire de contexte `with` pour une meilleure gestion des exceptions et une fermeture automatique du fichier.\n"
   ]
  },
  {
   "cell_type": "code",
   "execution_count": null,
   "metadata": {},
   "outputs": [],
   "source": [
    "chemin_fichier = \"../data/fichier_lu.txt\"\n",
    "\n",
    "# Lire un fichier\n",
    "with open(chemin_fichier, 'r', encoding='utf-8') as fichier:\n",
    "    contenu = fichier.read()\n",
    "    print(contenu)"
   ]
  },
  {
   "cell_type": "code",
   "execution_count": null,
   "metadata": {},
   "outputs": [],
   "source": [
    "# Écrire dans un fichier\n",
    "with open('../data/fichier_ecris.txt', 'w') as fichier:\n",
    "    fichier.write(\"Bonjour.\")"
   ]
  },
  {
   "cell_type": "markdown",
   "metadata": {},
   "source": [
    "**4. Lire un fichier ligne par ligne**\n",
    "   - Utilisation de `for line in file:` pour lire un fichier ligne par ligne.\n",
    "   - Cela permet de traiter de grands fichiers sans surcharger la mémoire.\n",
    "   - Utiliser `read()`, `readline()`, `readlines()`**\n",
    "      - `read()` lit tout le contenu du fichier.\n",
    "      - `readline()` lit une ligne à la fois.\n",
    "      - `readlines()` lit toutes les lignes et les retourne sous forme de liste."
   ]
  },
  {
   "cell_type": "code",
   "execution_count": null,
   "metadata": {},
   "outputs": [],
   "source": [
    "chemin_fichier = \"../data/fichier_lu.txt\"\n",
    "\n",
    "# Lire un fichier ligne par ligne\n",
    "with open(chemin_fichier, 'r', encoding='utf-8') as fichier:\n",
    "    for ligne in fichier:\n",
    "        print(\"***\")\n",
    "        print(ligne.strip())"
   ]
  },
  {
   "cell_type": "markdown",
   "metadata": {},
   "source": [
    "**5. Ecrire un fichier ligne par ligne**\n",
    "   - `writelines()` prend une liste de chaînes de caractères et les écrit dans un fichier."
   ]
  },
  {
   "cell_type": "code",
   "execution_count": null,
   "metadata": {},
   "outputs": [],
   "source": [
    "# Écrire dans un fichier\n",
    "with open('../data/rapport.txt', 'w',  encoding='utf-8') as fichier:\n",
    "    fichier.write(\"Rapport du Jour\\n\")\n",
    "    fichier.write(\"=====================\\n\")\n",
    "    fichier.write(\"Le temps était ensoleillé et le parc était paisible.\\n\")\n",
    "\n",
    "# Écrire une liste de lignes\n",
    "lignes = [\"Première ligne\\n\", \"Deuxième ligne\\n\", \"Troisième ligne\\n\"]\n",
    "with open('../data/rapport.txt', 'a', encoding='utf-8') as fichier:\n",
    "    fichier.writelines(lignes)"
   ]
  },
  {
   "cell_type": "markdown",
   "metadata": {},
   "source": [
    "### Travailler avec différents formats de fichier\n",
    "   - Utilisation du module `csv` pour lire et écrire des fichiers CSV.\n",
    "   - Utilisation du module `json` pour manipuler des données JSON."
   ]
  },
  {
   "cell_type": "code",
   "execution_count": null,
   "metadata": {},
   "outputs": [],
   "source": [
    "import csv\n",
    "import json\n",
    "\n",
    "# Lire un fichier CSV\n",
    "with open('../data/donnees.csv', mode ='r') as fichier_csv:\n",
    "    lecteur_csv = csv.reader(fichier_csv)\n",
    "    for ligne in lecteur_csv:\n",
    "        print(ligne)"
   ]
  },
  {
   "cell_type": "code",
   "execution_count": null,
   "metadata": {},
   "outputs": [],
   "source": [
    "# Dictionnaire\n",
    "donnees = [{\"nom\": \"Dupont\", \"age\": 30}, {\"nom\": \"Martin\", \"age\": 40, \"ville\": \"Nice\", \"profession\": \"Médecin\"}]\n",
    "print(donnees)"
   ]
  },
  {
   "cell_type": "code",
   "execution_count": null,
   "metadata": {},
   "outputs": [],
   "source": [
    "# Écrire et lire des données JSON\n",
    "with open('../data/donnees.json', 'w', encoding='utf-8') as fichier_json:\n",
    "    json.dump(donnees, fichier_json)"
   ]
  },
  {
   "cell_type": "code",
   "execution_count": null,
   "metadata": {},
   "outputs": [],
   "source": [
    "with open('../data/donnees.json', 'r', encoding='utf-8') as fichier_json:\n",
    "    donnees_lues = json.load(fichier_json)\n",
    "    print(donnees_lues)"
   ]
  },
  {
   "cell_type": "markdown",
   "metadata": {},
   "source": [
    "<a id=\"5-modules-et-bibliotheques\"></a>\n",
    "## 5. Modules et Bibliothèques"
   ]
  },
  {
   "cell_type": "markdown",
   "metadata": {},
   "source": [
    "### 5.1 Numpy \n",
    "\n",
    "La bibliothèque NumPy (http://www.numpy.org/) permet d’effectuer des **calculs numériques** avec Python. Elle introduit une gestion facilitée des tableaux de nombres.\n",
    "\n",
    "Pour utiliser NumPy, vous devez au préalable vous placer dans un environnement qui comprend cette bibliothèque, voir Introduction à Python.\n",
    "\n",
    "Il faut au départ importer le package numpy avec l’instruction suivante :\n"
   ]
  },
  {
   "cell_type": "code",
   "execution_count": null,
   "metadata": {},
   "outputs": [],
   "source": [
    "import numpy as np"
   ]
  },
  {
   "cell_type": "markdown",
   "metadata": {},
   "source": [
    "Les tableaux (en anglais, array) peuvent être créés avec numpy.array(). On utilise des crochets pour délimiter les listes d’éléments dans les tableaux.\n",
    "\n"
   ]
  },
  {
   "cell_type": "code",
   "execution_count": null,
   "metadata": {},
   "outputs": [],
   "source": [
    "a = np.array([1, 2, 3, 4])\n",
    "print(a)\n",
    "type(a)"
   ]
  },
  {
   "cell_type": "code",
   "execution_count": null,
   "metadata": {},
   "outputs": [],
   "source": [
    "print(a[0], a[-1])"
   ]
  },
  {
   "cell_type": "code",
   "execution_count": null,
   "metadata": {},
   "outputs": [],
   "source": [
    "print(a)\n",
    "a.shape"
   ]
  },
  {
   "cell_type": "markdown",
   "metadata": {},
   "source": [
    "**Tableau 2D**\n",
    "\n",
    "Il est possible de créer un tableau 2D en utilisant une liste de listes au moyen de crochets imbriqués. Les listes internes correspondent à des lignes du tableau.\n"
   ]
  },
  {
   "cell_type": "code",
   "execution_count": null,
   "metadata": {},
   "outputs": [],
   "source": [
    "b = np.array([[1, 2, 3], [4, 5, 6]])\n"
   ]
  },
  {
   "cell_type": "code",
   "execution_count": null,
   "metadata": {},
   "outputs": [],
   "source": [
    "print(b)\n",
    "b.shape"
   ]
  },
  {
   "cell_type": "code",
   "execution_count": null,
   "metadata": {},
   "outputs": [],
   "source": [
    "b[0, 2]\n",
    "b[1,2]"
   ]
  },
  {
   "cell_type": "code",
   "execution_count": null,
   "metadata": {},
   "outputs": [],
   "source": [
    "# Ligne entière \n",
    "b[0,:]\n",
    "\n",
    "# Dernière ligne en partant de la fin \n",
    "b[-1,:]\n",
    "\n",
    "# Derniere Colonne entière\n",
    "b[:,-1]\n",
    "\n",
    "# Deux dernieres colonnes\n",
    "b[:, [0, 2]]"
   ]
  },
  {
   "cell_type": "code",
   "execution_count": null,
   "metadata": {},
   "outputs": [],
   "source": [
    "b[:,[0,2]]"
   ]
  },
  {
   "cell_type": "code",
   "execution_count": null,
   "metadata": {},
   "outputs": [],
   "source": [
    "# a random array\n",
    "c = np.random.randint(low=0, high=10, size=[10,5])\n",
    "print(c)\n",
    "c.shape"
   ]
  },
  {
   "cell_type": "markdown",
   "metadata": {},
   "source": [
    "La fonction `numpy.arange` est utilisée pour créer des tableaux avec des valeurs dans un intervalle spécifié."
   ]
  },
  {
   "cell_type": "code",
   "execution_count": null,
   "metadata": {},
   "outputs": [],
   "source": [
    "m = np.arange(2, 100, 2)\n",
    "print(m)"
   ]
  },
  {
   "cell_type": "markdown",
   "metadata": {},
   "source": [
    "La fonction `numpy.linspace()` est utilisée pour créer un tableau de valeurs uniformément espacées sur un intervalle spécifié."
   ]
  },
  {
   "cell_type": "code",
   "execution_count": null,
   "metadata": {},
   "outputs": [],
   "source": [
    "n = np.linspace(3, 9, 10)\n",
    "print(n)"
   ]
  },
  {
   "cell_type": "markdown",
   "metadata": {},
   "source": [
    "**Fonctions Mathématiques**\n"
   ]
  },
  {
   "cell_type": "markdown",
   "metadata": {},
   "source": [
    "1. Fonctions Arithmétiques : `np.add()`, `np.subtract()`, `np.multiply()`, `np.divide()`, `np.power()`"
   ]
  },
  {
   "cell_type": "code",
   "execution_count": null,
   "metadata": {},
   "outputs": [],
   "source": [
    "a = np.array([1, 2, 3])\n",
    "b = np.array([4, 5, 6])\n",
    "result = np.add(a, b)\n",
    "print(result) "
   ]
  },
  {
   "cell_type": "code",
   "execution_count": null,
   "metadata": {},
   "outputs": [],
   "source": [
    "a = np.array([1, 2, 3])\n",
    "result = np.power(a, 2)\n",
    "print(result) "
   ]
  },
  {
   "cell_type": "markdown",
   "metadata": {},
   "source": [
    "2. Fonctions Trigonométriques : `np.sin()`, `np.cos()`, `np.tan()`"
   ]
  },
  {
   "cell_type": "code",
   "execution_count": null,
   "metadata": {},
   "outputs": [],
   "source": [
    "angles = np.array([0, np.pi/2, np.pi])\n",
    "sin_values = np.sin(angles)\n",
    "print(sin_values)  "
   ]
  },
  {
   "cell_type": "markdown",
   "metadata": {},
   "source": [
    "3. Fonctions d'exponentielle et logarithme :`np.exp()`, `np.log()`, `np.log10()`"
   ]
  },
  {
   "cell_type": "code",
   "execution_count": null,
   "metadata": {},
   "outputs": [],
   "source": [
    "x = np.array([1, 2, 3])\n",
    "exp_x = np.exp(x)\n",
    "print(exp_x) "
   ]
  },
  {
   "cell_type": "markdown",
   "metadata": {},
   "source": [
    "4. Fonctions Statistiques :  `np.mean()`, `np.median()`, `np.std()`"
   ]
  },
  {
   "cell_type": "code",
   "execution_count": null,
   "metadata": {},
   "outputs": [],
   "source": [
    "data = np.array([1, 2, 3, 4, 5])\n",
    "mean_data = np.mean(data)\n",
    "print(mean_data)  "
   ]
  },
  {
   "cell_type": "markdown",
   "metadata": {},
   "source": [
    "5. Fonctions d'Arrondi : `np.round()`, `np.floor()`, `np.ceil()`"
   ]
  },
  {
   "cell_type": "code",
   "execution_count": null,
   "metadata": {},
   "outputs": [],
   "source": [
    "values = np.array([1.55, 1.49, -1.27, -1.76])\n",
    "rounded = np.round(values)\n",
    "print(rounded)"
   ]
  },
  {
   "cell_type": "markdown",
   "metadata": {},
   "source": [
    "### 5.2 Pandas\n",
    "Le module `pandas` est une bibliothèque de programmation Python extrêmement populaire, utilisée principalement pour l'analyse de données. Elle fournit des structures de données puissantes et flexibles conçues pour travailler facilement avec des données structurées (comme les tableaux et les séries temporelles) de manière intuitive et efficace. Voici quelques aspects clés de `pandas` :\n",
    "\n",
    "1. **Structures de données principales** : \n",
    "   - **DataFrame** : une structure de données tabulaire avec des lignes et des colonnes étiquetées. C'est similaire à une feuille de calcul Excel ou à une table SQL.\n",
    "   - **Series** : une colonne dans un DataFrame. C'est similaire à une liste en Python, mais avec des fonctionnalités supplémentaires offertes par `pandas`.\n",
    "\n",
    "2. **Manipulation de données** : \n",
    "   - Vous pouvez effectuer des opérations courantes de manipulation de données telles que le tri, le filtrage, la fusion, la jointure et la concaténation.\n",
    "   - `pandas` est excellent pour gérer des données manquantes, remplacer des valeurs, grouper des données, etc.\n",
    "\n",
    "3. **Analyse de données** :\n",
    "   - Il offre des outils pour l'exploration de données, comme le calcul de statistiques et la visualisation.\n",
    "   - Vous pouvez facilement agir sur chaque colonne d'un DataFrame, par exemple pour appliquer des fonctions mathématiques ou de résumé statistique.\n",
    "\n",
    "4. **Interfaçage avec d'autres formats de données** :\n",
    "   - `pandas` peut lire et écrire dans différents formats de fichiers comme CSV, Excel, JSON, HTML, SQL, etc.\n",
    "\n",
    "5. **Avantages en termes de performance** :\n",
    "   - Bien que Python soit un langage interprété, `pandas` est construit sur des bibliothèques comme NumPy, ce qui lui permet d'être rapide et efficace.\n",
    "\n",
    "6. **Utilisation dans divers domaines** :\n",
    "   - Il est largement utilisé dans la finance, l'économie, la statistique, l'analyse de données, la science des données, et plus encore.\n",
    "\n",
    "Pour commencer avec `pandas`, vous devez d'abord l'installer (si ce n'est pas déjà fait) en utilisant pip :\n",
    "\n",
    "```python\n",
    "pip install pandas\n",
    "```\n",
    "\n",
    "Et ensuite, vous pouvez l'importer dans votre script Python :\n",
    "\n",
    "```python\n",
    "import pandas as pd\n",
    "```\n",
    "\n",
    "`pd` est un alias standard pour `pandas`, utilisé pour simplifier la référence à la bibliothèque dans le code.\n",
    "\n",
    "#### 1 - Series "
   ]
  },
  {
   "cell_type": "code",
   "execution_count": null,
   "metadata": {},
   "outputs": [],
   "source": [
    "import pandas as pd"
   ]
  },
  {
   "cell_type": "code",
   "execution_count": null,
   "metadata": {},
   "outputs": [],
   "source": [
    "obj=pd.Series([1,\"John\",3.5,\"Hey\"])"
   ]
  },
  {
   "cell_type": "code",
   "execution_count": null,
   "metadata": {},
   "outputs": [],
   "source": [
    "print(obj)\n",
    "print(obj[0], obj[1])\n",
    "print(obj.values)"
   ]
  },
  {
   "cell_type": "code",
   "execution_count": null,
   "metadata": {},
   "outputs": [],
   "source": [
    "obj2=pd.Series([1,\"John\",3.5,\"Hey\"],\n",
    "               index=[\"a\",\"b\",\"c\",\"d\"])\n"
   ]
  },
  {
   "cell_type": "code",
   "execution_count": null,
   "metadata": {},
   "outputs": [],
   "source": [
    "print(obj2)\n"
   ]
  },
  {
   "cell_type": "code",
   "execution_count": null,
   "metadata": {},
   "outputs": [],
   "source": [
    "print(obj2[\"d\"]) "
   ]
  },
  {
   "cell_type": "code",
   "execution_count": null,
   "metadata": {},
   "outputs": [],
   "source": [
    "print(obj2.index)"
   ]
  },
  {
   "cell_type": "code",
   "execution_count": null,
   "metadata": {},
   "outputs": [],
   "source": [
    "score={\"Johan\":100, \n",
    "       \"Louise\":100,\n",
    "       \"Lucas\":100,\n",
    "       \"Fatima\":100,\n",
    "       \"Ményssa\":5}\n"
   ]
  },
  {
   "cell_type": "code",
   "execution_count": null,
   "metadata": {},
   "outputs": [],
   "source": [
    "type(score)"
   ]
  },
  {
   "cell_type": "code",
   "execution_count": null,
   "metadata": {},
   "outputs": [],
   "source": [
    "names=pd.Series(score) \n",
    "names\n",
    "# type(names)"
   ]
  },
  {
   "cell_type": "code",
   "execution_count": null,
   "metadata": {},
   "outputs": [],
   "source": [
    "# Affiche les entrées de 'names' dont la valeur est supérieure ou égale à 85\n",
    "print(names[names >= 85]) "
   ]
  },
  {
   "cell_type": "code",
   "execution_count": null,
   "metadata": {},
   "outputs": [],
   "source": [
    "# Attribue une nouvelle valeur de 160 à l'entrée correspondant à la clé \"Ményssa\" dans le dictionnaire 'names'\n",
    "names[\"Ményssa\"] = 160\n",
    "print(names)"
   ]
  },
  {
   "cell_type": "code",
   "execution_count": null,
   "metadata": {},
   "outputs": [],
   "source": [
    "# Met à jour les valeurs de 'names' en attribuant la valeur 83 à toutes les \n",
    "# entrées dont la valeur actuelle est inférieure ou égale à 80\n",
    "names[names <= 100] = 83\n",
    "print(names)"
   ]
  },
  {
   "cell_type": "code",
   "execution_count": null,
   "metadata": {},
   "outputs": [],
   "source": [
    "# Vérifie si la clé \"Tom\" existe dans le dictionnaire 'names' \n",
    "\"Dorian\" in names"
   ]
  },
  {
   "cell_type": "code",
   "execution_count": null,
   "metadata": {},
   "outputs": [],
   "source": [
    "# Divise toutes les valeurs de 'names' par 10 et affiche le résultat\n",
    "print(names / 10) "
   ]
  },
  {
   "cell_type": "code",
   "execution_count": null,
   "metadata": {},
   "outputs": [],
   "source": [
    "# Élève au carré toutes les valeurs de 'names' et affiche le résultat\n",
    "print(names ** 2)"
   ]
  },
  {
   "cell_type": "code",
   "execution_count": null,
   "metadata": {},
   "outputs": [],
   "source": [
    "# Vérifie pour chaque entrée de 'names' si la valeur est NaN (Not a Number) \n",
    "names.isnull() "
   ]
  },
  {
   "cell_type": "code",
   "execution_count": null,
   "metadata": {},
   "outputs": [],
   "source": [
    "# Charge les données depuis un fichier CSV\n",
    "games = pd.read_csv(\"../data/vgsalesGlobale.csv\")  \n",
    "\n",
    "# Affiche les 5 premières lignes\n",
    "games.head()  "
   ]
  },
  {
   "cell_type": "code",
   "execution_count": null,
   "metadata": {},
   "outputs": [],
   "source": [
    " # Affiche les types de données\n",
    "games.dtypes "
   ]
  },
  {
   "cell_type": "code",
   "execution_count": null,
   "metadata": {},
   "outputs": [],
   "source": [
    " # Statistiques descriptives pour 'Genre'\n",
    "games.Genre.describe() "
   ]
  },
  {
   "cell_type": "code",
   "execution_count": null,
   "metadata": {},
   "outputs": [],
   "source": [
    "# Compte des genres\n",
    "games.Genre.value_counts()  "
   ]
  },
  {
   "cell_type": "code",
   "execution_count": null,
   "metadata": {},
   "outputs": [],
   "source": [
    "# Compte des genres en pourcentage\n",
    "games.Genre.value_counts(normalize=True)  "
   ]
  },
  {
   "cell_type": "code",
   "execution_count": null,
   "metadata": {},
   "outputs": [],
   "source": [
    " # Type de l'objet renvoyé par value_counts()\n",
    "type(games.Genre) "
   ]
  },
  {
   "cell_type": "code",
   "execution_count": null,
   "metadata": {},
   "outputs": [],
   "source": [
    "games.Genre.value_counts().head()  # Top 5 genres"
   ]
  },
  {
   "cell_type": "code",
   "execution_count": null,
   "metadata": {},
   "outputs": [],
   "source": [
    "# Genres uniques\n",
    "print(games.Genre.unique())  "
   ]
  },
  {
   "cell_type": "code",
   "execution_count": null,
   "metadata": {},
   "outputs": [],
   "source": [
    "# Nombre de genres uniques\n",
    "print(games.Genre.nunique())  "
   ]
  },
  {
   "cell_type": "code",
   "execution_count": null,
   "metadata": {},
   "outputs": [],
   "source": [
    " # Tableau croisé genre/année\n",
    "pd.crosstab(games.Genre, games.Year) "
   ]
  },
  {
   "cell_type": "code",
   "execution_count": null,
   "metadata": {},
   "outputs": [],
   "source": [
    "print(games.Global_Sales.describe())  # Statistiques de 'Global_Sales'\n",
    "print(games.Global_Sales.mean())  # Moyenne des ventes mondiales"
   ]
  },
  {
   "cell_type": "code",
   "execution_count": null,
   "metadata": {},
   "outputs": [],
   "source": [
    "games.Year.plot(kind=\"hist\")  # Histogramme des années"
   ]
  },
  {
   "cell_type": "code",
   "execution_count": null,
   "metadata": {},
   "outputs": [],
   "source": [
    "print(games.Genre.value_counts())"
   ]
  },
  {
   "cell_type": "code",
   "execution_count": null,
   "metadata": {},
   "outputs": [],
   "source": [
    " # Diagramme en barres des genres\n",
    "games.Genre.value_counts().plot(kind=\"bar\") "
   ]
  },
  {
   "cell_type": "markdown",
   "metadata": {},
   "source": [
    "#### 2 - Dataframes"
   ]
  },
  {
   "cell_type": "code",
   "execution_count": null,
   "metadata": {},
   "outputs": [],
   "source": [
    "data={\"name\":[\"Bill\",\"Tom\",\"Tim\",\"John\",\"Alex\",\"Vanessa\",\"Kate\"],      \n",
    "      \"score\":[90,80,85,75,95,60,65],      \n",
    "      \"sport\":[\"Wrestling\",\"Football\",\"Skiing\",\"Swimming\",\"Tennis\",\n",
    "               \"Karete\",\"Surfing\"],      \n",
    "      \"sex\":[\"M\",\"M\",\"M\",\"M\",\"F\",\"F\",\"F\"]}"
   ]
  },
  {
   "cell_type": "code",
   "execution_count": null,
   "metadata": {},
   "outputs": [],
   "source": [
    "type(data)"
   ]
  },
  {
   "cell_type": "code",
   "execution_count": null,
   "metadata": {},
   "outputs": [],
   "source": [
    "df=pd.DataFrame(data,columns=[\"name\",\"sport\",\"sex\",\"score\"])\n",
    "df"
   ]
  },
  {
   "cell_type": "code",
   "execution_count": null,
   "metadata": {},
   "outputs": [],
   "source": [
    "df=pd.DataFrame(data,columns=[\"name\", \"sport\", \"sex\", \"score\", \"age\"])\n",
    "df"
   ]
  },
  {
   "cell_type": "code",
   "execution_count": null,
   "metadata": {},
   "outputs": [],
   "source": [
    "df=pd.DataFrame(data,columns=[\"name\", \"sport\", \"gender\", \"score\", \"age\"],\n",
    "                index=data[\"name\"])\n",
    "df"
   ]
  },
  {
   "cell_type": "code",
   "execution_count": null,
   "metadata": {},
   "outputs": [],
   "source": [
    "df[\"sport\"]"
   ]
  },
  {
   "cell_type": "code",
   "execution_count": null,
   "metadata": {},
   "outputs": [],
   "source": [
    "my_columns=[\"sport\",\"score\"]\n",
    "df[my_columns]"
   ]
  },
  {
   "cell_type": "code",
   "execution_count": null,
   "metadata": {},
   "outputs": [],
   "source": [
    "df.loc[[\"Bill\", \"Kate\"]]"
   ]
  },
  {
   "cell_type": "code",
   "execution_count": null,
   "metadata": {},
   "outputs": [],
   "source": [
    "df[\"age\"]=18\n",
    "df"
   ]
  },
  {
   "cell_type": "code",
   "execution_count": null,
   "metadata": {},
   "outputs": [],
   "source": [
    "df=pd.DataFrame(data,\n",
    "                columns=[\"name\", \"sport\", \"gender\", \"score\", \"age\"],\n",
    "                 index=[\"one\",\"two\",\"three\",\"four\",\"five\",\"six\",\"seven\"])\n",
    "df.loc[[\"one\"]]"
   ]
  },
  {
   "cell_type": "code",
   "execution_count": null,
   "metadata": {},
   "outputs": [],
   "source": [
    "df"
   ]
  },
  {
   "cell_type": "code",
   "execution_count": null,
   "metadata": {},
   "outputs": [],
   "source": [
    "values=[18,19,20,18,17,17,18]\n",
    "df[\"age\"]=values\n",
    "df"
   ]
  },
  {
   "cell_type": "code",
   "execution_count": null,
   "metadata": {},
   "outputs": [],
   "source": [
    "df[\"pass\"] = df.score >= 70\n",
    "df"
   ]
  },
  {
   "cell_type": "code",
   "execution_count": null,
   "metadata": {},
   "outputs": [],
   "source": [
    "del df[\"pass\"]\n",
    "df"
   ]
  },
  {
   "cell_type": "code",
   "execution_count": null,
   "metadata": {},
   "outputs": [],
   "source": [
    "scores={\"Math\":{\"A\":85,\"B\":90,\"C\":95}, \n",
    "        \"Physics\":{\"A\":90,\"B\":80,\"C\":75}}\n",
    "scores_df=pd.DataFrame(scores)\n",
    "scores_df"
   ]
  },
  {
   "cell_type": "code",
   "execution_count": null,
   "metadata": {},
   "outputs": [],
   "source": [
    "scores_df.T"
   ]
  },
  {
   "cell_type": "markdown",
   "metadata": {},
   "source": [
    "#### 3 - Indexation, la sélection et le filtrage "
   ]
  },
  {
   "cell_type": "code",
   "execution_count": null,
   "metadata": {},
   "outputs": [],
   "source": [
    "import numpy as np\n",
    "\n",
    "np.arange(5)"
   ]
  },
  {
   "cell_type": "code",
   "execution_count": null,
   "metadata": {},
   "outputs": [],
   "source": [
    "# Création d'une série pandas avec des indices personnalisés\n",
    "obj = pd.Series(np.arange(5), index=[\"a\", \"b\", \"c\", \"d\", \"e\"])\n",
    "print(obj)"
   ]
  },
  {
   "cell_type": "code",
   "execution_count": null,
   "metadata": {},
   "outputs": [],
   "source": [
    "# Accès à l'élément avec l'index 'c'\n",
    "obj[\"c\"]"
   ]
  },
  {
   "cell_type": "code",
   "execution_count": null,
   "metadata": {},
   "outputs": [],
   "source": [
    "# Accès à l'élément à l'indice 2\n",
    "obj[2]"
   ]
  },
  {
   "cell_type": "code",
   "execution_count": null,
   "metadata": {},
   "outputs": [],
   "source": [
    "# Sélection des trois premiers éléments\n",
    "obj[0:3]"
   ]
  },
  {
   "cell_type": "code",
   "execution_count": null,
   "metadata": {},
   "outputs": [],
   "source": [
    "# Sélection des éléments avec les indices 'a' et 'c'\n",
    "obj[[\"a\", \"c\"]]"
   ]
  },
  {
   "cell_type": "code",
   "execution_count": null,
   "metadata": {},
   "outputs": [],
   "source": [
    "# Sélection des éléments aux indices 0 et 2\n",
    "obj[[0, 2]]"
   ]
  },
  {
   "cell_type": "code",
   "execution_count": null,
   "metadata": {},
   "outputs": [],
   "source": [
    "# Filtrage des éléments inférieurs à 2\n",
    "obj[obj < 2]"
   ]
  },
  {
   "cell_type": "code",
   "execution_count": null,
   "metadata": {},
   "outputs": [],
   "source": [
    "# Slicing entre les indices 'a' et 'c'\n",
    "obj[\"a\":\"c\"]"
   ]
  },
  {
   "cell_type": "code",
   "execution_count": null,
   "metadata": {},
   "outputs": [],
   "source": [
    "# Modification des valeurs pour les indices 'b' et 'c'\n",
    "obj[\"b\":\"c\"] = 5\n",
    "obj"
   ]
  },
  {
   "cell_type": "code",
   "execution_count": null,
   "metadata": {},
   "outputs": [],
   "source": [
    "np.arange(16).reshape(4, 4)"
   ]
  },
  {
   "cell_type": "code",
   "execution_count": null,
   "metadata": {},
   "outputs": [],
   "source": [
    "# Indexation dans DataFrame\n",
    "data = pd.DataFrame(np.arange(16).reshape(4, 4),\n",
    "                    index=[\"London\", \"Paris\", \"Berlin\", \"Istanbul\"],\n",
    "                    columns=[\"one\", \"two\", \"three\", \"four\"])\n",
    "data"
   ]
  },
  {
   "cell_type": "code",
   "execution_count": null,
   "metadata": {},
   "outputs": [],
   "source": [
    "# Sélection de la colonne 'two'\n",
    "data[[\"two\"]]\n",
    "# Sélection des colonnes 'one' et 'two'\n",
    "data[[\"one\", \"two\"]]\n",
    "# Sélection des trois premières lignes\n",
    "data[0:3]\n",
    "# Filtrage des lignes où la colonne 'four' est supérieure à 5\n",
    "data[data.four>5]\n",
    "# Affectation de 0 aux éléments inférieurs à 5\n",
    "data[data<5] = 0\n"
   ]
  },
  {
   "cell_type": "code",
   "execution_count": null,
   "metadata": {},
   "outputs": [],
   "source": [
    "data"
   ]
  },
  {
   "cell_type": "code",
   "execution_count": null,
   "metadata": {},
   "outputs": [],
   "source": [
    "# Sélection de la deuxième ligne avec iloc\n",
    "data.iloc[[1]]\n",
    "# Equivalent à \n",
    "# data.loc[\"Paris\"]"
   ]
  },
  {
   "cell_type": "code",
   "execution_count": null,
   "metadata": {},
   "outputs": [],
   "source": [
    "# Sélection des colonnes (two et three) de la deuxième ligne avec iloc\n",
    "data.iloc[[1]][[\"two\", \"three\"]]"
   ]
  },
  {
   "cell_type": "code",
   "execution_count": null,
   "metadata": {},
   "outputs": [],
   "source": [
    "# Sélection des colonnes (two et three) de la 1ere et 3e ligne\n",
    "data.iloc[[0,2]][[\"two\", \"three\"]]"
   ]
  },
  {
   "cell_type": "code",
   "execution_count": null,
   "metadata": {},
   "outputs": [],
   "source": [
    "# Sélection avec loc pour des indices de lignes et de colonnes spécifiques\n",
    "data.loc[[\"London\",\"Paris\"]][[\"two\", \"three\"]]"
   ]
  },
  {
   "cell_type": "code",
   "execution_count": null,
   "metadata": {},
   "outputs": [],
   "source": [
    "# Sélection des lignes jusqu'à 'Paris' pour la colonne 'four' avec loc\n",
    "data.loc[:\"Paris\"][[\"four\"]]\n",
    "data.loc[:\"Paris\", [\"four\"]]"
   ]
  },
  {
   "cell_type": "code",
   "execution_count": null,
   "metadata": {},
   "outputs": [],
   "source": [
    "# Création d'une série de jouets pour tester l'accès négatif\n",
    "toy_data = pd.Series(np.arange(5), index=[\"a\", \"b\", \"c\", \"d\", \"e\"])\n",
    "toy_data[[-1]]"
   ]
  },
  {
   "cell_type": "markdown",
   "metadata": {},
   "source": [
    "#### 4 - Méthodes importantes"
   ]
  },
  {
   "cell_type": "code",
   "execution_count": null,
   "metadata": {},
   "outputs": [],
   "source": [
    "s = pd.Series([1, 2, 3, 4], index=[\"a\", \"b\", \"c\", \"d\"])\n",
    "s"
   ]
  },
  {
   "cell_type": "code",
   "execution_count": null,
   "metadata": {},
   "outputs": [],
   "source": [
    "s = pd.Series([1, 2, 3, 4, 5], index=[\"a\", \"b\", \"c\", \"d\", \"e\"])\n"
   ]
  },
  {
   "cell_type": "code",
   "execution_count": null,
   "metadata": {},
   "outputs": [],
   "source": [
    "# Réindexation de la série\n",
    "s2 = s.reindex([\"b\", \"d\", \"a\", \"c\", \"e\"])\n",
    "s2"
   ]
  },
  {
   "cell_type": "code",
   "execution_count": null,
   "metadata": {},
   "outputs": [],
   "source": [
    "# Création d'un DataFrame\n",
    "df = pd.DataFrame(np.arange(9).reshape(3, 3), \n",
    "                  index=[\"a\", \"c\", \"d\"], \n",
    "                  columns=[\"Tim\", \"Tom\", \"Kate\"])\n",
    "df"
   ]
  },
  {
   "cell_type": "code",
   "execution_count": null,
   "metadata": {},
   "outputs": [],
   "source": [
    "# Réindexation du DataFrame\n",
    "df2 = df.reindex([\"d\", \"c\", \"b\", \"a\"])\n",
    "df2"
   ]
  },
  {
   "cell_type": "code",
   "execution_count": null,
   "metadata": {},
   "outputs": [],
   "source": [
    "s"
   ]
  },
  {
   "cell_type": "code",
   "execution_count": null,
   "metadata": {},
   "outputs": [],
   "source": [
    "# Suppression d'un élément\n",
    "new_s = s.drop(\"b\")\n",
    "new_s"
   ]
  },
  {
   "cell_type": "code",
   "execution_count": null,
   "metadata": {},
   "outputs": [],
   "source": [
    "# Suppression de plusieurs éléments\n",
    "new_s = new_s.drop([\"c\", \"d\"])\n",
    "new_s"
   ]
  },
  {
   "cell_type": "code",
   "execution_count": null,
   "metadata": {},
   "outputs": [],
   "source": [
    "# Création d'un DataFrame\n",
    "data = pd.DataFrame(np.arange(16).reshape(4, 4),\n",
    "                     index=[\"Kate\", \"Tim\", \"Tom\", \"Alex\"], \n",
    "                    columns=list(\"ABCD\"))\n",
    "data"
   ]
  },
  {
   "cell_type": "code",
   "execution_count": null,
   "metadata": {},
   "outputs": [],
   "source": [
    "# Suppression de lignes\n",
    "data.drop([\"Kate\", \"Tim\"])"
   ]
  },
  {
   "cell_type": "code",
   "execution_count": null,
   "metadata": {},
   "outputs": [],
   "source": [
    "# Autre exemple de suppression de ligne\n",
    "data.drop(\"Kate\", axis=0)"
   ]
  },
  {
   "cell_type": "code",
   "execution_count": null,
   "metadata": {},
   "outputs": [],
   "source": [
    "# Suppression d'une colonne\n",
    "data.drop(\"A\", axis=1)"
   ]
  },
  {
   "cell_type": "code",
   "execution_count": null,
   "metadata": {},
   "outputs": [],
   "source": [
    "# Calcul de la moyenne par colonne\n",
    "data.mean(axis=\"index\")"
   ]
  },
  {
   "cell_type": "code",
   "execution_count": null,
   "metadata": {},
   "outputs": [],
   "source": [
    "# Calcul de la moyenne par ligne\n",
    "data.mean(axis=\"columns\")"
   ]
  },
  {
   "cell_type": "markdown",
   "metadata": {},
   "source": [
    "<a id=\"6-bonnes-pratiques-en-programmation\"></a>\n",
    "## 6. Bonnes Pratiques en Programmation\n",
    "\n",
    "### 6.1 Introduction\n",
    "\n",
    "Les bonnes pratiques en programmation sont des standards ou des conventions qui facilitent la lecture, la compréhension et la maintenance du code par d'autres développeurs. \n",
    "Elles jouent un rôle crucial dans le travail d'équipe et la gestion de projets à long terme.\n",
    "\n",
    "**Pourquoi Suivre les Bonnes Pratiques ?**\n",
    "- **Lisibilité** : Code plus clair et facile à comprendre.\n",
    "- **Maintenance** : Simplification des mises à jour et corrections.\n",
    "- **Collaboration** : Uniformité du code au sein d'une équipe.\n",
    "\n",
    "**Exemple Illustratif** \n",
    "Comparons deux morceaux de code pour voir l'impact des bonnes pratiques.\n",
    "\n",
    "### Code Sans Bonnes Pratiques\n",
    "```python\n",
    "def f(x,y):return x+y\n",
    "```\n",
    "\n",
    "### Code Avec Bonnes Pratiques\n",
    "```python\n",
    "def add_numbers(x, y):\n",
    "    \"\"\"Add two numbers and return the result.\"\"\"\n",
    "    return x + y\n",
    "```\n",
    "### 6.2 La conformité PEP\n",
    "\n",
    "La conformité à la PEP 8 concerne les règles de style de codage. Elle vise à rendre le code plus lisible et cohérent. Voici quelques points clés et exemples :\n",
    "\n",
    "1. **Indentation :** Utiliser 4 espaces par niveau d'indentation. \n",
    "   - Mauvais : `if x: x += 1`\n",
    "   - Bon : \n",
    "     ```python\n",
    "     if x:\n",
    "         x += 1\n",
    "     ```\n",
    "\n",
    "2. **Longueur de Ligne :** Limiter les lignes à 79 caractères.\n",
    "   - Mauvais : une seule ligne très longue.\n",
    "   - Bon : diviser en plusieurs lignes avec des parenthèses, crochets, ou accolades.\n",
    "\n",
    "3. **Espaces :** Utiliser des espaces autour des opérateurs et après les virgules.\n",
    "   - Mauvais : `def fonction(x,y=0):`\n",
    "   - Bon : `def fonction(x, y = 0):`\n",
    "\n",
    "4. **Noms de Variables :** Utiliser des noms descriptifs et éviter les abréviations.\n",
    "   - Mauvais : `n`, `df`, `x1`\n",
    "   - Bon : `nombre`, `dataframe`, `variable_explicative`\n",
    "\n",
    "5. **Commentaires :** Ils doivent être clairs et pertinents, pas redondants.\n",
    "   - Mauvais : `x = x + 1  # Augmente x de 1`\n",
    "   - Bon : `x = x + 1  # Compense pour le décalage`\n",
    "\n",
    "Ces exemples illustrent comment l'adhésion à la PEP 8 peut améliorer la lisibilité et la cohérence du code. Pour une compréhension détaillée, il est conseillé de se référer directement à la PEP 8.\n",
    "\n",
    "[ici] : (https://peps.python.org/pep-0008/)\n",
    "\n",
    "### 6.3 Outils de contrôle qualité du code\n",
    "\n",
    "Il est en effet important d'évaluer la qualité du code Python pour assurer sa lisibilité, sa maintenabilité et sa conformité aux recommandations de la PEP 8 (style de code) et de la PEP 257 (docstrings). Vous pouvez utiliser différents outils et sites pour vous aider dans cette tâche. Voici quelques options :\n",
    "\n",
    "1. **pep8online.com** : Comme vous l'avez mentionné, c'est un site en ligne qui permet de vérifier la conformité du code à la PEP 8 en collant simplement le code dans la zone de texte et en cliquant sur le bouton \"Check code\". Il vous donnera des indications sur les problèmes potentiels de style.\n",
    "\n",
    "2. **pylint** : C'est un outil en ligne de commande qui offre une analyse plus approfondie du code. Il génère des rapports avec des notes de conformité à la PEP 8 et d'autres recommandations de style. Vous pouvez l'installer via pip (`pip install pylint`) et l'exécuter sur un fichier ou un répertoire.\n",
    "\n",
    "3. **flake8** : C'est un autre outil en ligne de commande qui combine plusieurs vérifications statiques, y compris la conformité à la PEP 8. Il peut être installé via pip (`pip install flake8`) et utilisé de manière similaire à pylint.\n",
    "\n",
    "4. **IDEs (Environnements de Développement Intégrés)** : De nombreux IDEs populaires comme PyCharm, VSCode, et Sublime Text incluent des extensions ou des fonctionnalités intégrées pour vérifier automatiquement la conformité à la PEP 8 et afficher des avertissements ou des erreurs directement dans l'éditeur pendant que vous écrivez du code.\n",
    "\n",
    "5. **GitHub Actions ou Travis CI** : Si vous travaillez sur des projets collaboratifs, vous pouvez configurer des services d'intégration continue comme GitHub Actions ou Travis CI pour exécuter automatiquement des vérifications de conformité à la PEP 8 à chaque modification de code.\n",
    "\n",
    "6. **Précommit Hooks** : Vous pouvez également configurer des hooks précommit avec des outils tels que `pre-commit`, qui exécutent automatiquement des vérifications de style chaque fois que vous vous apprêtez à valider votre code.\n",
    "\n",
    "L'utilisation d'un ou plusieurs de ces outils et méthodes peut grandement contribuer à améliorer la qualité de votre code Python en garantissant sa conformité aux recommandations de la PEP 8 et de la PEP 257. Cela rendra votre code plus lisible, plus facile à maintenir et plus cohérent, ce qui est essentiel pour un développement logiciel efficace et collaboratif.\n",
    "\n"
   ]
  }
 ],
 "metadata": {
  "kernelspec": {
   "display_name": "Python 3 (ipykernel)",
   "language": "python",
   "name": "python3"
  },
  "language_info": {
   "codemirror_mode": {
    "name": "ipython",
    "version": 3
   },
   "file_extension": ".py",
   "mimetype": "text/x-python",
   "name": "python",
   "nbconvert_exporter": "python",
   "pygments_lexer": "ipython3",
   "version": "3.11.8"
  }
 },
 "nbformat": 4,
 "nbformat_minor": 2
}
