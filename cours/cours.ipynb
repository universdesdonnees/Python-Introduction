{
 "cells": [
  {
   "cell_type": "markdown",
   "metadata": {},
   "source": [
    "<head>\n",
    "  <!-- our project just needs Font Awesome Solid + Brands -->\n",
    "  <link href=\"C:/Users/Menyssa/Documents/Cours/Python-Introduction/fontawesome/css/fontawesome.css\" rel=\"stylesheet\">\n",
    "  <link href=\"C:/Users/Menyssa/Documents/Cours/Python-Introduction/fontawesome/css/brands.css\" rel=\"stylesheet\">\n",
    "  <link href=\"C:/Users/Menyssa/Documents/Cours/Python-Introduction/fontawesome/css/solid.css\" rel=\"stylesheet\">\n",
    "</head>"
   ]
  },
  {
   "cell_type": "markdown",
   "metadata": {},
   "source": [
    "<style>\n",
    "\n",
    "#introduction {\n",
    "  background-color: #f5f5f5;\n",
    "  padding: 20px;\n",
    "  border-radius: 10px;\n",
    "}\n",
    "\n",
    "#introduction h1 {\n",
    "  font-size: 24px;\n",
    "  margin-top: 0;\n",
    "}\n",
    "\n",
    "#introduction p {\n",
    "  font-size: 16px;\n",
    "  margin-bottom: 10px;\n",
    "}\n",
    "\n",
    ".icon-container {\n",
    "    text-align: center;\n",
    "    font-size: 0; /* Élimine l'espace blanc entre les éléments inline-block */\n",
    "  }\n",
    ".icon-container a {\n",
    "    display: inline-block; /* Affiche les liens en ligne avec la possibilité d'ajouter des marges et du padding */\n",
    "    margin-right: 20px; /* Ajoute de l'espace entre les éléments */\n",
    "    font-size: 16px; /* Remet la taille de la police normale pour le contenu des liens */\n",
    "    text-decoration: none; /* Optionnel : enlève le soulignement des liens */\n",
    "    color: black; /* Change la couleur du texte des liens */\n",
    "  }\n",
    ".icon-container a:last-child {\n",
    "    margin-right: 0; /* Enlève la marge droite du dernier élément pour éviter un espacement supplémentaire */\n",
    "  }\n",
    "\n",
    ".list-group {\n",
    "    text-align: left; /* Centre le contenu */\n",
    "}\n",
    ".list-group a {\n",
    "    text-decoration: none; /* Corrigé pour enlever le soulignement des liens */\n",
    "    color: #313d44; /* Couleur des liens */\n",
    "  }\n",
    "\n",
    "/* Styles globaux */\n",
    "\n",
    "body {\n",
    "  font-family: 'Roboto', sans-serif;\n",
    "  color: #333;\n",
    "  line-height: 1.6;\n",
    "  padding: 20px;\n",
    "  max-width: 1000px;\n",
    "  margin: auto;\n",
    "}\n",
    "\n",
    "#toc {\n",
    "  background-color: #fff;\n",
    "  padding: 20px;\n",
    "  border: 1px solid #ddd;\n",
    "  border-radius: 5px;\n",
    "  box-shadow: 0 2px 4px rgba(0,0,0,0.1);\n",
    "}\n",
    "\n",
    "#toc h2 {\n",
    "  text-align: center;\n",
    "  color: #313d44;\n",
    "  background-color: #f4f4f4;\n",
    "  padding: 10px 0;\n",
    "  margin-bottom: 10px;\n",
    "  border-radius: 3px;\n",
    "}\n",
    "\n",
    ".toc-entry {\n",
    "  margin-bottom: 5px;\n",
    "  font-weight: bold;\n",
    "  padding: 5px 0;\n",
    "}\n",
    "\n",
    ".toc-entry a {\n",
    "  color: #333;\n",
    "  text-decoration: none;\n",
    "  transition: color 0.3s ease;\n",
    "}\n",
    "\n",
    ".toc-entry a:hover {\n",
    "  color: #007bff;\n",
    "}\n",
    "\n",
    ".sub-entry {\n",
    "  margin-left: 20px;\n",
    "  font-size: 14px;\n",
    "  font-weight: normal;\n",
    "  padding: 5px 0;\n",
    "}\n",
    "\n",
    ".sub-entry a {\n",
    "  color: #555;\n",
    "}\n",
    "\n",
    ".sub-entry a:hover {\n",
    "  color: #007bff;\n",
    "}\n",
    "\n",
    ".subsub-entry {\n",
    "  margin-left: 40px;\n",
    "  font-style: italic;\n",
    "  font-size: 12px;\n",
    "  padding: 5px 0;\n",
    "}\n",
    "\n",
    ".subsub-entry a {\n",
    "  color: #777;\n",
    "}\n",
    "\n",
    ".subsub-entry a:hover\n",
    "\n",
    "</style>\n"
   ]
  },
  {
   "cell_type": "markdown",
   "metadata": {},
   "source": [
    "<div id=\"introduction\">\n",
    "  <h1 style=\"text-align: center; background-color: #1f2b3e; font-family:Times New Roman; color: white; padding: 14px; line-height: 1; border-radius:10px\">Introduction à Python</h1>\n",
    "  <p style=\"text-align: center;\">Par Ményssa Cherifa-Luron, PhD</p>\n",
    "  <div class=\"icon-container\">\n",
    "    <a href=\"mailto:menyssa.cherifa-luron.int@groupe-gema.com\"><i class=\"fa-solid fa-envelope\"></i> Mail</a>\n",
    "    <a href=\"https://www.linkedin.com/in/menyssacherifa/\"><i class=\"fa-brands fa-linkedin\"></i> LinkedIn</a>\n",
    "    <a href=\"https://github.com/universdesdonnees\"><i class=\"fa-brands fa-github\"></i> GitHub</a>\n",
    "    <a href=\"https://www.amazon.fr/s?i=digital-text&rh=p_27%3AMenyssa+Cherifa-Luron&s=relevancerank&text=Menyssa+Cherifa-Luron&ref=dp_byline_sr_ebooks_1\"><i class=\"fa fa-book\"></i> Livres</a>\n",
    "  </div>\n",
    "</div>\n"
   ]
  },
  {
   "cell_type": "markdown",
   "metadata": {},
   "source": [
    "<div class=\"list-group\" id=\"toc\" role=\"tablist\">\n",
    "  <h2>Table des matières📝</h2>\n",
    "  <div class=\"toc-entry\"><a href=\"#1-cest-quoi-python\">1. C’est quoi Python ?</a></div>\n",
    "  <div class=\"toc-entry\"><a href=\"#2-les-fondamentaux-de-python\">2. Les Fondamentaux de Python</a>\n",
    "    <div class=\"sub-entry\"><a href=\"#21-variables-types-natifs\">2.1. Variables (types natifs) et opérations</a></div>\n",
    "      <div class=\"subsub-entry\"><a href=\"#211-types\">2.1.1 Types de variables</a></div>\n",
    "      <div class=\"subsub-entry\"><a href=\"#212-conversion-types\">2.1.2 Conversion de types</a></div>\n",
    "      <div class=\"subsub-entry\"><a href=\"#213-operations-arith\">2.1.3 Opérations arithmétiques</a></div>\n",
    "      <div class=\"subsub-entry\"><a href=\"#214-operations-chaine\">2.1.4 Opérations sur les chaînes de caractères</a></div>\n",
    "      <div class=\"subsub-entry\"><a href=\"#215-operations-compose\">2.1.5 Opérations d'affectation composées</a></div>\n",
    "    <div class=\"sub-entry\"><a href=\"#22-commentaires-et-affichage\">2.2. Commentaires et affichage</a></div>\n",
    "    <div class=\"sub-entry\"><a href=\"#23-structures-de-controle\">2.3. Structures de contrôle</a></div>\n",
    "    <div>\n",
    "      <div class=\"subsub-entry\"><a href=\"#231-les-operateurs\">2.3.1 Les opérateurs</a></div>\n",
    "      <div class=\"subsub-entry\"><a href=\"#232-les-conditions\">2.3.2 Les conditions</a></div>\n",
    "      <div class=\"subsub-entry\"><a href=\"#233-les-boucles\">2.3.3 Les boucles</a></div>\n",
    "    </div>\n",
    "    <div class=\"sub-entry\">🤸 Exercices 1</div>\n",
    "    <div class=\"sub-entry\"> 🚧 Projet 1 : Juste prix</div>\n",
    "    <div class=\"sub-entry\"> 🚧 Projet 2 : Casino</div>\n",
    "    <div class=\"sub-entry\"><a href=\"#24-types-de-donnees\">2.4. Types de Données</a></div>\n",
    "    <div>\n",
    "      <div class=\"subsub-entry\"><a href=\"#241-chaines-de-caracteres\">2.4.1 Les chaines de cacractères</a></div>\n",
    "      <div class=\"subsub-entry\"><a href=\"#242-les-listes\">2.4.2 Les listes</a></div>\n",
    "      <div class=\"subsub-entry\"><a href=\"#243-les-tuples\">2.4.3 Les tuples</a></div>\n",
    "      <div class=\"subsub-entry\"><a href=\"#244-les-ensembles\">2.4.4 Les ensembles</a></div>\n",
    "      <div class=\"subsub-entry\"><a href=\"#245-les-dictionnaires\">2.4.5 Les dictionnaires</a></div>\n",
    "    </div>\n",
    "    <div class=\"sub-entry\">🤸 Exercices 2</div>\n",
    "    <div class=\"sub-entry\">🚧 Projet 3 : Pendu</div>\n",
    "    <div class=\"sub-entry\"><a href=\"#25-fonctions-definition-et-appel\">2.5. Fonctions : définition et appel</a></div>\n",
    "    <div>\n",
    "      <div class=\"subsub-entry\"><a href=\"#251-parametres-arguments\">2.5.1 Les paramètres et arguments</a></div>\n",
    "      <div class=\"subsub-entry\"><a href=\"#252-types-fonctions\">2.5.2 Les types de fonctions</a></div>\n",
    "      <div class=\"subsub-entry\"><a href=\"#253-porte-variables\">2.5.3 La portée des variables</a></div>\n",
    "      <div class=\"subsub-entry\"><a href=\"#254-variables-arguments\">2.5.4 Nombre variable d'arguments</a></div>\n",
    "      <div class=\"subsub-entry\"><a href=\"#255-fonctions-anonymes\">2.5.5 Les fonctions anonymes : lambda </a></div>\n",
    "      <div class=\"subsub-entry\"><a href=\"#256-fonctions-recursives\">2.5.6 Les fonctions et la récursivité </a></div>     \n",
    "      <div class=\"subsub-entry\"><a href=\"#257-generateurs-decorateurs\">2.5.7 Générateurs et décorateurs </a></div>     \n",
    "    </div>\n",
    "    <div class=\"sub-entry\">🤸 Exercices 3</div>\n",
    "  </div>\n",
    "  <div class=\"toc-entry\"><a href=\"#3-gestion-des-exceptions\">3. Gestion des exceptions</a>\n",
    "    <div class=\"sub-entry\"><a href=\"#31-definition\">3.1 Définition</a></div>\n",
    "    <div class=\"sub-entry\"><a href=\"#32-traitement-des-exceptions\">3.2 Traitement des exceptions</a></div>\n",
    "    <div>\n",
    "      <div class=\"subsub-entry\"><a href=\"#321-try-except\">3.2.1 Try-Except</a></div>\n",
    "      <div class=\"subsub-entry\"><a href=\"#322-finally\">3.2.2 Finally</a></div>\n",
    "      <div class=\"subsub-entry\"><a href=\"#323-else\">3.2.3 Else</a></div>\n",
    "    </div>\n",
    "    <div class=\"sub-entry\"><a href=\"#33-assertions\">3.3 Assertions</a></div>\n",
    "    <div class=\"sub-entry\"><a href=\"#34-raise\">3.4 Raise</a></div>\n",
    "    <div class=\"sub-entry\"> 🚧 Projet 2 bis : Casino avec exceptions</div>\n",
    "    <div class=\"sub-entry\">🤸 Exercices 4</div>\n",
    "  </div>\n",
    "  <div class=\"toc-entry\"><a href=\"#4-lecture-et-ecriture-de-fichiers\">4. Lecture et écriture de fichiers</a>\n",
    "    <div class=\"sub-entry\"><a href=\"#41-gestion-simple\">4.1 Gestion simple des fichiers</a></div>\n",
    "    <div class=\"sub-entry\"><a href=\"#42-types-fichiers\">4.2 Travailler avec différents formats de fichier</a></div>\n",
    "    <div class=\"sub-entry\">🤸 Exercices 5</div>\n",
    "    <div class=\"sub-entry\">🚧 Projet 4 : Trieur de fichier</div>\n",
    "  </div>\n",
    "  <div class=\"toc-entry\"><a href=\"#5-modules-et-bibliotheques\">5. Modules et Packages</a></div>\n",
    "  <div class=\"sub-entry\">🤸 Exercices 6</div>\n",
    "  <div class=\"toc-entry\"><a href=\"#6-bonnes-pratiques-en-programmation\">6. Bonnes Pratiques en Programmation</a> </div>\n",
    "  <div class=\"sub-entry\"> 🚧 Projet 5 : Gestionnaire de tâches </div>\n",
    "  <div class=\"toc-entry\"><a href=\"#7-partenariat\">7. Certification avec DataCamp - bonus</a> </div>\n",
    "  <div class=\"toc-entry\"><a href=\"#8-references\">8. Références</a> </div>\n",
    "</div>"
   ]
  },
  {
   "cell_type": "markdown",
   "metadata": {},
   "source": [
    "<a id=\"1-cest-quoi-python\"></a> \n",
    "<h2 style=\"text-align: center; background-color: #4d648d; font-family:Times New Roman; color: white; padding: 14px; line-height: 1; border-radius:10px\">1. C’est quoi Python ? 💡</h2>"
   ]
  },
  {
   "cell_type": "markdown",
   "metadata": {},
   "source": [
    "<div style=\"text-align: center;\"> \n",
    "  <img src=\"../images/logo_python.png\" alt=\"Logo Python\" style=\"width: 400px;\"/>\n",
    "</div>\n",
    "\n",
    "Le langage de programmation Python a été créé en 1989 par Guido van Rossum, aux Pays-Bas. \n",
    "\n",
    "Le nom Python vient d’un hommage à la série télévisée **Monty Python’s Flying Circus** dont G. van Rossum est fan. La première version publique de ce\n",
    "langage a été publiée en 1991.\n",
    "\n",
    "**Caractéristiques** \n",
    "\n",
    "Ce langage de programmation présente de nombreuses caractéristiques intéressantes :\n",
    "\n",
    "- Il est multiplateforme. C’est-à-dire qu’il fonctionne sur de nombreux systèmes d’exploitation : Windows, Mac OS X,\n",
    "Linux, Android, iOS, depuis les mini-ordinateurs Raspberry Pi jusqu’aux supercalculateurs.\n",
    "\n",
    "- Il est gratuit. Vous pouvez l’installer sur autant d’ordinateurs que vous voulez (même sur votre téléphone !).\n",
    "\n",
    "- C’est un langage de haut niveau. Il demande relativement peu de connaissance sur le fonctionnement d’un ordinateur\n",
    "pour être utilisé.\n",
    "\n",
    "- C’est un langage interprété. Un script Python n’a pas besoin d’être compilé pour être exécuté, contrairement à des\n",
    "langages comme le C ou le C++.\n",
    "\n",
    "- Il est orienté objet. C’est-à-dire qu’il est possible de concevoir des entités qui miment celles du monde réel\n",
    "(une cellule, une protéine, un atome, etc.) avec un certain nombre de règles de fonctionnement et d’interactions.\n",
    "\n",
    "- Il est relativement simple à prendre en main "
   ]
  },
  {
   "cell_type": "markdown",
   "metadata": {},
   "source": [
    "**Normes et environnement**\n",
    "\n",
    "Le guide de style Python (https://google.github.io/styleguide/pyguide.html) de Google constitue une ressource précieuse offrant une liste de recommandations sur la mise en forme du code Python,\n",
    "largement suivies dans l'industrie.\n",
    "\n",
    "**Programmer en Python : Jupyter et Colab** \n",
    "\n",
    "Avant d'aborder le langage Python, il est important de discuter brièvement des carnets et de la création d'environnements virtuels.\n",
    "\n",
    "Si vous envisagez de travailler sur différents projets, il est probable que vous devrez utiliser différentes versions de modules Python. Dans ce cas, il est judicieux de créer plusieurs environnements virtuels pour chaque projet.\n",
    "\n",
    "Configuration Python : Distante vs. Locale (https://aman.ai/primers/python-setup/) offre une couverture détaillée des différentes options disponibles à distance et localement.\n",
    "\n",
    "**Indentation**\n",
    "\n",
    "En Python, l'indentation est primordiale ! Alors que dans d'autres langages de programmation, l'indentation dans le code vise à améliorer la lisibilité, Python utilise l'indentation pour indiquer un bloc de code.\n",
    "\n",
    "La convention consiste à utiliser quatre espaces, et non des tabulations."
   ]
  },
  {
   "cell_type": "markdown",
   "metadata": {},
   "source": [
    "<a id=\"2-les-fondamentaux-de-python\"></a>\n",
    "<h2 style=\"text-align: center; background-color: #4d648d; font-family:Times New Roman; color: white; padding: 14px; line-height: 1; border-radius:10px\">2. Les Fondamentaux de Python 👩‍💻</h2>"
   ]
  },
  {
   "cell_type": "markdown",
   "metadata": {},
   "source": [
    "<a id=\"21-variables-types-natifs\"></a>\n",
    "<h3 style=\"text-align: left; background-color: #e0e0e0; font-family:Times New Roman; color: black; padding: 14px; line-height: 1; border-radius:10px\">2.1. Variables (types natifs)</h3>"
   ]
  },
  {
   "cell_type": "markdown",
   "metadata": {},
   "source": [
    "\n",
    "**Variables** : Les variables sont des conteneurs permettant de stocker des valeurs de données, telles que des nombres ou des chaînes de caractères.\n",
    "\n",
    "Par exemple, `x = 10` crée une variable nommée x avec la valeur 10. Python est un langage à typage dynamique, ce qui signifie que le type de la variable est déterminé au moment de l'exécution.\n",
    "\n",
    "- Affectation **(=)**.\n",
    "- Python détermine automatiquement le type de données en fonction de la valeur attribuée.\n",
    "- Ecraser les valeurs des variables en les réaffectant.\n",
    "- Sensible à la casse : \"X\" et \"x\" sont deux variables différentes\n",
    "- Imprimer plusieurs variables dans une seule instruction print avec **(,)**\n",
    "- Plusieurs valeurs à plusieurs variables ou plusieurs variables à une seule valeur sur une seule ligne.\n",
    "- Dénomination des variables incluent :\n",
    "    - la casse camel : *testVariableCase*\n",
    "    - la casse Pascal : *TestVariableCase*\n",
    "    - la casse serpent : *test_variable_case*\n",
    "\n",
    "- Evitez de:\n",
    "    - commencer les noms de variables par des chiffres\n",
    "    - utiliser des symboles tels que des tirets ou des espaces\n",
    "    - mélanger des chaînes de caractères et des nombres entiers directement dans la concaténation.\n"
   ]
  },
  {
   "cell_type": "markdown",
   "metadata": {},
   "source": [
    "Affectation simple "
   ]
  },
  {
   "cell_type": "code",
   "execution_count": null,
   "metadata": {},
   "outputs": [],
   "source": [
    "Ma_variable =  10\n",
    "print(Ma_variable)"
   ]
  },
  {
   "cell_type": "markdown",
   "metadata": {},
   "source": [
    "Affectation de plusieurs valeurs"
   ]
  },
  {
   "cell_type": "code",
   "execution_count": null,
   "metadata": {},
   "outputs": [],
   "source": [
    "x, y, z = \"Chocolat\", \"Vanille\", \"Fraise\"\n",
    "\n",
    "print(x)\n",
    "print(y)\n",
    "print(z)"
   ]
  },
  {
   "cell_type": "markdown",
   "metadata": {},
   "source": [
    "Affectation de la même valeur"
   ]
  },
  {
   "cell_type": "code",
   "execution_count": null,
   "metadata": {},
   "outputs": [],
   "source": [
    "x = y = z = \"Chocolat\"\n",
    "\n",
    "print(x)\n",
    "print(y)\n",
    "print(z)"
   ]
  },
  {
   "cell_type": "markdown",
   "metadata": {},
   "source": [
    "<a id=\"211-types\"></a>\n",
    "<h3 style=\"text-align: left; background-color: #e0e0e0; font-family:Times New Roman; color: black; padding: 14px; line-height: 1; border-radius:10px\">2.1.1. Types de variables </h3>\n",
    "\n",
    "**Types natifs** : Les types de données courants en Python incluent :\n",
    "- **Entiers** (`int`) : Nombres sans partie décimale. Exemple : `5`, `-3`.\n",
    "- **Nombres Complexes** (`complex`) : Nombres avec une partie réelle et une partie imaginaire. Exemple : `3 + 4j`.\n",
    "- **Flottants** (`float`) : Nombres avec une partie décimale. Exemple : `3.14`, `-0.001`.\n",
    "- **Chaîne de caractères** (`str`) : Une séquence de caractères, entourée de guillemets simples ou doubles.\n",
    "- **Booléens** (bool) : Représentent deux valeurs : `True` (Vrai) et `False` (Faux).. Le type booléen a seulement deux valeurs : True et False. Ils sont souvent le résultat d'expressions de comparaison ou de conditions logiques.\n"
   ]
  },
  {
   "cell_type": "code",
   "execution_count": null,
   "metadata": {},
   "outputs": [],
   "source": [
    "type(\"Hello\") "
   ]
  },
  {
   "cell_type": "code",
   "execution_count": null,
   "metadata": {},
   "outputs": [],
   "source": [
    "# Définition de plusieurs variables \n",
    "nom = \"Alice\"\n",
    "age = 25       \n",
    "taille = 1.70  \n",
    "estVrai = True \n",
    "estFaux = False "
   ]
  },
  {
   "cell_type": "code",
   "execution_count": null,
   "metadata": {},
   "outputs": [],
   "source": [
    "print(\"la variable nom est de type :\", type(nom))\n",
    "print(\"la variable age est de type :\",type(age))\n",
    "print(\"la variable taille est de type :\",type(taille))\n",
    "print(\"la variable estVrai est de type :\",type(estVrai))\n",
    "print(\"la variable estFaux est de type :\",type(estFaux))"
   ]
  },
  {
   "cell_type": "markdown",
   "metadata": {},
   "source": [
    "<a id=\"212-conversion-types\"></a>\n",
    "<h3 style=\"text-align: left; background-color: #e0e0e0; font-family:Times New Roman; color: black; padding: 14px; line-height: 1; border-radius:10px\">2.1.2. Conversion de types</h3>"
   ]
  },
  {
   "cell_type": "markdown",
   "metadata": {},
   "source": [
    "\n",
    "La conversion de types, souvent appelée **\"casting\"** en programmation, est un moyen de convertir une valeur d'un type donné en un autre type.\n",
    "\n",
    "En Python, il existe plusieurs fonctions intégrées pour réaliser ces conversions entre les types de base comme les entiers (int), les chaînes de caractères (str), les booléens (bool), et les nombres à virgule flottante (float). \n",
    "\n",
    "Voici des exemples de conversion entre ces types :\n",
    "\n",
    "- Conversion en Entier (`int`) "
   ]
  },
  {
   "cell_type": "code",
   "execution_count": null,
   "metadata": {},
   "outputs": [],
   "source": [
    "# Depuis une chaîne de caractères :\n",
    "chaine = \"123\"\n",
    "nombre = int(chaine)  # Convertit la chaîne \"123\" en entier 123\n",
    "\n",
    "## Depuis un booléen :\n",
    "vrai = True\n",
    "entier = int(vrai)  # Convertit True en 1\n",
    "\n",
    "## Depuis un float :\n",
    "flottant = 9.99\n",
    "entier = int(flottant)  # Convertit 9.99 en 9 (troncature, pas d'arrondi)"
   ]
  },
  {
   "cell_type": "markdown",
   "metadata": {},
   "source": [
    "- Conversion en Chaîne de Caractères (`str`)"
   ]
  },
  {
   "cell_type": "code",
   "execution_count": null,
   "metadata": {},
   "outputs": [],
   "source": [
    "## Depuis un entier ou un float :\n",
    "nombre = 123\n",
    "chaine = str(nombre)  # Convertit l'entier 123 en chaîne \"123\"\n",
    "\n",
    "## Depuis un booléen :\n",
    "faux = False\n",
    "chaine = str(faux)  # Convertit False en \"False\""
   ]
  },
  {
   "cell_type": "markdown",
   "metadata": {},
   "source": [
    "- Conversion en Booléen (`bool`)"
   ]
  },
  {
   "cell_type": "code",
   "execution_count": null,
   "metadata": {},
   "outputs": [],
   "source": [
    "## Depuis une chaîne de caractères** :\n",
    "chaine = \"\"\n",
    "booleen = bool(chaine)  # Convertit une chaîne vide en False\n",
    "chaine2 = \"Python\"\n",
    "booleen2 = bool(chaine2)  # Convertit \"Python\" en True\n",
    "\n",
    "## Depuis un nombre** : \n",
    "nombre = 0\n",
    "booleen = bool(nombre)  # Convertit 0 en False\n",
    "nombre2 = 123\n",
    "booleen2 = bool(nombre2)  # Convertit 123 en True"
   ]
  },
  {
   "cell_type": "markdown",
   "metadata": {},
   "source": [
    "- Conversion en Float (`float`)"
   ]
  },
  {
   "cell_type": "code",
   "execution_count": null,
   "metadata": {},
   "outputs": [],
   "source": [
    "## Depuis une chaîne de caractères** :\n",
    "chaine = \"123.45\"\n",
    "flottant = float(chaine)  # Convertit la chaîne \"123.45\" en float 123.45\n",
    "\n",
    "## Depuis un entier** :\n",
    "entier = 100\n",
    "flottant = float(entier)  # Convertit l'entier 100 en float 100.0\n",
    "\n",
    "## Depuis un booléen** :\n",
    "vrai = True\n",
    "flottant = float(vrai)  # Convertit True en 1.0"
   ]
  },
  {
   "cell_type": "markdown",
   "metadata": {},
   "source": [
    "<a id=\"213-operations-arith\"></a>\n",
    "<h3 style=\"text-align: left; background-color: #e0e0e0; font-family:Times New Roman; color: black; padding: 14px; line-height: 1; border-radius:10px\">2.1.3. Opérations arithmétiques </h3>\n",
    "\n",
    "Arithmétique : Addition (+), soustraction (-), multiplication (*), et division (/)."
   ]
  },
  {
   "cell_type": "code",
   "execution_count": null,
   "metadata": {},
   "outputs": [],
   "source": [
    "somme = 10 + 5       # Résultat: 15\n",
    "difference = 10 - 5  # Résultat: 5\n",
    "produit = 10 * 5     # Résultat: 50\n",
    "quotient = 10 / 5    # Résultat: 2.0"
   ]
  },
  {
   "cell_type": "markdown",
   "metadata": {},
   "source": [
    "Modulo (%) retourne le reste de la division \n",
    "Puissance (**) élève un nombre à une certaine puissance.\n"
   ]
  },
  {
   "cell_type": "code",
   "execution_count": null,
   "metadata": {},
   "outputs": [],
   "source": [
    "reste = 10 % 3       # Résultat: 1\n",
    "puissance = 2 ** 3   # Résultat: 8\n",
    "puissance_bis = 2 ^ 3"
   ]
  },
  {
   "cell_type": "markdown",
   "metadata": {},
   "source": [
    "<a id=\"214-operations-chaine\"></a>\n",
    "<h3 style=\"text-align: left; background-color: #e0e0e0; font-family:Times New Roman; color: black; padding: 14px; line-height: 1; border-radius:10px\">2.1.4. Opérations sur les chaines de caractères </h3>"
   ]
  },
  {
   "cell_type": "markdown",
   "metadata": {},
   "source": [
    "- La concaténation (+) combine des chaînes\n",
    "- La répétition (*) répète une chaîne un certain nombre de fois."
   ]
  },
  {
   "cell_type": "code",
   "execution_count": null,
   "metadata": {},
   "outputs": [],
   "source": [
    "message = \"Bonjour\" + \" le monde\"  # Résultat: \"Bonjour le monde\"\n",
    "echo = \"Ha\" * 3                    # Résultat: \"HaHaHa\""
   ]
  },
  {
   "cell_type": "markdown",
   "metadata": {},
   "source": [
    "<a id=\"215-operations-compose\"></a>\n",
    "<h3 style=\"text-align: left; background-color: #e0e0e0; font-family:Times New Roman; color: black; padding: 14px; line-height: 1; border-radius:10px\">2.1.5. Opérateurs d'affectation composés </h3>"
   ]
  },
  {
   "cell_type": "markdown",
   "metadata": {},
   "source": [
    "\n",
    "\n",
    "\n",
    "Les opérateurs d'affectation composés sont des raccourcis qui **combinent une opération arithmétique ou binaire avec une affectation.**\n",
    "\n",
    "En gros, ils vous permettent d'effectuer une opération sur une variable et de lui réaffecter le résultat en une seule étape."
   ]
  },
  {
   "cell_type": "code",
   "execution_count": null,
   "metadata": {},
   "outputs": [],
   "source": [
    "# Initialisation de x\n",
    "x = 5\n",
    "print(x)"
   ]
  },
  {
   "cell_type": "code",
   "execution_count": null,
   "metadata": {},
   "outputs": [],
   "source": [
    "# Ajouter et assigner\n",
    "x += 2  # x est maintenant 7\n",
    "print(x)\n"
   ]
  },
  {
   "cell_type": "code",
   "execution_count": null,
   "metadata": {},
   "outputs": [],
   "source": [
    "# Soustraire et assigner\n",
    "x -= 3  # x est maintenant 4\n",
    "print(x)\n"
   ]
  },
  {
   "cell_type": "code",
   "execution_count": null,
   "metadata": {},
   "outputs": [],
   "source": [
    "# Multiplier et assigner\n",
    "x *= 4  # x est maintenant 16\n",
    "print(x)"
   ]
  },
  {
   "cell_type": "code",
   "execution_count": null,
   "metadata": {},
   "outputs": [],
   "source": [
    "# Diviser et assigner\n",
    "x /= 2  # x est maintenant 8\n",
    "print(x)"
   ]
  },
  {
   "cell_type": "code",
   "execution_count": null,
   "metadata": {},
   "outputs": [],
   "source": [
    "# Division entière et assigner\n",
    "x //= 3  # x est maintenant 2\n",
    "print(x)"
   ]
  },
  {
   "cell_type": "code",
   "execution_count": null,
   "metadata": {},
   "outputs": [],
   "source": [
    "# Modulo et assigner\n",
    "x %= 3  # x est maintenant 2\n",
    "print(x)"
   ]
  },
  {
   "cell_type": "code",
   "execution_count": null,
   "metadata": {},
   "outputs": [],
   "source": [
    "# Exponentielle et assigner\n",
    "x **= 2  # x est maintenant 4\n",
    "print(x)"
   ]
  },
  {
   "cell_type": "markdown",
   "metadata": {},
   "source": [
    "<a id=\"22-commentaires-et-affichage\"></a>\n",
    "<h3 style=\"text-align: left; background-color: #e0e0e0; font-family:Times New Roman; color: black; padding: 14px; line-height: 1; border-radius:10px\">2.2 Commentaires et affichage</h3>\n",
    "\n",
    "Les **commentaires** sont utilisés pour expliquer le code.\n",
    "\n",
    "Ils sont très utiles pour vous-même et pour les autres personnes qui lisent votre code. Les commentaires commencent par un **#** et s'étendent jusqu'à la fin de la ligne.\n",
    "\n",
    "**Les commentaires sont ignorés lors de l'exécution du code.**"
   ]
  },
  {
   "cell_type": "code",
   "execution_count": null,
   "metadata": {},
   "outputs": [],
   "source": [
    "# Ceci est un commentaire simple \n",
    "\n",
    "x = 5  # Ceci est un commentaire suivant une instruction\n",
    "\n",
    "# Vous pouvez utiliser les commentaires pour expliquer\n",
    "# ce que votre code est censé faire :\n",
    "y = x + 2  # Ajout de 2 à x et stockage du résultat dans y\n"
   ]
  },
  {
   "cell_type": "markdown",
   "metadata": {},
   "source": [
    "Pour **l'affichage**, la fonction **print()** est utilisée.\n",
    "\n",
    "Elle permet d'afficher le texte, les nombres, et d'autres objets sur la console."
   ]
  },
  {
   "cell_type": "code",
   "execution_count": null,
   "metadata": {},
   "outputs": [],
   "source": [
    "print(\"Bonjour, monde !\")  # Affiche un message simple\n",
    "\n",
    "nombre = 10\n",
    "print(nombre)  # Affiche la valeur de la variable 'nombre'\n",
    "\n",
    "# Vous pouvez aussi combiner du texte et des variables :\n",
    "print(\"Le nombre est\", nombre)  # Affiche \"Le nombre est 10\""
   ]
  },
  {
   "cell_type": "markdown",
   "metadata": {},
   "source": [
    "Utilisation de f-string"
   ]
  },
  {
   "cell_type": "code",
   "execution_count": null,
   "metadata": {},
   "outputs": [],
   "source": [
    "prenom = 'Marie'\n",
    "age = 15\n",
    "taille = 207\n",
    "\n",
    "# Formatage de chaînes avec f-string pour une lisibilité améliorée :\n",
    "print(f\"Marie a {age}\") \n",
    "print(f\"{prenom}, est partie\")\n"
   ]
  },
  {
   "cell_type": "markdown",
   "metadata": {},
   "source": [
    "\n",
    "f-string avec Plusieurs Variables\n"
   ]
  },
  {
   "cell_type": "code",
   "execution_count": null,
   "metadata": {},
   "outputs": [],
   "source": [
    "print(f\"{prenom} mesure {taille} metres et a {age} ans\")"
   ]
  },
  {
   "cell_type": "markdown",
   "metadata": {},
   "source": [
    "Utilisation de format"
   ]
  },
  {
   "cell_type": "code",
   "execution_count": null,
   "metadata": {},
   "outputs": [],
   "source": [
    "print(\"{} a {} ans \".format(prenom, age))"
   ]
  },
  {
   "cell_type": "markdown",
   "metadata": {},
   "source": [
    "- L'instruction précédente utilise la méthode `.format()` pour insérer les variables dans la chaîne de caractères.\n",
    "- `{}` sont des placeholders (espaces réservés) qui seront remplacés par les arguments de `.format()` dans l'ordre.\n",
    "- `ma_chaine` et `age` seront insérés respectivement dans le premier et le second `{}`.\n",
    "\n",
    " Calcul et arrondi\n",
    "\n",
    "- Le premier `print(prop)` affiche la valeur de `prop` avec tous ses chiffres après la virgule.\n",
    "- Le second `print()` utilise une f-string avec un formatage spécifique `{prop:.2f}`. \n",
    "\n",
    "Cela signifie que la valeur de `prop` sera formatée pour afficher seulement deux chiffres après la virgule.\n"
   ]
  },
  {
   "cell_type": "code",
   "execution_count": null,
   "metadata": {},
   "outputs": [],
   "source": [
    "prop = 2543276 / 678\n",
    "print(prop)"
   ]
  },
  {
   "cell_type": "code",
   "execution_count": null,
   "metadata": {},
   "outputs": [],
   "source": [
    "print(f\"le resultat est {prop:.3f}\")"
   ]
  },
  {
   "cell_type": "markdown",
   "metadata": {},
   "source": [
    "<a id=\"23-structures-de-controle\"></a>\n",
    "<h3 style=\"text-align: left; background-color: #e0e0e0; font-family:Times New Roman; color: black; padding: 14px; line-height: 1; border-radius:10px\">2.3. Structures de contrôle </h3>\n"
   ]
  },
  {
   "cell_type": "markdown",
   "metadata": {},
   "source": [
    "<a id=\"231-les-operateurs\"></a>\n",
    "<h3 style=\"text-align: left; background-color: #e0e0e0; font-family:Times New Roman; color: black; padding: 14px; line-height: 1; border-radius:10px\">2.3.1 Les opérateurs</h3>\n",
    "\n",
    "Les opérateurs Python sont utilisés pour effectuer des opérations sur les variables et les valeurs.\n",
    "\n",
    "**Les opérateurs de comparaison** incluent égal à, différent de, supérieur à, inférieur à, supérieur ou égal à, et inférieur ou égal à.\n",
    "\n",
    "| Opérateur comparaison | Description |\n",
    "| ----------- | ----------- |\n",
    "| Egalité | == |\n",
    "| Différent de |!= |\n",
    "| Supérieur | > |\n",
    "| Inférieur | < |\n",
    "| Supérieur ou égale | >= |\n",
    "| Inférieur ou égale | <= |\n",
    "\n",
    "\n",
    " - Renvoient soit Vrai, soit Faux, en fonction du résultat de la comparaison.\n",
    "\n",
    "**Les opérateurs logiques** et, ou et non sont souvent combinés avec les opérateurs de comparaison.\n",
    "\n",
    "| Opérateur logique| Description | Résultat |\n",
    "| ----------- | ----------- |----------- |\n",
    "| And | and | True si les deux propositions sont vraies|\n",
    "| Or |  or | True si au moins une des propositions est Vraie |\n",
    "| Not | not | inverse de l'instruction |\n",
    "\n",
    "\n",
    "**Les opérateurs d'appartenance** in et not in sont utilisés pour vérifier si une valeur ou une chaîne de caractères se trouve à l'intérieur d'une autre valeur, chaîne de caractères ou séquence.\n",
    "\n",
    "| Opérateur logique| Description | Résultat |\n",
    "| ----------- | ----------- |----------- |\n",
    "| In | in | True si la valeur spécifiée est présente dans l'objet.|\n",
    "| Not in | not in | True si la valeur spécifiée n'est pas présente dans l'objet.|\n",
    "\n"
   ]
  },
  {
   "cell_type": "markdown",
   "metadata": {},
   "source": [
    "\n",
    "<a id=\"231-les-operateurs\"></a>\n",
    "<h3 style=\"text-align: left; background-color: #e0e0e0; font-family:Times New Roman; color: black; padding: 14px; line-height: 1; border-radius:10px\">2.3.1 Les opérateurs</h3>\n",
    "\n",
    "#### \n",
    "\n",
    "Les opérateurs Python sont utilisés pour effectuer des opérations sur les variables et les valeurs.\n",
    "\n",
    "**Les opérateurs de comparaison** incluent égal à, différent de, supérieur à, inférieur à, supérieur ou égal à, et inférieur ou égal à.\n",
    "\n",
    "| Opérateur comparaison | Description |\n",
    "| ----------- | ----------- |\n",
    "| Egalité | == |\n",
    "| Différent de |!= |\n",
    "| Supérieur | > |\n",
    "| Inférieur | < |\n",
    "| Supérieur ou égale | >= |\n",
    "| Inférieur ou égale | <= |\n",
    "\n",
    "\n",
    " - Renvoient soit Vrai, soit Faux, en fonction du résultat de la comparaison.\n",
    "\n",
    "**Les opérateurs logiques** et, ou et non sont souvent combinés avec les opérateurs de comparaison.\n",
    "\n",
    "| Opérateur logique| Description | Résultat |\n",
    "| ----------- | ----------- |----------- |\n",
    "| And | and | True si les deux propositions sont vraies|\n",
    "| Or |  or | True si au moins une des propositions est Vraie |\n",
    "| Not | not | inverse de l'instruction |\n",
    "\n",
    "\n",
    "**Les opérateurs d'appartenance** in et not in sont utilisés pour vérifier si une valeur ou une chaîne de caractères se trouve à l'intérieur d'une autre valeur, chaîne de caractères ou séquence.\n",
    "\n",
    "| Opérateur logique| Description | Résultat |\n",
    "| ----------- | ----------- |----------- |\n",
    "| In | in | True si la valeur spécifiée est présente dans l'objet.|\n",
    "| Not in | not in | True si la valeur spécifiée n'est pas présente dans l'objet.|\n",
    "\n"
   ]
  },
  {
   "cell_type": "code",
   "execution_count": null,
   "metadata": {},
   "outputs": [],
   "source": [
    "# Exemples d'opérateurs de comparaison\n",
    "print(\"Opérateurs de comparaison:\")\n",
    "print(5 == 5)  # Égalité, renvoie True\n",
    "print(5 != 2)  # Différent de, renvoie True\n",
    "print(5 > 3)   # Supérieur à, renvoie True\n",
    "print(5 < 8)   # Inférieur à, renvoie True\n",
    "print(5 >= 3)  # Supérieur ou égal à, renvoie True\n",
    "print(5 <= 8)  # Inférieur ou égal à, renvoie True\n"
   ]
  },
  {
   "cell_type": "code",
   "execution_count": null,
   "metadata": {},
   "outputs": [],
   "source": [
    "# opérateurs logiques \n",
    "## and \n",
    "(5 > 3) and (10 < 100)\n"
   ]
  },
  {
   "cell_type": "code",
   "execution_count": null,
   "metadata": {},
   "outputs": [],
   "source": [
    "not ((5 > 3) and (10 > 100))"
   ]
  },
  {
   "cell_type": "code",
   "execution_count": null,
   "metadata": {},
   "outputs": [],
   "source": [
    "## or \n",
    "(5 > 3) or (10 < 100)\n",
    "(5 > 3) or (10 > 100)"
   ]
  },
  {
   "cell_type": "code",
   "execution_count": null,
   "metadata": {},
   "outputs": [],
   "source": [
    "# operateurs d'appartenance\n",
    "# in et not in \n",
    "x = [5, 10, 24] \n",
    "10 in x \n",
    "10 not in x "
   ]
  },
  {
   "cell_type": "markdown",
   "metadata": {},
   "source": [
    "#### Chainer les comparateurs\n",
    "Il est également possible de chainer les comparateurs:"
   ]
  },
  {
   "cell_type": "code",
   "execution_count": null,
   "metadata": {},
   "outputs": [],
   "source": [
    "a, b, c = 1, 10, 100\n",
    "a < b < c"
   ]
  },
  {
   "cell_type": "code",
   "execution_count": null,
   "metadata": {},
   "outputs": [],
   "source": [
    "a > b < c"
   ]
  },
  {
   "cell_type": "markdown",
   "metadata": {},
   "source": [
    "<a id=\"232-les-conditions\"></a>\n",
    "<h3 style=\"text-align: left; background-color: #e0e0e0; font-family:Times New Roman; color: black; padding: 14px; line-height: 1; border-radius:10px\">2.3.2 Les conditions</h3>"
   ]
  },
  {
   "cell_type": "code",
   "execution_count": null,
   "metadata": {},
   "outputs": [],
   "source": [
    "# condition\n",
    "x = 40 \n",
    "\n",
    "# Première condition : vérifie si x est inférieur à 10\n",
    "if x < 10:\n",
    "    print(\"x est inférieur à 10\")\n",
    "# Deuxième condition : vérifie si x est supérieur ou égal à 100 \n",
    "elif x >= 100:\n",
    "    print(\"x est supérieur ou égal à 100\")\n",
    "# Dernière condition : si toutes les conditions précédentes sont fausses\n",
    "else:\n",
    "    print(\"x est supérieur à 10 mais inférieur à 100\")"
   ]
  },
  {
   "cell_type": "code",
   "execution_count": null,
   "metadata": {},
   "outputs": [],
   "source": [
    "# Initialisation des variables\n",
    "x = 100 \n",
    "y = 30 \n",
    "\n",
    "# Première condition : vérifie si x est inférieur à 10 ET y est supérieur à 20\n",
    "if (x < 10) and (y > 20):\n",
    "    print(\"x est inférieur à 10 et y est supérieur à 20\")\n",
    "# Deuxième condition : vérifie si x est supérieur ou égal à 100 OU y est supérieur ou égal à 30\n",
    "elif (x >= 100) or (y >= 30):\n",
    "    print(\"x est supérieur ou égal à 100 ou y est supérieur ou égal à 30\")\n",
    "# Dernière condition : si toutes les conditions précédentes sont fausses\n",
    "else:\n",
    "    print(\"x est supérieur à 10\")\n"
   ]
  },
  {
   "cell_type": "markdown",
   "metadata": {},
   "source": [
    "<a id=\"233-les-boucles\"></a>\n",
    "<h3 style=\"text-align: left; background-color: #e0e0e0; font-family:Times New Roman; color: black; padding: 14px; line-height: 1; border-radius:10px\">2.3.3 Les boucles</h3>\n",
    "\n",
    "**La boucle for** est utilisée pour parcourir des structures de données : liste, tuple, tableau, chaîne de caractères ou un dictionnaire.\n",
    "\n",
    "> La boucle commence par examiner le premier élément de la séquence, effectue des actions dans son corps, puis passe à l'élément suivant jusqu'à ce que la séquence soit terminée.\n",
    "\n",
    " - Boucle avec mot-clé **\"for\"**, une **variable temporaire** pour contenir chaque élément, le mot-clé **\"in\"** et la séquence à parcourir, suivis  de **deux points**. Jusqu'au bout de l'élément\n",
    "- Appliquer des **opérations sur la variable temporaire** dans le corps de la boucle pour effectuer diverses opérations.\n",
    "- **Imbriquer des for\"**\n",
    "- Sur les *dictionnaires*, on peut **boucler sur les clés et les valeurs à l'aide de la méthode \"items()\"**."
   ]
  },
  {
   "cell_type": "code",
   "execution_count": null,
   "metadata": {},
   "outputs": [],
   "source": [
    "liste = list(range(5))\n",
    "liste"
   ]
  },
  {
   "cell_type": "code",
   "execution_count": null,
   "metadata": {},
   "outputs": [],
   "source": [
    "# Exemple de boucle for\n",
    "for i in liste:\n",
    "    print(i)"
   ]
  },
  {
   "cell_type": "code",
   "execution_count": null,
   "metadata": {},
   "outputs": [],
   "source": [
    "fruits = [\"pomme\", \"banane\", \"mangue\", \"cerise\"]\n",
    "for fruit in fruits:\n",
    "    print(fruit)"
   ]
  },
  {
   "cell_type": "code",
   "execution_count": null,
   "metadata": {},
   "outputs": [],
   "source": [
    "# print(\"Boucle for sur une liste:\")\n",
    "# ma_liste = [1, 2, 3, 4, 5]\n",
    "# for element in ma_liste:\n",
    "#     print(element)\n",
    "\n",
    "nombres = [1, 2, 3, 4, 5]\n",
    "for nombre in nombres:\n",
    "    if nombre % 2 == 0:\n",
    "        print(f\"{nombre} est pair\")\n",
    "    else:\n",
    "        print(f\"{nombre} est impair\")\n"
   ]
  },
  {
   "cell_type": "markdown",
   "metadata": {},
   "source": [
    "**La boucle while** itère sur un bloc de code tant qu'une condition spécifiée est vraie.\n",
    "Contrairement aux boucles \"for\", les boucles \"while\" continuent l'itération tant que la condition reste vraie.\n",
    "\n",
    "- **\"break\"** pour quitter prématurément une boucle \"while\", même si la condition est toujours vraie.\n",
    "- **\"else\"** peut être utilisée avec une boucle \"while\" pour spécifier un bloc de code qui s'exécutera lorsque la condition de la boucle ne sera plus vraie.\n",
    "- **\"continue\"** permet d'ignorer le code restant dans l'itération actuelle de la boucle et de passer à l'itération suivante.\n",
    "- !! **Soyez prudent lorsque vous utilisez \"continue\" afin d'éviter de créer des boucles infinies.**"
   ]
  },
  {
   "cell_type": "code",
   "execution_count": null,
   "metadata": {},
   "outputs": [],
   "source": [
    "# Boucle while avec break\n",
    "print(\"\\nBoucle while avec break:\")\n",
    "i = 1\n",
    "while i <= 5:\n",
    "    print(i)\n",
    "    if i == 3:\n",
    "        print(\"Break à 3\")\n",
    "        break\n",
    "    i += 1"
   ]
  },
  {
   "cell_type": "code",
   "execution_count": null,
   "metadata": {},
   "outputs": [],
   "source": [
    "# Boucle while avec continue\n",
    "print(\"\\nBoucle while avec continue:\")\n",
    "i = 0\n",
    "while i < 5:\n",
    "    i += 1\n",
    "    if i == 3:\n",
    "         continue\n",
    "     print(i)\n"
   ]
  },
  {
   "cell_type": "code",
   "execution_count": null,
   "metadata": {},
   "outputs": [],
   "source": [
    "# Boucle while avec else\n",
    "print(\"\\nBoucle while avec else:\")\n",
    "i = 1\n",
    "while i <= 5:\n",
    "    print(i)\n",
    "    i += 1\n",
    "else:\n",
    "    print(\"La condition n'est plus vraie (i > 5)\")"
   ]
  },
  {
   "cell_type": "code",
   "execution_count": null,
   "metadata": {},
   "outputs": [],
   "source": [
    "# Exemple de boucle while True\n",
    "print(\"Boucle while True avec un mécanisme de sortie :\")\n",
    "\n",
    "compteur = 0\n",
    "while True:\n",
    "    compteur += 1\n",
    "    print(compteur)\n",
    "\n",
    "    # Interrompre la boucle si compteur atteint 5\n",
    "    if compteur == 5:\n",
    "        print(\"Compteur a atteint 5, sortir de la boucle.\")\n",
    "        break"
   ]
  },
  {
   "cell_type": "code",
   "execution_count": null,
   "metadata": {},
   "outputs": [],
   "source": [
    "saisi = int(input(\"Saisissez un chiffre: \"))\n",
    "while True:  \n",
    "    if saisi == 5:\n",
    "        print(\"Vous avez saisi la valeur 5\")\n",
    "        break\n",
    "    else: \n",
    "        saisi = int(input(\"Saisissez un chiffre: \"))"
   ]
  },
  {
   "cell_type": "code",
   "execution_count": null,
   "metadata": {},
   "outputs": [],
   "source": [
    "saisi_mot_de_passe = input(\"Saisissez votre mdp: \")\n",
    "\n",
    "while True:  \n",
    "    if saisi_mot_de_passe == \"azerty\":\n",
    "        print(\"Login success\")\n",
    "        break\n",
    "    else: \n",
    "        print(\"Login fail\")\n",
    "        saisi_mot_de_passe = input(\"Re-Saisissez votre mdp: \")"
   ]
  },
  {
   "cell_type": "code",
   "execution_count": null,
   "metadata": {},
   "outputs": [],
   "source": [
    "import random \n",
    "\n",
    "nombre_aleatoire = random.randint(1, 10)\n",
    "nombre_aleatoire"
   ]
  },
  {
   "cell_type": "markdown",
   "metadata": {},
   "source": [
    "<a id=\"24-types-de-donnees\"></a>\n",
    "<h3 style=\"text-align: left; background-color: #e0e0e0; font-family:Times New Roman; color: black; padding: 14px; line-height: 1; border-radius:10px\">2.4 Types de Données (Structures Séquentielles)</h3>\n",
    "\n",
    "Chaque type de données séquentielles a ses propres caractéristiques et utilisations spécifiques, offrant une grande flexibilité pour le traitement des données. Les listes et les dictionnaires sont particulièrement populaires pour leur flexibilité et leurs capacités de stockage dynamique."
   ]
  },
  {
   "cell_type": "markdown",
   "metadata": {},
   "source": [
    "<a id=\"241-chaines-de-caracteres\"></a>\n",
    "<h3 style=\"text-align: left; background-color: #e0e0e0; font-family:Times New Roman; color: black; padding: 14px; line-height: 1; border-radius:10px\">2.4.1 Les chaines de caractères</h3>\n",
    "\n",
    "  Les chaînes de caractères (`str`) sont utilisées pour stocker et manipuler du texte. Elles sont définies en plaçant le texte entre guillemets simples (`'...'`), doubles (`\"...\"`) ou triples (`'''...'''` ou `\"\"\"...\"\"\"` pour les chaînes sur plusieurs lignes).\n",
    "\n",
    "<div style=\"text-align: center;\"> \n",
    "  <img src=\"../images/indexation.png\" alt=\"Logo Python\" style=\"width: 400px;\"/>\n",
    "</div>\n",
    "\n",
    "  - Séquences de caractères, indexées à partir de 0.\n",
    "  - Peuvent être délimitées par des guillemets simples, doubles ou triples.\n",
    "  - Exemple : `\"Python\"`, `'Data'`.\n",
    "  - Caractères d'Échappement : pour inclure des caractères spéciaux comme des guillemets ou des retours à la ligne dans une chaîne, utilisez des caractères d'échappement (`\\`).\n",
    "\n",
    "  ```python\n",
    "  citation = \"Elle a dit \\\"Bonjour!\\\"\"\n",
    "  retour_ligne = \"Ligne 1\\nLigne 2\"\n",
    "  ```\n",
    "Les chaînes de caractères sont extrêmement polyvalentes et fournissent une gamme complète de méthodes pour le traitement de texte. Que ce soit pour la manipulation de base ou des opérations complexes, les chaînes sont un outil indispensable.\n"
   ]
  },
  {
   "cell_type": "code",
   "execution_count": null,
   "metadata": {},
   "outputs": [],
   "source": [
    "# Définition chaines de caractères\n",
    "chaine_simple = 'Bonjour'\n",
    "longueur = len(chaine_simple) # 7\n",
    "print(f\"{chaine_simple}, 'la longueur est {longueur}\")"
   ]
  },
  {
   "cell_type": "code",
   "execution_count": null,
   "metadata": {},
   "outputs": [],
   "source": [
    "chaine_simple[3]"
   ]
  },
  {
   "cell_type": "code",
   "execution_count": null,
   "metadata": {},
   "outputs": [],
   "source": [
    "chaine_double = \"Python\"\n",
    "chaine_multiligne = \"\"\"Ceci est une\n",
    "chaîne sur plusieurs\n",
    "lignes.\"\"\"\n",
    "print(chaine_double,\"\\n\", chaine_multiligne)\n",
    "\n",
    "# Acces aux éléments\n",
    "premier_char = chaine_simple[0]  # 'B'\n",
    "sous_chaine = chaine_double[1:4] # 'yth'\n",
    "print(premier_char, \"et\",  sous_chaine)\n",
    "\n",
    "# Concaténation \n",
    "salutation = chaine_simple + \", \" + chaine_double # 'Bonjour, Python'\n",
    "print(salutation)\n",
    "\n",
    "# Répétition\n",
    "echo = \"echo \" * 3  # 'echo echo echo '\n",
    "print(echo)"
   ]
  },
  {
   "cell_type": "markdown",
   "metadata": {},
   "source": [
    "- **Méthodes pour les Chaînes de Caractères** : Les méthodes sont des fonctions qui sont associées à des objets spécifiques. Elles permettent d'exécuter des actions sur ces objets ou de manipuler leurs données internes. Voici quelques caractéristiques clés des méthodes :\n",
    "\n",
    "    - **Association avec des Objets** : Contrairement aux fonctions indépendantes, les méthodes sont liées à des objets. Par exemple, les méthodes de chaînes de caractères (`str`)  sont conçues pour effectuer des opérations sur des chaînes de caractères spécifiques.\n",
    "    - **Syntaxe** : Une méthode est appelée en utilisant la notation pointée. Par exemple, `objet.methode()`.\n",
    "    - **Méthodes de Chaînes de Caractères** : les chaînes de caractères disposent de méthodes telles que `upper()`, `lower()`, `replace()` pour convertir en majuscules, en minuscules ou remplacer une partie de la chaîne.\n",
    "    - **Appel** : Pour appeler une méthode, utilisez généralement la syntaxe `objet.methode(arguments)`.\n"
   ]
  },
  {
   "cell_type": "code",
   "execution_count": null,
   "metadata": {},
   "outputs": [],
   "source": [
    "# Méthodes str.isupper() et str.islower()\n",
    "majuscules = \"PYTHON\"\n",
    "minuscules = \"python\"\n",
    "\n",
    "is_upper = majuscules.isupper()\n",
    "is_lower = minuscules.islower()\n",
    "print(is_upper)  # Résultat : True\n",
    "print(is_lower)  # Résultat : True\n",
    "\n",
    "# Méthode str.upper()\n",
    "texte_upper = \"python est génial\".upper()\n",
    "print(texte_upper)  # Résultat : \"PYTHON EST GÉNIAL\"\n",
    "\n",
    "# Méthode str.lower()\n",
    "texte_lower = \"Python est GÉNIAL\".lower()\n",
    "print(texte_lower)  # Résultat : \"python est génial\"\n",
    "\n",
    "# Méthode str.capitalize()\n",
    "texte_capitalize = \"python est génial\".capitalize()\n",
    "print(texte_capitalize)  # Résultat : \"Python est génial\"\n",
    "\n",
    "# Méthode str.title()\n",
    "texte_title = \"python est génial\".title()\n",
    "print(texte_title)  # Résultat : \"Python Est Génial\"\n",
    "\n",
    "# Méthode str.find(substring)\n",
    "texte = \"Python est génial\"\n",
    "position = texte.find(\"est\")\n",
    "print(position)  # Résultat : 7\n",
    "\n",
    "# Méthode str.replace(old, new)\n",
    "texte_replace = \"Les pommes sont rouges.\".replace(\"pommes\", \"bananes\")\n",
    "print(texte_replace)  # Résultat : \"Les bananes sont rouges.\"\n",
    "\n",
    "# Méthode str.split(separator)\n",
    "texte_split = \"apple orange banana\".split(\" \")\n",
    "print(texte_split)  # Résultat : [\"apple\", \"orange\", \"banana\"]\n",
    "\n",
    "# Méthode str.join(iterable)\n",
    "elements = [\"apple\", \"orange\", \"banana\"]\n",
    "texte_join = \", \".join(elements)\n",
    "print(texte_join)  # Résultat : \"apple, orange, banana\"\n",
    "\n",
    "# Méthode str.strip()\n",
    "texte_strip = \"   Bonjour   \".strip()\n",
    "print(texte_strip)  # Résultat : \"Bonjour\"\n",
    "\n",
    "# Méthode str.startswith(prefix)\n",
    "texte_startswith = \"Bonjour, comment ça va ?\".startswith(\"Bonjour\")\n",
    "print(texte_startswith)  # Résultat : True\n",
    "\n",
    "# Méthode str.endswith(suffix)\n",
    "texte_endswith = \"Leçon terminée.\".endswith(\"terminée.\")\n",
    "print(texte_endswith)  # Résultat : True"
   ]
  },
  {
   "cell_type": "markdown",
   "metadata": {},
   "source": [
    "<a id=\"242-les-listes\"></a>\n",
    "<h3 style=\"text-align: left; background-color: #e0e0e0; font-family:Times New Roman; color: black; padding: 14px; line-height: 1; border-radius:10px\">2.4.2 Les listes</h3>\n",
    "\n",
    "Les listes sont des structures de données qui permettent de stocker une série d'éléments. Elles sont flexibles, peuvent contenir des éléments de différents types et sont **mutables** (modifiables).\n",
    "\n",
    "- **Listes** (`list`) :\n",
    "  - Collections ordonnées de valeurs, pouvant contenir divers types de données.\n",
    "  - Les éléments sont séparés par des virgules et entourés de crochets.\n",
    "  - Mutables (modifiables).\n",
    "  - Pour créer une liste, placez une série d'éléments séparés par des virgules entre crochets `[]`. Exemple : `[1, \"a\", 3.14]`.\n",
    "  - L'accès aux éléments se fait par leur index, en commençant par `0`.\n",
    "  - Les listes étant mutables, vous pouvez modifier leurs éléments."
   ]
  },
  {
   "cell_type": "code",
   "execution_count": null,
   "metadata": {},
   "outputs": [],
   "source": [
    "# Définition de liste\n",
    "ma_liste = [1, 2, 3, \"Python\", 3.14, True]\n",
    "print(ma_liste)\n",
    "\n",
    "premier_element = ma_liste[0]  # Accède au premier élément (1)\n",
    "dernier_element = ma_liste[-1] # Accède au dernier élément (True)\n",
    "print(premier_element,\"\\n\", dernier_element)\n",
    "\n",
    " # Modifie le deuxième élément\n",
    "ma_liste[1] = \"deux\" \n",
    "print(ma_liste)\n",
    "\n",
    "# Concaténation et Répétition\n",
    "combinee = ma_liste + [\"autre\", \"liste\"]\n",
    "print(combinee)\n",
    "repetee = [1, 2, 3] * 3\n",
    "print(repetee)"
   ]
  },
  {
   "cell_type": "markdown",
   "metadata": {},
   "source": [
    "- **Le Slicing** : En plus d'accéder aux éléments d'une chaine un par un, Python fournit une syntaxe concise pour accéder aux sous-listes; cela est connu sous le nom de **slicing** :\n"
   ]
  },
  {
   "cell_type": "code",
   "execution_count": null,
   "metadata": {},
   "outputs": [],
   "source": [
    "nums = list(range(5)) # range est une fonction intégrée qui crée une liste d'entiers\n",
    "nums                  # Renvoie \"[0, 1, 2, 3, 4]\"\n",
    "nums[2:4]             # Obtenir une tranche de l'index 2 à 4 (exclusif); renvoie \"[2, 3]\"\n",
    "nums[2:]              # Obtenir une tranche de l'index 2 jusqu'à la fin; renvoie \"[2, 3, 4]\"\n",
    "nums[:2]              # Obtenir une tranche du début jusqu'à l'index 2 (exclusif); renvoie \"[0, 1]\"\n",
    "nums[:]               # Obtenir une tranche de toute la liste; renvoie \"[0, 1, 2, 3, 4]\"\n",
    "nums[:-1]             # Les indices de tranche peuvent être négatifs; renvoie \"[0, 1, 2, 3]\"\n",
    "nums[::-1]            # Les indices de tranche peuvent être négatifs pour inverser l'ordre ; renvoie \"[4, 3, 2, 1, 0]\""
   ]
  },
  {
   "cell_type": "markdown",
   "metadata": {},
   "source": [
    "Attribuer à une tranche (même avec une source de longueur différente) est possible car les listes sont mutables :"
   ]
  },
  {
   "cell_type": "code",
   "execution_count": null,
   "metadata": {},
   "outputs": [],
   "source": [
    "# Cas 1: source de même longueur\n",
    "nums1 = [1, 2, 3]\n",
    "nums1[1:] = [4, 5]     # Assigner une nouvelle sous-liste à une tranche\n",
    "nums1                  # Renvoie \"[1, 4, 5]\"\n",
    "\n",
    "# Cas 2: source de longueur différente\n",
    "nums2 = nums1\n",
    "nums2[1:] = [6]        # Assigner une nouvelle sous-liste à une tranche\n",
    "nums2                  # Renvoie \"[1, 6]\"\n",
    "id(nums1) == id(nums2) # Renvoie True car les listes sont mutables, c'est-à-dire qu'elles peuvent être modifiées sur place\n"
   ]
  },
  {
   "cell_type": "markdown",
   "metadata": {},
   "source": [
    "Similaire aux tuples, lors de l'évaluation d'une plage sur les indices de liste (quelque chose de la forme [x:y] où x et y sont des indices dans la liste), \n",
    "si notre valeur de droite dépasse la longueur de la liste, Python renvoie simplement les éléments de la liste jusqu'à ce que la valeur dépasse la plage d'index.\n",
    "\n"
   ]
  },
  {
   "cell_type": "code",
   "execution_count": null,
   "metadata": {},
   "outputs": [],
   "source": [
    "a = [1, 2, 3] # Index maximal adressable: 2\n",
    "a[:3]         # NE renvoie PAS d'erreur, renvoie plutôt [1, 2, 3]"
   ]
  },
  {
   "cell_type": "markdown",
   "metadata": {},
   "source": [
    "  - Les méthodes des listes : Chaque méthode offre une fonctionnalité unique pour manipuler des listes, rendant ces structures de données extrêmement flexibles et puissantes pour une variété de tâches en programmation Python.\n",
    "\n",
    "| Méthode        | Description                                              | Exemple d'Utilisation                   |\n",
    "|----------------|----------------------------------------------------------|----------------------------------------|\n",
    "| `append()`     | Ajoute un élément à la fin de la liste.                  | `liste.append(5)`                      |\n",
    "| `extend()`     | Étend la liste en ajoutant tous les éléments d'une autre liste. | `liste.extend([6, 7])`                |\n",
    "| `insert()`     | Insère un élément à une position donnée.                 | `liste.insert(1, 'a')`                 |\n",
    "| `remove()`     | Supprime la première occurrence d'un élément.            | `liste.remove('a')`                    |\n",
    "| `pop()`        | Supprime et renvoie un élément à une position donnée (par défaut, le dernier). | `liste.pop()`                          |\n",
    "| `clear()`      | Supprime tous les éléments de la liste.                  | `liste.clear()`                        |\n",
    "| `index()`      | Retourne l'indice du premier élément correspondant.      | `liste.index('a')`                     |\n",
    "| `count()`      | Compte le nombre d'occurrences d'un élément spécifique.  | `liste.count(5)`                       |\n",
    "| `sort()`       | Trie les éléments de la liste (dans un ordre spécifique). | `liste.sort()`                         |\n",
    "| `reverse()`    | Inverse l'ordre des éléments de la liste.                | `liste.reverse()`                      |\n",
    "\n"
   ]
  },
  {
   "cell_type": "code",
   "execution_count": null,
   "metadata": {},
   "outputs": [],
   "source": [
    "# Création d'une liste de base\n",
    "ma_liste = [1, 2, 3]\n",
    "print(ma_liste)\n",
    "\n",
    "# Utilisation de append()\n",
    "ma_liste.append(\"quatre\")\n",
    "print(\"Après append(quatre):\", ma_liste)"
   ]
  },
  {
   "cell_type": "code",
   "execution_count": null,
   "metadata": {},
   "outputs": [],
   "source": [
    "# Utilisation de extend()\n",
    "ma_liste.extend([5, 6])\n",
    "print(\"Après extend([5, 6]):\", ma_liste)"
   ]
  },
  {
   "cell_type": "code",
   "execution_count": null,
   "metadata": {},
   "outputs": [],
   "source": [
    "# Utilisation de insert()\n",
    "ma_liste.insert(1, 'elephant')\n",
    "print(\"Après insert(1, 'elephant'):\", ma_liste)"
   ]
  },
  {
   "cell_type": "code",
   "execution_count": null,
   "metadata": {},
   "outputs": [],
   "source": [
    "# Utilisation de remove()\n",
    "ma_liste.remove('elephant')\n",
    "print(\"Après remove('elephant'):\", ma_liste)"
   ]
  },
  {
   "cell_type": "code",
   "execution_count": null,
   "metadata": {},
   "outputs": [],
   "source": [
    "# Utilisation de pop()\n",
    "element_supprime = ma_liste.pop()\n",
    "print(\"Après pop():\", ma_liste, \", Élément supprimé:\", element_supprime)"
   ]
  },
  {
   "cell_type": "code",
   "execution_count": null,
   "metadata": {},
   "outputs": [],
   "source": [
    "# Utilisation de clear()\n",
    "ma_liste.clear()\n",
    "print(\"Après clear():\", ma_liste)"
   ]
  },
  {
   "cell_type": "code",
   "execution_count": null,
   "metadata": {},
   "outputs": [],
   "source": [
    "# Recréation de la liste pour les autres méthodes\n",
    "ma_liste = [3, 1, 4, 2, 2]\n",
    "\n",
    "# Utilisation de index()\n",
    "index_de_4 = ma_liste.index(4)\n",
    "print(\"Index de 4:\", index_de_4)\n",
    "\n",
    "# Utilisation de count()\n",
    "compte_de_2 = ma_liste.count(2)\n",
    "print(\"Nombre d'occurrences de 2:\", compte_de_2)\n",
    "\n",
    "# Utilisation de sort()\n",
    "ma_liste.sort()\n",
    "print(\"Après sort():\", ma_liste)\n",
    "\n",
    "# Utilisation de reverse()\n",
    "ma_liste.reverse()\n",
    "print(\"Après reverse():\", ma_liste)\n"
   ]
  },
  {
   "cell_type": "markdown",
   "metadata": {},
   "source": [
    "  - **Parcours de Liste**\n",
    "Le parcours de liste consiste à accéder séquentiellement à chaque élément d'une liste. Cela peut être fait de différentes manières, mais les plus courantes sont les boucles `for` et `while`.\n",
    "\n",
    "    - 1. *Boucle `for`* : La boucle `for` est la méthode la plus couramment utilisée pour parcourir une liste. Elle permet de traiter chaque élément individuellement.\n",
    "    - 2. *`List Comprehension`* : La compréhension de liste est une méthode concise pour créer des listes. Elle permet de transformer une liste en une autre liste, en filtrant les éléments pour former une liste des résultats d'une expression donnée.\n",
    "\n",
    "La syntaxe de base d'une compréhension de liste est :\n",
    "\n",
    "```python\n",
    "[nouvelle_expression for item in iterable if condition]\n",
    "```\n",
    "\n",
    "- `nouvelle_expression` est l'expression qui définit comment mapper les éléments de l'`iterable` (par exemple, une liste).\n",
    "- `item` est la variable qui prend la valeur de chaque élément de l'`iterable` pendant chaque itération.\n",
    "- `condition` est une condition optionnelle pour filtrer les éléments de l'`iterable`."
   ]
  },
  {
   "cell_type": "code",
   "execution_count": null,
   "metadata": {},
   "outputs": [],
   "source": [
    "# récupérer tous les fruits avec un \"a\"\n",
    "fruits = [\"apple\", \"banana\", \"cherry\", \"kiwi\", \"mango\"]\n",
    "newlist = []\n",
    "\n",
    "for f in fruits:\n",
    "    if \"a\" in f:\n",
    "        newlist.append(f)\n",
    "\n",
    "print(newlist)"
   ]
  },
  {
   "cell_type": "code",
   "execution_count": null,
   "metadata": {},
   "outputs": [],
   "source": [
    "newlist = [f for f in fruits if \"a\" in f ]\n",
    "print(newlist)"
   ]
  },
  {
   "cell_type": "code",
   "execution_count": null,
   "metadata": {},
   "outputs": [],
   "source": [
    "nombre = [1, 10, 100]\n",
    "nombre_carres = [x**2 for x in nombre]\n",
    "nombre_carres"
   ]
  },
  {
   "cell_type": "code",
   "execution_count": null,
   "metadata": {},
   "outputs": [],
   "source": [
    "# Créer une liste des carrés des nombres de 0 à 9 :\n",
    "carres = [x**2 for x in range(10)]"
   ]
  },
  {
   "cell_type": "code",
   "execution_count": null,
   "metadata": {},
   "outputs": [],
   "source": [
    "# Filtrer les nombres pairs dans une liste :\n",
    "nombres_pairs = [x for x in range(10) if x % 2 == 0]"
   ]
  },
  {
   "cell_type": "code",
   "execution_count": null,
   "metadata": {},
   "outputs": [],
   "source": [
    "# Appliquer une fonction à tous les éléments :\n",
    "noms_majuscules = [nom.upper() for nom in [\"alice\", \"bob\", \"charlie\"]]\n",
    "noms_majuscules"
   ]
  },
  {
   "cell_type": "markdown",
   "metadata": {},
   "source": [
    "D'autre part, les compréhensions de liste peuvent être écrites de manière équivalente en utilisant une combinaison du constructeur de liste, et/ou map et/ou filter :\n",
    "\n"
   ]
  },
  {
   "cell_type": "code",
   "execution_count": null,
   "metadata": {},
   "outputs": [],
   "source": [
    "list(map(lambda x: x + 10, [1, 2, 3]))          # Retourne [11, 12, 13]\n",
    "list(map(max, [1, 2, 3], [4, 2, 1]))            # Retourne [4, 2, 3]\n",
    "list(filter(lambda x: x > 5, [3, 4, 5, 6, 7]))  # Retourne [6, 7]"
   ]
  },
  {
   "cell_type": "markdown",
   "metadata": {},
   "source": [
    "**Avec des boucles imbriquées**\n",
    "\n",
    "Voici une boucle for qui aplatit une matrice (une liste de listes) :"
   ]
  },
  {
   "cell_type": "code",
   "execution_count": null,
   "metadata": {},
   "outputs": [],
   "source": [
    "flattened = []\n",
    "for row in matrix:\n",
    "    for n in row:\n",
    "        flattened.append(n)\n"
   ]
  },
  {
   "cell_type": "markdown",
   "metadata": {},
   "source": [
    "Et voici une compréhension de liste qui fait la même chose :"
   ]
  },
  {
   "cell_type": "code",
   "execution_count": null,
   "metadata": {},
   "outputs": [],
   "source": [
    "flattened = [n for row in matrix for n in row]"
   ]
  },
  {
   "cell_type": "markdown",
   "metadata": {},
   "source": [
    "Les boucles imbriquées dans les compréhensions de liste ne se lisent pas comme du texte.\n",
    " Une erreur commune est de lire cette compréhension de liste comme suit :\n",
    "\n"
   ]
  },
  {
   "cell_type": "code",
   "execution_count": null,
   "metadata": {},
   "outputs": [],
   "source": [
    "flattened = [n for n in row for row in matrix]"
   ]
  },
  {
   "cell_type": "markdown",
   "metadata": {},
   "source": [
    "Mais ce n'est pas correct ! Nous avons inversé les boucles for ici par erreur. La version correcte est celle ci-dessus. Lorsque vous travaillez avec des boucles imbriquées dans les compréhensions de liste, rappelez-vous que les clauses for restent dans le même ordre que dans nos boucles for originales."
   ]
  },
  {
   "cell_type": "markdown",
   "metadata": {},
   "source": [
    "<a id=\"243-les-tuples\"></a>\n",
    "<h3 style=\"text-align: left; background-color: #e0e0e0; font-family:Times New Roman; color: black; padding: 14px; line-height: 1; border-radius:10px\">2.4.3 Les tuples</h3>\n",
    "\n",
    "Les tuples sont :\n",
    "  - Similaires aux listes, mais **immuables** (non modifiables après création).\n",
    "  - Les éléments sont séparés par des virgules et entourés de parenthèses.\n",
    "  - Exemple : `(1, \"a\", 3.14)`.\n",
    "\n",
    "| Avantage                            | Description                                                  |\n",
    "|-------------------------------------|--------------------------------------------------------------|\n",
    "| **Sécurité des Données**            | Parfait pour protéger les données contre les modifications.   |\n",
    "| **Performance**                     | Plus rapides à parcourir que les listes.                     |\n",
    "| **Utilisation en tant que Clés de Dictionnaire** | Peuvent être utilisés comme clés dans les dictionnaires, contrairement aux listes. |\n",
    "| **Retour de Plusieurs Valeurs de Fonction** | Utilisés pour retourner plusieurs valeurs depuis une fonction. |\n",
    "| **Stockage de Données Constantes**  | Idéaux pour stocker des données qui ne doivent pas être modifiées. |\n"
   ]
  },
  {
   "cell_type": "code",
   "execution_count": null,
   "metadata": {},
   "outputs": [],
   "source": [
    "# Définition d'un tuple\n",
    "mon_tuple = (1, \"a\", 3.14)\n",
    "mon_tuple"
   ]
  },
  {
   "cell_type": "code",
   "execution_count": null,
   "metadata": {},
   "outputs": [],
   "source": [
    "un_autre_tuple = 2, \"b\", 4.28\n",
    "un_autre_tuple"
   ]
  },
  {
   "cell_type": "code",
   "execution_count": null,
   "metadata": {},
   "outputs": [],
   "source": [
    "mon_tuple[1] "
   ]
  },
  {
   "cell_type": "code",
   "execution_count": null,
   "metadata": {},
   "outputs": [],
   "source": [
    "# Tuple à Un Élément\n",
    "tuple_singleton = 5,\n",
    "tuple_singleton"
   ]
  },
  {
   "cell_type": "code",
   "execution_count": null,
   "metadata": {},
   "outputs": [],
   "source": [
    "# Tuple à Un Élément\n",
    "tuple_singleton = (5,)\n",
    "\n",
    "# Imbrication\n",
    "tuple_imbrique = (1, (2, 3), (4, 5))\n",
    "\n",
    "# Méthodes Utiles"
   ]
  },
  {
   "cell_type": "code",
   "execution_count": null,
   "metadata": {},
   "outputs": [],
   "source": [
    "longueur = len(mon_tuple)  # Retourne la longueur de mon_tuple, ici 3\n",
    "longueur"
   ]
  },
  {
   "cell_type": "code",
   "execution_count": null,
   "metadata": {},
   "outputs": [],
   "source": [
    "compteur = mon_tuple.count(\"a\")  # Compte le nombre de fois que 1 apparaît dans mon_tuple, ici 1\n",
    "compteur"
   ]
  },
  {
   "cell_type": "code",
   "execution_count": null,
   "metadata": {},
   "outputs": [],
   "source": [
    "indice = mon_tuple.index(\"a\")  # Trouve l'indice de \"a\" dans mon_tuple, ici 1\n",
    "indice"
   ]
  },
  {
   "cell_type": "code",
   "execution_count": null,
   "metadata": {},
   "outputs": [],
   "source": [
    "# L'affectation n'est pas possible\n",
    "# mon_tuple[1] = \"b\""
   ]
  },
  {
   "cell_type": "markdown",
   "metadata": {},
   "source": [
    "<a id=\"244-les-ensembles\"></a>\n",
    "<h3 style=\"text-align: left; background-color: #e0e0e0; font-family:Times New Roman; color: black; padding: 14px; line-height: 1; border-radius:10px\">2.4.4 Les ensembles</h3>\n",
    "\n",
    "Les ensembles sont :\n",
    "  - Collections non ordonnées de valeurs uniques.\n",
    "  - Utiles pour les opérations d'ensemble et la recherche de valeurs uniques.\n",
    "  - Mutables, mais chaque élément doit être unique.\n",
    "  - Non-Ordonnés : Les ensembles ne maintiennent pas l'ordre des éléments. Vous ne pouvez donc pas accéder aux éléments par un index.\n",
    "  - Exemple : `{1, 2, 3}`.\n",
    "\n",
    "Opérations d'Ensemble\n",
    "\n",
    "| Opération             | Syntaxe    | Description                                    |\n",
    "|-----------------------|------------|------------------------------------------------|\n",
    "| Union                 | `a \\| b`    | Retourne un nouvel ensemble contenant tous les éléments uniques des ensembles `a` et `b`. |\n",
    "| Intersection          | `a & b`    | Retourne un nouvel ensemble contenant uniquement les éléments communs aux ensembles `a` et `b`. |\n",
    "| Différence            | `a - b`    | Retourne un nouvel ensemble contenant les éléments de `a` qui ne sont pas dans `b`. |\n",
    "| Différence Symétrique | `a ^ b`    | Retourne un nouvel ensemble contenant tous les éléments qui sont dans `a` ou `b`, mais pas dans les deux. |\n",
    "| Ajout                 | `a.add(x)` | Ajoute l'élément `x` à l'ensemble `a`. |\n",
    "| Suppression           | `a.remove(x)` | Supprime l'élément `x` de l'ensemble `a` ; lève une erreur si `x` n'est pas présent. |\n",
    "| Suppression (sans erreur) | `a.discard(x)` | Supprime l'élément `x` de l'ensemble `a` si `x` est présent ; ne fait rien sinon. |"
   ]
  },
  {
   "cell_type": "code",
   "execution_count": null,
   "metadata": {},
   "outputs": [],
   "source": [
    "# Définition des ensembles\n",
    "ensemble_a = {1, 2, 3, 4}\n",
    "ensemble_b = {3, 4, 5, 6}\n",
    "print(ensemble_a, ensemble_b)\n",
    "\n",
    "# Seule une valeur est représentée\n",
    "ensemble_c = {1, 1, 1}\n",
    "print(ensemble_c)"
   ]
  },
  {
   "cell_type": "code",
   "execution_count": null,
   "metadata": {},
   "outputs": [],
   "source": [
    "# Opérations d'ensemble\n",
    "union = ensemble_a | ensemble_b\n",
    "intersection = ensemble_a & ensemble_b\n",
    "difference_a = ensemble_a - ensemble_b\n",
    "difference_b = ensemble_b - ensemble_a\n",
    "difference_symetrique = ensemble_a ^ ensemble_b\n",
    "\n",
    "# Affichage des résultats\n",
    "print(\"Union :\", union)\n",
    "print(\"Intersection :\", intersection)\n",
    "print(\"Différence a :\", difference_a)\n",
    "print(\"Différence b :\", difference_b)\n",
    "print(\"Différence Symétrique :\", difference_symetrique)"
   ]
  },
  {
   "cell_type": "code",
   "execution_count": null,
   "metadata": {},
   "outputs": [],
   "source": [
    "print(ensemble_a)\n",
    "\n",
    "# Ajout et suppression\n",
    "ensemble_a.add(7)\n",
    "print(\"Après ajout :\", ensemble_a)"
   ]
  },
  {
   "cell_type": "code",
   "execution_count": null,
   "metadata": {},
   "outputs": [],
   "source": [
    "ensemble_a.remove(1)\n",
    "print(\"Après suppression :\", ensemble_a)"
   ]
  },
  {
   "cell_type": "code",
   "execution_count": null,
   "metadata": {},
   "outputs": [],
   "source": [
    "ensemble_a.discard(2)  \n",
    "ensemble_a"
   ]
  },
  {
   "cell_type": "code",
   "execution_count": null,
   "metadata": {},
   "outputs": [],
   "source": [
    "for i in range(1,5):\n",
    "    for j in range(1,5):\n",
    "        \"*\".join(j)\n",
    "        print(\"*\" * i * j)"
   ]
  },
  {
   "cell_type": "markdown",
   "metadata": {},
   "source": [
    "<a id=\"245-les-dictionnaires\"></a>\n",
    "<h3 style=\"text-align: left; background-color: #e0e0e0; font-family:Times New Roman; color: black; padding: 14px; line-height: 1; border-radius:10px\">2.4.5 Les dictionnaires</h3>\n",
    "\n",
    "Les dictionnaires sont :\n",
    "  - Basés sur des paires clé-valeur.\n",
    "  - Les valeurs sont accessibles via les clés.\n",
    "  - Mutables, permettant les mises à jour et les suppressions.\n",
    "  - Exemple : `{\"nom\": \"Alice\", \"âge\": 30}`.\n",
    "  - Utilisation :\n",
    "    - **Stockage d'Informations Structurées** : Parfait pour stocker des informations complexes comme des données utilisateur.\n",
    "    - **Recherche Rapide** : Utilisez des dictionnaires pour des recherches rapides basées sur des clés uniques."
   ]
  },
  {
   "cell_type": "code",
   "execution_count": null,
   "metadata": {},
   "outputs": [],
   "source": [
    "# Définition d'un dictionnaire\n",
    "personne = {\"nom\": \"Alice\", \"age\": 30}\n",
    "autre_dict = dict(nom=\"Bob\", age=25)"
   ]
  },
  {
   "cell_type": "code",
   "execution_count": null,
   "metadata": {},
   "outputs": [],
   "source": [
    "personne"
   ]
  },
  {
   "cell_type": "code",
   "execution_count": null,
   "metadata": {},
   "outputs": [],
   "source": [
    "# Ajout et Mise à Jour\n",
    "personne[\"profession\"] = \"Développeur\"\n",
    "personne"
   ]
  },
  {
   "cell_type": "code",
   "execution_count": null,
   "metadata": {},
   "outputs": [],
   "source": [
    "# Mise à Jour de plusieurs clés\n",
    "personne.update([('nom', \"Romain\"), ('profession', \"Data Scientist\")])\n",
    "personne"
   ]
  },
  {
   "cell_type": "code",
   "execution_count": null,
   "metadata": {},
   "outputs": [],
   "source": [
    "# Utilisation de keys()\n",
    "cles = personne.keys()\n",
    "print(\"Clés:\", cles)\n",
    "\n",
    "# Utilisation de values()\n",
    "valeurs = personne.values()\n",
    "print(\"Valeurs:\", valeurs)\n",
    "\n",
    "# Utilisation de items()\n",
    "paires = personne.items()\n",
    "print(\"Paires clé-valeur:\", paires)"
   ]
  },
  {
   "cell_type": "code",
   "execution_count": null,
   "metadata": {},
   "outputs": [],
   "source": [
    "# Utilisation de get()\n",
    "nom_personne = personne.get(\"nom\") \n",
    "age_personne = personne.get(\"age\")\n",
    "\n",
    "nom_personne, age_personne"
   ]
  },
  {
   "cell_type": "code",
   "execution_count": null,
   "metadata": {},
   "outputs": [],
   "source": [
    "ville = personne.get(\"ville\")\n",
    "ville"
   ]
  },
  {
   "cell_type": "code",
   "execution_count": null,
   "metadata": {},
   "outputs": [],
   "source": [
    "ville = personne.get(\"ville\", \"Non spécifiée\")  # Retourne 'Non spécifiée' car 'ville' n'existe pas\n",
    "print(\"Ville:\", ville)"
   ]
  },
  {
   "cell_type": "code",
   "execution_count": null,
   "metadata": {},
   "outputs": [],
   "source": [
    "# Parcours des clés\n",
    "print(\"\\nParcours des clés:\")\n",
    "for cle in personne.keys():\n",
    "    print(cle)\n",
    "\n",
    "# Parcours des valeurs\n",
    "print(\"\\nParcours des valeurs:\")\n",
    "for valeur in personne.values():\n",
    "    print(valeur)\n",
    "\n",
    "# Parcours des paires clé-valeur\n",
    "print(\"\\nParcours des paires clé-valeur:\")\n",
    "for cle, valeur in personne.items():\n",
    "    print(cle, \":\", valeur)"
   ]
  },
  {
   "cell_type": "code",
   "execution_count": null,
   "metadata": {},
   "outputs": [],
   "source": [
    "print(\"\\nParcours des paires clé-valeur avec enumerate:\")\n",
    "for index, (cle, valeur) in enumerate(personne.items()):\n",
    "    print(f\"Index {index}: Clé = {cle}, Valeur = {valeur}\")"
   ]
  },
  {
   "cell_type": "code",
   "execution_count": null,
   "metadata": {},
   "outputs": [],
   "source": [
    "personne"
   ]
  },
  {
   "cell_type": "code",
   "execution_count": null,
   "metadata": {},
   "outputs": [],
   "source": [
    "# Suppression\n",
    "del personne[\"age\"]"
   ]
  },
  {
   "cell_type": "code",
   "execution_count": null,
   "metadata": {},
   "outputs": [],
   "source": [
    "personne"
   ]
  },
  {
   "cell_type": "code",
   "execution_count": null,
   "metadata": {},
   "outputs": [],
   "source": [
    "profession = personne.pop(\"profession\")"
   ]
  },
  {
   "cell_type": "code",
   "execution_count": null,
   "metadata": {},
   "outputs": [],
   "source": [
    "profession"
   ]
  },
  {
   "cell_type": "code",
   "execution_count": null,
   "metadata": {},
   "outputs": [],
   "source": [
    "personne"
   ]
  },
  {
   "cell_type": "markdown",
   "metadata": {},
   "source": [
    "**Dictionary Comprehensions**\n",
    "\n",
    "Ces dernières sont similaires aux compréhensions de listes, mais vous permettent de construire facilement des dictionnaires.\n",
    "\n",
    "Par exemple, considérez une boucle for qui crée un nouveau dictionnaire en échangeant les clés et les valeurs de l'original :"
   ]
  },
  {
   "cell_type": "code",
   "execution_count": null,
   "metadata": {},
   "outputs": [],
   "source": [
    "flipped = {}\n",
    "original = {\"a\": 0, \"b\": 5, \"c\": 6, \"d\": 7, \"e\": 11, \"f\": 19}\n",
    "for key, value in original.items():\n",
    "    flipped[value] = key\n",
    "\n",
    "flipped"
   ]
  },
  {
   "cell_type": "markdown",
   "metadata": {},
   "source": [
    "Le même code écrit sous forme d'une **Dictionary Comprehensions**\n",
    " :\n",
    "\n"
   ]
  },
  {
   "cell_type": "code",
   "execution_count": null,
   "metadata": {},
   "outputs": [],
   "source": [
    "flipped = {value: key for key, value in original.items()}"
   ]
  },
  {
   "cell_type": "markdown",
   "metadata": {},
   "source": [
    "Autre exemple :"
   ]
  },
  {
   "cell_type": "code",
   "execution_count": null,
   "metadata": {},
   "outputs": [],
   "source": [
    "nums = [0, 1, 2, 3, 4]\n",
    "even_num_to_square = {x: x ** 2 for x in nums if x % 2 == 0}\n",
    "print(even_num_to_square) "
   ]
  },
  {
   "cell_type": "markdown",
   "metadata": {},
   "source": [
    "Autre exemple :"
   ]
  },
  {
   "cell_type": "code",
   "execution_count": null,
   "metadata": {},
   "outputs": [],
   "source": [
    "{x: x**2 for x in range(5)} "
   ]
  },
  {
   "cell_type": "markdown",
   "metadata": {},
   "source": [
    "<a id=\"25-fonctions-definition-et-appel\"></a>\n",
    "<h3 style=\"text-align: left; background-color: #e0e0e0; font-family:Times New Roman; color: black; padding: 14px; line-height: 1; border-radius:10px\">2.5 Les fonctions : définition et rappel</h3>"
   ]
  },
  {
   "cell_type": "markdown",
   "metadata": {},
   "source": [
    "#### Qu'est-ce qu'une Fonction ?\n",
    "\n",
    "Une fonction est une suite d'instructions que l'on peut appeler avec un nom. En programmation, une fonction est comme une petite \"machine\" qui prend des entrées (arguments), effectue certaines opérations, et parfois retourne une sortie (valeur de retour).\n",
    "\n",
    "- **Explication de ce qu'est une fonction en programmation**\n",
    "\n",
    ", une fonction est définie en utilisant le mot-clé `def`, suivi du nom de la fonction, des parenthèses `()` contenant des paramètres (si nécessaires), et un bloc d'instructions indenté.\n",
    "\n",
    "```python\n",
    "def ma_fonction():\n",
    "    # Ici, nous mettons le code que la fonction exécutera.\n",
    "```\n",
    "\n",
    "- **L'importance des fonctions pour réduire la répétition de code**\n",
    "\n",
    "Les fonctions sont essentielles pour éviter la répétition de code. Au lieu d'écrire le même code plusieurs fois, une fonction nous permet de regrouper ce code et de l'appeler quand nécessaire. Cela rend le code plus court, plus lisible et plus facile à maintenir.\n",
    "\n",
    "#### Pourquoi Utiliser des Fonctions ?\n",
    "\n",
    "Les fonctions sont un outil fondamental  pour plusieurs raisons :\n",
    "\n",
    "- **Simplification du code**\n",
    "\n",
    "En regroupant des opérations complexes en fonctions, on simplifie notre code principal. Cela le rend plus lisible et plus facile à comprendre.\n",
    "\n",
    "- **Réutilisabilité**\n",
    "\n",
    "Une fois que vous avez écrit une fonction, vous pouvez l'utiliser autant de fois que nécessaire. Cela élimine le besoin de réécrire le même code, économisant du temps et réduisant les erreurs.\n",
    "\n",
    "- **Meilleure organisation du code**\n",
    "\n",
    "Les fonctions aident à structurer le code en unités logiques. Chaque fonction a un objectif spécifique, ce qui facilite la compréhension du programme dans son ensemble. De plus, cela facilite le débogage et le test de parties spécifiques du code.\n",
    "\n",
    "\n",
    "Voici le développement de la section \"Syntaxe de Base des Fonctions\"  avec des explications et des exemples, rédigé en Markdown :\n",
    "\n",
    "\n",
    "#### Définition d'une Fonction\n",
    "\n",
    ", la définition d'une fonction commence par le mot-clé `def`, suivi du nom de la fonction, des parenthèses `()`, et d'un bloc d'instructions indenté.\n",
    "\n",
    "```python\n",
    "def ma_fonction():\n",
    "    print(\"Ceci est une fonction.\")\n",
    "```\n",
    "\n",
    "Dans cet exemple, `ma_fonction` est le nom de notre fonction. Le bloc d'instructions qui suit définit ce que la fonction fait lorsqu'elle est appelée. Ici, la fonction affiche simplement un message.\n",
    "\n",
    "La définition d'une fonction permet de regrouper un ensemble d'instructions que vous souhaitez exécuter à plusieurs reprises. Elle n'est exécutée que lorsque la fonction est appelée.\n",
    "\n",
    "- **Structure de base**\n",
    "\n",
    "La structure de base d'une fonction comprend :\n",
    "- Le mot-clé `def`.\n",
    "- Le nom de la fonction.\n",
    "- Les parenthèses `()` (avec des paramètres si nécessaire).\n",
    "- Un bloc d'instructions indenté.\n",
    "\n",
    "- **Appel d'une Fonction**\n",
    "\n",
    "Une fois qu'une fonction est définie, elle peut être appelée en utilisant son nom suivi de parenthèses.\n",
    "\n",
    "```python\n",
    "ma_fonction()\n",
    "```\n",
    "\n",
    "Cet appel exécute les instructions définies dans `ma_fonction`.\n",
    "\n",
    "- **Paramètres et Arguments**\n",
    "\n",
    "Les fonctions peuvent être plus flexibles lorsqu'elles prennent des paramètres. Les paramètres agissent comme des variables dans la définition de la fonction.\n",
    "\n",
    "```python\n",
    "def ma_fonction(param1, param2):\n",
    "    print(f\"Paramètre 1 : {param1}, Paramètre 2 : {param2}\")\n",
    "```\n",
    "\n",
    "```python\n",
    "def saluer(nom):\n",
    "    print(f\"Bonjour, {nom}!\")\n",
    "```\n",
    "Ici, `nom` est un paramètre de la fonction `saluer`. Lorsque la fonction est appelée, elle s'attend à recevoir une valeur pour ce paramètre.\n",
    "\n",
    "- **Appel d'une Fonction avec Arguments**\n",
    "\n",
    "Lorsque vous appelez une fonction qui a des paramètres, vous devez fournir des arguments correspondants.\n",
    "\n",
    "```python\n",
    "saluer(\"Alice\")\n",
    "```\n",
    "Dans cet appel, `\"Alice\"` est un argument qui est passé à la fonction `saluer`. La fonction utilisera la valeur de cet argument lors de son exécution.\n",
    "\n",
    "Exemples : "
   ]
  },
  {
   "cell_type": "code",
   "execution_count": null,
   "metadata": {},
   "outputs": [],
   "source": [
    "def saluer(nom):\n",
    "    print(f\"Bonjour, {nom}!\")"
   ]
  },
  {
   "cell_type": "code",
   "execution_count": null,
   "metadata": {},
   "outputs": [],
   "source": [
    "saluer(nom = \"Paul\")\n",
    "saluer(nom = \"Ményssa\")\n",
    "saluer(nom = \"Kévin\")\n",
    "saluer(nom = \"Axel\")"
   ]
  },
  {
   "cell_type": "code",
   "execution_count": null,
   "metadata": {},
   "outputs": [],
   "source": [
    "def affiche_message(message):\n",
    "    print(f\"Message reçu : {message}\")\n",
    "\n",
    "affiche_message(\"Bonjour, ca  va ?\")\n",
    "affiche_message(\"Python c'est cool!\")"
   ]
  },
  {
   "cell_type": "code",
   "execution_count": null,
   "metadata": {},
   "outputs": [],
   "source": [
    "def additionner(a, b):\n",
    "    somme = a + b\n",
    "    print(f\"La somme de {a} et {b} est {somme}\")\n"
   ]
  },
  {
   "cell_type": "code",
   "execution_count": null,
   "metadata": {},
   "outputs": [],
   "source": [
    "additionner(a = 5, b = 3)\n",
    "additionner(5, 3)"
   ]
  },
  {
   "cell_type": "code",
   "execution_count": null,
   "metadata": {},
   "outputs": [],
   "source": [
    "additionner(b = 10, a = 67)"
   ]
  },
  {
   "cell_type": "code",
   "execution_count": null,
   "metadata": {},
   "outputs": [],
   "source": [
    "def division(a, b):\n",
    "    quotient = a / b\n",
    "    print(f\"Le quotient de {a} et {b} est {quotient}\")\n",
    "\n",
    "division(a = 5, b = 3)\n",
    "division(b = 3, a = 5)\n",
    "\n",
    "division(3, 5)\n",
    "division(5, 3)"
   ]
  },
  {
   "cell_type": "code",
   "execution_count": null,
   "metadata": {},
   "outputs": [],
   "source": [
    "def puissance(base, exposant):\n",
    "    resultat = base ** exposant\n",
    "    print(f\"{base} élevé à la puissance {exposant} est égal {resultat}\")\n",
    "    \n",
    "puissance(exposant = 2, base =  3)"
   ]
  },
  {
   "cell_type": "code",
   "execution_count": null,
   "metadata": {},
   "outputs": [],
   "source": [
    "import math\n",
    "\n",
    "def perimetre_cercle(rayon):\n",
    "    perimetre = 2 * math.pi * rayon\n",
    "    print(f\"Le périmètre d'un cercle de rayon {rayon} est {perimetre:.2f}\")\n",
    "\n",
    "perimetre_cercle(5)"
   ]
  },
  {
   "cell_type": "markdown",
   "metadata": {},
   "source": [
    "<a id=\"251-parametres-arguments\"></a>\n",
    "<h3 style=\"text-align: left; background-color: #e0e0e0; font-family:Times New Roman; color: black; padding: 14px; line-height: 1; border-radius:10px\">2.5.1 Les paramètres et arguments</h3>\n",
    "\n",
    "Les paramètres de fonction sont des variables spécifiées dans la définition d'une fonction. Ils agissent comme des placeholders pour les valeurs (arguments) que la fonction recevra lorsqu'elle est appelée.\n",
    "\n",
    "- **Différence entre Paramètres et Arguments**\n",
    "\n",
    "    - **Paramètres** sont les noms donnés aux variables dans la définition de la fonction.\n",
    "    Ils sont utilisés dans la fonction pour se référer aux valeurs qui seront passées lors de l'appel de la fonction.\n",
    "\n",
    "    - **Arguments** sont les valeurs réelles passées à la fonction lorsqu'elle est appelée. \n",
    "    Ces valeurs sont affectées aux paramètres correspondants de la fonction.\n",
    "\n",
    "- **Valeurs par Défaut des Paramètres**\n",
    "Les fonctions peuvent avoir des paramètres avec des valeurs par défaut. Ces valeurs sont utilisées si aucun argument correspondant n'est fourni lors de l'appel de la fonction.\n",
    "\n",
    "```python\n",
    "def ma_fonction(param1, param2=42):\n",
    "    print(f\"Paramètre 1 : {param1}, Paramètre 2 : {param2}\")\n",
    "```\n",
    "\n",
    "Dans cet exemple, `param2` a une valeur par défaut de `42`. Si `ma_fonction` est appelée sans un second argument, `param2` utilisera cette valeur par défaut.\n",
    "\n",
    "Les valeurs par défaut rendent les fonctions plus flexibles et permettent d'éviter des erreurs si certains arguments ne sont pas essentiels. Voici un exemple d'appel de la fonction avec et sans le second argument :\n",
    "\n",
    "```python\n",
    "ma_fonction(\"test\")         # Utilise la valeur par défaut pour param2\n",
    "ma_fonction(\"test\", 24)     # Remplace la valeur par défaut de param2\n",
    "```"
   ]
  },
  {
   "cell_type": "code",
   "execution_count": null,
   "metadata": {},
   "outputs": [],
   "source": [
    "def ma_fonction(param1, param2=42):\n",
    "    print(f\"Paramètre 1 : {param1}, Paramètre 2 : {param2}\")"
   ]
  },
  {
   "cell_type": "code",
   "execution_count": null,
   "metadata": {},
   "outputs": [],
   "source": [
    "ma_fonction(2)"
   ]
  },
  {
   "cell_type": "code",
   "execution_count": null,
   "metadata": {},
   "outputs": [],
   "source": [
    "\n",
    "ma_fonction(2, 30)"
   ]
  },
  {
   "cell_type": "markdown",
   "metadata": {},
   "source": [
    "<a id=\"252-types-fonctions\"></a>\n",
    "<h3 style=\"text-align: left; background-color: #e0e0e0; font-family:Times New Roman; color: black; padding: 14px; line-height: 1; border-radius:10px\">2.5.2 Les types de fonctions</h3>\n",
    "\n",
    "Il existe deux types principaux de fonctions : celles qui retournent une valeur et celles qui ne retournent rien.\n",
    "\n",
    "    - **Fonctions avec Retour** : Une fonction avec retour renvoie une valeur à l'endroit où elle est appelée. \n",
    "    Ce retour est effectué en utilisant le mot-clé `return`.\n",
    "    - **Fonctions sans Retour**: Les fonctions sans retour effectuent des actions mais ne renvoient aucune valeur.\n",
    "     Elles sont souvent utilisées pour effectuer une tâche, comme afficher un message ou modifier des données.\n",
    "\n",
    "```python\n",
    "def ma_fonction():\n",
    "    return \"valeur retournée\"\n",
    "```\n",
    "Cette fonction retourne la chaîne de caractères `\"valeur retournée\"`. \n",
    "Lorsqu'elle est appelée, on peut récupérer cette valeur :\n",
    "\n",
    "```python\n",
    "resultat = ma_fonction()\n",
    "print(resultat)  # Affiche \"valeur retournée\"\n",
    "```\n",
    "\n",
    "```python\n",
    "def ma_fonction():\n",
    "    print(\"Fonction exécutée\")\n",
    "```\n",
    "Cette fonction affiche un message mais ne retourne rien. \n",
    "L'appel de cette fonction se concentre sur l'effet produit (ici, l'affichage) plutôt que sur une valeur retournée.\n"
   ]
  },
  {
   "cell_type": "code",
   "execution_count": null,
   "metadata": {},
   "outputs": [],
   "source": [
    "def divison_par_deux(a, b = 2):\n",
    "    print( a / b )\n",
    "\n",
    "resultat = divison_par_deux(5)\n",
    "print(resultat)"
   ]
  },
  {
   "cell_type": "code",
   "execution_count": null,
   "metadata": {},
   "outputs": [],
   "source": [
    "def divison_par_deux(a, b = 2):\n",
    "    return a / b\n",
    "\n",
    "resultat = divison_par_deux(5)\n",
    "print(resultat)"
   ]
  },
  {
   "cell_type": "code",
   "execution_count": null,
   "metadata": {},
   "outputs": [],
   "source": [
    "def carre(nombre):\n",
    "    return nombre * nombre\n",
    "\n",
    "resultat = carre(4)\n",
    "print(resultat)  # Affichera 16\n",
    "\n",
    "def celsius_en_fahrenheit(celsius):\n",
    "    return (celsius * 9/5) + 32\n",
    "\n",
    "temperature_fahrenheit = celsius_en_fahrenheit(0)\n",
    "print(temperature_fahrenheit)  # Affichera 32\n",
    "\n",
    "def est_pair(nombre):\n",
    "    return nombre % 2 == 0\n",
    "\n",
    "resultat = est_pair(10)\n",
    "print(resultat)  # Affichera True\n",
    "\n",
    "def maximum(a, b):\n",
    "    if a > b:\n",
    "        return a\n",
    "    else:\n",
    "        return b\n"
   ]
  },
  {
   "cell_type": "code",
   "execution_count": null,
   "metadata": {},
   "outputs": [],
   "source": [
    "max_nombre = maximum(10, 20)\n",
    "print(max_nombre)  # Affichera 20"
   ]
  },
  {
   "cell_type": "markdown",
   "metadata": {},
   "source": [
    "<a id=\"253-porte-variables\"></a>\n",
    "<h3 style=\"text-align: left; background-color: #e0e0e0; font-family:Times New Roman; color: black; padding: 14px; line-height: 1; border-radius:10px\">2.5.3 La portée des variables</h3>\n",
    "\n",
    "La portée d'une variable détermine où dans le code elle est accessible. En Python, les variables peuvent avoir une portée locale ou globale."
   ]
  },
  {
   "cell_type": "code",
   "execution_count": null,
   "metadata": {},
   "outputs": [],
   "source": [
    "x = \"global\"  # Variable globale\n",
    "x"
   ]
  },
  {
   "cell_type": "code",
   "execution_count": null,
   "metadata": {},
   "outputs": [],
   "source": [
    "def ma_fonction():\n",
    "    x = \"local\"  # Variable locale\n",
    "    print(x)\n",
    "\n",
    "ma_fonction()\n",
    "x"
   ]
  },
  {
   "cell_type": "markdown",
   "metadata": {},
   "source": [
    "Les variables globales sont utiles pour partager des données entre différentes parties d'un programme.\n",
    "\n",
    "Cependant, il faut les utiliser avec prudence pour éviter des problèmes de conception.\n"
   ]
  },
  {
   "cell_type": "code",
   "execution_count": null,
   "metadata": {},
   "outputs": [],
   "source": [
    "# le mot-clé `global` est utilisé pour modifier la variable globale\n",
    "#  `z` à l'intérieur de la fonction `modifier_globale`.\n",
    "\n",
    "z = 10\n",
    "\n",
    "def modifier_globale():\n",
    "    global z\n",
    "    z = 20\n",
    "\n",
    "print(z)  # Affiche 10\n",
    "modifier_globale()\n",
    "print(z)  # Affiche 20"
   ]
  },
  {
   "cell_type": "code",
   "execution_count": null,
   "metadata": {},
   "outputs": [],
   "source": [
    "# Les arguments mot-clé permettent de passer des arguments\n",
    "#  à une fonction en spécifiant le nom du paramètre.\n",
    "def ma_fonction(nom, age):\n",
    "    print(f\"Nom : {nom}, Âge : {age}\")\n",
    "\n",
    "ma_fonction(age=25, nom=\"Alice\")"
   ]
  },
  {
   "cell_type": "markdown",
   "metadata": {},
   "source": [
    "<a id=\"254-variables-arguments\"></a>\n",
    "<h3 style=\"text-align: left; background-color: #e0e0e0; font-family:Times New Roman; color: black; padding: 14px; line-height: 1; border-radius:10px\">2.5.4 Nombre variable d'arguments</h3>\n",
    "\n",
    "Vous pouvez créer des fonctions qui acceptent un nombre variable d'arguments grâce\n",
    " à `*args` pour les listes et `**kwargs` pour les dictionnaires de mots-clés.\n"
   ]
  },
  {
   "cell_type": "code",
   "execution_count": null,
   "metadata": {},
   "outputs": [],
   "source": [
    "def multiplication(a, b, c, d, e, f):\n",
    "    return a * b\n",
    "\n",
    "multiplication(2, 3)"
   ]
  },
  {
   "cell_type": "code",
   "execution_count": null,
   "metadata": {},
   "outputs": [],
   "source": [
    "import numpy as np\n",
    "# arguments arbitraire on ne connait pas le nombre de parametre à l'avance\n",
    "def multiplication(*nombre):\n",
    "    res = np.prod(nombre)\n",
    "    return res"
   ]
  },
  {
   "cell_type": "code",
   "execution_count": null,
   "metadata": {},
   "outputs": [],
   "source": [
    "multiplication(4, 3, 4, 90)"
   ]
  },
  {
   "cell_type": "code",
   "execution_count": null,
   "metadata": {},
   "outputs": [],
   "source": [
    "def multiplication(*nombre):\n",
    "    print(nombre[0]*nombre[1]*nombre[2]*nombre[3])"
   ]
  },
  {
   "cell_type": "code",
   "execution_count": null,
   "metadata": {},
   "outputs": [],
   "source": [
    "multiplication(4, 3, 4, 90)"
   ]
  },
  {
   "cell_type": "code",
   "execution_count": null,
   "metadata": {},
   "outputs": [],
   "source": [
    "def param_args(*parametres):\n",
    "    print(parametres[0]*parametres[1])\n",
    "    print(f\"Message : {parametres[2]}\")\n",
    "    \n",
    "param_args(2, 3, \"Salut!\")"
   ]
  },
  {
   "cell_type": "code",
   "execution_count": null,
   "metadata": {},
   "outputs": [],
   "source": [
    "args_tuple = (5, 6, 8, 9)\n",
    "nombre_args(*args_tuple) # mettre etoile pour le tuple"
   ]
  },
  {
   "cell_type": "code",
   "execution_count": null,
   "metadata": {},
   "outputs": [],
   "source": [
    "# pratique pour définir des clé d'arguments\n",
    "def nombre_kwarg(**nombre):\n",
    "    print('Mon age est : ' + nombre['age'] + ' ans' + ' et ma taille est : ' + nombre[\"taille\"] + ' metres')\n",
    "\n",
    "nombre_kwarg(age  = '15', taille = '1.65', profession = \" Dev\")"
   ]
  },
  {
   "cell_type": "code",
   "execution_count": null,
   "metadata": {},
   "outputs": [],
   "source": [
    "# `args` est un tuple contenant tous les arguments positionnels\n",
    "# `kwargs` est un dictionnaire contenant tous les arguments nommés.\n",
    "\n",
    "def ma_fonction(*args, **kwargs):\n",
    "    print(\"args:\", args)\n",
    "    print(\"kwargs:\", kwargs)\n",
    "\n",
    "ma_fonction(1, 2, 3, nom=\"Alice\", age=25)\n"
   ]
  },
  {
   "cell_type": "markdown",
   "metadata": {},
   "source": [
    "- **Bonnes Pratiques**\n",
    "Nommer clairement vos fonctions est crucial pour la lisibilité et la maintenabilité de votre code. Les noms de fonctions doivent être descriptifs et refléter ce qu'ils font.  \n",
    "    - Utilisez des noms descriptifs.\n",
    "    - Privilégiez les verbes pour les fonctions effectuant des actions.\n",
    "    - Évitez les abréviations non évidentes.\n",
    "Documenter vos fonctions avec des **docstrings**, aide d'autres programmeurs (et vous-même dans le futur) à comprendre rapidement ce que fait votre fonction.\n",
    "\n",
    "```python\n",
    "def ma_fonction():\n",
    "    \"\"\"\n",
    "    Description de ce que fait la fonction.\n",
    "    Peut inclure des détails sur les paramètres et la valeur de retour.\n",
    "    \"\"\"\n",
    "    # corps de la fonction\n",
    "```\n",
    "Les docstrings sont placées juste sous la définition de la fonction et sont entourées de triples guillemets."
   ]
  },
  {
   "cell_type": "code",
   "execution_count": null,
   "metadata": {},
   "outputs": [],
   "source": [
    "# fonction qui renvoie un nombre à la puissance\n",
    "def nombre_puissance(nombre, puissance): \n",
    "    # documenter le code\n",
    "    \"\"\"\n",
    "    cette fonction calcule un nombre à la puissance et retourne le résultat.    \n",
    "    Parameters:    \n",
    "    nombre    (int): le premier nombre \n",
    "    puissance (int): le deuxième nombre    \n",
    "    Returns   (int): le resultat nombre a la puissance     \n",
    "    \n",
    "    \"\"\"\n",
    "    return nombre ** puissance\n",
    "\n",
    "# interaction  avec un utilisateur \n",
    "num = int(input(\"Saississez un nombre entier : \"))\n",
    "power = int(input(\"Saississez une puissance : \"))\n",
    "\n",
    "print(\"Le résultat est :\", nombre_puissance(nombre = num, puissance = power))\n"
   ]
  },
  {
   "cell_type": "markdown",
   "metadata": {},
   "source": [
    "<a id=\"255-fonctions-anonymes\"></a>\n",
    "<h3 style=\"text-align: left; background-color: #e0e0e0; font-family:Times New Roman; color: black; padding: 14px; line-height: 1; border-radius:10px\">2.5.5 Les fonctions anonymes : lambda </h3>\n",
    "\n",
    "En Python, le mot-clé **lambda** est utilisé pour définir des fonctions anonymes, également appelées fonctions lambda.\n",
    "\n",
    "Les fonctions lambda sont des fonctions qui ne sont pas définies avec un nom, \n",
    "mais qui peuvent être utilisées dans des expressions ou des fonctions.\n",
    "\n",
    "Elles sont souvent utilisées dans des situations où une fonction simple est nécessaire pour une tâche spécifique, comme trier une liste ou filtrer des éléments."
   ]
  },
  {
   "cell_type": "code",
   "execution_count": null,
   "metadata": {},
   "outputs": [],
   "source": [
    "c_to_f = lambda x: (x * 9/5) + 32 \n",
    "c_to_f(0)"
   ]
  },
  {
   "cell_type": "code",
   "execution_count": null,
   "metadata": {},
   "outputs": [],
   "source": [
    "people = [{'name': 'Alice', 'age': 25}, \n",
    "          {'name': 'Bob', 'age': 30}, \n",
    "          {'name': 'Charlie', 'age': 20}]\n",
    "sorted(people, key=lambda x: x['age'])"
   ]
  },
  {
   "cell_type": "code",
   "execution_count": null,
   "metadata": {},
   "outputs": [],
   "source": [
    "ma_liste = ['abcd', 'abc', 'a', 'ab', 'abcde']\n",
    "sorted(ma_liste, key=lambda x: len(x))"
   ]
  },
  {
   "cell_type": "code",
   "execution_count": null,
   "metadata": {},
   "outputs": [],
   "source": [
    "carre  = lambda x: x**2\n",
    "liste_carre = [carre(nombre) for nombre in [5, 9, 10]]\n",
    "liste_carre\n",
    "\n",
    "liste_carre = [(lambda x: x**2)(nombre) for nombre in [5, 9, 10]]\n",
    "liste_carre"
   ]
  },
  {
   "cell_type": "code",
   "execution_count": null,
   "metadata": {},
   "outputs": [],
   "source": [
    "personnes = [\n",
    "  {\"nom\": \"Alice\", \"age\": 25},\n",
    "  {\"nom\": \"Bob\", \"age\": 30},\n",
    "  {\"nom\": \"Charlie\", \"age\": 20},\n",
    "]\n",
    "\n",
    "personnes.sort(key=lambda personne: personne[\"age\"])\n",
    "\n",
    "print(personnes)  \n"
   ]
  },
  {
   "cell_type": "code",
   "execution_count": null,
   "metadata": {},
   "outputs": [],
   "source": [
    "produits = [\n",
    "  {\"nom\": \"Produit 1\", \"en_stock\": True},\n",
    "  {\"nom\": \"Produit 2\", \"en_stock\": False},\n",
    "  {\"nom\": \"Produit 3\", \"en_stock\": True},\n",
    "]\n",
    "\n",
    "produits_en_stock = list(filter(lambda produit: produit[\"en_stock\"], produits))\n",
    "\n",
    "print(produits_en_stock)  \n"
   ]
  },
  {
   "cell_type": "code",
   "execution_count": null,
   "metadata": {},
   "outputs": [],
   "source": [
    "**Lambda avec Map et Filter**\n",
    "\n",
    "Les fonctions map et filter de Python sont presque toujours associées à des expressions lambda. \n",
    "Il est courant de voir des questions sur StackOverflow demandant \"qu'est-ce que lambda\" répondre avec des exemples de code comme celui-ci :\n"
   ]
  },
  {
   "cell_type": "code",
   "execution_count": null,
   "metadata": {},
   "outputs": [],
   "source": [
    "numbers = [2, 1, 3, 4, 7, 11, 18]\n",
    "\n",
    "# Appliquer la fonction map pour obtenir les carrés de chaque élément de numbers\n",
    "squared_numbers = map(lambda n: n**2, numbers)\n",
    "\n",
    "# Appliquer la fonction filter pour obtenir les nombres impairs de numbers\n",
    "odd_numbers = filter(lambda n: n % 2 == 1, numbers)\n",
    "\n",
    "# Afficher les résultats\n",
    "print(\"Squared numbers:\", squared_numbers)\n",
    "print(\"Odd numbers:\", odd_numbers)"
   ]
  },
  {
   "cell_type": "code",
   "execution_count": null,
   "metadata": {},
   "outputs": [],
   "source": [
    "# Afficher les résultats\n",
    "print(\"Numbers:\", numbers)\n",
    "print(\"Squared numbers:\", list(squared_numbers))\n",
    "print(\"Odd numbers:\", list(odd_numbers))"
   ]
  },
  {
   "cell_type": "markdown",
   "metadata": {},
   "source": [
    "<a id=\"256-fonctions-recursives\"></a>\n",
    "<h3 style=\"text-align: left; background-color: #e0e0e0; font-family:Times New Roman; color: black; padding: 14px; line-height: 1; border-radius:10px\">2.5.6 Les fonctions et la récursivité </h3>\n",
    "\n",
    "La **récursivité** est un concept fondamental en programmation, et Python est un langage qui le supporte très bien. \n",
    "\n",
    "La récursivité consiste en une fonction qui s'appelle elle-même dans sa propre définition. Cela peut sembler étrange au début, mais c'est une technique très puissante pour résoudre certains types de problèmes, en particulier ceux qui peuvent être décomposés en problèmes plus petits et similaires.\n",
    "\n",
    "Voici un exemple simple en Python pour illustrer la récursivité :"
   ]
  },
  {
   "cell_type": "code",
   "execution_count": null,
   "metadata": {},
   "outputs": [],
   "source": [
    "def nom():\n",
    "    prenom = input(\"Nom :\")\n",
    "    if prenom == \"Ményssa\":\n",
    "        return f'ok'\n",
    "    else:\n",
    "        nom()\n",
    "nom()"
   ]
  },
  {
   "cell_type": "code",
   "execution_count": null,
   "metadata": {},
   "outputs": [],
   "source": [
    "def countdown(n):\n",
    "    if n <= 0:\n",
    "        print(\"Lancement terminé!\")\n",
    "    else:\n",
    "        print(n)\n",
    "        countdown(n - 1)\n",
    "\n",
    "countdown(5)"
   ]
  },
  {
   "cell_type": "markdown",
   "metadata": {},
   "source": [
    "Dans cet exemple, la fonction `countdown` prend un nombre entier `n` en paramètre. Si `n` est inférieur ou égal à zéro, la fonction affiche \"Lancement terminé!\". Sinon, elle affiche la valeur actuelle de `n` puis appelle elle-même avec `n - 1`.\n",
    "\n",
    "La récursivité doit être utilisée avec prudence, car une mauvaise utilisation peut entraîner des erreurs de débordement de pile (stack overflow). \n",
    "\n",
    "Cela se produit lorsque trop de fonctions récursives sont empilées sur la pile d'appels du programme.\n",
    "\n",
    "Il est important de s'assurer qu'il y ait un cas de base dans la récursivité, c'est-à-dire une condition qui arrête les appels récursifs.\n",
    "\n",
    " Sinon, la fonction continuera à s'appeler elle-même indéfiniment.\n",
    "\n",
    "Voici un exemple plus avancé qui utilise la récursivité pour calculer la somme des éléments d'une liste :"
   ]
  },
  {
   "cell_type": "code",
   "execution_count": null,
   "metadata": {},
   "outputs": [],
   "source": [
    "def recursive_sum(arr):\n",
    "    if len(arr) == 0:\n",
    "        return 0\n",
    "    else:\n",
    "        return arr[0] + recursive_sum(arr[1:])\n",
    "\n",
    "my_list = [1, 2, 3, 4, 5]\n",
    "print(\"La somme des éléments de la liste est:\", recursive_sum(my_list))"
   ]
  },
  {
   "cell_type": "markdown",
   "metadata": {},
   "source": [
    "Dans cet exemple, la fonction `recursive_sum` prend une liste en paramètre. Si la liste est vide, elle retourne 0. \n",
    "\n",
    "Sinon, elle retourne le premier élément de la liste ajouté à la somme des éléments restants, obtenue en appelant récursivement la fonction avec une sous-liste de `arr` qui exclut le premier élément."
   ]
  },
  {
   "cell_type": "markdown",
   "metadata": {},
   "source": [
    "<a id=\"257-generateurs-decorateurs\"></a>\n",
    "<h3 style=\"text-align: left; background-color: #e0e0e0; font-family:Times New Roman; color: black; padding: 14px; line-height: 1; border-radius:10px\">2.5.7 Générateurs et décorateurs </h3>\n",
    " \n",
    "Les **générateurs** sont des structures puissantes en Python permettant de créer des itérables de manière efficace et sans consommer beaucoup de mémoire. \n",
    "\n",
    "Contrairement aux listes, les générateurs produisent des valeurs au fur et à mesure de leur utilisation, ce qui les rend idéaux pour traiter de grandes quantités de données de manière efficace.\n",
    "\n",
    "- Un générateur est une fonction qui utilise le mot-clé `yield` pour renvoyer des valeurs.\n",
    "- Lorsqu'une fonction contient `yield`, elle devient un générateur.\n",
    "- Chaque fois que le générateur est appelé, il exécute son code jusqu'à ce qu'il rencontre l'instruction `yield`.\n",
    "- À ce moment-là, il renvoie la valeur spécifiée et se met en pause, en conservant son état.\n",
    "- Lorsqu'il est rappelé, il reprend à partir de l'instruction `yield` précédente."
   ]
  },
  {
   "cell_type": "code",
   "execution_count": null,
   "metadata": {},
   "outputs": [],
   "source": [
    "def mon_generateur():\n",
    "    yield 1\n",
    "    yield 2\n",
    "    yield 3\n",
    "\n",
    "# Utilisation du générateur\n",
    "gen = mon_generateur()\n",
    "print(next(gen)) # Affiche : 1\n",
    "print(next(gen)) # Affiche : 2\n",
    "print(next(gen)) # Affiche : 3\n",
    "print(next(gen)) # `StopIteration`"
   ]
  },
  {
   "cell_type": "markdown",
   "metadata": {},
   "source": [
    "Dans cet exemple, chaque yield renvoie une valeur successive à chaque appel de `next()`.\n",
    "\n",
    "Lorsque toutes les valeurs ont été renvoyées, le générateur lève une exception `StopIteration`."
   ]
  },
  {
   "cell_type": "code",
   "execution_count": null,
   "metadata": {},
   "outputs": [],
   "source": [
    "def pairs_infinis():\n",
    "    n = 0\n",
    "    while True:\n",
    "        yield n\n",
    "        n += 2\n",
    "\n",
    "# Utilisation du générateur\n",
    "gen = pairs_infinis()\n",
    "\n",
    "for _ in range(10):\n",
    "    print(next(gen)) # Affiche : 0, 2, 4, 6, 8\n"
   ]
  },
  {
   "cell_type": "code",
   "execution_count": null,
   "metadata": {},
   "outputs": [],
   "source": [
    "def fibonacci(n):\n",
    "    sequence = [0, 1]\n",
    "    while len(sequence) < n:\n",
    "        sequence.append(sequence[-1] + sequence[-2])\n",
    "    return sequence\n",
    "\n",
    "# Utilisation de la fonction\n",
    "print(fibonacci(10))  # Affiche les 10 premiers nombres de la séquence Fibonacci\n"
   ]
  },
  {
   "cell_type": "code",
   "execution_count": null,
   "metadata": {},
   "outputs": [],
   "source": [
    "def fibonacci():\n",
    "    a, b = 0, 1\n",
    "    while True:\n",
    "        yield a\n",
    "        a, b = b, a + b\n",
    "\n",
    "# Utilisation du générateur\n",
    "gen = fibonacci()\n",
    "for _ in range(10):\n",
    "    print(next(gen)) # Affiche les 10 premiers nombres de la séquence Fibonacci\n"
   ]
  },
  {
   "cell_type": "code",
   "execution_count": null,
   "metadata": {},
   "outputs": [],
   "source": [
    "import random\n",
    "import string\n",
    "\n",
    "def chaine_aleatoire(longueur):\n",
    "    while True:\n",
    "        yield ''.join(random.choices(string.ascii_letters, k=longueur))\n",
    "\n",
    "# Utilisation du générateur\n",
    "gen = chaine_aleatoire(5)\n",
    "for _ in range(3):\n",
    "    print(next(gen)) # Affiche 3 chaînes de 5 caractères aléatoires\n"
   ]
  },
  {
   "cell_type": "markdown",
   "metadata": {},
   "source": [
    "En Python, les **décorateurs** sont des fonctions qui prennent une autre fonction comme argument, ajoutent un comportement supplémentaire à cette fonction, puis la renvoient sans la modifier.\n",
    "\n",
    "Les décorateurs utilisent généralement la fonction @decorateur juste avant la définition de la fonction à décorer."
   ]
  },
  {
   "cell_type": "code",
   "execution_count": null,
   "metadata": {},
   "outputs": [],
   "source": [
    "def decorateur(fonction):\n",
    "    def fonction_decoration():\n",
    "        print(\"Début de la fonction décorée\")\n",
    "        fonction()\n",
    "        print(\"Fin de la fonction décorée\")\n",
    "    return fonction_decoration\n",
    "\n",
    "@decorateur\n",
    "def ma_fonction():\n",
    "    print(\"Corps de ma fonction\")\n",
    "\n",
    "# Utilisation de la fonction décorée\n",
    "ma_fonction()\n"
   ]
  },
  {
   "cell_type": "markdown",
   "metadata": {},
   "source": [
    "Dans cet exemple, le décorateur decorateur ajoute un comportement d'impression avant et après l'exécution de la fonction ma_fonction.\n",
    "\n",
    "Les décorateurs peuvent également prendre des arguments. Pour cela, il faut ajouter une couche de fonctionnalité supplémentaire pour accepter ces arguments."
   ]
  },
  {
   "cell_type": "code",
   "execution_count": null,
   "metadata": {},
   "outputs": [],
   "source": [
    "def decorateur_args(argument):\n",
    "    def decorateur(fonction):\n",
    "        def fonction_decoration():\n",
    "            print(\"Début de la fonction décorée avec l'argument :\", argument)\n",
    "            fonction()\n",
    "            print(\"Fin de la fonction décorée avec l'argument :\", argument)\n",
    "        return fonction_decoration\n",
    "    return decorateur\n",
    "\n",
    "@decorateur_args(\"mon_argument\")\n",
    "def ma_fonction():\n",
    "    print(\"Corps de ma fonction\")\n",
    "\n",
    "# Utilisation de la fonction décorée\n",
    "ma_fonction()\n"
   ]
  },
  {
   "cell_type": "markdown",
   "metadata": {},
   "source": [
    "Les décorateurs sont un aspect avancé de Python, mais ils offrent une puissante fonctionnalité pour étendre et modifier le comportement des fonctions et des méthodes de manière flexible et élégante.\n",
    "En comprenant les principes de base des décorateurs et leur utilisation avancée, vous pouvez améliorer la lisibilité, la réutilisabilité et la modularité de votre code Python.\n",
    "\n",
    "1. Les décorateurs peuvent retourner une fonction au lieu de la fonction décorée elle-même, ce qui permet de contrôler davantage le comportement de la fonction.\n",
    "\n",
    "2. Les décorateurs peuvent également être appliqués aux méthodes de classe pour étendre ou modifier le comportement des méthodes.\n",
    "\n",
    "3. Il est possible d'empiler plusieurs décorateurs sur une même fonction pour ajouter plusieurs couches de fonctionnalités.\n",
    "\n"
   ]
  },
  {
   "cell_type": "markdown",
   "metadata": {},
   "source": [
    "<a id=\"3-gestion-des-exceptions\"></a>\n",
    "<h2 style=\"text-align: center; background-color: #4d648d; font-family:Times New Roman; color: white; padding: 14px; line-height: 1; border-radius:10px\">3. Gestion des exceptions ⚠️</h2>"
   ]
  },
  {
   "cell_type": "markdown",
   "metadata": {},
   "source": [
    "<a id=\"31-definition\"></a>\n",
    "<h3 style=\"text-align: left; background-color: #e0e0e0; font-family:Times New Roman; color: black; padding: 14px; line-height: 1; border-radius:10px\">3.1 Définition </h3>\n",
    "\n",
    "**Une exception est une erreur** qui se produit pendant l'exécution du programme, contrairement aux erreurs de syntaxe qui sont détectées avant l'exécution. Les exceptions peuvent être dues à diverses raisons, telles que des entrées invalides, des opérations mathématiques impossibles, des manipulations de fichiers incorrectes, etc.\n",
    "\n",
    "Voici quelques **exemples d'exceptions** fréquemment rencontrées :\n",
    "\n",
    "- `IndexError` : Se produit lorsqu'on tente d'accéder à un index qui n'existe pas dans une séquence (comme une liste ou un tuple)."
   ]
  },
  {
   "cell_type": "code",
   "execution_count": null,
   "metadata": {},
   "outputs": [],
   "source": [
    "ma_liste = [\"A\", 3, \"serpent\"]\n",
    "element = ma_liste[5]  # IndexError car l'index 5 n'existe pas dans une liste de taille 3"
   ]
  },
  {
   "cell_type": "markdown",
   "metadata": {},
   "source": [
    "- `ValueError` : Apparaît lorsqu'une fonction reçoit un argument de type correct mais d'une valeur inappropriée."
   ]
  },
  {
   "cell_type": "code",
   "execution_count": null,
   "metadata": {},
   "outputs": [],
   "source": [
    "nombre = int(\"123373829173487472474\")\n",
    "nombre"
   ]
  },
  {
   "cell_type": "code",
   "execution_count": null,
   "metadata": {},
   "outputs": [],
   "source": [
    "nombre = int(\"abc\")  # ValueError car \"abc\" ne peut pas être converti en entier"
   ]
  },
  {
   "cell_type": "markdown",
   "metadata": {},
   "source": [
    "- `TypeError` : Se produit lorsqu'une opération ou fonction est appliquée à un objet d'un type inapproprié."
   ]
  },
  {
   "cell_type": "code",
   "execution_count": null,
   "metadata": {},
   "outputs": [],
   "source": [
    "somme = 10 + 5 \n",
    "somme"
   ]
  },
  {
   "cell_type": "code",
   "execution_count": null,
   "metadata": {},
   "outputs": [],
   "source": [
    "\"message\" + \" : voici mon texte\" "
   ]
  },
  {
   "cell_type": "code",
   "execution_count": null,
   "metadata": {},
   "outputs": [],
   "source": [
    "somme = \"texte\" + 5  # TypeError car on ne peut pas ajouter une chaîne de caractères et un entier"
   ]
  },
  {
   "cell_type": "code",
   "execution_count": null,
   "metadata": {},
   "outputs": [],
   "source": [
    "somme = 5  + \"5\""
   ]
  },
  {
   "cell_type": "markdown",
   "metadata": {},
   "source": [
    "- `FileNotFoundError` : Levée lorsqu'une tentative de lecture d'un fichier échoue parce que le fichier n'existe pas."
   ]
  },
  {
   "cell_type": "code",
   "execution_count": null,
   "metadata": {},
   "outputs": [],
   "source": [
    "# with open(\"../data/Orgueil_et_Prejuges.txt\", \"r\", encoding = 'utf-8') as fichier:\n",
    "#     contenu = fichier.read()  \n",
    "\n",
    "# print(contenu)"
   ]
  },
  {
   "cell_type": "code",
   "execution_count": null,
   "metadata": {},
   "outputs": [],
   "source": [
    "with open(\"fichier_inexistant.txt\", \"r\") as fichier:\n",
    "    contenu = fichier.read()  # FileNotFoundError si \"fichier_inexistant.txt\" n'existe pas"
   ]
  },
  {
   "cell_type": "markdown",
   "metadata": {},
   "source": [
    "- `ZeroDivisionError` : Se produit lorsqu'une division par zéro est tentée."
   ]
  },
  {
   "cell_type": "code",
   "execution_count": null,
   "metadata": {},
   "outputs": [],
   "source": [
    "resultat = 10 / 0  # ZeroDivisionError car on ne peut pas diviser par zéro"
   ]
  },
  {
   "cell_type": "markdown",
   "metadata": {},
   "source": [
    "- `NameError` : Se produit lorsqu'une variable n'est pas définie dans le contexte actuel."
   ]
  },
  {
   "cell_type": "code",
   "execution_count": null,
   "metadata": {},
   "outputs": [],
   "source": [
    "def ma_fonction():\n",
    "    variable_a_afficher = \"Bonjour\"\n",
    "    print(variable_a_afficher)\n",
    "\n",
    "ma_fonction()\n",
    "ma_fonction()\n",
    "ma_fonction()"
   ]
  },
  {
   "cell_type": "code",
   "execution_count": null,
   "metadata": {},
   "outputs": [],
   "source": [
    "print(variable_a_afficher)  # NameError car 'variable_a_afficher' n'est pas définie en dehors de la fonction"
   ]
  },
  {
   "cell_type": "markdown",
   "metadata": {},
   "source": [
    "<a id=\"32-traitement\"></a>\n",
    "<h3 style=\"text-align: left; background-color: #e0e0e0; font-family:Times New Roman; color: black; padding: 14px; line-height: 1; border-radius:10px\">3.2 Traitement des exceptions </h3>\n",
    "\n",
    "La **gestion des exceptions** est un aspect crucial de la programmation pour plusieurs raisons :\n",
    "\n",
    "- **Robustesse** : Elle permet à un programme de gérer des situations d'erreur de manière gracieuse sans s'arrêter brusquement.\n",
    "- **Contrôle du Flux** : Elle offre un moyen de diriger le flux d'un programme lorsque des situations exceptionnelles se produisent.\n",
    "- **Débogage Facilité** : Elle aide à identifier les causes des erreurs et à les gérer efficacement.\n",
    "- **Sécurité** : Elle permet de gérer des situations potentiellement dangereuses, comme la lecture de fichiers corrompus ou la gestion de données utilisateur erronées.\n",
    "\n"
   ]
  },
  {
   "cell_type": "markdown",
   "metadata": {},
   "source": [
    "<a id=\"321-try-except\"></a>\n",
    "<h3 style=\"text-align: left; background-color: #e0e0e0; font-family:Times New Roman; color: black; padding: 14px; line-height: 1; border-radius:10px\">3.2.1 Try-except </h3>\n",
    "\n",
    "La syntaxe de base pour la gestion des exceptions en Python utilise les instructions `try` et `except`. \n",
    "\n",
    "Voici un exemple simple :\n",
    "\n",
    "```python\n",
    "try:\n",
    "    # Bloc de code à essayer\n",
    "    result = 10 / 0\n",
    "except ZeroDivisionError:\n",
    "    # Ce bloc est exécuté en cas d'erreur ZeroDivisionError\n",
    "    print(\"Division par zéro !\")\n",
    "```\n",
    "\n",
    "Dans cet exemple, si le code dans le bloc `try` cause une `ZeroDivisionError`, le programme ne s'arrêtera pas. Au lieu de cela, il exécutera le code dans le bloc `except`."
   ]
  },
  {
   "cell_type": "code",
   "execution_count": null,
   "metadata": {},
   "outputs": [],
   "source": [
    "result = 10 / 0"
   ]
  },
  {
   "cell_type": "code",
   "execution_count": null,
   "metadata": {},
   "outputs": [],
   "source": [
    "try:\n",
    "    # Bloc de code à essayer\n",
    "    result = 10 / 0\n",
    "except ZeroDivisionError:\n",
    "    # Ce bloc est exécuté en cas d'erreur ZeroDivisionError\n",
    "    print(\"Division par zéro !\")\n"
   ]
  },
  {
   "cell_type": "code",
   "execution_count": null,
   "metadata": {},
   "outputs": [],
   "source": [
    "def gestion_index_error(liste, index):\n",
    "    try:\n",
    "        return liste[index]\n",
    "    except IndexError as e:\n",
    "        return f\"Ce n'est pas possible, Erreur d'index  : {e}\"\n",
    "\n",
    "# Test\n",
    "ma_liste = [\"A\", 3, \"serpent\"]\n",
    "print(gestion_index_error(ma_liste, 1))\n",
    "print(gestion_index_error(ma_liste, 5))\n"
   ]
  },
  {
   "cell_type": "code",
   "execution_count": null,
   "metadata": {},
   "outputs": [],
   "source": [
    "def conversion_en_entier(entree):\n",
    "    try:\n",
    "        return int(entree)\n",
    "    except ValueError as e:\n",
    "        return f\"La conversion n'est pas possible, Erreur de valeur : {e}\"\n",
    "\n",
    "# Test\n",
    "val_entree = \"190\"\n",
    "print(conversion_en_entier(val_entree))\n",
    "val_entree = \"Robert\"\n",
    "print(conversion_en_entier(val_entree))"
   ]
  },
  {
   "cell_type": "code",
   "execution_count": null,
   "metadata": {},
   "outputs": [],
   "source": [
    "def additionner(a, b):\n",
    "    try:\n",
    "        return a + b\n",
    "    except TypeError as e:\n",
    "        return f\"Erreur de type : {e}\"\n",
    "\n",
    "# Test\n",
    "print(additionner(2, 5))\n",
    "print(additionner(\"texte\", 5))"
   ]
  },
  {
   "cell_type": "code",
   "execution_count": null,
   "metadata": {},
   "outputs": [],
   "source": [
    "def lire_fichier(nom_fichier):\n",
    "    try:\n",
    "        with open(nom_fichier, \"r\", encoding = 'utf-8') as fichier:\n",
    "            return fichier.read()\n",
    "    except FileNotFoundError as e:\n",
    "        return f\"Erreur de fichier non trouvé : {e}\"\n",
    "\n",
    "# Test\n",
    "# data = lire_fichier(\"../data/Orgueil_et_Prejuges.txt\")\n",
    "# print(data)\n",
    "\n",
    "data = lire_fichier(\"../data/fichier_inexistant.txt\")\n",
    "print(data)"
   ]
  },
  {
   "cell_type": "code",
   "execution_count": null,
   "metadata": {},
   "outputs": [],
   "source": [
    "def diviser(a, b):\n",
    "    try:\n",
    "        return a / b\n",
    "    except ZeroDivisionError as e:\n",
    "        return f\"Erreur de division par zéro : {e}\"\n",
    "\n",
    "# Test\n",
    "print(diviser(10, 0))"
   ]
  },
  {
   "cell_type": "code",
   "execution_count": null,
   "metadata": {},
   "outputs": [],
   "source": [
    "def acceder_variable(nom_variable):\n",
    "    try:\n",
    "        return eval(nom_variable) # renvoie contenu de la variable\n",
    "    except NameError as e:\n",
    "        return f\"Erreur de nom : {e}\"\n",
    "\n",
    "# Test   \n",
    "print(acceder_variable(\"val_entree\")) \n",
    "print(acceder_variable(\"variable_inexistante\"))"
   ]
  },
  {
   "cell_type": "code",
   "execution_count": null,
   "metadata": {},
   "outputs": [],
   "source": [
    "def conversion_en_entier(chaine):\n",
    "    try:\n",
    "        return int(chaine)\n",
    "    except ValueError as e:\n",
    "        return f\"Erreur de valeur : {e}\"\n",
    "\n",
    "def additionner(a, b):\n",
    "    try:\n",
    "        return a + b\n",
    "    except TypeError as e:\n",
    "        return f\"Erreur de type : {e}\"\n",
    "\n",
    "def convertir_et_additionner(chaine1, chaine2):\n",
    "    valeur1 = conversion_en_entier(chaine1)\n",
    "    valeur2 = conversion_en_entier(chaine2)\n",
    "\n",
    "    # Vérification si les conversions se sont bien passées\n",
    "    if isinstance(valeur1, int) and isinstance(valeur2, int):\n",
    "        return additionner(valeur1, valeur2)\n",
    "    else:\n",
    "        # Retourne les messages d'erreur si la conversion a échoué\n",
    "        return valeur1 if isinstance(valeur1, str) else valeur2\n",
    "\n",
    "# Test\n",
    "print(convertir_et_additionner(\"3\", \"4\"))  \n",
    "print(convertir_et_additionner(3.8, \"4\"))  \n",
    "# print(convertir_et_additionner(\"a\", \"4\"))  "
   ]
  },
  {
   "cell_type": "markdown",
   "metadata": {},
   "source": [
    "Vous pouvez avoir plusieurs blocs `except` pour gérer différents types d'exceptions. Cela permet de réagir de manière appropriée à différentes erreurs qui peuvent survenir.\n",
    "\n",
    "```python\n",
    "try:\n",
    "    # Tentative d'exécution de code\n",
    "    ...\n",
    "except TypeError:\n",
    "    # Gestion de TypeError\n",
    "    ...\n",
    "except ValueError:\n",
    "    # Gestion de ValueError\n",
    "    ...\n",
    "```"
   ]
  },
  {
   "cell_type": "code",
   "execution_count": null,
   "metadata": {},
   "outputs": [],
   "source": [
    "def operation_complexe(a, b, c):\n",
    "    try:\n",
    "        resultat = (a + b) / c\n",
    "        return resultat\n",
    "    except TypeError as e:\n",
    "        return f\"Erreur de type : {e}\"\n",
    "    except ZeroDivisionError as e:\n",
    "        return f\"Erreur de division par zéro: {e}\"\n",
    "    except Exception as e:\n",
    "        return f\"Autre erreur : {e}\"\n",
    "\n",
    "# Exemple d'utilisation\n",
    "\n",
    "print(operation_complexe(1, 3, 2))  \n",
    "print(operation_complexe(1, 2, 0))  \n",
    "print(operation_complexe(1, \"deux\", 3))  "
   ]
  },
  {
   "cell_type": "markdown",
   "metadata": {},
   "source": [
    "Dans cet exemple, la fonction `operation_complexe` essaie d'effectuer une opération qui peut lever plusieurs types d'exceptions :\n",
    "\n",
    "- `TypeError` si `a`, `b`, ou `c` n'est pas un nombre.\n",
    "- `ZeroDivisionError` si `c` est zéro.\n",
    "- `Exception` comme un filet de sécurité pour attraper d'autres types d'exceptions inattendues.\n",
    "\n",
    "L'utilisation de plusieurs blocs `except` permet de donner des réponses spécifiques à chaque type d'erreur, améliorant ainsi la lisibilité et la maintenance du code.\n"
   ]
  },
  {
   "cell_type": "markdown",
   "metadata": {},
   "source": [
    "<a id=\"322-finally\"></a>\n",
    "<h3 style=\"text-align: left; background-color: #e0e0e0; font-family:Times New Roman; color: black; padding: 14px; line-height: 1; border-radius:10px\">3.2.2 Finally </h3>\n",
    "\n",
    "Le bloc `finally` en Python est utilisé pour définir des actions qui doivent être exécutées après les blocs `try` et `except`, peu importe si une exception a été levée ou non. \n",
    "\n",
    "Ce bloc est souvent utilisé pour des opérations de nettoyage qui doivent s'exécuter dans tous les cas, comme la fermeture de fichiers ou la libération de ressources externes.\n"
   ]
  },
  {
   "cell_type": "code",
   "execution_count": null,
   "metadata": {},
   "outputs": [],
   "source": [
    "def calculer_division(a, b):\n",
    "    try:\n",
    "        resultat = a / b\n",
    "        return resultat\n",
    "    except ZeroDivisionError:\n",
    "        return \"Une division par zéro a été tentée.\"\n",
    "    finally:\n",
    "        print(\"Opération terminée (réussie ou non).\")\n",
    "        return a + b\n",
    "\n",
    "# Exemple d'utilisation\n",
    "print(calculer_division(10, 2))  # Pas d'erreur, affiche le résultat et le message de finally\n",
    "print(calculer_division(10, 0))  # Attrape ZeroDivisionError, affiche le message d'erreur et le message de finally\n"
   ]
  },
  {
   "cell_type": "code",
   "execution_count": null,
   "metadata": {},
   "outputs": [],
   "source": [
    "def exemple_finally():\n",
    "    try:\n",
    "        fichier = open(\"../data/Orgueil_et_Prejuges.txt\", \"r\")\n",
    "        contenu = fichier.read()\n",
    "        return contenu\n",
    "    except FileNotFoundError as e:\n",
    "        return f\"Erreur : {e}\"\n",
    "    finally:\n",
    "        fichier.close()\n",
    "        print(\"Fichier fermé.\")\n",
    "\n",
    "# Exemple d'utilisation\n",
    "print(exemple_finally())"
   ]
  },
  {
   "cell_type": "markdown",
   "metadata": {},
   "source": [
    "<a id=\"323-else\"></a>\n",
    "<h3 style=\"text-align: left; background-color: #e0e0e0; font-family:Times New Roman; color: black; padding: 14px; line-height: 1; border-radius:10px\">3.2.3 Else </h3>\n",
    "\n",
    "Utilisez `else` lorsque vous avez besoin d'exécuter du code qui ne doit s'exécuter que si le bloc `try` s'est exécuté sans erreur, mais avant d'exécuter le code dans le bloc `finally`.\n"
   ]
  },
  {
   "cell_type": "code",
   "execution_count": null,
   "metadata": {},
   "outputs": [],
   "source": [
    "def exemple_else(chaine):\n",
    "    try:\n",
    "        num = int(chaine)\n",
    "    except ValueError:\n",
    "        return \"Ce n'est pas un nombre valide.\"\n",
    "    else:\n",
    "        return f\"Conversion réussie : {num}\"\n",
    "\n",
    "# Exemple d'utilisation\n",
    "print(exemple_else(\"1233717237\"))\n",
    "print(exemple_else(\"abc\"))"
   ]
  },
  {
   "cell_type": "code",
   "execution_count": null,
   "metadata": {},
   "outputs": [],
   "source": [
    "def division_avec_verification(a, b):\n",
    "    try:\n",
    "        resultat = a / b\n",
    "    except ZeroDivisionError:\n",
    "        return \"Une division par zéro a été tentée.\"\n",
    "    else:\n",
    "        if resultat > 50:\n",
    "            return \"Le résultat est étonnamment grand.\"\n",
    "    finally:\n",
    "        print(\"Opération de division terminée (réussie ou non).\")\n"
   ]
  },
  {
   "cell_type": "code",
   "execution_count": null,
   "metadata": {},
   "outputs": [],
   "source": [
    "# Exemple d'utilisation\n",
    "print(division_avec_verification(1000, 10))  # Division réussie, vérification dans 'else', puis 'finally'"
   ]
  },
  {
   "cell_type": "code",
   "execution_count": null,
   "metadata": {},
   "outputs": [],
   "source": [
    "print(division_avec_verification(10, 0))    # Attrape ZeroDivisionError, puis exécute 'finally'"
   ]
  },
  {
   "cell_type": "markdown",
   "metadata": {},
   "source": [
    "<a id=\"33-assertions\"></a>\n",
    "<h3 style=\"text-align: left; background-color: #e0e0e0; font-family:Times New Roman; color: black; padding: 14px; line-height: 1; border-radius:10px\">3.3 Assertions </h3>\n",
    "\n",
    "L'instruction `assert` est utilisée pour tester si une condition est vraie. Si la condition est fausse, `AssertionError` est levée.\n",
    "\n",
    "Les assertions sont principalement utilisées comme un moyen de débogage, pour vérifier des conditions internes, tandis que les exceptions sont utilisées pour gérer des erreurs et des conditions exceptionnelles dans le flux normal du programme."
   ]
  },
  {
   "cell_type": "code",
   "execution_count": null,
   "metadata": {},
   "outputs": [],
   "source": [
    "def diviser_par_deux(n):\n",
    "    assert n % 2 == 0, \"Le nombre doit être pair.\"\n",
    "    return n / 2"
   ]
  },
  {
   "cell_type": "code",
   "execution_count": null,
   "metadata": {},
   "outputs": [],
   "source": [
    "# Exemple d'utilisation\n",
    "print(diviser_par_deux(10))  # Fonctionne bien"
   ]
  },
  {
   "cell_type": "code",
   "execution_count": null,
   "metadata": {},
   "outputs": [],
   "source": [
    "print(diviser_par_deux(3))  # Déclenche AssertionError"
   ]
  },
  {
   "cell_type": "code",
   "execution_count": null,
   "metadata": {},
   "outputs": [],
   "source": [
    "def ma_fonction(x):\n",
    "  assert isinstance(x, int), \"La variable doit être un nombre entier\"\n",
    "  # ...\n",
    "\n",
    "ma_fonction(10)  # OK\n",
    "ma_fonction(\"toto\")  # Assertion error\n"
   ]
  },
  {
   "cell_type": "code",
   "execution_count": null,
   "metadata": {},
   "outputs": [],
   "source": [
    "def ma_fonction(x):\n",
    "  assert x > 0, \"La variable doit être positive\"\n",
    "  # ...\n",
    "\n",
    "ma_fonction(5)  # OK\n",
    "ma_fonction(-1)  # Assertion error\n"
   ]
  },
  {
   "cell_type": "code",
   "execution_count": null,
   "metadata": {},
   "outputs": [],
   "source": [
    "def ma_fonction(x, y):\n",
    "  assert x != y, \"Les deux variables doivent être différentes\"\n",
    "  # ...\n",
    "\n",
    "try:\n",
    "  ma_fonction(10, 10)\n",
    "except AssertionError:\n",
    "  print(\"Les deux variables sont identiques\")\n"
   ]
  },
  {
   "cell_type": "markdown",
   "metadata": {},
   "source": [
    "<a id=\"34-raise\"></a>\n",
    "<h3 style=\"text-align: left; background-color: #e0e0e0; font-family:Times New Roman; color: black; padding: 14px; line-height: 1; border-radius:10px\">3.4 Raise </h3>\n",
    "\n",
    "L'instruction `raise` en Python est un outil crucial pour la gestion des exceptions, permettant aux développeurs de déclencher explicitement des exceptions lorsqu'une condition spécifique se produit dans le programme. \n",
    "\n",
    "Les exceptions levées avec `raise` peuvent être capturées et gérées en amont, permettant aux développeurs de réagir de manière appropriée aux différents types de problèmes qui peuvent survenir, améliorant ainsi la robustesse et la fiabilité du code.\n",
    "\n",
    "Dans l'exemple suivant, si `set_age` est appelée avec un âge négatif, une `ValueError` est levée, indiquant que l'âge ne peut pas être négatif.\n"
   ]
  },
  {
   "cell_type": "code",
   "execution_count": null,
   "metadata": {},
   "outputs": [],
   "source": [
    "def set_age(age):\n",
    "    if age < 0:\n",
    "        raise ValueError(\"L'âge ne peut pas être négatif.\")\n",
    "    print(f\"Âge défini à {age} ans.\")\n",
    "\n",
    "try:\n",
    "    set_age(-10)\n",
    "except ValueError as e:\n",
    "    print(e)"
   ]
  },
  {
   "cell_type": "markdown",
   "metadata": {},
   "source": [
    "Ici, `diviser` lève une `ZeroDivisionError` si le diviseur (`b`) est zéro. Cela empêche l'exécution d'une division par zéro, ce qui entraînerait une erreur en Python.\n"
   ]
  },
  {
   "cell_type": "code",
   "execution_count": null,
   "metadata": {},
   "outputs": [],
   "source": [
    "def diviser(a, b):\n",
    "    if b == 0:\n",
    "        raise ZeroDivisionError(\"Le diviseur ne peut pas être zéro.\")\n",
    "    return a / b\n",
    "\n",
    "try:\n",
    "    resultat = diviser(10, 0)\n",
    "except ZeroDivisionError as e:\n",
    "    print(e)"
   ]
  },
  {
   "cell_type": "code",
   "execution_count": null,
   "metadata": {},
   "outputs": [],
   "source": [
    "def ma_fonction(x):\n",
    "  if x < 0:\n",
    "    raise ValueError(\"La variable doit être positive\")\n",
    "  # ...\n",
    "\n",
    "ma_fonction(10)  # OK\n",
    "ma_fonction(-1)  # ValueError: La variable doit être positive\n"
   ]
  },
  {
   "cell_type": "code",
   "execution_count": null,
   "metadata": {},
   "outputs": [],
   "source": [
    "def ma_fonction(x):\n",
    "  try:\n",
    "    y = 1 / x\n",
    "  except ZeroDivisionError:\n",
    "    raise ValueError(\"La variable ne peut pas être égale à 0\")\n",
    "  # ...\n",
    "\n",
    "ma_fonction(10)  # OK\n",
    "ma_fonction(0)  # ValueError: La variable ne peut pas être égale à 0\n"
   ]
  },
  {
   "cell_type": "markdown",
   "metadata": {},
   "source": [
    "**En résumé : Exceptions Intégrées**\n",
    "\n",
    "Voici quelques-unes des exceptions intégrées courantes en programmation Python ainsi que les erreurs qui les provoquent. \n",
    "\n",
    "Exception | Cause de l'Erreur\n",
    "----------|--------------------\n",
    "AssertionError | Levée lorsque l'instruction assert échoue.\n",
    "AttributeError | Levée lorsque l'assignation ou la référence à un attribut échoue.\n",
    "EOFError | Levée lorsque input() atteint la fin du fichier.\n",
    "FloatingPointError | Levée lorsqu'une opération sur les nombres à virgule flottante échoue.\n",
    "GeneratorExit | Levée lorsque la méthode close() d'un générateur est appelée.\n",
    "ImportError | Levée lorsque le module importé n'est pas trouvé.\n",
    "IndexError | Levée lorsque l'index d'une séquence est hors de portée.\n",
    "KeyError | Levée lorsque une clé n'est pas trouvée dans un dictionnaire.\n",
    "KeyboardInterrupt | Levée lorsque l'utilisateur appuie sur la touche d'interruption (Ctrl+C ou Suppr).\n",
    "MemoryError | Levée lorsqu'une opération manque de mémoire.\n",
    "NameError | Levée lorsqu'une variable n'est pas trouvée dans la portée locale ou globale.\n",
    "NotImplementedError | Levée par des méthodes abstraites.\n",
    "OSError | Levée lorsqu'une opération système provoque une erreur liée au système.\n",
    "OverflowError | Levée lorsque le résultat d'une opération arithmétique est trop grand pour être représenté.\n",
    "ReferenceError | Levée lorsqu'une référence faible est utilisée pour accéder à un référent collecté par le ramasse-miettes.\n",
    "RuntimeError | Levée lorsqu'une erreur ne rentre dans aucune autre catégorie.\n",
    "StopIteration | Levée par next() pour indiquer qu'il n'y a plus d'élément à renvoyer par l'itérateur.\n",
    "SyntaxError | Levée par l'analyseur lorsque une erreur de syntaxe est rencontrée.\n",
    "IndentationError | Levée lorsqu'il y a une indentation incorrecte.\n",
    "TabError | Levée lorsque l'indentation est composée de tabulations et d'espaces inconsistants.\n",
    "SystemError | Levée lorsque l'interpréteur détecte une erreur interne.\n",
    "SystemExit | Levée par la fonction sys.exit().\n",
    "TypeError | Levée lorsqu'une fonction ou une opération est appliquée à un objet de type incorrect.\n",
    "UnboundLocalError | Levée lorsqu'une référence est faite à une variable locale dans une fonction ou une méthode, mais aucune valeur n'a été liée à cette variable.\n",
    "UnicodeDecodeError | Levée lorsqu'une erreur liée à Unicode se produit pendant le décodage.\n",
    "ValueError | Levée lorsqu'une fonction reçoit un argument de type correct mais de valeur incorrecte.\n",
    "ZeroDivisionError | Levée lorsque le deuxième opérande de l'opération de division ou de modulo est zéro.\n"
   ]
  },
  {
   "cell_type": "markdown",
   "metadata": {},
   "source": [
    "Une liste exhaustive des exceptions intégrées en Python peut être trouvée dans la documentation de Python.\n",
    "\n",
    "Nous pouvons voir toutes les exceptions intégrées en utilisant la fonction locale intégrée comme suit :"
   ]
  },
  {
   "cell_type": "code",
   "execution_count": null,
   "metadata": {},
   "outputs": [],
   "source": [
    "print(dir(locals()['__builtins__']))"
   ]
  },
  {
   "cell_type": "markdown",
   "metadata": {},
   "source": [
    "<a id=\"4-lecture-et-ecriture-de-fichiers\"></a>\n",
    "<h2 style=\"text-align: center; background-color: #4d648d; font-family:Times New Roman; color: white; padding: 14px; line-height: 1; border-radius:10px\">4. Lecture et écriture de fichiers 📖</h2>"
   ]
  },
  {
   "cell_type": "markdown",
   "metadata": {},
   "source": [
    "<a id=\"41-gestion-simple\"></a>\n",
    "<h3 style=\"text-align: left; background-color: #e0e0e0; font-family:Times New Roman; color: black; padding: 14px; line-height: 1; border-radius:10px\">4.1 Gestion simple des fichiers </h3>\n",
    "\n",
    "**1. Fonction `open()`**\n",
    "   - La fonction `open()` est utilisée pour ouvrir un fichier en Python. \n",
    "   - Syntaxe : `open(nom_de_fichier, mode)`. \n",
    "   - Le `nom_de_fichier` spécifie le chemin d'accès, tandis que le `mode` détermine le type d'opération (lecture, écriture, etc.).\n",
    "\n",
    "**2. Modes d'Ouverture de Fichier**\n",
    "Mode | Description\n",
    "---- | -----------\n",
    "r | Ouvre un fichier en lecture. (par défaut)\n",
    "w | Ouvre un fichier en écriture. Crée un nouveau fichier s'il n'existe pas ou tronque le fichier s'il existe.\n",
    "x | Ouvre un fichier en création exclusive. Si le fichier existe déjà, l'opération échoue.\n",
    "a | Ouvre un fichier pour ajouter à la fin du fichier sans le tronquer. Crée un nouveau fichier s'il n'existe pas.\n",
    "t | Ouvre en mode texte. (par défaut)\n",
    "b | Ouvre en mode binaire.\n",
    "\n",
    "\n",
    "**3. Bonnes Pratiques**\n",
    "   - Utiliser le gestionnaire de contexte `with` pour une meilleure gestion des exceptions et une fermeture automatique du fichier.\n"
   ]
  },
  {
   "cell_type": "code",
   "execution_count": null,
   "metadata": {},
   "outputs": [],
   "source": [
    "chemin_fichier = \"../data/fichier_lu.txt\"\n",
    "\n",
    "# Lire un fichier\n",
    "with open(chemin_fichier, 'r', encoding='utf-8') as fichier:\n",
    "    contenu = fichier.read()\n",
    "    print(contenu)"
   ]
  },
  {
   "cell_type": "code",
   "execution_count": null,
   "metadata": {},
   "outputs": [],
   "source": [
    "# Écrire dans un fichier\n",
    "chemin_ecriture = '../data/fichier_ecris.txt'\n",
    "\n",
    "with open(chemin_ecriture, 'w') as fichier:\n",
    "    fichier.write(\"Bonjour!Comment allez-vous ?\")"
   ]
  },
  {
   "cell_type": "markdown",
   "metadata": {},
   "source": [
    "**4. Lire un fichier ligne par ligne**\n",
    "   - Utilisation de `for line in file:` pour lire un fichier ligne par ligne.\n",
    "   - Cela permet de traiter de grands fichiers sans surcharger la mémoire.\n",
    "   - Utiliser `read()`, `readline()`, `readlines()`**\n",
    "      - `read()` lit tout le contenu du fichier.\n",
    "      - `readline()` lit une ligne à la fois.\n",
    "      - `readlines()` lit toutes les lignes et les retourne sous forme de liste."
   ]
  },
  {
   "cell_type": "code",
   "execution_count": null,
   "metadata": {},
   "outputs": [],
   "source": [
    "chemin_fichier = \"../data/fichier_lu.txt\"\n",
    "\n",
    "# Lire un fichier ligne par ligne\n",
    "with open(chemin_fichier, 'r', encoding='utf-8') as omelette:\n",
    "    for ligne in omelette:\n",
    "        print(\"***\")\n",
    "        print(ligne.strip())"
   ]
  },
  {
   "cell_type": "markdown",
   "metadata": {},
   "source": [
    "Notez que ce qui précède est une méthode courante pour la lecture \"paresseuse\" de gros fichiers en Python, surtout lors de la lecture de gros fichiers sur un système avec une mémoire limitée.\n"
   ]
  },
  {
   "cell_type": "code",
   "execution_count": null,
   "metadata": {},
   "outputs": [],
   "source": [
    "for line in open('vraiment_gros_fichier.dat'):\n",
    "    process_data(line)\n"
   ]
  },
  {
   "cell_type": "markdown",
   "metadata": {},
   "source": [
    "\n",
    "Alternativement, vous pouvez simplement utiliser yield:"
   ]
  },
  {
   "cell_type": "code",
   "execution_count": null,
   "metadata": {},
   "outputs": [],
   "source": [
    "def lire_par_morceaux(objet_fichier, taille_morceau=1024):\n",
    "    \"\"\"Fonction paresseuse (générateur) pour lire un fichier morceau par morceau.\n",
    "    Taille de morceau par défaut : 1 ko.\"\"\"\n",
    "    while True:\n",
    "        donnees = objet_fichier.read(taille_morceau)\n",
    "        if not donnees:\n",
    "            break\n",
    "        yield donnees\n",
    "\n",
    "with open('vraiment_gros_fichier.dat') as f:\n",
    "    for morceau in lire_par_morceaux(f):\n",
    "        process_data(morceau)\n"
   ]
  },
  {
   "cell_type": "markdown",
   "metadata": {},
   "source": [
    "**5. Ecrire un fichier ligne par ligne**\n",
    "   - `writelines()` prend une liste de chaînes de caractères et les écrit dans un fichier."
   ]
  },
  {
   "cell_type": "code",
   "execution_count": null,
   "metadata": {},
   "outputs": [],
   "source": [
    "# Écrire dans un fichier\n",
    "chemin_ecriture = '../data/rapport.txt'\n",
    "\n",
    "with open(chemin_ecriture, 'w',  encoding='utf-8') as fichier:\n",
    "    fichier.write(\"Rapport du Jour\\n\")\n",
    "    fichier.write(\"=====================\\n\")\n",
    "    fichier.write(\"Le temps était ensoleillé et le parc était paisible.\\n\")\n"
   ]
  },
  {
   "cell_type": "code",
   "execution_count": null,
   "metadata": {},
   "outputs": [],
   "source": [
    "# Écrire une liste de lignes\n",
    "lignes = [\"Première ligne\\n\", \"Deuxième ligne\\n\", \"Troisième ligne\\n\"]\n",
    "\n",
    "with open(chemin_ecriture, 'a', encoding='utf-8') as fichier:\n",
    "    fichier.writelines(lignes)"
   ]
  },
  {
   "cell_type": "markdown",
   "metadata": {},
   "source": [
    "**En résumé : Méthodes de Fichier Python**\n",
    "\n",
    "Voici la liste complète des méthodes en mode texte avec une brève description :\n",
    "\n",
    "Méthode | Description\n",
    "------- | -----------\n",
    "close() | Ferme un fichier ouvert. Elle n'a aucun effet si le fichier est déjà fermé.\n",
    "detach() | Sépare le tampon binaire sous-jacent du TextIOBase et le renvoie.\n",
    "fileno() | Renvoie un numéro entier (descripteur de fichier) du fichier.\n",
    "flush() | Vide le tampon d'écriture du flux de fichier.\n",
    "isatty() | Renvoie True si le flux de fichier est interactif.\n",
    "read(n) | Lit au plus n caractères du fichier. Lit jusqu'à la fin du fichier s'il est négatif ou None.\n",
    "readable() | Renvoie True si le flux de fichier peut être lu.\n",
    "readline(n=-1) | Lit et renvoie une ligne du fichier. Lit au plus n octets si spécifié.\n",
    "readlines(n=-1) | Lit et renvoie une liste de lignes du fichier. Lit au plus n octets si spécifié.\n",
    "seek(offset, from=SEEK_SET) | Modifie la position du fichier à offset octets, par rapport à from (début, courant, fin).\n",
    "seekable() | Renvoie True si le flux de fichier prend en charge l'accès aléatoire.\n",
    "tell() | Renvoie l'emplacement actuel du fichier.\n",
    "truncate(size=None) | Redimensionne le flux de fichier à size octets. Si size n'est pas spécifié, redimensionne à l'emplacement actuel.\n",
    "writable() | Renvoie True si le flux de fichier peut être écrit.\n",
    "write(s) | Écrit la chaîne s dans le fichier et renvoie le nombre de caractères écrits.\n",
    "writelines(lines) | Écrit une liste de lignes dans le fichier."
   ]
  },
  {
   "cell_type": "markdown",
   "metadata": {},
   "source": [
    "<a id=\"42-types-fichiers\"></a>\n",
    "<h3 style=\"text-align: left; background-color: #e0e0e0; font-family:Times New Roman; color: black; padding: 14px; line-height: 1; border-radius:10px\">4.2 Travailler avec différents types de fichiers</h3>\n",
    "\n",
    "   - Utilisation du module `csv` pour lire et écrire des fichiers CSV.\n",
    "   - Utilisation du module `json` pour manipuler des données JSON."
   ]
  },
  {
   "cell_type": "code",
   "execution_count": null,
   "metadata": {},
   "outputs": [],
   "source": [
    "import csv\n",
    "\n",
    "# Lire un fichier CSV\n",
    "with open('../data/donnees.csv', mode ='r') as fichier_csv:\n",
    "    lecteur_csv = csv.reader(fichier_csv)\n",
    "    for ligne in lecteur_csv:\n",
    "        print(ligne)"
   ]
  },
  {
   "cell_type": "code",
   "execution_count": null,
   "metadata": {},
   "outputs": [],
   "source": [
    "# Dictionnaire\n",
    "donnees = [{\"nom\": \"Dupont\", \"age\": 30}, \n",
    "           {\"nom\": \"Martin\", \"age\": 40, \"ville\": \"Nice\", \"profession\": \"Médecin\"}]\n",
    "print(donnees)"
   ]
  },
  {
   "cell_type": "code",
   "execution_count": null,
   "metadata": {},
   "outputs": [],
   "source": [
    "import json\n",
    "\n",
    "# Écrire et lire des données JSON\n",
    "with open('../data/donnees.json', 'w', encoding='utf-8') as fichier_json:\n",
    "    json.dump(donnees, fichier_json)"
   ]
  },
  {
   "cell_type": "code",
   "execution_count": null,
   "metadata": {},
   "outputs": [],
   "source": [
    "with open('../data/donnees.json', 'r', encoding='utf-8') as fichier_json:\n",
    "    donnees_lues = json.load(fichier_json)\n",
    "    print(donnees_lues)"
   ]
  },
  {
   "cell_type": "markdown",
   "metadata": {},
   "source": [
    "<a id=\"5-modules-et-bibliotheques\"></a>\n",
    "<h2 style=\"text-align: center; background-color: #4d648d; font-family:Times New Roman; color: white; padding: 14px; line-height: 1; border-radius:10px\">5. Modules et Packages 🗂️</h2>"
   ]
  },
  {
   "cell_type": "markdown",
   "metadata": {},
   "source": [
    "Les modules et les packages Python sont des outils essentiels pour organiser et partager du code. Ils permettent de créer des programmes plus modulaires et plus réutilisables.\n",
    "\n",
    "<a id=\"51-modules\"></a>\n",
    "<h3 style=\"text-align: left; background-color: #e0e0e0; font-family:Times New Roman; color: black; padding: 14px; line-height: 1; border-radius:10px\">5.1. Modules </h3>\n",
    "\n",
    "**Qu'est-ce qu'un module ?**\n",
    "\n",
    "Un module en Python est un fichier contenant du code Python pouvant être \n",
    "importé et utilisé dans d'autres programmes. \n",
    "Il permet de regrouper des fonctions, des classes et des variables dans un fichier unique, ce qui facilite la réutilisation du code et la création de programmes plus modulaires.\n",
    "\n",
    "**Créer un module**\n",
    "\n",
    "Pour créer un module, il suffit de créer un **fichier .py** contenant le code que vous souhaitez partager. \n",
    "\n",
    "**Le nom du fichier doit correspondre au nom du module.**  Par exemple, un module nommé `utils.py` pourrait contenir les fonctions suivantes :\n",
    "\n",
    "```python\n",
    "def additionner(a, b):\n",
    "  return a + b\n",
    "\n",
    "def soustraire(a, b):\n",
    "  return a - b\n",
    "\n",
    "def multiplier(a, b):\n",
    "  return a * b\n",
    "```\n",
    "**Importer un module local**\n",
    "\n",
    "Pour utiliser un module dans un autre programme, vous devez l'importer en utilisant l'instruction `import`. Par exemple, pour importer le module `utils.py` dans un programme, vous pouvez utiliser le code suivant :\n",
    "\n",
    "```python\n",
    "import utils\n",
    "\n",
    "# Appeler les fonctions du module\n",
    "resultat = utils.additionner(1, 2)\n",
    "print(resultat)  # 3\n",
    "\n",
    "resultat = utils.soustraire(5, 3)\n",
    "print(resultat)  # 2\n",
    "```"
   ]
  },
  {
   "cell_type": "code",
   "execution_count": null,
   "metadata": {},
   "outputs": [],
   "source": [
    "import fichier\n",
    "\n",
    "fichier.addition(2, 4 )"
   ]
  },
  {
   "cell_type": "markdown",
   "metadata": {},
   "source": [
    "**Importer un module installé**\n",
    "https://docs.python.org/3/py-modindex.html\n",
    "\n",
    "Pour utiliser un module dans un autre programme, vous devez l'importer en utilisant l'instruction `import`. \n",
    "Par exemple, le code suivant importe le module `math` et utilise les fonctions `log10` et `floor` :\n"
   ]
  },
  {
   "cell_type": "code",
   "execution_count": null,
   "metadata": {},
   "outputs": [],
   "source": [
    "import csv\n",
    "import math\n",
    "\n",
    "# help(csv)\n",
    "# help(math)\n",
    "\n",
    "math.log10(34)\n",
    "math.floor(977713.710937)\n"
   ]
  },
  {
   "cell_type": "markdown",
   "metadata": {},
   "source": [
    "\n",
    "<a id=\"51-modules\"></a>\n",
    "<h3 style=\"text-align: left; background-color: #e0e0e0; font-family:Times New Roman; color: black; padding: 14px; line-height: 1; border-radius:10px\">5.2. Packages </h3>\n",
    "\n",
    "Un package Python est un ensemble de modules regroupés dans un dossier. Les packages permettent de mieux organiser le code et de le distribuer plus facilement. La structure d'un package est la suivante :\n",
    "\n",
    "```\n",
    "└── package\n",
    "    ├── __init__.py\n",
    "    ├── module1.py\n",
    "    └── module2.py\n",
    "```\n",
    "\n",
    "Le fichier `__init__.py` est un fichier vide qui permet d'initialiser le package. Pour importer un module d'un package, vous devez utiliser le nom du package suivi du nom du module, séparés par un point. Par exemple, pour importer le module `module1` du package `package`, vous devez utiliser l'instruction suivante :\n",
    "\n",
    "```python\n",
    "import package.module1\n",
    "```\n",
    "\n",
    "Pour installer un package Python, vous pouvez utiliser la commande `pip`. Par exemple, pour installer le package `requests`, vous pouvez utiliser la commande suivante :\n",
    "\n",
    "```\n",
    "pip install requests\n",
    "```"
   ]
  },
  {
   "cell_type": "code",
   "execution_count": null,
   "metadata": {},
   "outputs": [],
   "source": [
    "from monpackage import operations\n",
    "\n",
    "print(operations.somme(2, 3))\n",
    "print(operations.division(2, 3))"
   ]
  },
  {
   "cell_type": "code",
   "execution_count": null,
   "metadata": {},
   "outputs": [],
   "source": [
    "from operations import division # plus nécessaire de préciser le module et importe que la fonction\n",
    "\n",
    "resultat = division(4, 2)\n",
    "print(resultat)"
   ]
  },
  {
   "cell_type": "code",
   "execution_count": null,
   "metadata": {},
   "outputs": [],
   "source": [
    "from operations import division, somme # plusieurs fonctions d'un module\n",
    "\n",
    "resultat = somme(4, 2)\n",
    "print(resultat)"
   ]
  },
  {
   "cell_type": "code",
   "execution_count": null,
   "metadata": {},
   "outputs": [],
   "source": [
    "import random\n",
    "# help(random)\n",
    "\n",
    "nombre_aleatoire = random.randint(1, 90)\n",
    "liste_nombre_aleatoire = random.sample(range(1, 100), 18)\n",
    "print(nombre_aleatoire, '\\n', liste_nombre_aleatoire)"
   ]
  },
  {
   "cell_type": "code",
   "execution_count": null,
   "metadata": {},
   "outputs": [],
   "source": [
    "import random\n",
    "\n",
    "# tirer au sort aléatoire un objet d'une liste \n",
    "objects = ['table', \"stylo\", \"livre\"]\n",
    "\n",
    "object_aleatoire = random.choice(objects)\n",
    "print(f\" l'objet tiré est : {object_aleatoire}\")"
   ]
  },
  {
   "cell_type": "code",
   "execution_count": null,
   "metadata": {},
   "outputs": [],
   "source": [
    "from monpackage import pierre_feuille_ciseaux\n",
    "\n",
    "pierre_feuille_ciseaux.jeu()"
   ]
  },
  {
   "cell_type": "markdown",
   "metadata": {},
   "source": [
    "<a id=\"6-bonnes-pratiques-en-programmation\"></a>\n",
    "<h2 style=\"text-align: center; background-color: #4d648d; font-family:Times New Roman; color: white; padding: 14px; line-height: 1; border-radius:10px\">6. Bonnes Pratiques de Programmation</h2>"
   ]
  },
  {
   "cell_type": "markdown",
   "metadata": {},
   "source": [
    "### 6.1 Introduction\n",
    "\n",
    "Les bonnes pratiques en programmation sont des standards ou des conventions qui facilitent la lecture, la compréhension et la maintenance du code par d'autres développeurs. \n",
    "Elles jouent un rôle crucial dans le travail d'équipe et la gestion de projets à long terme.\n",
    "\n",
    "**Pourquoi Suivre les Bonnes Pratiques ?**\n",
    "- **Lisibilité** : Code plus clair et facile à comprendre.\n",
    "- **Maintenance** : Simplification des mises à jour et corrections.\n",
    "- **Collaboration** : Uniformité du code au sein d'une équipe.\n",
    "\n",
    "**Exemple Illustratif** \n",
    "Comparons deux morceaux de code pour voir l'impact des bonnes pratiques.\n",
    "\n",
    "### Code Sans Bonnes Pratiques\n",
    "```python\n",
    "def f(x,y):return x+y\n",
    "```\n",
    "\n",
    "### Code Avec Bonnes Pratiques\n",
    "```python\n",
    "def add_numbers(x, y):\n",
    "    \"\"\"Add two numbers and return the result.\"\"\"\n",
    "    return x + y\n",
    "```\n",
    "### 6.2 La conformité PEP\n",
    "\n",
    "La conformité à la PEP 8 concerne les règles de style de codage. Elle vise à rendre le code plus lisible et cohérent. Voici quelques points clés et exemples :\n",
    "\n",
    "1. **Indentation :** Utiliser 4 espaces par niveau d'indentation. \n",
    "   - Mauvais : `if x: x += 1`\n",
    "   - Bon : \n",
    "     ```python\n",
    "     if x:\n",
    "         x += 1\n",
    "     ```\n",
    "\n",
    "2. **Longueur de Ligne :** Limiter les lignes à 79 caractères.\n",
    "   - Mauvais : une seule ligne très longue.\n",
    "   - Bon : diviser en plusieurs lignes avec des parenthèses, crochets, ou accolades.\n",
    "\n",
    "3. **Espaces :** Utiliser des espaces autour des opérateurs et après les virgules.\n",
    "   - Mauvais : `def fonction(x,y=0):`\n",
    "   - Bon : `def fonction(x, y = 0):`\n",
    "\n",
    "4. **Noms de Variables :** Utiliser des noms descriptifs et éviter les abréviations.\n",
    "   - Mauvais : `n`, `df`, `x1`\n",
    "   - Bon : `nombre`, `dataframe`, `variable_explicative`\n",
    "\n",
    "5. **Commentaires :** Ils doivent être clairs et pertinents, pas redondants.\n",
    "   - Mauvais : `x = x + 1  # Augmente x de 1`\n",
    "   - Bon : `x = x + 1  # Compense pour le décalage`\n",
    "\n",
    "Ces exemples illustrent comment l'adhésion à la PEP 8 peut améliorer la lisibilité et la cohérence du code. Pour une compréhension détaillée, il est conseillé de se référer directement à la PEP 8.\n",
    "\n",
    "[ici] : (https://peps.python.org/pep-0008/)\n",
    "\n",
    "### 6.3 Outils de contrôle qualité du code\n",
    "\n",
    "Il est en effet important d'évaluer la qualité du code Python pour assurer sa lisibilité, sa maintenabilité et sa conformité aux recommandations de la PEP 8 (style de code) et de la PEP 257 (docstrings). Vous pouvez utiliser différents outils et sites pour vous aider dans cette tâche. Voici quelques options :\n",
    "\n",
    "1. **pep8online.com** : Comme vous l'avez mentionné, c'est un site en ligne qui permet de vérifier la conformité du code à la PEP 8 en collant simplement le code dans la zone de texte et en cliquant sur le bouton \"Check code\". Il vous donnera des indications sur les problèmes potentiels de style.\n",
    "\n",
    "2. **pylint** : C'est un outil en ligne de commande qui offre une analyse plus approfondie du code. Il génère des rapports avec des notes de conformité à la PEP 8 et d'autres recommandations de style. Vous pouvez l'installer via pip (`pip install pylint`) et l'exécuter sur un fichier ou un répertoire.\n",
    "\n",
    "3. **flake8** : C'est un autre outil en ligne de commande qui combine plusieurs vérifications statiques, y compris la conformité à la PEP 8. Il peut être installé via pip (`pip install flake8`) et utilisé de manière similaire à pylint.\n",
    "\n",
    "4. **IDEs (Environnements de Développement Intégrés)** : De nombreux IDEs populaires comme PyCharm, VSCode, et Sublime Text incluent des extensions ou des fonctionnalités intégrées pour vérifier automatiquement la conformité à la PEP 8 et afficher des avertissements ou des erreurs directement dans l'éditeur pendant que vous écrivez du code.\n",
    "\n",
    "5. **GitHub Actions ou Travis CI** : Si vous travaillez sur des projets collaboratifs, vous pouvez configurer des services d'intégration continue comme GitHub Actions ou Travis CI pour exécuter automatiquement des vérifications de conformité à la PEP 8 à chaque modification de code.\n",
    "\n",
    "6. **Précommit Hooks** : Vous pouvez également configurer des hooks précommit avec des outils tels que `pre-commit`, qui exécutent automatiquement des vérifications de style chaque fois que vous vous apprêtez à valider votre code.\n",
    "\n",
    "L'utilisation d'un ou plusieurs de ces outils et méthodes peut grandement contribuer à améliorer la qualité de votre code Python en garantissant sa conformité aux recommandations de la PEP 8 et de la PEP 257. Cela rendra votre code plus lisible, plus facile à maintenir et plus cohérent, ce qui est essentiel pour un développement logiciel efficace et collaboratif.\n",
    "\n"
   ]
  },
  {
   "cell_type": "markdown",
   "metadata": {},
   "source": [
    "<a id=\"7-partenariat\"></a>\n",
    "<h2 style=\"text-align: center; background-color: #4d648d; font-family:Times New Roman; color: white; padding: 14px; line-height: 1; border-radius:10px\">7.Certification avec DataCamp - bonus 🐍 </h2>\n",
    "\n",
    "# 🐍 Aller plus loin en programmation Python !\n",
    "\n",
    "Êtes-vous fatigué de:\n",
    "- Passer des heures à essayer de comprendre Python par vous-même?\n",
    "- Manquer d'opportunités pour développer vos compétences?  \n",
    "- Ne pas avancer dans votre carrière?\n",
    "\n",
    "Imaginez avoir accès à:\n",
    "\n",
    "✔ Des cours de pointe\n",
    "\n",
    "✔ Des exercices pratiques  \n",
    "\n",
    "✔ Un soutien d'experts  \n",
    "\n",
    "Pour maîtriser Python facilement avec DataCamp, la plateforme que j'utilise quotidiennement!\n",
    "\n",
    "<div style=\"text-align: center;\"> \n",
    "  <img src=\"../images/datacamp_profil.png\" alt=\"Logo Python\" style=\"width: 500px;\"/>\n",
    "</div>\n",
    "\n",
    "En vous inscrivant avec mon **[lien affilié](https://www.datacamp.com/promo/build-data-and-ai-skills-mar-24)**, vous profiterez de:\n",
    "\n",
    "✨ 50% de remise sur l'abonnement\n",
    "\n",
    "✨ Un gain de temps précieux\n",
    "\n",
    "✨ Pas d'efforts de recherche fastidieux  \n",
    "\n",
    "Les experts ont tout condensé pour vous dans des formations complètes et récentes.\n",
    "\n",
    "1) Cliquez **[ici](https://www.datacamp.com/promo/build-data-and-ai-skills-mar-24)** pour l'offre exclusive 👈\n",
    "\n",
    "2) Commencez à maîtriser Python aujourd'hui\n",
    "\n",
    "3) Investissez dans vos compétences  \n",
    "\n",
    "4) Rejoignez la communauté DataCamp comme moi\n",
    "\n",
    "5) Apprenez d'autres langages et technologies ([SQL](https://www.datacamp.com/promo/build-data-and-ai-skills-mar-24), [Prompt Engineering](https://www.datacamp.com/promo/build-data-and-ai-skills-mar-24), [NLP](https://www.datacamp.com/promo/build-data-and-ai-skills-mar-24)...)!\n",
    "\n",
    "5) Trouver un travail directement sur la plateforme !\n",
    "\n",
    "<div style=\"text-align: center;\"> \n",
    "  <img src=\"../images/datacamp_job.png\" alt=\"Logo Python\" style=\"width: 500px;\"/>\n",
    "</div>\n",
    "\n",
    "\n"
   ]
  },
  {
   "cell_type": "markdown",
   "metadata": {},
   "source": [
    "<a id=\"8-references\"></a>\n",
    "<h2 style=\"text-align: center; background-color: #4d648d; font-family:Times New Roman; color: white; padding: 14px; line-height: 1; border-radius:10px\">8. Références </h2>\n",
    "\n",
    "Dans cette section, nous fournissons une liste de références pour approfondir votre compréhension de certains sujets abordés dans ce notebook :\n",
    "\n",
    "1. **[Python's any and all functions](https://docs.python.org/3/library/functions.html#any)**: Documentation officielle sur les fonctions any et all de Python, qui permettent de vérifier si au moins un élément d'une séquence est vrai ou si tous les éléments sont vrais, respectivement.\n",
    "\n",
    "2. **[Python's eval() function](https://docs.python.org/3/library/functions.html#eval)**: Documentation officielle sur la fonction eval() de Python, qui évalue une expression Python passée sous forme de chaîne de caractères.\n",
    "\n",
    "3. **[filter() in Python](https://docs.python.org/3/library/functions.html#filter)**: Documentation officielle sur la fonction filter() de Python, qui filtre les éléments d'une séquence en fonction d'une fonction de filtrage donnée.\n",
    "\n",
    "4. **[dir() in Python](https://docs.python.org/3/library/functions.html#dir)**: Documentation officielle sur la fonction dir() de Python, qui retourne la liste des noms dans l'espace de noms local ou global.\n",
    "\n",
    "5. **[isinstance and issubclass in Python](https://docs.python.org/3/library/functions.html#isinstance)**: Documentation officielle sur les fonctions isinstance() et issubclass() de Python, utilisées pour vérifier les types d'objets.\n",
    "\n",
    "6. **[len() in Python](https://docs.python.org/3/library/functions.html#len)**: Documentation officielle sur la fonction len() de Python, qui retourne la longueur (le nombre d'éléments) d'un objet.\n",
    "\n",
    "7. **[iter() in Python](https://docs.python.org/3/library/functions.html#iter)**: Documentation officielle sur la fonction iter() de Python, qui retourne un itérateur pour un objet.\n",
    "\n",
    "8. **[Why should I use operator.itemgetter(x) instead of [x]?](https://stackoverflow.com/questions/1106840)**: Une discussion sur Stack Overflow expliquant pourquoi il est préférable d'utiliser operator.itemgetter(x) plutôt que [x] pour accéder aux éléments d'une séquence.\n",
    "\n",
    "9. **[Python's Sorting HowTo wiki](https://docs.python.org/3/howto/sorting.html)**: Guide officiel sur la manière de trier en Python, présentant différentes méthodes de tri pour différentes situations.\n",
    "\n",
    "10. **[Python's Generators wiki](https://wiki.python.org/moin/Generators)**: Page wiki officielle sur les générateurs en Python, expliquant leur utilisation et leur fonctionnement.\n",
    "\n",
    "11. **[Python's Decorators wiki](https://wiki.python.org/moin/PythonDecorators)**: Page wiki officielle sur les décorateurs en Python, fournissant des informations sur leur utilisation et leur création.\n",
    "\n",
    "12. **[Python's Decorator Library](https://wiki.python.org/moin/PythonDecoratorLibrary)**: Bibliothèque officielle de décorateurs en Python, offrant une variété de décorateurs prêts à l'emploi pour différentes tâches.\n",
    "\n",
    "13. **[How to make a chain of function decorators?](https://stackoverflow.com/questions/739654/how-to-make-a-chain-of-function-decorators)**: Une discussion sur Stack Overflow expliquant comment créer une chaîne de décorateurs de fonctions en Python.\n",
    "\n",
    "14. **[A Guide to Python's Magic Methods](https://rszalski.github.io/magicmethods/)**: Guide détaillé sur les méthodes magiques en Python, qui permettent de personnaliser le comportement des objets Python.\n",
    "\n",
    "15. **[The Iterator Protocol: How \"For Loops\" Work in Python](https://treyhunner.com/2016/12/python-iterator-protocol-how-for-loops-work/)**: Article expliquant en détail le protocole de l'itérateur en Python et comment les boucles for fonctionnent en utilisant ce protocole.\n",
    "\n",
    "16. **[How to make an iterator in Python](https://treyhunner.com/2018/06/how-to-make-an-iterator-in-python/)**: Article expliquant comment créer un itérateur personnalisé en Python en implémentant les méthodes spéciales __iter__() et __next__().\n",
    "\n",
    "17. **[Overusing lambda expressions in Python](https://journal.stuffwithstuff.com/2013/03/03/stop-listening-to-your-users/)**: Article expliquant les dangers de la surutilisation des expressions lambda en Python et quand il est approprié de les utiliser.\n",
    "\n",
    "18. **[Python Errors and Built -in Exceptions](https://docs.python.org/3/library/exceptions.html)**: Documentation officielle sur les erreurs et exceptions intégrées en Python, expliquant les différentes erreurs et exceptions qui peuvent se produire dans un programme Python.\n",
    "\n",
    "19. **[Python's Functions Are First-Class](https://dbader.org/blog/python-first-class-functions)**: Article expliquant ce que signifie le fait que les fonctions sont des citoyens de première classe en Python, et comment cela influence la programmation en Python.\n",
    "\n",
    "20. **[The Zen of Python, Explained](https://inventwithpython.com/blog/2018/08/17/the-zen-of-python-explained/)**: Article expliquant les principes philosophiques derrière le \"Zen de Python\", qui sont les principes directeurs de la conception du langage Python.\n",
    "\n",
    "21. **[How to use Python's min() and max() with nested lists](https://towardsdatascience.com/how-to-use-pythons-min-and-max-with-nested-lists-1a42cb1f7fe1)**: Article expliquant comment utiliser les fonctions min() et max() de Python avec des listes imbriquées pour trouver les éléments minimaux et maximaux.\n",
    "\n",
    "22. **[for/else in Python](https://www.geeksforgeeks.org/using-else-conditional-statement-with-for-loop-in-python/)**: Article expliquant l'utilisation de la clause else avec les boucles for en Python et dans quels cas elle est utile.\n",
    "\n",
    "23. **[Why does python use ‘else’ after for and while loops?](https://stackoverflow.com/questions/9979970/)**: Une discussion sur Stack Overflow expliquant pourquoi Python utilise la clause else après les boucles for et while, et comment elle fonctionne.\n",
    "\n",
    "24. **[Generator comprehensions in Python](https://www.python.org/dev/peps/pep-0289/)**: Documentation officielle sur les expressions de générateur en Python, qui permettent de créer des générateurs de manière concise et élégante.\n",
    "\n",
    "25. **[How to re-raise an exception in nested try/except blocks?](https://stackoverflow.com/questions/2052390/)**: Une discussion sur Stack Overflow expliquant comment ré-élever une exception dans des blocs try/except imbriqués en Python.\n",
    "\n",
    "26. **[Python File I/O](https://docs.python.org/3/tutorial/inputoutput.html#reading-and-writing-files)**: Documentation officielle sur les opérations d'entrée/sortie de fichiers en Python, expliquant comment lire et écrire des fichiers en Python.\n",
    "\n",
    "27. **[Lazy Method for Reading Big File in Python?](https://stackoverflow.com/questions/519633/lazy-method-for-reading-big-file-in-python)**: Une discussion sur Stack Overflow proposant des méthodes efficaces pour lire de gros fichiers de manière paresseuse en Python.\n",
    "\n",
    "28. **[How do I merge two dictionaries in a single expression (taking union of dictionaries)?](https://stackoverflow.com/questions/38987/)**: Une discussion sur Stack Overflow expliquant comment fusionner deux dictionnaires en une seule expression en Python.\n",
    "\n",
    "29. **[Python Dictionary Tips](https://realpython.com/python-dicts/)**: Article fournissant des conseils utiles sur l'utilisation efficace des dictionnaires en Python.\n",
    "\n",
    "30. **[What are the differences between type() and isinstance()?](https://stackoverflow.com/questions/1549801/)**: Une discussion sur Stack Overflow expliquant les différences entre les fonctions type() et isinstance() en Python et quand les utiliser.\n",
    "\n",
    "31. **[Python 3 Tutorial by Aman Chadha](https://aman.ai/primers/python/)**: Ce tutoriel Python 3 fournit une introduction complète au langage de programmation Python, couvrant les concepts de base, les structures de contrôle, les fonctions, les classes, les modules et bien plus encore. Il est rédigé de manière claire et accessible, ce qui en fait une ressource utile pour les débutants et les programmeurs intermédiaires qui souhaitent renforcer leurs connaissances en Python.\n",
    "\n",
    "En consultant ces références, vous pourrez approfondir votre compréhension des concepts abordés dans ce notebook et continuer à développer vos compétences en Python."
   ]
  }
 ],
 "metadata": {
  "kernelspec": {
   "display_name": "Python 3 (ipykernel)",
   "language": "python",
   "name": "python3"
  },
  "language_info": {
   "codemirror_mode": {
    "name": "ipython",
    "version": 3
   },
   "file_extension": ".py",
   "mimetype": "text/x-python",
   "name": "python",
   "nbconvert_exporter": "python",
   "pygments_lexer": "ipython3",
   "version": "3.11.8"
  }
 },
 "nbformat": 4,
 "nbformat_minor": 2
}
