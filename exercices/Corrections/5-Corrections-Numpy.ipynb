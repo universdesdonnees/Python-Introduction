{
 "cells": [
  {
   "cell_type": "code",
   "execution_count": null,
   "metadata": {},
   "outputs": [],
   "source": [
    "import numpy as np "
   ]
  },
  {
   "cell_type": "markdown",
   "metadata": {},
   "source": [
    "#### Exercice 0 : S'échauffer\n",
    "Créez un tableau NumPy de valeurs de 0 à 2π divisé en 100 parties.\n",
    "Calculez le sinus et le cosinus de ces valeurs.\n",
    "Utilisez `np.round()` pour arrondir les résultats à 2 décimales.\n"
   ]
  },
  {
   "cell_type": "code",
   "execution_count": null,
   "metadata": {},
   "outputs": [],
   "source": [
    "tab = np.linspace(1, 2 * np.pi, 100)"
   ]
  },
  {
   "cell_type": "code",
   "execution_count": null,
   "metadata": {},
   "outputs": [],
   "source": [
    "tab_cos = np.cos(tab).round(2)\n",
    "tab_cos"
   ]
  },
  {
   "cell_type": "code",
   "execution_count": null,
   "metadata": {},
   "outputs": [],
   "source": [
    "tab_sin = np.sin(tab).round(2)\n",
    "tab_sin"
   ]
  },
  {
   "cell_type": "markdown",
   "metadata": {},
   "source": [
    "### Exercice 1 : Le Jeu du Bingo\n",
    "Créez un programme qui génère une carte de bingo 5x5 où chaque cellule contient un nombre aléatoire unique entre 1 et 75.\n",
    "\n",
    "Ensuite, simulez le tirage de numéros aléatoires entre 1 et 75 et marquez les numéros sur votre carte de bingo. \n",
    "\n",
    "Le but est de voir combien de tirages sont nécessaires pour compléter une ligne ou une colonne."
   ]
  },
  {
   "cell_type": "code",
   "execution_count": 1,
   "metadata": {},
   "outputs": [
    {
     "name": "stdout",
     "output_type": "stream",
     "text": [
      " Nombre de tirage :10\n",
      "Une ligne complétée\n"
     ]
    },
    {
     "data": {
      "text/plain": [
       "array([['*', '44', '9', '45', '*'],\n",
       "       ['29', '2', '*', '30', '6'],\n",
       "       ['*', '*', '*', '23', '*'],\n",
       "       ['*', '*', '*', '*', '*'],\n",
       "       ['*', '54', '*', '47', '36']], dtype='<U11')"
      ]
     },
     "execution_count": 1,
     "metadata": {},
     "output_type": "execute_result"
    }
   ],
   "source": [
    "# Importation des modules nécessaires\n",
    "import random\n",
    "import numpy as np \n",
    "\n",
    "def bingo():\n",
    "    # Création d'une carte de bingo de 5x5 avec des nombres aléatoires uniques de 1 à 75\n",
    "    carte_bingo = np.array(random.sample(range(1, 76), 25)).reshape(5, 5)\n",
    "    \n",
    "    # Initialisation d'un ensemble pour conserver les numéros tirés\n",
    "    numeros_tires = set()\n",
    "\n",
    "    # Compteur pour le nombre de tirages\n",
    "    n_tirage = 1\n",
    "\n",
    "    # Boucle infinie pour simuler le jeu de bingo\n",
    "    while(True):        \n",
    "        # Tirage de 5 nombres aléatoires uniques de 1 à 75\n",
    "        tirage_nombres = set(random.sample(range(1, 76), 5))\n",
    "\n",
    "        # Mise à jour de l'ensemble des numéros tirés\n",
    "        numeros_tires.update(tirage_nombres)\n",
    "    \n",
    "        # Mise à jour de la carte de bingo, en remplaçant les numéros tirés par '*'\n",
    "        carte_bingo_updated = [['*' if num in numeros_tires else num for num in row] for row in carte_bingo]\n",
    "        carte_bingo_updated = np.array(carte_bingo_updated)  \n",
    "\n",
    "        # Vérification de l'achèvement d'une colonne\n",
    "        colonne_full = np.sum(carte_bingo_updated == \"*\", axis=0)\n",
    "        if 5 in colonne_full:\n",
    "            print(f\" Nombre de tirage :{n_tirage}\")\n",
    "            print(\"Une colonne complétée\")\n",
    "            break\n",
    "\n",
    "        # Vérification de l'achèvement d'une ligne\n",
    "        ligne_full = np.sum(carte_bingo_updated == \"*\", axis=1)\n",
    "        if 5 in ligne_full:\n",
    "            print(f\" Nombre de tirage :{n_tirage}\")\n",
    "            print(\"Une ligne complétée\")\n",
    "            break\n",
    "\n",
    "        # Incrémentation du compteur de tirage\n",
    "        n_tirage += 1\n",
    "\n",
    "    # Retour de la carte de bingo mise à jour\n",
    "    return carte_bingo_updated\n",
    "\n",
    "# Appel de la fonction bingo pour lancer le jeu\n",
    "bingo()\n"
   ]
  },
  {
   "cell_type": "markdown",
   "metadata": {},
   "source": [
    "### Exercice 2 : Le Puzzle des Pixels\n",
    "Imaginez un tableau NumPy 10x10 rempli de zéros. \n",
    "\n",
    "Écrivez un programme qui change la couleur (valeur) de pixels aléatoires pour créer un motif ou une image.\n",
    "\n",
    "Vous pouvez par exemple essayer de créer un motif en damier.\n",
    "\n"
   ]
  },
  {
   "cell_type": "code",
   "execution_count": null,
   "metadata": {},
   "outputs": [],
   "source": [
    "# Importation des modules nécessaires\n",
    "import random           # Importe le module 'random' pour générer des nombres aléatoires (non utilisé dans ce code)\n",
    "import numpy as np      # Importe le module 'numpy' pour les opérations sur les tableaux\n",
    "\n",
    "###### OPTIONNEL\n",
    "import matplotlib.pyplot as plt  # Importe le module 'matplotlib.pyplot' pour la visualisation de données\n",
    "\n",
    "# Créer un tableau NumPy 10x10 rempli de zéros\n",
    "tableau = np.zeros((10, 10), dtype=int)  # Initialise un tableau 10x10 avec des zéros, en spécifiant un type de données entier\n",
    "\n",
    "# Créer un motif en damier\n",
    "for i in range(tableau.shape[0]):        # Boucle sur les lignes du tableau\n",
    "    for j in range(tableau.shape[1]):    # Boucle sur les colonnes du tableau\n",
    "        if (i + j) % 2 == 0:            # Vérifie si la somme des indices de ligne et de colonne est divisible par 10\n",
    "            tableau[i, j] = 1            # Si vrai, change la valeur du pixel en 1 pour créer un motif\n",
    "\n",
    "# Afficher le tableau avec le motif en damier\n",
    "tableau_damier = tableau                 # Assignation du tableau modifié à une nouvelle variable (optionnel)\n",
    "tableau_damier                           # Affiche le tableau en sortie (utile dans un environnement de notebook)\n",
    "\n",
    "###### OPTIONNEL\n",
    "# Utiliser matplotlib pour afficher le tableau en damier comme une image\n",
    "plt.imshow(tableau_damier, cmap='gray')  # Utilise 'imshow' pour afficher le tableau sous forme d'image, avec une carte des couleurs en gris\n",
    "plt.title(\"Motif en Damier\")             # Ajoute un titre à l'image\n",
    "plt.show()                               # Affiche l'image"
   ]
  },
  {
   "cell_type": "markdown",
   "metadata": {},
   "source": [
    "### Exercice 3 : Le Labyrinthe\n",
    "\n",
    "Objectif : Créer un jeu de labyrinthe où le joueur doit naviguer à travers pour atteindre une sortie.\n",
    "\n",
    "### 1. Fonction : `generer_labyrinthe()`\n",
    "- Initialise un tableau NumPy `taille x taille` rempli de `'X'` (représentant les murs).\n",
    "- Pour chaque cellule, utilise un nombre aléatoire (`np.random.rand()`) pour décider de la laisser comme un mur ou de la rendre vide. Le seuil utilisé ici est `0.3`.\n",
    "- Définit le coin inférieur droit (`[taille-1, taille-1]`) comme sortie, marqué par `'>'`.\n",
    "- Définit le coin supérieur gauche (`[0, 0]`) comme position de départ, marqué par `'*'`.\n",
    "\n",
    "### 2. Fonction : `position_joueur()`\n",
    "- Utilise `np.argwhere` pour trouver les coordonées de la cellule contenant le symbole `'*'`, qui représente le joueur.\n",
    "- Renvoie les coordonnées du joueur sous forme de tuple (`y, x`). Si le joueur n'est pas trouvé, renvoie `None`.\n",
    "\n",
    "### 3. Fonction : `mouvement()`\n",
    "\n",
    "- Entre dans une boucle `while True` pour accepter continuellement les commandes de mouvement de l'utilisateur.\n",
    "- Accepte l'entrée de l'utilisateur pour la direction du mouvement (`'h'`, `'b'`, `'g'`, `'d'` correspondant à haut, bas, gauche, droite).\n",
    "- Récupère la position actuelle du joueur.\n",
    "- Vérifie si le mouvement souhaité est valide (c'est-à-dire à l'intérieur des limites du labyrinthe et pas dans un mur `'X'`).\n",
    "- Si valide, met à jour la position du joueur en effaçant l'ancienne position et en définissant la nouvelle position avec `'*'`.\n",
    "- Vérifie si le joueur a atteint la sortie (`[taille-1, taille-1]`). Si c'est le cas, affiche un message de félicitations et interrompt la boucle, mettant fin au jeu.\n",
    "- Affiche le labyrinthe mis à jour après chaque mouvement."
   ]
  },
  {
   "cell_type": "code",
   "execution_count": 12,
   "metadata": {},
   "outputs": [],
   "source": [
    "import numpy as np\n",
    "\n",
    "def generer_labyrinthe(taille):\n",
    "\n",
    "    labyrinthe = np.full((taille, taille), 'X')\n",
    "    \n",
    "    for i in range(taille):\n",
    "        for j in range(taille):\n",
    "            if np.random.rand() > 0.3: # tirage au sort d'une valeur entre 0 et 1 \n",
    "                labyrinthe[i, j] = ' ' # si superieur à 0.3 alors true\n",
    "    labyrinthe[taille-1, taille-1] = '>'\n",
    "    labyrinthe[0, 0] = '*'\n",
    "\n",
    "    return labyrinthe\n",
    "\n",
    "\n",
    "# trouver la position actuelle du joueur\n",
    "# renvoie un tuple \n",
    "def position_joueur(lab):\n",
    "    joueur = np.argwhere(lab == \"*\")\n",
    "    return joueur[0] if joueur.size else None\n",
    "\n",
    "def mouvement(lab, taille):\n",
    "    while True:\n",
    "        choix = input(\"Choose direction (h/b/g/d): \")  # h: haut, b: bas, g: gauche, d: droite\n",
    "        \n",
    "        pos = position_joueur(lab)\n",
    "        if pos is None:\n",
    "            return \"Player not found in labyrinth\"\n",
    "\n",
    "        # coordonnés de position\n",
    "        y, x = pos\n",
    "\n",
    "        if choix == 'h' and y > 0 and lab[y-1, x] != \"X\":\n",
    "            lab[y, x] = \" \"  \n",
    "            y -= 1  \n",
    "        elif choix == 'b' and y < lab.shape[0] - 1 and lab[y+1, x] != \"X\":\n",
    "            lab[y, x] = \" \"\n",
    "            y += 1\n",
    "        elif choix == 'g' and x > 0 and lab[y, x-1] != \"X\":\n",
    "            lab[y, x] = \" \"\n",
    "            x -= 1\n",
    "        elif choix == 'd' and x < lab.shape[1] - 1 and lab[y, x+1] != \"X\":\n",
    "            lab[y, x] = \" \"\n",
    "            x += 1\n",
    "        else:\n",
    "            print(\"Mouvement invalide. Veuillez recommencer.\")\n",
    "            continue\n",
    "\n",
    "        lab[y, x] = \"*\"  #Nouvelle position\n",
    "\n",
    "        # Atteinte de la sortie ?\n",
    "        if y == taille - 1 and x == taille - 1:\n",
    "            print(\"Félicitations ! Vous avez trouvé la sortie.\")\n",
    "            break\n",
    "        \n",
    "        print(lab)\n",
    "        \n",
    "    return lab\n"
   ]
  },
  {
   "cell_type": "code",
   "execution_count": 37,
   "metadata": {},
   "outputs": [
    {
     "name": "stdout",
     "output_type": "stream",
     "text": [
      "[['*' ' ' ' ' 'X' ' ']\n",
      " ['X' ' ' ' ' ' ' 'X']\n",
      " ['X' ' ' 'X' ' ' ' ']\n",
      " [' ' ' ' ' ' 'X' ' ']\n",
      " ['X' ' ' 'X' ' ' '>']]\n"
     ]
    }
   ],
   "source": [
    "# Example usage\n",
    "taille = 5\n",
    "labi = generer_labyrinthe(taille)\n",
    "print(labi)\n",
    "mouvement(labi, taille)"
   ]
  },
  {
   "cell_type": "markdown",
   "metadata": {},
   "source": [
    "### Exercice 4 : Simulation de Population\n",
    "Créez un tableau NumPy pour représenter un espace 2D où chaque cellule peut être vide ou contenir une créature. \n",
    "\n",
    "Les créatures peuvent se déplacer, se reproduire ou mourir en fonction de règles simples que vous définissez.\n",
    "\n",
    "Par exemple, imaginons que chaque creature tire une lettre:\n",
    "- \"d\" elle se déplace dans une case random et disponible (sans autre créature).\n",
    "- \"r\" elle se reproduit et sa valeur augmente de \"+1\"\n",
    "- \"m\" elle meurt sur le champs\n"
   ]
  },
  {
   "cell_type": "code",
   "execution_count": null,
   "metadata": {},
   "outputs": [],
   "source": [
    "import numpy as np\n",
    "import random\n",
    "\n",
    "# Initialisation du tableau 2D\n",
    "taille = 5\n",
    "tableau = np.zeros((taille, taille), dtype=int)\n",
    "\n",
    "# Placer quelques créatures au hasard\n",
    "nombre_creatures = 5\n",
    "for _ in range(nombre_creatures):\n",
    "    x, y = np.random.randint(0, taille, size=2)\n",
    "    tableau[x, y] = 1  # Créature de base représentée par 1\n",
    "\n",
    "tableau"
   ]
  },
  {
   "cell_type": "code",
   "execution_count": null,
   "metadata": {},
   "outputs": [],
   "source": [
    "def mettre_a_jour_tableau(tableau):\n",
    "    taille = tableau.shape[0]\n",
    "    actions = ['d', 'r', 'm']\n",
    "    nouveau_tableau = np.copy(tableau)\n",
    "\n",
    "    for x in range(taille):\n",
    "        for y in range(taille):\n",
    "            if tableau[x, y] > 0:  # Si la cellule contient une créature\n",
    "                action = random.choice(actions)\n",
    "\n",
    "                if action == 'd':  # Déplacement\n",
    "                    # Trouver une case vide\n",
    "                    cases_vides = np.argwhere(nouveau_tableau == 0)\n",
    "                    if len(cases_vides) > 0:\n",
    "                        nouvelle_position = random.choice(cases_vides)\n",
    "                        nouveau_tableau[nouvelle_position[0], nouvelle_position[1]] = nouveau_tableau[x, y]\n",
    "                        nouveau_tableau[x, y] = 0\n",
    "\n",
    "                elif action == 'r':  # Reproduction\n",
    "                    nouveau_tableau[x, y] += 1\n",
    "\n",
    "                elif action == 'm':  # Mort\n",
    "                    nouveau_tableau[x, y] = 0\n",
    "\n",
    "    return nouveau_tableau\n",
    "\n",
    "# Mettre à jour le tableau pour une itération\n",
    "tableau_apres_mise_a_jour = mettre_a_jour_tableau(tableau)\n",
    "tableau_apres_mise_a_jour"
   ]
  },
  {
   "cell_type": "markdown",
   "metadata": {},
   "source": [
    "### Exercice 5 : Analyse de Données de Ventes\n",
    "Imaginez que vous avez des données de ventes pour différents produits. \n",
    "\n",
    "Les données sont représentées dans un tableau NumPy où chaque ligne est un produit et chaque colonne une semaine de vente. \n",
    "\n",
    "Calculez des statistiques comme les ventes moyennes, le produit le plus vendu, la semaine avec les ventes maximales, etc.\n"
   ]
  },
  {
   "cell_type": "code",
   "execution_count": null,
   "metadata": {},
   "outputs": [],
   "source": [
    "# Création d'un tableau fictif de données de ventes\n",
    "np.random.seed(0)  # Pour la reproductibilité\n",
    "ventes = np.random.randint(0, 100, (5, 4))  # 5 produits, 4 semaines\n",
    "\n",
    "# Calcul des statistiques\n",
    "ventes_moyennes_par_produit = np.mean(ventes, axis=1)\n",
    "ventes_moyennes_par_semaine = np.mean(ventes, axis=0)\n",
    "produit_le_plus_vendu = np.argmax(np.sum(ventes, axis=1))\n",
    "semaine_avec_ventes_maximales = np.argmax(np.sum(ventes, axis=0))\n",
    "\n",
    "ventes, ventes_moyennes_par_produit, ventes_moyennes_par_semaine, produit_le_plus_vendu, semaine_avec_ventes_maximales\n"
   ]
  },
  {
   "cell_type": "markdown",
   "metadata": {},
   "source": [
    "### Exercice 6 : Le Morpion\n",
    "Programmez un jeu de morpion simple où deux joueurs entrent leurs coups à tour de rôle. \n",
    "\n",
    "Utilisez un tableau NumPy pour représenter le plateau de jeu (3x3) et \n",
    "\n",
    "vérifiez l'état du jeu après chaque coup pour déterminer le gagnant.\n"
   ]
  },
  {
   "cell_type": "code",
   "execution_count": 1,
   "metadata": {},
   "outputs": [
    {
     "ename": "NameError",
     "evalue": "name 'np' is not defined",
     "output_type": "error",
     "traceback": [
      "\u001b[1;31m---------------------------------------------------------------------------\u001b[0m",
      "\u001b[1;31mNameError\u001b[0m                                 Traceback (most recent call last)",
      "Cell \u001b[1;32mIn[1], line 39\u001b[0m\n\u001b[0;32m     36\u001b[0m     \u001b[38;5;28;01mreturn\u001b[39;00m \u001b[38;5;129;01mnot\u001b[39;00m (plateau \u001b[38;5;241m==\u001b[39m \u001b[38;5;241m0\u001b[39m)\u001b[38;5;241m.\u001b[39many()\n\u001b[0;32m     38\u001b[0m \u001b[38;5;66;03m# Initialisation du plateau de jeu\u001b[39;00m\n\u001b[1;32m---> 39\u001b[0m plateau \u001b[38;5;241m=\u001b[39m \u001b[43minitialiser_plateau\u001b[49m\u001b[43m(\u001b[49m\u001b[43m)\u001b[49m\n\u001b[0;32m     40\u001b[0m plateau, coup_valide(plateau, \u001b[38;5;241m1\u001b[39m, \u001b[38;5;241m1\u001b[39m), jouer_coup(plateau, \u001b[38;5;241m1\u001b[39m, \u001b[38;5;241m1\u001b[39m, \u001b[38;5;241m1\u001b[39m), verifier_gagnant(plateau), plateau_plein(plateau)\n",
      "Cell \u001b[1;32mIn[1], line 3\u001b[0m, in \u001b[0;36minitialiser_plateau\u001b[1;34m()\u001b[0m\n\u001b[0;32m      1\u001b[0m \u001b[38;5;28;01mdef\u001b[39;00m \u001b[38;5;21minitialiser_plateau\u001b[39m():\n\u001b[0;32m      2\u001b[0m \u001b[38;5;250m    \u001b[39m\u001b[38;5;124;03m\"\"\"Initialise le plateau de jeu.\"\"\"\u001b[39;00m\n\u001b[1;32m----> 3\u001b[0m     \u001b[38;5;28;01mreturn\u001b[39;00m \u001b[43mnp\u001b[49m\u001b[38;5;241m.\u001b[39mzeros((\u001b[38;5;241m3\u001b[39m, \u001b[38;5;241m3\u001b[39m), dtype\u001b[38;5;241m=\u001b[39m\u001b[38;5;28mint\u001b[39m)\n",
      "\u001b[1;31mNameError\u001b[0m: name 'np' is not defined"
     ]
    }
   ],
   "source": [
    "def initialiser_plateau():\n",
    "    \"\"\"Initialise le plateau de jeu.\"\"\"\n",
    "    return np.zeros((3, 3), dtype=int)\n",
    "\n",
    "def coup_valide(plateau, ligne, colonne):\n",
    "    \"\"\"Vérifie si un coup est valide.\"\"\"\n",
    "    return 0 <= ligne < 3 and 0 <= colonne < 3 and plateau[ligne, colonne] == 0\n",
    "\n",
    "def jouer_coup(plateau, joueur, ligne, colonne):\n",
    "    \"\"\"Joue un coup sur le plateau.\"\"\"\n",
    "    if coup_valide(plateau, ligne, colonne):\n",
    "        plateau[ligne, colonne] = joueur\n",
    "        return True\n",
    "    return False\n",
    "\n",
    "def verifier_gagnant(plateau):\n",
    "    \"\"\"Vérifie si un joueur a gagné.\"\"\"\n",
    "    # Vérifier les lignes, colonnes et diagonales\n",
    "    for i in range(3):\n",
    "        if (plateau[i, :].sum() == 3) or (plateau[:, i].sum() == 3):\n",
    "            return 1  # Joueur 1 gagne\n",
    "        if (plateau[i, :].sum() == 6) or (plateau[:, i].sum() == 6):\n",
    "            return 2  # Joueur 2 gagne\n",
    "    \n",
    "    # Diagonales\n",
    "    if (plateau.trace() == 3) or (np.fliplr(plateau).trace() == 3):\n",
    "        return 1  # Joueur 1 gagne\n",
    "    if (plateau.trace() == 6) or (np.fliplr(plateau).trace() == 6):\n",
    "        return 2  # Joueur 2 gagne\n",
    "\n",
    "    # Pas de gagnant\n",
    "    return 0\n",
    "\n",
    "def plateau_plein(plateau):\n",
    "    \"\"\"Vérifie si le plateau est plein.\"\"\"\n",
    "    return not (plateau == 0).any()\n",
    "\n",
    "# Initialisation du plateau de jeu\n",
    "plateau = initialiser_plateau()\n",
    "plateau, coup_valide(plateau, 1, 1), jouer_coup(plateau, 1, 1, 1), verifier_gagnant(plateau), plateau_plein(plateau)\n"
   ]
  }
 ],
 "metadata": {
  "kernelspec": {
   "display_name": "Python 3",
   "language": "python",
   "name": "python3"
  },
  "language_info": {
   "codemirror_mode": {
    "name": "ipython",
    "version": 3
   },
   "file_extension": ".py",
   "mimetype": "text/x-python",
   "name": "python",
   "nbconvert_exporter": "python",
   "pygments_lexer": "ipython3",
   "version": "3.11.8"
  }
 },
 "nbformat": 4,
 "nbformat_minor": 2
}
