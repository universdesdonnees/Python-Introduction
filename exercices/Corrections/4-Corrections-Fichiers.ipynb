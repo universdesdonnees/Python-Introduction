{
 "cells": [
  {
   "cell_type": "markdown",
   "metadata": {},
   "source": [
    "## Exercice 1.  Journal Intime Numérique\n",
    "- Demander à l'utilisateur de saisir une entrée de journal.\n",
    "- Ouvrir un fichier en mode écriture.\n",
    "- Écrire l'entrée dans le fichier."
   ]
  },
  {
   "cell_type": "code",
   "execution_count": 3,
   "metadata": {},
   "outputs": [],
   "source": [
    "chemin_ecriture = \"../../data/mon_journal.txt\"\n",
    "\n",
    "new_entry_journal = str(input(\"Entrez votre pensée du jour : \"))\n",
    "\n",
    "with open(chemin_ecriture, 'w') as fichier:\n",
    "    fichier.write(new_entry_journal)\n"
   ]
  },
  {
   "cell_type": "markdown",
   "metadata": {},
   "source": [
    "## Exercice 2. Le Miroir de Texte\n",
    "- Ouvrir et lire le contenu d'un fichier texte quelconque\n",
    "- Inverser le contenu lu avec le slicing.\n",
    "- Écrire le contenu inversé dans un nouveau fichier."
   ]
  },
  {
   "cell_type": "code",
   "execution_count": 21,
   "metadata": {},
   "outputs": [],
   "source": [
    "with open(\"../../data/fichier_lu.txt\", 'r', encoding = 'utf-8') as fichier_lu, open(\"../../data/fichier_ecris.txt\", 'w', encoding = \"utf-8\") as fichier_ecris:\n",
    "    lu = fichier_lu.read()\n",
    "    fichier_ecris.write(lu[::-1])"
   ]
  },
  {
   "cell_type": "markdown",
   "metadata": {},
   "source": [
    "# Exercice 3. Gestion des étudiants\n",
    "## Fonction `saisir()`\n",
    "1. **Importation du module CSV** :\n",
    "   ```python\n",
    "   import csv\n",
    "   ```\n",
    "   Cette ligne importe le module `csv` qui est utilisé pour écrire les données dans un fichier CSV.\n",
    "\n",
    "2. **Définition de la fonction `saisir`** :\n",
    "   ```python\n",
    "   def saisir(nom_fichier):\n",
    "   ```\n",
    "   Cette fonction, nommée `saisir`, prend un argument `nom_fichier` qui sera utilisé pour nommer le fichier CSV dans lequel les données seront enregistrées.\n",
    "\n",
    "3. **Initialisation d'une liste `etudiants`** :\n",
    "   ```python\n",
    "   etudiants = []\n",
    "   ```\n",
    "   Une liste vide `etudiants` est créée pour stocker les informations de chaque étudiant.\n",
    "\n",
    "4. **Boucle pour saisir les informations des étudiants** :\n",
    "   ```python\n",
    "   while True:\n",
    "   ```\n",
    "   Une boucle infinie est utilisée pour continuer à demander des informations jusqu'à ce que l'utilisateur décide de s'arrêter.\n",
    "\n",
    "5. **Saisie des informations de chaque étudiant** :\n",
    "   Des informations comme le NCIN, le nom, le prénom, l'âge et la décision sont demandées à l'utilisateur. Des boucles et des vérifications sont effectuées pour s'assurer que l'âge est un entier positif et que la décision est soit \"admis\", soit \"non admis\".\n",
    "\n",
    "6. **Ajout des informations dans la liste `etudiants`** :\n",
    "   Chaque étudiant est stocké sous forme de dictionnaire dans la liste `etudiants`.\n",
    "\n",
    "7. **Option pour continuer ou arrêter la saisie** :\n",
    "   L'utilisateur est interrogé pour savoir s'il souhaite continuer à saisir des étudiants. Si l'utilisateur répond autre chose que \"oui\", la boucle s'arrête.\n",
    "\n",
    "8. **Écriture des informations dans un fichier CSV** :\n",
    "   Après avoir recueilli toutes les informations, le code ouvre (ou crée) le fichier spécifié par `nom_fichier` en mode écriture. Il utilise `csv.DictWriter` pour écrire les en-têtes de colonne (fieldnames) et les informations de chaque étudiant dans le fichier CSV.\n",
    "\n",
    "9. **Test de la fonction** :\n",
    "   La fonction `saisir` est appelée avec un chemin de fichier spécifié et la liste des étudiants saisie est imprimée.\n",
    "\n",
    "*Note : Le chemin `\"../../data/concours.txt\"` suppose que le fichier se trouve dans un dossier `data` deux niveaux au-dessus du dossier courant. Assurez-vous que le chemin est correct et accessible dans votre environnement de travail.*"
   ]
  },
  {
   "cell_type": "code",
   "execution_count": 20,
   "metadata": {},
   "outputs": [
    {
     "name": "stdout",
     "output_type": "stream",
     "text": [
      "[{'NCIN': 'GDHGDFH', 'Nom': 'FUGHYDFUHG', 'Prenom': 'IFHJSF', 'Age': 19, 'Decision': 'admis'}, {'NCIN': 'higfihfhg', 'Nom': 'ughfhg', 'Prenom': 'fdghdfhg', 'Age': 19, 'Decision': 'admis'}]\n"
     ]
    }
   ],
   "source": [
    "import csv \n",
    "\n",
    "def saisir(nom_fichier):\n",
    "    # Création d'une liste pour stocker les informations des étudiants\n",
    "    etudiants = []\n",
    "\n",
    "    while True:\n",
    "        # Saisie des informations de l'étudiant\n",
    "        ncin = input(\"Entrez le NCIN de l'étudiant : \")\n",
    "        nom = input(\"Entrez le nom de l'étudiant : \")\n",
    "        prenom = input(\"Entrez le prénom de l'étudiant : \")\n",
    "        while True:\n",
    "            try:\n",
    "                age = int(input(\"Entrez l'âge de l'étudiant : \"))\n",
    "                if age < 0:\n",
    "                    print(\"L'âge ne peut pas être négatif. Veuillez réessayer.\")\n",
    "                else:\n",
    "                    break\n",
    "            except ValueError:\n",
    "                print(\"Veuillez entrer un nombre valide pour l'âge.\")\n",
    "        while True:\n",
    "            decision = input(\"Entrez la décision (admis/non admis) : \").lower()\n",
    "            if decision not in [\"admis\", \"non admis\"]:\n",
    "                print(\"Veuillez entrer 'admis' ou 'non admis'.\")\n",
    "            else:\n",
    "                break\n",
    "\n",
    "        # Ajout des informations dans la liste\n",
    "        etudiants.append({\n",
    "            \"NCIN\": ncin,\n",
    "            \"Nom\": nom,\n",
    "            \"Prenom\": prenom,\n",
    "            \"Age\": age,\n",
    "            \"Decision\": decision\n",
    "        })\n",
    "\n",
    "        # Demander à l'utilisateur s'il souhaite continuer à saisir des étudiants\n",
    "        continuer = input(\"Voulez-vous saisir un autre étudiant ? (oui/non) : \")\n",
    "        if continuer.lower() != 'oui':\n",
    "            break\n",
    "\n",
    "    with open(nom_fichier, 'w', newline ='') as fichier:        \n",
    "        fieldnames = ['NCIN', 'Nom', 'Prenom', \"Age\", \"Decision\"]\n",
    "        etudiants_csv = csv.DictWriter(fichier, fieldnames = fieldnames)\n",
    "        etudiants_csv.writeheader()\n",
    "        for etudiant in etudiants:\n",
    "            etudiants_csv.writerow(etudiant)\n",
    "\n",
    "    return etudiants\n",
    "\n",
    "# Test de la fonction\n",
    "liste_etudiants = saisir(nom_fichier=\"../../data/concours.txt\")\n",
    "print(liste_etudiants)\n"
   ]
  },
  {
   "cell_type": "markdown",
   "metadata": {},
   "source": [
    "## Fonction `admis()`\n",
    "1. **Lire le fichier `concours.txt`** : Utilisez le module `csv` pour lire les données du fichier.\n",
    "\n",
    "2. **Sélectionner les étudiants admis** : Parcourez les lignes du fichier CSV et sélectionnez celles où le champ `Decision` est égal à \"admis\".\n",
    "\n",
    "3. **Écrire dans `admis.txt`** : Utilisez à nouveau le module `csv` pour écrire les informations des étudiants admis dans un nouveau fichier CSV."
   ]
  },
  {
   "cell_type": "code",
   "execution_count": 23,
   "metadata": {},
   "outputs": [
    {
     "name": "stdout",
     "output_type": "stream",
     "text": [
      "[{'NCIN': 'GDHGDFH', 'Nom': 'FUGHYDFUHG', 'Prenom': 'IFHJSF', 'Age': '19', 'Decision': 'admis'}, {'NCIN': 'higfihfhg', 'Nom': 'ughfhg', 'Prenom': 'fdghdfhg', 'Age': '19', 'Decision': 'admis'}]\n"
     ]
    }
   ],
   "source": [
    "def admis(fichier_source, fichier_destination):\n",
    "\n",
    "    etudiants_admis = []\n",
    "\n",
    "    # Lecture du fichier concours.txt\n",
    "    with open(fichier_source, 'r') as fichier:\n",
    "        lecteur_csv = csv.DictReader(fichier)\n",
    "        for ligne in lecteur_csv:\n",
    "            if ligne['Decision'] == 'admis':\n",
    "                etudiants_admis.append(ligne)\n",
    "\n",
    "    # Écriture dans le fichier admis.txt\n",
    "    with open(fichier_destination, 'w', newline='') as fichier:\n",
    "        if etudiants_admis:\n",
    "            fieldnames = etudiants_admis[0].keys()\n",
    "            ecrivain_csv = csv.DictWriter(fichier, fieldnames = fieldnames)\n",
    "            ecrivain_csv.writeheader()\n",
    "            for etudiant in etudiants_admis:\n",
    "                ecrivain_csv.writerow(etudiant)\n",
    "\n",
    "    return etudiants_admis\n",
    "\n",
    "# Test de la fonction\n",
    "etudiants_admis = admis(\"../../data/concours.txt\", \"../../data/admis.txt\")\n",
    "print(etudiants_admis)\n",
    "  "
   ]
  },
  {
   "cell_type": "markdown",
   "metadata": {},
   "source": [
    "## Fonction `attente()`\n",
    "\n",
    "1. **Lire le fichier `admis.txt`** : Utilisez le module `csv` pour lire les données.\n",
    "\n",
    "2. **Sélectionner les étudiants de moins de 30 ans** : Filtrez les étudiants en fonction de leur âge.\n",
    "\n",
    "3. **Écrire dans `attente.txt`** : Écrivez les informations sélectionnées (NCIN, NOM, PRENOM) de ces étudiants dans un nouveau fichier.\n",
    "\n"
   ]
  },
  {
   "cell_type": "code",
   "execution_count": 24,
   "metadata": {},
   "outputs": [
    {
     "name": "stdout",
     "output_type": "stream",
     "text": [
      "[{'NCIN': 'GDHGDFH', 'Nom': 'FUGHYDFUHG', 'Prenom': 'IFHJSF'}, {'NCIN': 'higfihfhg', 'Nom': 'ughfhg', 'Prenom': 'fdghdfhg'}]\n"
     ]
    }
   ],
   "source": [
    "def attente(fichier_source, fichier_destination):\n",
    "\n",
    "    etudiants_attente = []\n",
    "\n",
    "    # Lecture du fichier admis.txt\n",
    "    with open(fichier_source, 'r') as fichier:\n",
    "        lecteur_csv = csv.DictReader(fichier)\n",
    "        for ligne in lecteur_csv:\n",
    "            if int(ligne['Age']) < 30:\n",
    "                etudiants_attente.append({\n",
    "                    \"NCIN\": ligne['NCIN'],\n",
    "                    \"Nom\": ligne['Nom'],\n",
    "                    \"Prenom\": ligne['Prenom']\n",
    "                })\n",
    "\n",
    "    # Écriture dans le fichier attente.txt\n",
    "    with open(fichier_destination, 'w', newline='') as fichier:\n",
    "        if etudiants_attente:\n",
    "            fieldnames = ['NCIN', 'Nom', 'Prenom']\n",
    "            ecrivain_csv = csv.DictWriter(fichier, fieldnames=fieldnames)\n",
    "            ecrivain_csv.writeheader()\n",
    "            for etudiant in etudiants_attente:\n",
    "                ecrivain_csv.writerow(etudiant)\n",
    "\n",
    "    return etudiants_attente\n",
    "\n",
    "# Test de la fonction\n",
    "etudiants_en_attente = attente(\"../../data/admis.txt\", \"../../data/attente.txt\")\n",
    "print(etudiants_en_attente)\n"
   ]
  },
  {
   "cell_type": "markdown",
   "metadata": {},
   "source": [
    "## Fonction `statistiques(dec)`\n",
    "\n",
    "Pour implémenter la fonction `statistiques(dec)`, qui calcule le pourcentage d'étudiants ayant une certaine décision (`dec`) parmi le total des étudiants dans le fichier `concours.txt`, suivez ces étapes :\n",
    "\n",
    "1. **Parcourir `concours.txt`** : Lisez le fichier et comptez le nombre total d'étudiants ainsi que le nombre d'étudiants correspondant à la décision spécifiée.\n",
    "\n",
    "2. **Calculer le pourcentage** : Calculez le pourcentage en fonction des nombres obtenus.\n"
   ]
  },
  {
   "cell_type": "code",
   "execution_count": 26,
   "metadata": {},
   "outputs": [
    {
     "name": "stdout",
     "output_type": "stream",
     "text": [
      "Pourcentage d'étudiants admis : 100.0%\n"
     ]
    }
   ],
   "source": [
    "def statistiques(dec, fichier_source):\n",
    "    total_etudiants = 0\n",
    "    nombre_etudiants_dec = 0\n",
    "\n",
    "    # Lecture du fichier concours.txt\n",
    "    with open(fichier_source, 'r') as fichier:\n",
    "        lecteur_csv = csv.DictReader(fichier)\n",
    "        for ligne in lecteur_csv:\n",
    "            total_etudiants += 1\n",
    "            if ligne['Decision'] == dec:\n",
    "                nombre_etudiants_dec += 1\n",
    "\n",
    "    # Calcul du pourcentage\n",
    "    if total_etudiants > 0:\n",
    "        pourcentage = (nombre_etudiants_dec / total_etudiants) * 100\n",
    "    else:\n",
    "        pourcentage = 0\n",
    "\n",
    "    return pourcentage\n",
    "\n",
    "# Test de la fonction\n",
    "pourcentage_admis = statistiques(\"admis\",\"../../data/concours.txt\")\n",
    "print(f\"Pourcentage d'étudiants admis : {pourcentage_admis}%\")\n"
   ]
  },
  {
   "cell_type": "markdown",
   "metadata": {},
   "source": [
    "## Fonction `supprimer()`\n",
    "\n",
    "1. **Lire le fichier `admis.txt`** : Utilisez le module `csv` pour lire les données.\n",
    "\n",
    "2. **Filtrer les étudiants** : Sélectionnez uniquement les étudiants de 30 ans ou moins.\n",
    "\n",
    "3. **Réécrire `admis.txt`** : Écrivez les informations des étudiants filtrés dans le fichier."
   ]
  },
  {
   "cell_type": "code",
   "execution_count": 27,
   "metadata": {},
   "outputs": [],
   "source": [
    "def supprimer(fichier_source):\n",
    "    etudiants_conservés = []\n",
    "\n",
    "    # Lecture du fichier admis.txt\n",
    "    with open(fichier_source, 'r') as fichier:\n",
    "        lecteur_csv = csv.DictReader(fichier)\n",
    "        for ligne in lecteur_csv:\n",
    "            if int(ligne['Age']) <= 30:\n",
    "                etudiants_conservés.append(ligne)\n",
    "\n",
    "    # Réécriture du fichier admis.txt avec les étudiants de 30 ans ou moins\n",
    "    with open(fichier_source, 'w', newline='') as fichier:\n",
    "        if etudiants_conservés:\n",
    "            fieldnames = etudiants_conservés[0].keys()\n",
    "            ecrivain_csv = csv.DictWriter(fichier, fieldnames=fieldnames)\n",
    "            ecrivain_csv.writeheader()\n",
    "            for etudiant in etudiants_conservés:\n",
    "                ecrivain_csv.writerow(etudiant)\n",
    "\n",
    "# Test de la fonction\n",
    "supprimer(\"../../data/admis.txt\")"
   ]
  }
 ],
 "metadata": {
  "kernelspec": {
   "display_name": "Python 3",
   "language": "python",
   "name": "python3"
  },
  "language_info": {
   "codemirror_mode": {
    "name": "ipython",
    "version": 3
   },
   "file_extension": ".py",
   "mimetype": "text/x-python",
   "name": "python",
   "nbconvert_exporter": "python",
   "pygments_lexer": "ipython3",
   "version": "3.11.8"
  }
 },
 "nbformat": 4,
 "nbformat_minor": 2
}
