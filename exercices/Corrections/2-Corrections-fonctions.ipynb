{
 "cells": [
  {
   "cell_type": "markdown",
   "metadata": {},
   "source": [
    "# Exercices fonctions\n",
    "##  Exercice 1 : Pyramide de symboles\n",
    "\n",
    "A partir d'une variable 'symbole' et une variable 'taille', créez une pyramide avec ce symbole, de la hauteur du nombre contenu dans la variable 'taille'.\n",
    "\n",
    "Dans cet exemple-ci, nous allons donc afficher une pyramide de dollars ($) de hauteur 10.\n",
    "\n",
    "Votre script devra donc afficher :\n",
    "\n",
    "         $ \n",
    "        $ $ \n",
    "       $ $ $ \n",
    "      $ $ $ $ \n",
    "     $ $ $ $ $ \n",
    "    $ $ $ $ $ $ \n",
    "   $ $ $ $ $ $ $ \n",
    "  $ $ $ $ $ $ $ $ \n",
    " $ $ $ $ $ $ $ $ $ \n",
    "$ $ $ $ $ $ $ $ $ $"
   ]
  },
  {
   "cell_type": "code",
   "execution_count": 1,
   "metadata": {},
   "outputs": [
    {
     "name": "stdout",
     "output_type": "stream",
     "text": [
      "         $\n",
      "        $$$\n",
      "       $$$$$\n",
      "      $$$$$$$\n",
      "     $$$$$$$$$\n",
      "    $$$$$$$$$$$\n",
      "   $$$$$$$$$$$$$\n",
      "  $$$$$$$$$$$$$$$\n",
      " $$$$$$$$$$$$$$$$$\n"
     ]
    }
   ],
   "source": [
    "def pyramide(symbole, taille):\n",
    "    i = 1\n",
    "    while i < taille:\n",
    "        espaces = ' ' * (taille - i)\n",
    "        symboles = symbole * (2 * i - 1)\n",
    "        print(espaces + symboles)\n",
    "        i += 1\n",
    "\n",
    "pyramide(\"$\", 10)"
   ]
  },
  {
   "cell_type": "markdown",
   "metadata": {},
   "source": [
    "## Exercice 2 : Cumul des Valeurs d'une Liste\n",
    "\n",
    "Vous devez créer une fonction `cumul_valeurs(liste)` qui prend une liste de nombres en paramètre et retourne une nouvelle liste. Chaque élément de cette nouvelle liste est la somme de tous les éléments précédents de la liste originale (y compris l'élément actuel).\n",
    "\n",
    "1. Si la liste en entrée est vide, retournez une liste vide.\n",
    "2. Si la liste contient des éléments, chaque élément de la liste de sortie doit être la somme cumulative des éléments de la liste d'entrée jusqu'à cet index.\n",
    "3. Vous ne devez pas modifier la liste originale.\n",
    "\n",
    "Exemple :\n",
    "\n",
    "- Entrée : `[1, 2, 3, 4]`\n",
    "- Sortie : `[1, 3, 6, 10]`\n"
   ]
  },
  {
   "cell_type": "code",
   "execution_count": 30,
   "metadata": {},
   "outputs": [
    {
     "data": {
      "text/plain": [
       "[1, 3, 6, 10]"
      ]
     },
     "execution_count": 30,
     "metadata": {},
     "output_type": "execute_result"
    }
   ],
   "source": [
    "def cumul_valeur(L):\n",
    "    newlist = [L[0]]\n",
    "    for i in range(1, len(L)):\n",
    "        newlist.append(newlist[i-1] + L[i])\n",
    "    return newlist\n",
    "\n",
    "cumul_valeur(L = [1, 2, 3, 4])"
   ]
  },
  {
   "cell_type": "markdown",
   "metadata": {},
   "source": [
    "## Exercice 3 : Statistiques des Salaires et Primes\n",
    "\n",
    "Vous travaillez dans une entreprise où chaque salarié reçoit un salaire mensuel et une prime. Votre tâche est d'analyser les données des salaires et des primes pour trouver :\n",
    "\n",
    "1. Les salariés qui ont un salaire d'au moins 3000 euros par mois.\n",
    "2. Les salariés qui ont reçu une prime d'au moins 250 euros ce mois-ci.\n",
    "3. Les salariés dont la prime représente au moins 6% de leur salaire.\n",
    "\n",
    "Définissez la fonction statistiques_salaires(personnes, salaires, primes).\n",
    "\n",
    "Données en Entrée\n",
    "\n",
    "- `personnes` : Liste des noms des salariés.\n",
    "- `salaires` : Liste des salaires mensuels des salariés (en euros).\n",
    "- `primes` : Liste des primes mensuelles des salariés (en euros).\n",
    "\n",
    "Sorties Attendues\n",
    "\n",
    "- Liste des salariés avec un salaire d'au moins 3000 euros.\n",
    "- Liste des salariés avec une prime d'au moins 250 euros.\n",
    "- Liste des salariés dont la prime est au moins 6% de leur salaire.\n"
   ]
  },
  {
   "cell_type": "code",
   "execution_count": 1,
   "metadata": {},
   "outputs": [],
   "source": [
    "def statistiques_salaires(personnes, salaires, primes):\n",
    "    salaires_3000 = []\n",
    "    prime_sup_250 = []\n",
    "    prime_6_salaire = []\n",
    "    for p in range(0, len(personnes)):\n",
    "        if salaires[p] >= 3000:\n",
    "            salaires_3000.append(personnes[p])\n",
    "        if primes[p] >= 250:\n",
    "            prime_sup_250.append(personnes[p])\n",
    "        if (primes[p] / salaires[p] * 100) >= 6:\n",
    "            prime_6_salaire.append(personnes[p])\n",
    "    return salaires_3000, prime_sup_250, prime_6_salaire\n",
    "\n",
    "# Liste des noms des salariés\n",
    "personnes = [\"Alice\", \"Bob\", \"Charlie\", \"Diana\", \"Ethan\", \"Fiona\", \"George\"]\n",
    "\n",
    "# Correspondant à chaque salarié, leur salaire mensuel\n",
    "salaires = [3200, 2900, 3050, 2700, 4200, 2500, 3800]\n",
    "\n",
    "# Correspondant à chaque salarié, leur prime mensuelle\n",
    "primes = [200, 300, 180, 350, 400, 260, 500]\n",
    "\n",
    "a, b, c = statistiques_salaires( personnes, salaires, primes)"
   ]
  },
  {
   "cell_type": "code",
   "execution_count": 2,
   "metadata": {},
   "outputs": [
    {
     "data": {
      "text/plain": [
       "['Alice', 'Charlie', 'Ethan', 'George']"
      ]
     },
     "execution_count": 2,
     "metadata": {},
     "output_type": "execute_result"
    }
   ],
   "source": [
    "a"
   ]
  },
  {
   "cell_type": "code",
   "execution_count": 3,
   "metadata": {},
   "outputs": [
    {
     "data": {
      "text/plain": [
       "['Bob', 'Diana', 'Ethan', 'Fiona', 'George']"
      ]
     },
     "execution_count": 3,
     "metadata": {},
     "output_type": "execute_result"
    }
   ],
   "source": [
    "b"
   ]
  },
  {
   "cell_type": "code",
   "execution_count": 4,
   "metadata": {},
   "outputs": [
    {
     "data": {
      "text/plain": [
       "['Alice', 'Bob', 'Diana', 'Ethan', 'Fiona', 'George']"
      ]
     },
     "execution_count": 4,
     "metadata": {},
     "output_type": "execute_result"
    }
   ],
   "source": [
    "c"
   ]
  },
  {
   "cell_type": "code",
   "execution_count": 6,
   "metadata": {},
   "outputs": [
    {
     "data": {
      "text/plain": [
       "(['Alice', 'Charlie', 'Ethan', 'George'],\n",
       " ['Bob', 'Diana', 'Ethan', 'Fiona', 'George'],\n",
       " ['Alice', 'Bob', 'Diana', 'Ethan', 'Fiona', 'George'])"
      ]
     },
     "execution_count": 6,
     "metadata": {},
     "output_type": "execute_result"
    }
   ],
   "source": [
    "def statistiques_salaires_dictionnaire(donnees):\n",
    "    salaires_3000 = []\n",
    "    prime_sup_250 = []\n",
    "    prime_6_salaire = []\n",
    "\n",
    "    for personne, valeurs in donnees.items():\n",
    "        if valeurs['salaire'] >= 3000:\n",
    "            salaires_3000.append(personne)\n",
    "        if valeurs['prime'] >= 250:\n",
    "            prime_sup_250.append(personne)\n",
    "        if (valeurs['prime'] / valeurs['salaire'] * 100) >= 6:\n",
    "            prime_6_salaire.append(personne)\n",
    "\n",
    "    return salaires_3000, prime_sup_250, prime_6_salaire\n",
    "\n",
    "# Construction du dictionnaire avec les données\n",
    "donnees_employes = {\n",
    "    \"Alice\": {\"salaire\": 3200, \"prime\": 200},\n",
    "    \"Bob\": {\"salaire\": 2900, \"prime\": 300},\n",
    "    \"Charlie\": {\"salaire\": 3050, \"prime\": 180},\n",
    "    \"Diana\": {\"salaire\": 2700, \"prime\": 350},\n",
    "    \"Ethan\": {\"salaire\": 4200, \"prime\": 400},\n",
    "    \"Fiona\": {\"salaire\": 2500, \"prime\": 260},\n",
    "    \"George\": {\"salaire\": 3800, \"prime\": 500}\n",
    "}\n",
    "\n",
    "# Appel de la fonction modifiée avec le dictionnaire unique\n",
    "a, b, c = statistiques_salaires_dictionnaire(donnees_employes)\n",
    "a, b, c\n"
   ]
  }
 ],
 "metadata": {
  "kernelspec": {
   "display_name": "Python 3 (ipykernel)",
   "language": "python",
   "name": "python3"
  },
  "language_info": {
   "codemirror_mode": {
    "name": "ipython",
    "version": 3
   },
   "file_extension": ".py",
   "mimetype": "text/x-python",
   "name": "python",
   "nbconvert_exporter": "python",
   "pygments_lexer": "ipython3",
   "version": "3.11.8"
  }
 },
 "nbformat": 4,
 "nbformat_minor": 2
}
