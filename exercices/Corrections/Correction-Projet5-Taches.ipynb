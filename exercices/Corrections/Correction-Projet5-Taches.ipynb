{
 "cells": [
  {
   "cell_type": "code",
   "execution_count": null,
   "metadata": {},
   "outputs": [],
   "source": [
    "# Fonction pour ajouter une tâche à la liste\n",
    "def ajouter_tache(liste_taches):\n",
    "    try:\n",
    "        description = input(\"Entrez la description de la tâche : \")\n",
    "        date_echeance = input(\"Entrez la date d'échéance de la tâche : \")\n",
    "        tache = {\"description\": description, \"date_echeance\": date_echeance}\n",
    "        liste_taches.append(tache)\n",
    "        print(\"Tâche ajoutée avec succès !\")\n",
    "    except Exception as e:\n",
    "        print(f\"Erreur lors de l'ajout de la tâche : {e}\")"
   ]
  },
  {
   "cell_type": "code",
   "execution_count": null,
   "metadata": {},
   "outputs": [],
   "source": [
    "# Fonction pour afficher toutes les tâches\n",
    "def afficher_taches(liste_taches):\n",
    "    try:\n",
    "        if not liste_taches:\n",
    "            print(\"Aucune tâche à afficher.\")\n",
    "        else:\n",
    "            print(\"Liste des tâches :\")\n",
    "            for i, tache in enumerate(liste_taches, start=1):\n",
    "                print(f\"{i}. Description : {tache['description']}, Date d'échéance : {tache['date_echeance']}\")\n",
    "    except Exception as e:\n",
    "        print(f\"Erreur lors de l'affichage des tâches : {e}\")"
   ]
  },
  {
   "cell_type": "code",
   "execution_count": null,
   "metadata": {},
   "outputs": [],
   "source": [
    "# Fonction pour mettre à jour une tâche\n",
    "def mettre_a_jour_tache(liste_taches):\n",
    "    try:\n",
    "        if not liste_taches:\n",
    "            print(\"Aucune tâche à mettre à jour.\")\n",
    "            return\n",
    "\n",
    "        afficher_taches(liste_taches)\n",
    "        choix = int(input(\"Choisissez le numéro de la tâche à mettre à jour : \")) - 1\n",
    "        if 0 <= choix < len(liste_taches):\n",
    "            description = input(\"Entrez la nouvelle description (laissez vide pour garder la même) : \")\n",
    "            if description:\n",
    "                liste_taches[choix][\"description\"] = description\n",
    "            date_echeance = input(\"Entrez la nouvelle date d'échéance (laissez vide pour garder la même) : \")\n",
    "            if date_echeance:\n",
    "                liste_taches[choix][\"date_echeance\"] = date_echeance\n",
    "            print(\"Tâche mise à jour avec succès !\")\n",
    "        else:\n",
    "            print(\"Numéro de tâche invalide.\")\n",
    "    except ValueError:\n",
    "        print(\"Veuillez entrer un numéro valide.\")\n",
    "    except Exception as e:\n",
    "        print(f\"Erreur lors de la mise à jour de la tâche : {e}\")"
   ]
  },
  {
   "cell_type": "code",
   "execution_count": null,
   "metadata": {},
   "outputs": [],
   "source": [
    "# Fonction pour supprimer une tâche\n",
    "def supprimer_tache(liste_taches):\n",
    "    try:\n",
    "        if not liste_taches:\n",
    "            print(\"Aucune tâche à supprimer.\")\n",
    "            return\n",
    "\n",
    "        afficher_taches(liste_taches)\n",
    "        choix = int(input(\"Choisissez le numéro de la tâche à supprimer : \")) - 1\n",
    "        if 0 <= choix < len(liste_taches):\n",
    "            del liste_taches[choix]\n",
    "            print(\"Tâche supprimée avec succès !\")\n",
    "        else:\n",
    "            print(\"Numéro de tâche invalide.\")\n",
    "    except ValueError:\n",
    "        print(\"Veuillez entrer un numéro valide.\")\n",
    "    except Exception as e:\n",
    "        print(f\"Erreur lors de la suppression de la tâche : {e}\")"
   ]
  },
  {
   "cell_type": "code",
   "execution_count": null,
   "metadata": {},
   "outputs": [],
   "source": [
    "# Fonction principale\n",
    "def gestionnaire_taches():\n",
    "    try:\n",
    "        taches = []\n",
    "        while True:\n",
    "            print(\"\\nQue voulez-vous faire ?\")\n",
    "            print(\"1. Ajouter une tâche\")\n",
    "            print(\"2. Afficher les tâches\")\n",
    "            print(\"3. Mettre à jour une tâche\")\n",
    "            print(\"4. Supprimer une tâche\")\n",
    "            print(\"5. Quitter\")\n",
    "            choix = input(\"Entrez votre choix : \")\n",
    "            if choix == \"1\":\n",
    "                ajouter_tache(taches)\n",
    "            elif choix == \"2\":\n",
    "                afficher_taches(taches)\n",
    "            elif choix == \"3\":\n",
    "                mettre_a_jour_tache(taches)\n",
    "            elif choix == \"4\":\n",
    "                supprimer_tache(taches)\n",
    "            elif choix == \"5\":\n",
    "                print(\"Merci d'avoir utilisé le gestionnaire de tâches. Au revoir !\")\n",
    "                break\n",
    "            else:\n",
    "                print(\"Choix invalide. Veuillez choisir une option valide.\")\n",
    "    except Exception as e:\n",
    "        print(f\"Une erreur inattendue s'est produite : {e}\")"
   ]
  },
  {
   "cell_type": "code",
   "execution_count": null,
   "metadata": {},
   "outputs": [],
   "source": [
    "# Appel de la fonction principale\n",
    "gestionnaire_taches()"
   ]
  }
 ],
 "metadata": {
  "kernelspec": {
   "display_name": "Python 3 (ipykernel)",
   "language": "python",
   "name": "python3"
  },
  "language_info": {
   "codemirror_mode": {
    "name": "ipython",
    "version": 3
   },
   "file_extension": ".py",
   "mimetype": "text/x-python",
   "name": "python",
   "nbconvert_exporter": "python",
   "pygments_lexer": "ipython3",
   "version": "3.11.8"
  }
 },
 "nbformat": 4,
 "nbformat_minor": 2
}
