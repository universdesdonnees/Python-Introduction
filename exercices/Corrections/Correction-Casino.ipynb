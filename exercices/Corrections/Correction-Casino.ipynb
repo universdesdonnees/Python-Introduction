{
 "cells": [
  {
   "cell_type": "markdown",
   "metadata": {},
   "source": [
    "# Explication du Script de Jeu de Casino en Python\n",
    "\n",
    "Ce script Python est un jeu de casino simplifié où l'utilisateur parie sur le résultat d'un lancer de dé. Voici un détail de son fonctionnement :\n",
    "\n",
    "## Importation du Module\n",
    "```python\n",
    "import random\n",
    "\n",
    "```\n",
    "- Importe le module `random`, utilisé pour générer des nombres aléatoires.\n",
    "\n",
    "## Fonction `casino()`\n",
    "```python\n",
    "def casino():\n",
    "   \n",
    "```\n",
    "- Définit la fonction principale `casino` qui exécute le jeu.\n",
    "\n",
    "### Accueil et Initialisation de l'Argent\n",
    "- **Message de bienvenue** : Affiche un message accueillant l'utilisateur au jeu.\n",
    "- **Initialisation de l'argent** : Demande à l'utilisateur d'entrer la somme d'argent disponible pour jouer. Si la valeur entrée n'est pas un nombre valide, affiche un message d'erreur et termine la fonction.\n",
    "\n",
    "### Boucle de Jeu\n",
    "Tant que l'utilisateur a de l'argent (`argent_actuel > 0`) :\n",
    "\n",
    "1. **Affichage du Solde** : Montre le solde actuel de l'utilisateur.\n",
    "2. **Prise de la Mise** :\n",
    "   - Demande à l'utilisateur d'entrer une mise.\n",
    "   - Vérifie si la mise est valide (supérieure à 1$ et inférieure ou égale à l'argent actuel). Sinon, demande une nouvelle mise.\n",
    "3. **Choix du Numéro** :\n",
    "   - Demande à l'utilisateur de choisir un numéro entre 1 et 6.\n",
    "   - Vérifie si le numéro est valide. Sinon, demande un nouveau numéro.\n",
    "4. **Lancer de Dé** :\n",
    "   - Génère un nombre aléatoire entre 1 et 6 pour simuler le lancer de dé.\n",
    "   - Affiche le résultat du dé.\n",
    "5. **Résultat du Jeu** :\n",
    "   - Si le numéro choisi correspond au résultat du dé, l'utilisateur gagne le double de sa mise.\n",
    "   - Sinon, l'utilisateur perd trois fois sa mise.\n",
    "6. **Décision de Continuer** :\n",
    "   - Demande à l'utilisateur s'il souhaite continuer à jouer.\n",
    "   - Si la réponse n'est pas \"oui\", termine la boucle.\n",
    "\n",
    "### Fin du Jeu\n",
    "- Affiche un message de remerciement et montre le solde final de l'utilisateur.\n"
   ]
  },
  {
   "cell_type": "code",
   "execution_count": null,
   "metadata": {},
   "outputs": [
    {
     "name": "stdout",
     "output_type": "stream",
     "text": [
      "Bienvenue au jeu de dés du Casino!\n",
      "Entrez la somme d'argent que vous avez pour jouer : 100\n",
      "Votre solde actuel est de 100.0 $\n",
      "Choissisez votre numéro (entre 1 et 6 compris) : 3\n",
      "Entrez votre mise (min 1$) : 10\n",
      "Le dé a donné un résultat de 2.\n",
      "Dommage, vous avez perdu trois fois votre mise.\n"
     ]
    }
   ],
   "source": [
    "import random\n",
    "\n",
    "def casino():\n",
    "    print(\"Bienvenue au jeu de dés du Casino!\")\n",
    "    \n",
    "    argent_initial = float(input(\"Entrez la somme d'argent que vous avez pour jouer : \"))\n",
    "    argent_actuel = argent_initial\n",
    "\n",
    "    while argent_actuel > 0:\n",
    "        print(f\"Votre solde actuel est de {argent_actuel} $\")\n",
    "        \n",
    "        numero_mise = 0\n",
    "        while numero_mise < 1 or numero_mise > 6:\n",
    "            numero_mise = float(input(\"Choissisez votre numéro (entre 1 et 6 compris) : \"))\n",
    "            if numero_mise < 1 or numero_mise > 6:\n",
    "                print(\"Numéro invalide. Veuillez entrer un numéro valide.\")\n",
    "\n",
    "        mise = 0\n",
    "        while mise < 1 or mise > argent_actuel:\n",
    "            mise = float(input(\"Entrez votre mise (min 1$) : \"))\n",
    "            if mise < 1 or mise > argent_actuel:\n",
    "                print(\"Mise invalide. Veuillez entrer une mise valide.\")\n",
    "\n",
    "        resultat_lancer = random.randint(1, 6)\n",
    "        print(f\"Le dé a donné un résultat de {resultat_lancer}.\")\n",
    "\n",
    "        if resultat_lancer == numero_mise:\n",
    "            argent_actuel += 2 * mise\n",
    "            print(\"Félicitations ! Vous avez gagné votre mise.\")\n",
    "        else:\n",
    "            argent_actuel -= 3 * mise\n",
    "            print(\"Dommage, vous avez perdu trois fois votre mise.\")\n",
    "\n",
    "        continuer = input(\"Voulez-vous continuer à jouer ? (Oui/Non) : \").strip().lower()\n",
    "        if continuer == \"non\":\n",
    "            break\n",
    "\n",
    "    print(f\"Merci d'avoir joué ! Votre solde final est de {argent_actuel} $.\")\n",
    "\n",
    "casino()\n"
   ]
  },
  {
   "cell_type": "markdown",
   "metadata": {},
   "source": [
    "## Amélioration avec des exceptions\n",
    "\n",
    "### Exécution Principale\n",
    "```python\n",
    "if __name__ == \"__main__\":\n",
    "    casino()\n",
    "```\n",
    "- Vérifie si le script est exécuté directement (pas importé comme module) et lance la fonction `casino`."
   ]
  },
  {
   "cell_type": "code",
   "execution_count": 9,
   "metadata": {},
   "outputs": [
    {
     "name": "stdout",
     "output_type": "stream",
     "text": [
      "Bienvenue au jeu de dés du Casino!\n",
      "Votre solde actuel est de 10.0 $\n",
      "Numéro invalide. Le numéro doit être entre 1 et 6.\n",
      "Votre solde actuel est de 10.0 $\n",
      "Mise invalide. Veuillez entrer une mise valide.\n",
      "Votre solde actuel est de 10.0 $\n",
      "Mise invalide. Veuillez entrer une mise valide.\n",
      "Votre solde actuel est de 10.0 $\n",
      "Numéro invalide. Le numéro doit être entre 1 et 6.\n",
      "Votre solde actuel est de 10.0 $\n",
      "Le dé a donné un résultat de 1.\n",
      "Dommage, vous avez perdu trois fois votre mise.\n",
      "Votre solde actuel est de 7.0 $\n",
      "Veuillez entrer un nombre entier valide.\n",
      "Votre solde actuel est de 7.0 $\n",
      "Veuillez entrer un nombre entier valide.\n",
      "Votre solde actuel est de 7.0 $\n",
      "Veuillez entrer un nombre entier valide.\n",
      "Votre solde actuel est de 7.0 $\n",
      "Veuillez entrer un nombre entier valide.\n",
      "Votre solde actuel est de 7.0 $\n",
      "Le dé a donné un résultat de 5.\n",
      "Dommage, vous avez perdu trois fois votre mise.\n",
      "Merci d'avoir joué ! Votre solde final est de 4.0 $.\n"
     ]
    }
   ],
   "source": [
    "import random\n",
    "\n",
    "def demander_argent_initial():\n",
    "    try:\n",
    "        argent_initial = float(input(\"Entrez la somme d'argent que vous avez pour jouer : \"))\n",
    "        if argent_initial < 10:\n",
    "            return demander_argent_initial()\n",
    "        else :\n",
    "            return argent_initial\n",
    "    except ValueError:\n",
    "        print(\"Veuillez entrer un montant valide.\")\n",
    "        return demander_argent_initial()  \n",
    "\n",
    "def casino():\n",
    "    print(\"Bienvenue au jeu de dés du Casino!\")\n",
    "    \n",
    "    argent_initial = demander_argent_initial()\n",
    "    argent_actuel = argent_initial\n",
    "\n",
    "    while argent_actuel > 0:\n",
    "        print(f\"Votre solde actuel est de {argent_actuel} $\")\n",
    "        \n",
    "        try:\n",
    "            numero_mise = int(input(\"Choisissez votre numéro (entre 1 et 6 compris) : \"))\n",
    "            if numero_mise < 1 or numero_mise > 6:\n",
    "                print(\"Numéro invalide. Veuillez entrer un numéro valide.\")\n",
    "        except ValueError:\n",
    "            print(\"Veuillez entrer un nombre entier valide.\")\n",
    "            continue\n",
    "\n",
    "        try:\n",
    "            mise = int(input(\"Entrez votre mise (min 1$) : \"))\n",
    "            if mise < 1 or mise > argent_actuel:\n",
    "                print(\"Mise invalide. Veuillez entrer une mise valide.\")\n",
    "                continue\n",
    "        except ValueError:\n",
    "            print(\"Veuillez entrer une mise valide.\")\n",
    "            continue\n",
    "        \n",
    "        resultat_lancer = random.randint(1, 6)\n",
    "        print(f\"Le dé a donné un résultat de {resultat_lancer}.\")\n",
    "\n",
    "        if resultat_lancer == numero_mise:\n",
    "            argent_actuel += 2 * mise\n",
    "            print(\"Félicitations ! Vous avez gagné votre mise.\")\n",
    "        else:\n",
    "            argent_actuel -= 3 * mise\n",
    "            print(\"Dommage, vous avez perdu trois fois votre mise.\")\n",
    "\n",
    "        continuer = input(\"Voulez-vous continuer à jouer ? (Oui/Non) : \").strip().lower()\n",
    "        if continuer == \"non\":\n",
    "            break\n",
    "\n",
    "    print(f\"Merci d'avoir joué ! Votre solde final est de {argent_actuel} $.\")\n",
    "    \n",
    "# if __name__ == \"__main__\":\n",
    "casino()\n"
   ]
  },
  {
   "cell_type": "code",
   "execution_count": 11,
   "metadata": {},
   "outputs": [],
   "source": [
    "def nom():\n",
    "    prenom = input(\"Nom :\")\n",
    "    if prenom == \"Ményssa\":\n",
    "        return f'ok'\n",
    "    else:\n",
    "        nom()\n",
    "\n",
    "\n",
    "nom()"
   ]
  },
  {
   "cell_type": "code",
   "execution_count": 18,
   "metadata": {},
   "outputs": [
    {
     "data": {
      "text/plain": [
       "False"
      ]
     },
     "execution_count": 18,
     "metadata": {},
     "output_type": "execute_result"
    }
   ],
   "source": [
    "3 in [1, 8, 10]"
   ]
  },
  {
   "cell_type": "code",
   "execution_count": 16,
   "metadata": {},
   "outputs": [
    {
     "ename": "IndexError",
     "evalue": "list index out of range",
     "output_type": "error",
     "traceback": [
      "\u001b[1;31m---------------------------------------------------------------------------\u001b[0m",
      "\u001b[1;31mIndexError\u001b[0m                                Traceback (most recent call last)",
      "Cell \u001b[1;32mIn[16], line 15\u001b[0m\n\u001b[0;32m     12\u001b[0m         droite \u001b[38;5;241m=\u001b[39m liste[m:\u001b[38;5;28mlen\u001b[39m(liste)\u001b[38;5;241m-\u001b[39m\u001b[38;5;241m1\u001b[39m]\n\u001b[0;32m     13\u001b[0m         \u001b[38;5;28;01mreturn\u001b[39;00m rd(droite)\n\u001b[1;32m---> 15\u001b[0m \u001b[43mrd\u001b[49m\u001b[43m(\u001b[49m\u001b[43mliste\u001b[49m\u001b[38;5;241;43m=\u001b[39;49m\u001b[43mliste\u001b[49m\u001b[43m,\u001b[49m\u001b[43m \u001b[49m\u001b[43me\u001b[49m\u001b[43m \u001b[49m\u001b[38;5;241;43m=\u001b[39;49m\u001b[43m \u001b[49m\u001b[38;5;241;43m10\u001b[39;49m\u001b[43m)\u001b[49m\n",
      "Cell \u001b[1;32mIn[16], line 8\u001b[0m, in \u001b[0;36mrd\u001b[1;34m(liste, e)\u001b[0m\n\u001b[0;32m      5\u001b[0m liste \u001b[38;5;241m=\u001b[39m \u001b[38;5;28msorted\u001b[39m(liste)\n\u001b[0;32m      6\u001b[0m m \u001b[38;5;241m=\u001b[39m \u001b[38;5;28mlen\u001b[39m(liste)\u001b[38;5;241m/\u001b[39m\u001b[38;5;241m/\u001b[39m\u001b[38;5;241m2\u001b[39m\n\u001b[1;32m----> 8\u001b[0m \u001b[38;5;28;01mif\u001b[39;00m \u001b[43mliste\u001b[49m\u001b[43m[\u001b[49m\u001b[43me\u001b[49m\u001b[43m]\u001b[49m \u001b[38;5;241m<\u001b[39m liste[m]:\n\u001b[0;32m      9\u001b[0m     gauche \u001b[38;5;241m=\u001b[39m liste[\u001b[38;5;241m0\u001b[39m:m]\n\u001b[0;32m     10\u001b[0m     \u001b[38;5;28;01mreturn\u001b[39;00m rd(gauche)\n",
      "\u001b[1;31mIndexError\u001b[0m: list index out of range"
     ]
    }
   ],
   "source": [
    "def recherche_dichotomique(liste, e):\n",
    "\n",
    "    fin = len(liste) - 1\n",
    "    debut = 0\n",
    "    liste.sort()\n",
    "\n",
    "    if debut <= fin:\n",
    "        m = (debut + fin) // 2\n",
    "        if liste[m] == e:\n",
    "            return m  \n",
    "        elif liste[m] > e:\n",
    "\n",
    "            return recherche_dichotomique(liste, e, debut, m-1)\n",
    "\n",
    "\n",
    "# Exemple d'utilisation\n",
    "liste = [7, 9, 10, 100, 7, 3]\n",
    "e = 10\n",
    "index = recherche_dichotomique(liste, e)\n",
    "print(f\"L'élément {e} est à l'index {index}.\" if index != -1 else \"L'élément n'a pas été trouvé.\")\n"
   ]
  },
  {
   "cell_type": "code",
   "execution_count": 13,
   "metadata": {},
   "outputs": [
    {
     "data": {
      "text/plain": [
       "3"
      ]
     },
     "execution_count": 13,
     "metadata": {},
     "output_type": "execute_result"
    }
   ],
   "source": []
  },
  {
   "cell_type": "code",
   "execution_count": null,
   "metadata": {},
   "outputs": [],
   "source": []
  },
  {
   "cell_type": "code",
   "execution_count": null,
   "metadata": {},
   "outputs": [],
   "source": []
  }
 ],
 "metadata": {
  "kernelspec": {
   "display_name": "Python 3 (ipykernel)",
   "language": "python",
   "name": "python3"
  },
  "language_info": {
   "codemirror_mode": {
    "name": "ipython",
    "version": 3
   },
   "file_extension": ".py",
   "mimetype": "text/x-python",
   "name": "python",
   "nbconvert_exporter": "python",
   "pygments_lexer": "ipython3",
   "version": "3.11.8"
  }
 },
 "nbformat": 4,
 "nbformat_minor": 2
}
