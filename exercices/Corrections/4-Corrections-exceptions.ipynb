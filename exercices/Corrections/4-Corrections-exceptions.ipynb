{
 "cells": [
  {
   "cell_type": "markdown",
   "metadata": {},
   "source": [
    "# Exercices exceptions\n",
    "\n",
    "##  Exercice 1: Distributeur de boissons\n",
    "\n",
    "Créez une fonction qui simule un distributeur de boissons. L'utilisateur saisit son choix de boisson. Si le choix n'est pas disponible, levez une `KeyError`. \n",
    "\n",
    "Gérez cette exception en informant l'utilisateur que son choix n'est pas disponible."
   ]
  },
  {
   "cell_type": "code",
   "execution_count": 4,
   "metadata": {},
   "outputs": [
    {
     "data": {
      "text/plain": [
       "1.5"
      ]
     },
     "execution_count": 4,
     "metadata": {},
     "output_type": "execute_result"
    }
   ],
   "source": [
    "boissons_disponibles = {\n",
    "        'Coca': 1.50,\n",
    "        'Eau': 1.00,\n",
    "        'Fanta': 2.00\n",
    "}\n",
    "boissons_disponibles['Coca']"
   ]
  },
  {
   "cell_type": "code",
   "execution_count": 5,
   "metadata": {},
   "outputs": [
    {
     "name": "stdout",
     "output_type": "stream",
     "text": [
      "Entrez votre choix de boisson: Pepsi\n"
     ]
    },
    {
     "data": {
      "text/plain": [
       "'Pepsi est non disponible'"
      ]
     },
     "execution_count": 5,
     "metadata": {},
     "output_type": "execute_result"
    }
   ],
   "source": [
    "def distributeur():\n",
    "\n",
    "    boissons_disponibles = {\n",
    "        'Coca': 1.50,\n",
    "        'Eau': 1.00,\n",
    "        'Fanta': 2.00\n",
    "    }\n",
    "    \n",
    "    choix = input(\"Entrez votre choix de boisson: \")\n",
    "\n",
    "    try:\n",
    "        return f\"Voici votre {choix}, montant : {boissons_disponibles[choix]}\"\n",
    "    except KeyError:\n",
    "        return f\"{choix} est non disponible\"\n",
    "\n",
    "distributeur()"
   ]
  },
  {
   "cell_type": "markdown",
   "metadata": {},
   "source": [
    "## Exercice 2 : Gestion de la calculatrice\n",
    "\n",
    "Écrivez un programme de calculatrice simple qui prend deux nombres et un opérateur (+, -, *, /) de l'utilisateur. \n",
    "\n",
    "Utilisez la gestion des exceptions pour gérer des opérations mathématiques incorrectes, comme la division par zéro et les saisies non numériques.\n"
   ]
  },
  {
   "cell_type": "code",
   "execution_count": 14,
   "metadata": {},
   "outputs": [
    {
     "name": "stdout",
     "output_type": "stream",
     "text": [
      "Entrez un nombre (ou 'exit' pour quitter): 2\n",
      "Quelle opération (+, -, *, /) ? :o\n",
      "Entrez un autre nombre: 2\n",
      "Résultat: 1.0\n"
     ]
    }
   ],
   "source": [
    "def calculatrice():\n",
    "    \n",
    "    a = int(input(\"Entrez un nombre (ou 'exit' pour quitter): \"))\n",
    "    operateur = input(\"Quelle opération (+, -, *, /) ? :\").strip().lower()\n",
    "    b = int(input(\"Entrez un autre nombre: \"))\n",
    "\n",
    "    if operateur == '+':\n",
    "        print(f\"Résultat: {a + b}\")\n",
    "    elif operateur == '-':\n",
    "        print(f\"Résultat: {a - b}\")\n",
    "    elif operateur == '*':\n",
    "        print(f\"Résultat: {a * b}\")\n",
    "    else:\n",
    "        print(f\"Résultat: {a / b}\")\n",
    "           \n",
    "calculatrice()"
   ]
  },
  {
   "cell_type": "code",
   "execution_count": 10,
   "metadata": {},
   "outputs": [
    {
     "name": "stdout",
     "output_type": "stream",
     "text": [
      "Entrez un nombre (ou 'exit' pour quitter): 2\n",
      "Quelle opération (+, -, *, /) ? :/\n",
      "Entrez un autre nombre: 1\n",
      "Résultat: 2.0\n"
     ]
    }
   ],
   "source": [
    "def calculatrice():\n",
    "    \n",
    "    while True:\n",
    "        try:\n",
    "            a = int(input(\"Entrez un nombre (ou 'exit' pour quitter): \"))\n",
    "            operateur = input(\"Quelle opération (+, -, *, /) ? :\").strip().lower()\n",
    "            b = int(input(\"Entrez un autre nombre: \"))\n",
    "\n",
    "            if operateur == '+':\n",
    "                print(f\"Résultat: {a + b}\")\n",
    "            elif operateur == '-':\n",
    "                print(f\"Résultat: {a - b}\")\n",
    "            elif operateur == '*':\n",
    "                print(f\"Résultat: {a * b}\")\n",
    "            elif operateur == '/':\n",
    "                print(f\"Résultat: {a / b}\")\n",
    "            else:\n",
    "                print(\"Opérateur inconnu. Veuillez entrer +, -, *, ou /.\")\n",
    "                # print(\"Erreur opérateur, le programme s'arrete\")\n",
    "                continue\n",
    "            break  # Sortir de la boucle après une opération\n",
    "\n",
    "        except ValueError:\n",
    "            print(\"Veuillez entrer un nombre valide.\")\n",
    "        except ZeroDivisionError:\n",
    "            print(\"Division par zéro n'est pas autorisée.\")\n",
    "\n",
    "calculatrice()"
   ]
  },
  {
   "cell_type": "markdown",
   "metadata": {},
   "source": [
    "## Exercice 3 : Amélioration jeu 'devine'\n",
    "Concevez un jeu où l'utilisateur doit deviner un nombre entre 1 et 10. \n",
    "\n",
    "Si l'utilisateur saisit quelque chose qui n'est pas un nombre, gérez l'exception et donnez-lui une autre chance. Limitez le nombre d'essais à 3 avant d'indiquer que le jeu est terminé."
   ]
  },
  {
   "cell_type": "code",
   "execution_count": 16,
   "metadata": {},
   "outputs": [
    {
     "name": "stdout",
     "output_type": "stream",
     "text": [
      "Entrez un nombre entre 1 et 10 : 90\n",
      "Recommencez. Vous avez 2 essais restants.\n",
      "Entrez un nombre entre 1 et 10 : 89\n",
      "Recommencez. Vous avez 1 essais restants.\n",
      "Entrez un nombre entre 1 et 10 : 90\n",
      "Recommencez. Vous avez 0 essais restants.\n",
      "Échec ! Le nombre était 2\n"
     ]
    }
   ],
   "source": [
    "import random \n",
    "\n",
    "def verif_range_nombre(saisi_utilisateur):\n",
    "    # veérifier que le nombre saisi_utilisateur soit compris entre 1 et 10\n",
    "    # essayer avec un raise\n",
    "    \n",
    "def devine(chances):\n",
    "    nombre_mystere = random.randint(1, 10)\n",
    "    essais_restants = chances\n",
    "\n",
    "    while essais_restants > 0:\n",
    "        try:\n",
    "            nombre_saisi = int(input(\"Entrez un nombre entre 1 et 10 : \"))\n",
    "            # check = verif_range_nombre(nombre_saisi)\n",
    "            # amélioration à ajouter\n",
    "            \n",
    "            if nombre_saisi == nombre_mystere:\n",
    "                print(\"Vous avez gagné!\")\n",
    "                return\n",
    "            else:\n",
    "                essais_restants -= 1\n",
    "                print(f\"Recommencez. Vous avez {essais_restants} essais restants.\")\n",
    "        except ValueError:\n",
    "            print(\"Ce n'est pas un nombre valide. Essayez encore.\")\n",
    "\n",
    "    print(\"Échec ! Le nombre était\", nombre_mystere)\n",
    "\n",
    "# Appel de la fonction\n",
    "devine(3)"
   ]
  },
  {
   "cell_type": "markdown",
   "metadata": {},
   "source": [
    "## Exercice 4 :  Convertisseur de température\n",
    "Créez une fonction pour convertir les températures entre Celsius et Fahrenheit. \n",
    "\n",
    "Si l'utilisateur entre une valeur non numérique, utilisez une exception pour l'en informer et demandez-lui de saisir à nouveau la température. Continuez jusqu'à ce qu'une valeur valide soit entrée."
   ]
  },
  {
   "cell_type": "code",
   "execution_count": 1,
   "metadata": {},
   "outputs": [
    {
     "data": {
      "text/plain": [
       "'20 °C équivaut à 68.0 °F'"
      ]
     },
     "execution_count": 1,
     "metadata": {},
     "output_type": "execute_result"
    }
   ],
   "source": [
    "def c_to_f():\n",
    "    \n",
    "    while True:\n",
    "        try:\n",
    "            temp_c = int(input(\"Entrez une température en °C: \"))\n",
    "            temp_f = (temp_c * 9/5) + 32\n",
    "            return f\"{temp_c} °C équivaut à {temp_f} °F\"\n",
    "        except ValueError as e:\n",
    "            print(\"Ce n'est pas un nombre valide. Essayez encore.\")\n",
    "\n",
    "c_to_f()"
   ]
  },
  {
   "cell_type": "markdown",
   "metadata": {},
   "source": [
    "## Exercice 5: Emails\n",
    "Écrivez une fonction qui valide une adresse email saisie par l'utilisateur. \n",
    "\n",
    "Si l'adresse ne contient pas \"@\" ou \".\", levez une `ValueError`. Attrapez cette exception et demandez à l'utilisateur de saisir à nouveau l'adresse email."
   ]
  },
  {
   "cell_type": "code",
   "execution_count": 18,
   "metadata": {},
   "outputs": [
    {
     "name": "stdout",
     "output_type": "stream",
     "text": [
      "Saisissez une adresse mail: 1\n",
      "1 est une adresse mail non valide\n",
      "Saisissez une adresse mail: paul\n",
      "paul est une adresse mail non valide\n",
      "Saisissez une adresse mail: menyssa@iaschool.fr\n"
     ]
    },
    {
     "data": {
      "text/plain": [
       "'menyssa@iaschool.fr est une adresse mail valide'"
      ]
     },
     "execution_count": 18,
     "metadata": {},
     "output_type": "execute_result"
    }
   ],
   "source": [
    "def validation_email():\n",
    "    \n",
    "    while True:\n",
    "        email = input(\"Saisissez une adresse mail: \")\n",
    "        try:\n",
    "            if \"@\" in email and \".\" in email:\n",
    "                return f\"{email} est une adresse mail valide\"\n",
    "            else:\n",
    "                raise ValueError(f\"{email} est une adresse mail non valide\")\n",
    "        except ValueError as e:\n",
    "            print(e)\n",
    "\n",
    "# Test the function\n",
    "validation_email()\n",
    "    "
   ]
  },
  {
   "cell_type": "markdown",
   "metadata": {},
   "source": [
    "## Exercice 6: Gestion des ressources\n",
    "Imaginez un jeu où le joueur doit gérer des ressources (comme de l'énergie ou des munitions). \n",
    "\n",
    "Écrivez une fonction qui décrémente ces ressources. \n",
    "\n",
    "Si les ressources tombent en dessous de zéro, levez une exception personnalisée. \n",
    "\n",
    "Gérez cette exception en terminant le jeu ou en donnant au joueur une option pour récupérer des ressources.\n",
    "\n",
    "Exemple : \n",
    "\n",
    "Gestion de vie \n",
    "- tirage -1 ou +1 \n",
    "- si -1 perd une vie si +1 prends une vie \n",
    "- Un joueur démarre avec 5 vies "
   ]
  },
  {
   "cell_type": "code",
   "execution_count": 15,
   "metadata": {},
   "outputs": [],
   "source": [
    "import random \n",
    "nb_vie = 5 \n",
    "actions = [-1, 1]"
   ]
  },
  {
   "cell_type": "code",
   "execution_count": 20,
   "metadata": {},
   "outputs": [],
   "source": [
    "import random\n",
    "\n",
    "def gestionVies(nb_vie_initial, liste_actions):\n",
    "    \n",
    "    while True:\n",
    "        next_mouv = random.choice(liste_actions)\n",
    "\n",
    "        if next_mouv == -1:\n",
    "            nb_vie_initial -= 1\n",
    "        else:\n",
    "            nb_vie_initial += 1\n",
    "\n",
    "        print(f\"Vies restantes: {nb_vie_initial}\")     \n",
    "\n",
    "        try:\n",
    "            if nb_vie_initial == 0:\n",
    "                raise ValueError(\"Nombre de vie à 0\")\n",
    "        except ValueError as e:\n",
    "            print(e)\n",
    "            break \n",
    "            \n",
    "\n",
    "# Example usage\n",
    "nb_vies = 5\n",
    "actions = [-1, 1] \n"
   ]
  },
  {
   "cell_type": "code",
   "execution_count": 21,
   "metadata": {},
   "outputs": [
    {
     "name": "stdout",
     "output_type": "stream",
     "text": [
      "Vies restantes: 4\n",
      "Vies restantes: 5\n",
      "Vies restantes: 4\n",
      "Vies restantes: 5\n",
      "Vies restantes: 4\n",
      "Vies restantes: 3\n",
      "Vies restantes: 2\n",
      "Vies restantes: 3\n",
      "Vies restantes: 2\n",
      "Vies restantes: 3\n",
      "Vies restantes: 4\n",
      "Vies restantes: 3\n",
      "Vies restantes: 2\n",
      "Vies restantes: 1\n",
      "Vies restantes: 0\n",
      "Nombre de vie à 0\n"
     ]
    }
   ],
   "source": [
    "gestionVies(nb_vies, actions)"
   ]
  }
 ],
 "metadata": {
  "kernelspec": {
   "display_name": "Python 3 (ipykernel)",
   "language": "python",
   "name": "python3"
  },
  "language_info": {
   "codemirror_mode": {
    "name": "ipython",
    "version": 3
   },
   "file_extension": ".py",
   "mimetype": "text/x-python",
   "name": "python",
   "nbconvert_exporter": "python",
   "pygments_lexer": "ipython3",
   "version": "3.11.8"
  }
 },
 "nbformat": 4,
 "nbformat_minor": 2
}
