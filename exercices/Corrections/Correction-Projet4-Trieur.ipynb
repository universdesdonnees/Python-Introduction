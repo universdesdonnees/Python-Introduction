{
 "cells": [
  {
   "cell_type": "code",
   "execution_count": null,
   "metadata": {},
   "outputs": [],
   "source": [
    "## Étapes du Projet\n",
    "\n",
    "### Étape 1 : Configuration de l'Environnement\n",
    "# Importation des modules nécessaires\n",
    "import os\n",
    "import shutil\n",
    "\n",
    "# Définition du chemin du répertoire à trier\n",
    "repertoire = \"chemin/vers/votre/repertoire\"  # Remplacer par le chemin de votre répertoire\n",
    "\n",
    "### Étape 2 : Mapping des Extensions aux Dossiers\n",
    "# Création d'un dictionnaire pour associer les types de fichiers aux noms de dossiers\n",
    "extensions_dossiers = {\n",
    "    \"jpg\": \"Images\",\n",
    "    \"png\": \"Images\",\n",
    "    \"gif\": \"Images\",\n",
    "    \"txt\": \"Documents\",\n",
    "    \"pdf\": \"Documents\",\n",
    "    \"docx\": \"Documents\",\n",
    "    \"mp3\": \"Musiques\",\n",
    "    \"wav\": \"Musiques\",\n",
    "    \"mp4\": \"Videos\",\n",
    "    \"mov\": \"Videos\",\n",
    "}\n"
   ]
  },
  {
   "cell_type": "code",
   "execution_count": null,
   "metadata": {},
   "outputs": [],
   "source": [
    "### Étape 3 : Parcours et Tri des Fichiers\n",
    "# Parcours et tri des fichiers dans le répertoire spécifié\n",
    "def trieur_de_fichiers(repertoire, extensions_dossiers):\n",
    "    \"\"\"\n",
    "    Trie les fichiers du répertoire en fonction de leur extension et les déplace dans les dossiers correspondants.\n",
    "    \"\"\"\n",
    "    # Initialisation du compteur de fichiers déplacés\n",
    "    fichiers_deplaces = 0\n",
    "\n",
    "    # Parcours de tous les fichiers du répertoire\n",
    "    for fichier in os.listdir(repertoire):\n",
    "        # Obtention de l'extension du fichier\n",
    "        _, extension = os.path.splitext(fichier)\n",
    "        extension = extension.lower()[1:]  # Suppression du point et mise en minuscule\n",
    "\n",
    "        # Vérification si l'extension est associée à un dossier\n",
    "        if extension in extensions_dossiers:\n",
    "            # Récupération du dossier correspondant à l'extension\n",
    "            dossier_destination = extensions_dossiers[extension]\n",
    "            \n",
    "            # Création du dossier s'il n'existe pas\n",
    "            if not os.path.exists(os.path.join(repertoire, dossier_destination)):\n",
    "                os.makedirs(os.path.join(repertoire, dossier_destination))\n",
    "\n",
    "            # Déplacement du fichier vers le dossier correspondant\n",
    "            shutil.move(os.path.join(repertoire, fichier), os.path.join(repertoire, dossier_destination, fichier))\n",
    "\n",
    "            # Incrémentation du compteur de fichiers déplacés\n",
    "            fichiers_deplaces += 1\n",
    "\n",
    "    return fichiers_deplaces"
   ]
  },
  {
   "cell_type": "code",
   "execution_count": null,
   "metadata": {},
   "outputs": [],
   "source": [
    "### Étape 4 : Déplacement des Fichiers\n",
    "# Appel de la fonction de tri\n",
    "try:\n",
    "    fichiers_deplaces = trieur_de_fichiers(repertoire, extensions_dossiers)\n",
    "    print(\"Le tri des fichiers a été effectué avec succès!\")\n",
    "except Exception as e:\n",
    "    print(f\"Une erreur s'est produite lors du tri des fichiers : {e}\")\n",
    "\n",
    "### Étape 5 : Rapport Final\n",
    "# Affichage du rapport final\n",
    "print(f\"Nombre total de fichiers déplacés : {fichiers_deplaces}\")\n"
   ]
  }
 ],
 "metadata": {
  "kernelspec": {
   "display_name": "Python 3 (ipykernel)",
   "language": "python",
   "name": "python3"
  },
  "language_info": {
   "codemirror_mode": {
    "name": "ipython",
    "version": 3
   },
   "file_extension": ".py",
   "mimetype": "text/x-python",
   "name": "python",
   "nbconvert_exporter": "python",
   "pygments_lexer": "ipython3",
   "version": "3.11.8"
  }
 },
 "nbformat": 4,
 "nbformat_minor": 2
}
