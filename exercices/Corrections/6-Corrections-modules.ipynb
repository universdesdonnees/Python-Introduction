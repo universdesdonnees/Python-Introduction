{
 "cells": [
  {
   "cell_type": "markdown",
   "metadata": {},
   "source": [
    "# Exercice 1"
   ]
  },
  {
   "cell_type": "code",
   "execution_count": null,
   "metadata": {},
   "outputs": [],
   "source": [
    "# Mettre dans  -> File: operations.py\n",
    "\n",
    "def addition(a, b):\n",
    "    return a + b\n",
    "\n",
    "def soustraction(a, b):\n",
    "    return a - b\n",
    "\n",
    "def multiplication(a, b):\n",
    "    return a * b\n",
    "\n",
    "def division(a, b):\n",
    "    if b == 0:\n",
    "        return \"Division par zéro impossible\"\n",
    "    else:\n",
    "        return a / b\n"
   ]
  },
  {
   "cell_type": "code",
   "execution_count": null,
   "metadata": {},
   "outputs": [],
   "source": [
    "# Mettre dans -> File: main.py\n",
    "\n",
    "import operations\n",
    "\n",
    "# Utilisation des fonctions du module operations\n",
    "print(operations.addition(5, 3))\n",
    "print(operations.soustraction(10, 4))\n",
    "print(operations.multiplication(6, 7))\n",
    "print(operations.division(20, 4))\n"
   ]
  },
  {
   "cell_type": "markdown",
   "metadata": {},
   "source": [
    "# Exercice 2"
   ]
  },
  {
   "cell_type": "code",
   "execution_count": null,
   "metadata": {},
   "outputs": [],
   "source": [
    "# Mettre dans -> File: geometry.py\n",
    "\n",
    "import math\n",
    "\n",
    "def aire_cercle(rayon):\n",
    "    return math.pi * rayon**2\n",
    "\n",
    "def perimetre_cercle(rayon):\n",
    "    return 2 * math.pi * rayon\n",
    "\n",
    "def aire_rectangle(longueur, largeur):\n",
    "    return longueur * largeur\n",
    "\n",
    "def perimetre_rectangle(longueur, largeur):\n",
    "    return 2 * (longueur + largeur)\n",
    "\n",
    "def aire_triangle(base, hauteur):\n",
    "    return 0.5 * base * hauteur\n"
   ]
  },
  {
   "cell_type": "code",
   "execution_count": null,
   "metadata": {},
   "outputs": [],
   "source": [
    "# Mettre dans -> File: main.py\n",
    "\n",
    "import geometry\n",
    "\n",
    "print(geometry.aire_cercle(5))\n",
    "print(geometry.perimetre_rectangle(3, 4))\n"
   ]
  },
  {
   "cell_type": "markdown",
   "metadata": {},
   "source": [
    "# Exercice 3"
   ]
  },
  {
   "cell_type": "code",
   "execution_count": null,
   "metadata": {},
   "outputs": [],
   "source": [
    "import datetime\n",
    "import os\n",
    "\n",
    "print(\"Date et heure actuelles :\", datetime.datetime.now())\n",
    "print(\"Répertoire de travail actuel :\", os.getcwd())\n"
   ]
  },
  {
   "cell_type": "markdown",
   "metadata": {},
   "source": [
    "# Exercice 4"
   ]
  },
  {
   "cell_type": "code",
   "execution_count": null,
   "metadata": {},
   "outputs": [],
   "source": [
    "from utils import factorial\n",
    "\n",
    "print(\"Factorielle de 5 :\", factorial(5))\n"
   ]
  },
  {
   "cell_type": "markdown",
   "metadata": {},
   "source": [
    "# Exercice 5"
   ]
  },
  {
   "cell_type": "code",
   "execution_count": null,
   "metadata": {},
   "outputs": [],
   "source": [
    "import math as m\n",
    "\n",
    "print(\"Racine carrée de 16 :\", m.sqrt(16))\n",
    "print(\"Logarithme naturel de 2 :\", m.log(2))\n"
   ]
  },
  {
   "cell_type": "markdown",
   "metadata": {},
   "source": [
    "# Exercice 6"
   ]
  },
  {
   "cell_type": "code",
   "execution_count": null,
   "metadata": {},
   "outputs": [],
   "source": [
    "# Mettre dans  Package: finance -> Module: savings.py\n",
    "\n",
    "def calculate_simple_interest(principal, rate, time):\n",
    "    return principal * rate * time\n",
    "\n",
    "def calculate_compound_interest(principal, rate, time):\n",
    "    return principal * (1 + rate)**time - principal\n"
   ]
  },
  {
   "cell_type": "code",
   "execution_count": null,
   "metadata": {},
   "outputs": [],
   "source": [
    "# Mettre dans  File: main.py\n",
    "\n",
    "import finance.savings\n",
    "\n",
    "principal = 1000\n",
    "rate = 0.05\n",
    "time = 2\n",
    "\n",
    "simple_interest = finance.savings.calculate_simple_interest(principal, rate, time)\n",
    "compound_interest = finance.savings.calculate_compound_interest(principal, rate, time)\n",
    "\n",
    "print(\"Intérêt simple :\", simple_interest)\n",
    "print(\"Intérêt composé :\", compound_interest)\n"
   ]
  }
 ],
 "metadata": {
  "kernelspec": {
   "display_name": "Python 3 (ipykernel)",
   "language": "python",
   "name": "python3"
  },
  "language_info": {
   "codemirror_mode": {
    "name": "ipython",
    "version": 3
   },
   "file_extension": ".py",
   "mimetype": "text/x-python",
   "name": "python",
   "nbconvert_exporter": "python",
   "pygments_lexer": "ipython3",
   "version": "3.11.8"
  }
 },
 "nbformat": 4,
 "nbformat_minor": 2
}
