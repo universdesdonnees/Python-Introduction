{
 "cells": [
  {
   "cell_type": "markdown",
   "metadata": {},
   "source": [
    "# Projet 1. Jeu du juste prix\n",
    "\n",
    "Dans le contexte d'un jeu du juste prix, votre script Python commence par générer un nombre aléatoire et demande ensuite à l'utilisateur de saisir un nombre. Voici une explication détaillée de chaque partie de votre script :\n",
    "\n",
    "### 1. Importation du module `random`\n",
    "\n",
    "```python\n",
    "import random as rd\n",
    "```\n",
    "Cette ligne importe le module `random` sous l'alias `rd`. Le module `random` fournit des fonctions qui génèrent des nombres aléatoires. Ici, `rd` est utilisé comme raccourci pour accéder aux fonctions de `random`.\n",
    "\n",
    "### 2. Génération d'un nombre aléatoire\n",
    "\n",
    "```python\n",
    "nombre_aleatoire = rd.randint(1, 90)\n",
    "print(nombre_aleatoire)\n",
    "```\n",
    "- `rd.randint(1, 90)` génère un nombre entier aléatoire entre 1 et 90 (inclus).\n",
    "- Ce nombre est ensuite assigné à la variable `nombre_aleatoire`.\n",
    "- La fonction `print()` est utilisée pour afficher ce nombre. Dans un jeu du juste prix réel, vous ne montreriez pas ce nombre à l'utilisateur ; ici, il semble être affiché à des fins de débogage.\n",
    "\n",
    "### 3. Interaction avec l'utilisateur\n",
    "\n",
    "```python\n",
    "entree = input(\"Entrez un entier supérieur à 10 : \")\n",
    "```\n",
    "- `input()` est une fonction intégrée en Python qui permet de saisir une entrée utilisateur sous forme de texte (chaîne de caractères).\n",
    "- Le message `\"Entrez un entier supérieur à 10 : \"` est affiché à l'utilisateur, l'invitant à saisir une valeur.\n",
    "- La valeur saisie par l'utilisateur est ensuite stockée dans la variable `entree`.\n"
   ]
  },
  {
   "cell_type": "code",
   "execution_count": null,
   "metadata": {},
   "outputs": [],
   "source": [
    "import random\n",
    "\n",
    "nombre_aleatoire = random.randint(1, 90)\n",
    "nombre_aleatoire\n",
    "\n",
    "tentatives = 0\n",
    "while tentatives < 5:\n",
    "    entree = int(input(\"Entrez un entier entre 1 et 90 : \"))\n",
    "    tentatives += 1\n",
    "    \n",
    "    if entree < nombre_aleatoire:\n",
    "        print(\"Trop bas!\")\n",
    "    elif entree > nombre_aleatoire:\n",
    "        print(\"Trop haut!\")\n",
    "    else:\n",
    "        print(f\"Félicitations ! Vous avez trouvé en {tentatives} tentatives.\")\n",
    "        break"
   ]
  },
  {
   "cell_type": "code",
   "execution_count": null,
   "metadata": {},
   "outputs": [],
   "source": [
    "tentatives = 0\n",
    "\n",
    "while True:\n",
    "    entree = int(input(\"Entrez un entier entre 1 et 90 : \"))\n",
    "    tentatives += 1\n",
    "    # tentatives = tentatives + 1 \n",
    "    \n",
    "    if entree < nombre_aleatoire:\n",
    "        print(\"Trop bas!\")\n",
    "    elif entree > nombre_aleatoire:\n",
    "        print(\"Trop haut!\")\n",
    "    else:\n",
    "        print(f\"Félicitations ! Vous avez trouvé en {tentatives} tentatives.\")\n",
    "        break"
   ]
  }
 ],
 "metadata": {
  "kernelspec": {
   "display_name": "Python 3 (ipykernel)",
   "language": "python",
   "name": "python3"
  },
  "language_info": {
   "codemirror_mode": {
    "name": "ipython",
    "version": 3
   },
   "file_extension": ".py",
   "mimetype": "text/x-python",
   "name": "python",
   "nbconvert_exporter": "python",
   "pygments_lexer": "ipython3",
   "version": "3.11.4"
  }
 },
 "nbformat": 4,
 "nbformat_minor": 2
}
