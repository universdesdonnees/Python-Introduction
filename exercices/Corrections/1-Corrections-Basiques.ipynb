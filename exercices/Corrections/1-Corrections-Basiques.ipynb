{
 "cells": [
  {
   "cell_type": "code",
   "execution_count": 1,
   "metadata": {},
   "outputs": [
    {
     "name": "stdout",
     "output_type": "stream",
     "text": [
      "La surface totale des murs est de 10.0 m²\n"
     ]
    }
   ],
   "source": [
    "# 1. Calcul de la surface des murs d'une pièce rectangulaire\n",
    "\n",
    "longueur = float(input(\"Entrez la longueur de la pièce en mètres : \"))\n",
    "largeur = float(input(\"Entrez la largeur de la pièce en mètres : \"))\n",
    "\n",
    "surface_totale = 2 * (longueur + largeur)\n",
    "print(\"La surface totale des murs est de\", surface_totale, \"m²\")"
   ]
  },
  {
   "cell_type": "code",
   "execution_count": null,
   "metadata": {},
   "outputs": [],
   "source": [
    "# 2. Calcul du prix total des articles dans un magasin\n",
    "\n",
    "total = 0\n",
    "\n",
    "while True:\n",
    "    prix = float(input(\"Entrez le prix de l'article (0 pour terminer) : \"))\n",
    "    if prix == 0:\n",
    "        break\n",
    "    quantite = int(input(\"Entrez la quantité de cet article : \"))\n",
    "    total += prix * quantite\n",
    "\n",
    "print(\"Le total à payer est de\", total, \"euros\")\n"
   ]
  },
  {
   "cell_type": "code",
   "execution_count": null,
   "metadata": {},
   "outputs": [],
   "source": [
    "# 3. Conversion degrés Celsius en degrés Fahrenheit\n",
    "\n",
    "celsius = float(input(\"Entrez la température en degrés Celsius : \"))\n",
    "fahrenheit = (celsius * 9/5) + 32\n",
    "print(\"La température en degrés Fahrenheit est de\", fahrenheit, \"°F\")\n"
   ]
  },
  {
   "cell_type": "code",
   "execution_count": null,
   "metadata": {},
   "outputs": [],
   "source": [
    "# 4. Calcul du nombre de jours, minutes et secondes vécus jusqu'à présent\n",
    "\n",
    "age = int(input(\"Entrez votre âge en années : \"))\n",
    "jours = age * 365\n",
    "minutes = jours * 24 * 60\n",
    "secondes = minutes * 60\n",
    "\n",
    "print(\"Vous avez vécu environ\", jours, \"jours,\", minutes, \"minutes et\", secondes, \"secondes.\")\n"
   ]
  },
  {
   "cell_type": "code",
   "execution_count": 2,
   "metadata": {},
   "outputs": [
    {
     "name": "stdout",
     "output_type": "stream",
     "text": [
      "Les noms triés par ordre alphabétique sont : [' prenomsn', ' ptztupz', 'noms']\n"
     ]
    }
   ],
   "source": [
    "# 5. Tri des noms saisis par l'utilisateur\n",
    "\n",
    "noms = input(\"Entrez une liste de noms séparés par des virgules : \").split(',')\n",
    "noms_tries = sorted(noms)\n",
    "print(\"Les noms triés par ordre alphabétique sont :\", noms_tries)\n"
   ]
  },
  {
   "cell_type": "code",
   "execution_count": 3,
   "metadata": {},
   "outputs": [
    {
     "name": "stdout",
     "output_type": "stream",
     "text": [
      "Le total des dépenses est de 45.0 euros.\n"
     ]
    }
   ],
   "source": [
    "# 6. Calcul du total des dépenses quotidiennes\n",
    "\n",
    "total_depenses = 0\n",
    "\n",
    "while True:\n",
    "    depense = input(\"Entrez une dépense quotidienne (0 pour terminer) : \")\n",
    "    if depense == '0':\n",
    "        break\n",
    "    total_depenses += float(depense)\n",
    "\n",
    "print(\"Le total des dépenses est de\", total_depenses, \"euros.\")\n"
   ]
  },
  {
   "cell_type": "code",
   "execution_count": null,
   "metadata": {},
   "outputs": [],
   "source": [
    "# 7. Jeu de questions-réponses à choix multiples\n",
    "\n",
    "questions = {\n",
    "    \"Quelle est la capitale de la France ?\": \"Paris\",\n",
    "    \"Combien de continents y a-t-il sur Terre ?\": \"7\",\n",
    "    \"Quel est le symbole chimique de l'eau ?\": \"H2O\"\n",
    "}\n",
    "\n",
    "score = 0\n",
    "\n",
    "for q, r in questions.items():\n",
    "    reponse = input(q + \" \")\n",
    "    if reponse.lower() == r.lower():\n",
    "        score += 1\n",
    "\n",
    "print(f\"Vous avez obtenu {score} bonnes réponses sur {len(questions)} questions.\")\n"
   ]
  },
  {
   "cell_type": "code",
   "execution_count": null,
   "metadata": {},
   "outputs": [],
   "source": [
    "# 8. Compteur de pas\n",
    "\n",
    "total_pas = 0\n",
    "\n",
    "for jour in range(1, 8):\n",
    "    pas_jour = int(input(f\"Entrez le nombre de pas pour le jour {jour} : \"))\n",
    "    total_pas += pas_jour\n",
    "\n",
    "print(\"Le total de pas pour la semaine est de\", total_pas)\n"
   ]
  },
  {
   "cell_type": "code",
   "execution_count": null,
   "metadata": {},
   "outputs": [],
   "source": [
    "# 9. Combinaison de nombres avec opérations arithmétiques\n",
    "\n",
    "a = float(input(\"Entrez le premier nombre : \"))\n",
    "b = float(input(\"Entrez le deuxième nombre : \"))\n",
    "operation = input(\"Choisissez une opération (+, -, *, /) : \")\n",
    "\n",
    "if operation == '+':\n",
    "    print(\"Résultat :\", a + b)\n",
    "elif operation == '-':\n",
    "    print(\"Résultat :\", a - b)\n",
    "elif operation == '*':\n",
    "    print(\"Résultat :\", a * b)\n",
    "elif operation == '/':\n",
    "    if b != 0:\n",
    "        print(\"Résultat :\", a / b)\n",
    "    else:\n",
    "        print(\"Erreur : Division par zéro.\")\n",
    "else:\n",
    "    print(\"Opération invalide.\")\n"
   ]
  },
  {
   "cell_type": "code",
   "execution_count": null,
   "metadata": {},
   "outputs": [],
   "source": [
    "# 10. Calcul de la moyenne avec ajout de nouveaux nombres\n",
    "\n",
    "total = 0\n",
    "nb_nombres = 0\n",
    "\n",
    "while True:\n",
    "    nombre = float(input(\"Entrez un nombre (0 pour terminer) : \"))\n",
    "    if nombre == 0:\n",
    "        break\n",
    "    total += nombre\n",
    "    nb_nombres += 1\n",
    "    moyenne = total / nb_nombres\n",
    "    print(\"Moyenne actuelle :\", moyenne)\n"
   ]
  }
 ],
 "metadata": {
  "kernelspec": {
   "display_name": "Python 3 (ipykernel)",
   "language": "python",
   "name": "python3"
  },
  "language_info": {
   "codemirror_mode": {
    "name": "ipython",
    "version": 3
   },
   "file_extension": ".py",
   "mimetype": "text/x-python",
   "name": "python",
   "nbconvert_exporter": "python",
   "pygments_lexer": "ipython3",
   "version": "3.11.8"
  }
 },
 "nbformat": 4,
 "nbformat_minor": 2
}
